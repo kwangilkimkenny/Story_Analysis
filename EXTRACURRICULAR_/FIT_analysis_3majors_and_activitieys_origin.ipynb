{
 "cells": [
  {
   "cell_type": "code",
   "execution_count": 8,
   "metadata": {},
   "outputs": [],
   "source": [
    "import numpy as np\n",
    "import gensim\n",
    "import nltk\n",
    "import re\n",
    "import matplotlib.pyplot as plt\n",
    "from sklearn.manifold import TSNE\n",
    "import seaborn as sns\n",
    "import pandas as pd\n",
    "from nltk.tokenize import sent_tokenize\n",
    "import multiprocessing\n",
    "import os\n",
    "from pathlib import Path\n",
    "import io\n",
    "from gensim.models import Phrases\n",
    "from textblob import TextBlob\n",
    "from nltk.tag import pos_tag\n",
    "from nltk.tokenize import word_tokenize\n",
    "from nltk.tokenize import RegexpTokenizer"
   ]
  },
  {
   "cell_type": "code",
   "execution_count": 9,
   "metadata": {},
   "outputs": [
    {
     "data": {
      "text/plain": [
       "['mechanical engineering', 'film studies', 'psychology']"
      ]
     },
     "execution_count": 9,
     "metadata": {},
     "output_type": "execute_result"
    }
   ],
   "source": [
    "# 3개의 입력: 전공 3개\n",
    "majors = \"\"\" mechanical engineering, Film Studies, Psychology  \"\"\"\n",
    "major_list_ = majors.split(\",\")\n",
    "#소문자로 변환\n",
    "major_list = []\n",
    "for mjl in major_list_:\n",
    "    mjl_ = mjl.lower()\n",
    "    mjl__ = mjl_.strip()\n",
    "    major_list.append(mjl__)\n",
    "\n",
    "major_list"
   ]
  },
  {
   "cell_type": "code",
   "execution_count": 10,
   "metadata": {},
   "outputs": [],
   "source": [
    "\n",
    "def major_analysis(text):\n",
    "\n",
    "    input_corpus = str(text) #문장입력\n",
    "    input_corpus = input_corpus.lower()#소문자 변환\n",
    "\n",
    "    sentences  = sent_tokenize(input_corpus) #문장 토큰화\n",
    "\n",
    "    split_sentences = []\n",
    "    for sentence in sentences:\n",
    "        processed = re.sub(\"[^a-zA-Z]\",\" \", sentence)\n",
    "        words = processed.split()\n",
    "        split_sentences.append(words)\n",
    "                \n",
    "    return split_sentences"
   ]
  },
  {
   "cell_type": "code",
   "execution_count": 11,
   "metadata": {},
   "outputs": [],
   "source": [
    "def activity_anaysis(text):\n",
    "\n",
    "    input_corpus = str(text) #문장입력\n",
    "    input_corpus = input_corpus.lower()#소문자 변환\n",
    "\n",
    "    sentences  = sent_tokenize(input_corpus) #문장 토큰화\n",
    "\n",
    "    split_sentences = []\n",
    "    for sentence in sentences:\n",
    "        processed = re.sub(\"[^a-zA-Z]\",\" \", sentence)\n",
    "        words = processed.split()\n",
    "        split_sentences.append(words)\n",
    "    result = sum(split_sentences, [])\n",
    "    return result"
   ]
  },
  {
   "cell_type": "code",
   "execution_count": 12,
   "metadata": {},
   "outputs": [],
   "source": [
    "# 일단 3개의 EXTRACURRICULAR ACTIVITY EXAMPLES  입력, 추가로 활동을 입력할 수 있음. 최대 10개, 그 이상도 가능하지만 비율로 게산\n",
    "\n",
    "input_text_1 = \"\"\" deputy Member (9th/10th) Treasurer (11th/12th) National Honors Society, Ridgefield High School Chapter\n",
    "We are amongst the highest academically achieving students at our school, who collectively and consistently participate in community service projects.\"\"\" # 실제 값은 문장이 입력되어야 함, 현재는 테스트용 단어입력\n",
    "\n",
    "input_text_2 = \"\"\" Leader/Concertmaster (10th-12th) unite for sight\n",
    "AMAC Youth Chamber Ensemble (AYCE), audition-based community choir \n",
    "Lead ensemble in rehearsal and performance, stand now coordinate rehearsal times, aid younger  \"\"\"\n",
    "\n",
    "input_text_3 = \"\"\" Number 1 Doubles Starter (9th-12th), Captain (11th-12th)\n",
    "JV/V Beverly Hills High School Tennis Team\n",
    "Three year League Champions; planned and hosted team banquet; led team warmups and meetings; Coach's Award Recipient (11th); Team Spirit Award (12th).  \"\"\"\n",
    "\n",
    "input_text_4 = \"\"\" Peer Advisor (11th-12th)\n",
    "Erving High School Student Ambassador Program, Psychology selective application-based leadership team mechanical engineering\n",
    "Organized and led orientation; served as a year round leader, mentor, tutor, and friend to freshmen; helped with class scheduling.\"\"\"\n",
    "\n",
    "input_text_5 = \"\"\" Leader (11th)\n",
    "Books on Global Health Equity and Social Justice, advocacy-focused peer discussion group\n",
    "Researched global health equity/social justice , assigned weekly readings for group discussion, brainstormed questions to generate input from members.  \"\"\"\n",
    "\n",
    "input_text_6 = \"\"\" Number 1 Doubles Starter (9th-12th), Captain (11th-12th)\n",
    "JV/V Beverly Hills High School Tennis Team\n",
    "Three year League Champions; planned and hosted team banquet; led team warmups and meetings; Coach's Award Recipient (11th); Team Spirit Award (12th).  \"\"\"\n",
    "\n",
    "input_text_7 = \"\"\" Number 1 Doubles Starter (9th-12th), Captain (11th-12th)\n",
    "JV/V Beverly Hills High School Tennis Team\n",
    "Three year League Champions; planned and hosted team banquet; led team warmups and meetings; Coach's Award Recipient (11th); Team Spirit Award (12th).  \"\"\"\n",
    "\n",
    "input_text_8 = \"\"\"Student Coach (9th - 12th)\n",
    "Middle School MathCounts Team\n",
    "Taught strategies, selected competitors, hosted weekly practice sessions and lectures. Led team to 2nd place victory at State Mathematics competition (11th). \"\"\"\n",
    "\n",
    "input_text_9 = \"\"\" Protein Modeling Team Leader (10th)\n",
    "Science Olympiad, Burke High School Club\n",
    "Supervised building of protein molecule model, taught peers to use 3D molecular program Jmol; placed in top ten in 2017 regional competition. \"\"\"\n",
    "\n",
    "input_text_10 = \"\"\"\"\"\" #이것은 값이 없기 때문에 null로 처리해 보자"
   ]
  },
  {
   "cell_type": "code",
   "execution_count": 13,
   "metadata": {},
   "outputs": [
    {
     "name": "stdout",
     "output_type": "stream",
     "text": [
      "major_list :  ['mechanical engineering', 'film studies', 'psychology']\n",
      "======================================\n",
      "activity_list : ['peer', 'advisor', 'th', 'th', 'erving', 'high', 'school', 'student', 'ambassador', 'program', 'psychology', 'selective', 'application', 'based', 'leadership', 'team', 'mechanical', 'engineering', 'organized', 'and', 'led', 'orientation', 'served', 'as', 'a', 'year', 'round', 'leader', 'mentor', 'tutor', 'and', 'friend', 'to', 'freshmen', 'helped', 'with', 'class', 'scheduling']\n"
     ]
    }
   ],
   "source": [
    "# 2. 아래 2개의 함수가 실행된다. \n",
    "\n",
    "\n",
    "print('major_list : ', major_list)\n",
    "print(\"======================================\")\n",
    "activity_list = activity_anaysis(input_text_4)\n",
    "print('activity_list :', activity_list)"
   ]
  },
  {
   "cell_type": "code",
   "execution_count": 14,
   "metadata": {},
   "outputs": [
    {
     "data": {
      "text/html": [
       "<div>\n",
       "<style scoped>\n",
       "    .dataframe tbody tr th:only-of-type {\n",
       "        vertical-align: middle;\n",
       "    }\n",
       "\n",
       "    .dataframe tbody tr th {\n",
       "        vertical-align: top;\n",
       "    }\n",
       "\n",
       "    .dataframe thead th {\n",
       "        text-align: right;\n",
       "    }\n",
       "</style>\n",
       "<table border=\"1\" class=\"dataframe\">\n",
       "  <thead>\n",
       "    <tr style=\"text-align: right;\">\n",
       "      <th></th>\n",
       "      <th>Unnamed: 0</th>\n",
       "      <th>major</th>\n",
       "      <th>main_major</th>\n",
       "    </tr>\n",
       "  </thead>\n",
       "  <tbody>\n",
       "    <tr>\n",
       "      <th>0</th>\n",
       "      <td>0</td>\n",
       "      <td>mechanical engineering</td>\n",
       "      <td>tech_eng</td>\n",
       "    </tr>\n",
       "    <tr>\n",
       "      <th>1</th>\n",
       "      <td>1</td>\n",
       "      <td>general engineering</td>\n",
       "      <td>tech_eng</td>\n",
       "    </tr>\n",
       "    <tr>\n",
       "      <th>2</th>\n",
       "      <td>2</td>\n",
       "      <td>mechanical engineering</td>\n",
       "      <td>tech_eng</td>\n",
       "    </tr>\n",
       "    <tr>\n",
       "      <th>3</th>\n",
       "      <td>3</td>\n",
       "      <td>industrial engineering</td>\n",
       "      <td>tech_eng</td>\n",
       "    </tr>\n",
       "    <tr>\n",
       "      <th>4</th>\n",
       "      <td>4</td>\n",
       "      <td>bioengineering</td>\n",
       "      <td>tech_eng</td>\n",
       "    </tr>\n",
       "    <tr>\n",
       "      <th>5</th>\n",
       "      <td>5</td>\n",
       "      <td>operations research</td>\n",
       "      <td>tech_eng</td>\n",
       "    </tr>\n",
       "    <tr>\n",
       "      <th>6</th>\n",
       "      <td>6</td>\n",
       "      <td>materials science</td>\n",
       "      <td>tech_eng</td>\n",
       "    </tr>\n",
       "    <tr>\n",
       "      <th>7</th>\n",
       "      <td>7</td>\n",
       "      <td>electrical engineering</td>\n",
       "      <td>tech_eng</td>\n",
       "    </tr>\n",
       "    <tr>\n",
       "      <th>8</th>\n",
       "      <td>8</td>\n",
       "      <td>computer science/engineering</td>\n",
       "      <td>tech_eng</td>\n",
       "    </tr>\n",
       "    <tr>\n",
       "      <th>9</th>\n",
       "      <td>9</td>\n",
       "      <td>computer engineeringcivil engineering</td>\n",
       "      <td>tech_eng</td>\n",
       "    </tr>\n",
       "  </tbody>\n",
       "</table>\n",
       "</div>"
      ],
      "text/plain": [
       "   Unnamed: 0                                  major main_major\n",
       "0           0                 mechanical engineering   tech_eng\n",
       "1           1                    general engineering   tech_eng\n",
       "2           2                 mechanical engineering   tech_eng\n",
       "3           3                 industrial engineering   tech_eng\n",
       "4           4                         bioengineering   tech_eng\n",
       "5           5                    operations research   tech_eng\n",
       "6           6                      materials science   tech_eng\n",
       "7           7                 electrical engineering   tech_eng\n",
       "8           8           computer science/engineering   tech_eng\n",
       "9           9  computer engineeringcivil engineering   tech_eng"
      ]
     },
     "execution_count": 14,
     "metadata": {},
     "output_type": "execute_result"
    }
   ],
   "source": [
    "#데이터 불러오기 \n",
    "data_major = pd.read_csv('total_major_fit_dataset.csv')\n",
    "data_major[:10]"
   ]
  },
  {
   "cell_type": "code",
   "execution_count": 15,
   "metadata": {},
   "outputs": [
    {
     "data": {
      "text/plain": [
       "0      mechanical engineering\n",
       "1         general engineering\n",
       "2      mechanical engineering\n",
       "3      industrial engineering\n",
       "4              bioengineering\n",
       "                ...          \n",
       "314                    debate\n",
       "315                    speech\n",
       "316                 newspaper\n",
       "317                     media\n",
       "318             communication\n",
       "Name: major, Length: 319, dtype: object"
      ]
     },
     "execution_count": 15,
     "metadata": {},
     "output_type": "execute_result"
    }
   ],
   "source": [
    "#major 3개와 연관된 major category를 추출해본다. 우선 데이터 확인\n",
    "category_major = data_major['major']\n",
    "category_major"
   ]
  },
  {
   "cell_type": "code",
   "execution_count": 16,
   "metadata": {},
   "outputs": [
    {
     "data": {
      "text/plain": [
       "0           tech_eng\n",
       "1           tech_eng\n",
       "2           tech_eng\n",
       "3           tech_eng\n",
       "4           tech_eng\n",
       "           ...      \n",
       "314    communication\n",
       "315    communication\n",
       "316    communication\n",
       "317    communication\n",
       "318    communication\n",
       "Name: main_major, Length: 319, dtype: object"
      ]
     },
     "execution_count": 16,
     "metadata": {},
     "output_type": "execute_result"
    }
   ],
   "source": [
    "data_major['main_major'] #데이터 확인"
   ]
  },
  {
   "cell_type": "code",
   "execution_count": 17,
   "metadata": {},
   "outputs": [
    {
     "data": {
      "text/plain": [
       "True"
      ]
     },
     "execution_count": 17,
     "metadata": {},
     "output_type": "execute_result"
    }
   ],
   "source": [
    "'film studies' in data_major['major'].values"
   ]
  },
  {
   "cell_type": "code",
   "execution_count": 18,
   "metadata": {},
   "outputs": [
    {
     "data": {
      "text/plain": [
       "[   Unnamed: 0                   major main_major\n",
       " 0           0  mechanical engineering   tech_eng\n",
       " 2           2  mechanical engineering   tech_eng,\n",
       "      Unnamed: 0         major  main_major\n",
       " 185           1  film studies  humanities\n",
       " 227          43  film studies  humanities,\n",
       "      Unnamed: 0       major  main_major\n",
       " 124           2  psychology  social_sci\n",
       " 156          34  psychology  social_sci]"
      ]
     },
     "execution_count": 18,
     "metadata": {},
     "output_type": "execute_result"
    }
   ],
   "source": [
    "extract_major = []\n",
    "for mj in major_list:\n",
    "    if mj in data_major['major'].values: # 매칭되는 값이 있다면, 해당 행을 찾아서\n",
    "        \n",
    "        ext_index = data_major[data_major['major'] == mj] #조건에 맞는 값을 모두 가져온다.\n",
    "\n",
    "        extract_major.append(ext_index)\n",
    "        \n",
    "extract_major"
   ]
  },
  {
   "cell_type": "code",
   "execution_count": 19,
   "metadata": {},
   "outputs": [
    {
     "data": {
      "text/plain": [
       "'   Unnamed: 0                   major main_major\\n0           0  mechanical engineering   tech_eng\\n2           2  mechanical engineering   tech_eng      Unnamed: 0         major  main_major\\n185           1  film studies  humanities\\n227          43  film studies  humanities      Unnamed: 0       major  main_major\\n124           2  psychology  social_sci\\n156          34  psychology  social_sci'"
      ]
     },
     "execution_count": 19,
     "metadata": {},
     "output_type": "execute_result"
    }
   ],
   "source": [
    "#extract_major 를 문자로 만들어서 개별 리스트로 만들자\n",
    "s =\" \".join(map(str, extract_major))\n",
    "s"
   ]
  },
  {
   "cell_type": "code",
   "execution_count": 20,
   "metadata": {},
   "outputs": [
    {
     "data": {
      "text/plain": [
       "['Unnamed:',\n",
       " '0',\n",
       " 'major',\n",
       " 'main_major',\n",
       " '0',\n",
       " '0',\n",
       " 'mechanical',\n",
       " 'engineering',\n",
       " 'tech_eng',\n",
       " '2',\n",
       " '2',\n",
       " 'mechanical',\n",
       " 'engineering',\n",
       " 'tech_eng',\n",
       " 'Unnamed:',\n",
       " '0',\n",
       " 'major',\n",
       " 'main_major',\n",
       " '185',\n",
       " '1',\n",
       " 'film',\n",
       " 'studies',\n",
       " 'humanities',\n",
       " '227',\n",
       " '43',\n",
       " 'film',\n",
       " 'studies',\n",
       " 'humanities',\n",
       " 'Unnamed:',\n",
       " '0',\n",
       " 'major',\n",
       " 'main_major',\n",
       " '124',\n",
       " '2',\n",
       " 'psychology',\n",
       " 'social_sci',\n",
       " '156',\n",
       " '34',\n",
       " 'psychology',\n",
       " 'social_sci']"
      ]
     },
     "execution_count": 20,
     "metadata": {},
     "output_type": "execute_result"
    }
   ],
   "source": [
    "ext_input_major_query = s.split()# str을 공란()으로 구분하여 리스트로 만들고, 이것을 비교(전공의 카테로리, 활동내용의 카테고리)할거임\n",
    "ext_input_major_query"
   ]
  },
  {
   "cell_type": "code",
   "execution_count": null,
   "metadata": {},
   "outputs": [],
   "source": []
  },
  {
   "cell_type": "code",
   "execution_count": null,
   "metadata": {},
   "outputs": [],
   "source": []
  },
  {
   "cell_type": "code",
   "execution_count": 21,
   "metadata": {},
   "outputs": [
    {
     "data": {
      "text/html": [
       "<div>\n",
       "<style scoped>\n",
       "    .dataframe tbody tr th:only-of-type {\n",
       "        vertical-align: middle;\n",
       "    }\n",
       "\n",
       "    .dataframe tbody tr th {\n",
       "        vertical-align: top;\n",
       "    }\n",
       "\n",
       "    .dataframe thead th {\n",
       "        text-align: right;\n",
       "    }\n",
       "</style>\n",
       "<table border=\"1\" class=\"dataframe\">\n",
       "  <thead>\n",
       "    <tr style=\"text-align: right;\">\n",
       "      <th></th>\n",
       "      <th>activity_type</th>\n",
       "      <th>title</th>\n",
       "      <th>big_major_category_1</th>\n",
       "      <th>big_major_category_2</th>\n",
       "      <th>big_major_category_3</th>\n",
       "    </tr>\n",
       "  </thead>\n",
       "  <tbody>\n",
       "    <tr>\n",
       "      <th>0</th>\n",
       "      <td>activity</td>\n",
       "      <td>team hbv</td>\n",
       "      <td>math_sci</td>\n",
       "      <td>math_sci</td>\n",
       "      <td>social_sci</td>\n",
       "    </tr>\n",
       "    <tr>\n",
       "      <th>1</th>\n",
       "      <td>activity</td>\n",
       "      <td>circle of women</td>\n",
       "      <td>humanities</td>\n",
       "      <td>social_sci</td>\n",
       "      <td>social_sci</td>\n",
       "    </tr>\n",
       "    <tr>\n",
       "      <th>2</th>\n",
       "      <td>activity</td>\n",
       "      <td>fine art/art schools and music for society</td>\n",
       "      <td>visual arts</td>\n",
       "      <td>music</td>\n",
       "      <td>NaN</td>\n",
       "    </tr>\n",
       "    <tr>\n",
       "      <th>3</th>\n",
       "      <td>activity</td>\n",
       "      <td>deca (distributive education clubs of america)</td>\n",
       "      <td>business</td>\n",
       "      <td>math_sci</td>\n",
       "      <td>NaN</td>\n",
       "    </tr>\n",
       "    <tr>\n",
       "      <th>4</th>\n",
       "      <td>activity</td>\n",
       "      <td>society for american baseball research</td>\n",
       "      <td>math_sci</td>\n",
       "      <td>business</td>\n",
       "      <td>social_sci</td>\n",
       "    </tr>\n",
       "    <tr>\n",
       "      <th>5</th>\n",
       "      <td>activity</td>\n",
       "      <td>unite for sight</td>\n",
       "      <td>math_sci</td>\n",
       "      <td>math_sci</td>\n",
       "      <td>math_sci</td>\n",
       "    </tr>\n",
       "    <tr>\n",
       "      <th>6</th>\n",
       "      <td>activity</td>\n",
       "      <td>students for sensible drug policy</td>\n",
       "      <td>social_sci</td>\n",
       "      <td>social_sci</td>\n",
       "      <td>social_sci</td>\n",
       "    </tr>\n",
       "    <tr>\n",
       "      <th>7</th>\n",
       "      <td>activity</td>\n",
       "      <td>young americans for liberty</td>\n",
       "      <td>social_sci</td>\n",
       "      <td>humanities</td>\n",
       "      <td>social_sci</td>\n",
       "    </tr>\n",
       "    <tr>\n",
       "      <th>8</th>\n",
       "      <td>activity</td>\n",
       "      <td>timmy global health</td>\n",
       "      <td>math_sci</td>\n",
       "      <td>social_sci</td>\n",
       "      <td>math_sci</td>\n",
       "    </tr>\n",
       "    <tr>\n",
       "      <th>9</th>\n",
       "      <td>activity</td>\n",
       "      <td>stand now</td>\n",
       "      <td>social_sci</td>\n",
       "      <td>humanities</td>\n",
       "      <td>social_sci</td>\n",
       "    </tr>\n",
       "  </tbody>\n",
       "</table>\n",
       "</div>"
      ],
      "text/plain": [
       "  activity_type                                           title  \\\n",
       "0      activity                                        team hbv   \n",
       "1      activity                                 circle of women   \n",
       "2      activity      fine art/art schools and music for society   \n",
       "3      activity  deca (distributive education clubs of america)   \n",
       "4      activity          society for american baseball research   \n",
       "5      activity                                 unite for sight   \n",
       "6      activity               students for sensible drug policy   \n",
       "7      activity                     young americans for liberty   \n",
       "8      activity                             timmy global health   \n",
       "9      activity                                       stand now   \n",
       "\n",
       "  big_major_category_1 big_major_category_2 big_major_category_3  \n",
       "0             math_sci             math_sci           social_sci  \n",
       "1           humanities           social_sci           social_sci  \n",
       "2          visual arts                music                  NaN  \n",
       "3             business             math_sci                  NaN  \n",
       "4             math_sci             business           social_sci  \n",
       "5             math_sci             math_sci             math_sci  \n",
       "6           social_sci           social_sci           social_sci  \n",
       "7           social_sci           humanities           social_sci  \n",
       "8             math_sci           social_sci             math_sci  \n",
       "9           social_sci           humanities           social_sci  "
      ]
     },
     "execution_count": 21,
     "metadata": {},
     "output_type": "execute_result"
    }
   ],
   "source": [
    "# 3. 이제 비교가 시작된다. \n",
    "\n",
    "#데이터 불러오기\n",
    "data_act = pd.read_csv('activity_major_db.csv')\n",
    "data_act[:10]"
   ]
  },
  {
   "cell_type": "code",
   "execution_count": 22,
   "metadata": {},
   "outputs": [
    {
     "data": {
      "text/plain": [
       "0                                            team hbv\n",
       "1                                     circle of women\n",
       "2          fine art/art schools and music for society\n",
       "3      deca (distributive education clubs of america)\n",
       "4              society for american baseball research\n",
       "                            ...                      \n",
       "306                                             movie\n",
       "307                                             video\n",
       "308                                              film\n",
       "309                                               sns\n",
       "310                                         marketing\n",
       "Name: title, Length: 311, dtype: object"
      ]
     },
     "execution_count": 22,
     "metadata": {},
     "output_type": "execute_result"
    }
   ],
   "source": [
    "act_title = data_act['title']  \n",
    "act_title"
   ]
  },
  {
   "cell_type": "code",
   "execution_count": 23,
   "metadata": {},
   "outputs": [
    {
     "data": {
      "text/plain": [
       "311"
      ]
     },
     "execution_count": 23,
     "metadata": {},
     "output_type": "execute_result"
    }
   ],
   "source": [
    "len(act_title) #확인"
   ]
  },
  {
   "cell_type": "code",
   "execution_count": 24,
   "metadata": {},
   "outputs": [
    {
     "data": {
      "text/plain": [
       "['fine', 'art/art', 'schools', 'and', 'music', 'for', 'society']"
      ]
     },
     "execution_count": 24,
     "metadata": {},
     "output_type": "execute_result"
    }
   ],
   "source": [
    "data_act['title'][2].split() #확인.. 타이틀의 3번째 값 가져와본다. "
   ]
  },
  {
   "cell_type": "code",
   "execution_count": 25,
   "metadata": {},
   "outputs": [
    {
     "data": {
      "text/plain": [
       "'social_sci'"
      ]
     },
     "execution_count": 25,
     "metadata": {},
     "output_type": "execute_result"
    }
   ],
   "source": [
    "major1 = data_act['big_major_category_1'][6] #확인.. 잘됨\n",
    "major1"
   ]
  },
  {
   "cell_type": "code",
   "execution_count": 26,
   "metadata": {},
   "outputs": [
    {
     "name": "stdout",
     "output_type": "stream",
     "text": [
      "FIT\n",
      "FIT\n"
     ]
    },
    {
     "data": {
      "text/plain": [
       "['humanities', 'social_sci', nan, 'social_sci', 'social_sci', nan]"
      ]
     },
     "execution_count": 26,
     "metadata": {},
     "output_type": "execute_result"
    }
   ],
   "source": [
    "#입력데이터에서 추출한 활동내역(리스트)가 활동 타이틀에 있는지 확인한다.\n",
    "\n",
    "n = 0\n",
    "get_major = []\n",
    "for t in act_title: # 311개의 활동 타이틀에서 한개씩 꺼내서 비교\n",
    "    for j in activity_list: # 입력한 활동관련 설명문의 토큰을 하나씩 가져와서\n",
    "        if n <= len(act_title)-1: #모든 타이틀을 검사한다.\n",
    "            for m in data_act['title'][n].split(): #타이틀의 n번째 문장을 단어로 분해한 후 각 단어를 가져와서 활동관련 설명 단어와 비교한다.\n",
    "                if j == m: # 매칭되는게 있다면, 해당 전공관련 주제를 추출해본다. 총 3개다. \n",
    "                    print('FIT')                  \n",
    "                    major1 = data_act['big_major_category_1'][n]\n",
    "                    get_major.append(major1)\n",
    "                    major2 = data_act['big_major_category_2'][n]\n",
    "                    get_major.append(major2)\n",
    "                    major3 = data_act['big_major_category_3'][n]\n",
    "                    get_major.append(major3)\n",
    "                    n += 1\n",
    "                else:\n",
    "                    #print('NOT FIT')\n",
    "                    #fitness.append('NOT FIT')\n",
    "                    n += 1\n",
    "                    \n",
    "        else:\n",
    "            pass\n",
    "\n",
    "get_major #추출한 전공이다. 이 전공 카테고리와 희망전공 3개입력한 내용의 전공분야별 카테고리를 비교해 볼 것이다."
   ]
  },
  {
   "cell_type": "markdown",
   "metadata": {},
   "source": [
    "df_fit_re = pd.DataFrame(get_major)\n",
    "df_fit_re.columns = ['MAJOR']\n",
    "list_fit_re = df_fit_re.drop_duplicates() #중복값 제거!!!! 결과 도출\n",
    "list_fit_re"
   ]
  },
  {
   "cell_type": "markdown",
   "metadata": {},
   "source": [
    "## 위 코드는 Activity Title과 학생의 활동내역을 비교하여 관련 전공을 추출하였음\n",
    "# 다음 코드로는 입력전공 3개와 관련한 전공적합성을 비교분석한다."
   ]
  },
  {
   "cell_type": "code",
   "execution_count": 27,
   "metadata": {},
   "outputs": [
    {
     "data": {
      "text/plain": [
       "['mechanical engineering', 'film studies', 'psychology']"
      ]
     },
     "execution_count": 27,
     "metadata": {},
     "output_type": "execute_result"
    }
   ],
   "source": [
    "major_list #재확인 .. 이것이 입력한 전공임 .. "
   ]
  },
  {
   "cell_type": "code",
   "execution_count": 28,
   "metadata": {},
   "outputs": [
    {
     "data": {
      "text/plain": [
       "['Unnamed:',\n",
       " '0',\n",
       " 'major',\n",
       " 'main_major',\n",
       " '0',\n",
       " '0',\n",
       " 'mechanical',\n",
       " 'engineering',\n",
       " 'tech_eng',\n",
       " '2',\n",
       " '2',\n",
       " 'mechanical',\n",
       " 'engineering',\n",
       " 'tech_eng',\n",
       " 'Unnamed:',\n",
       " '0',\n",
       " 'major',\n",
       " 'main_major',\n",
       " '185',\n",
       " '1',\n",
       " 'film',\n",
       " 'studies',\n",
       " 'humanities',\n",
       " '227',\n",
       " '43',\n",
       " 'film',\n",
       " 'studies',\n",
       " 'humanities',\n",
       " 'Unnamed:',\n",
       " '0',\n",
       " 'major',\n",
       " 'main_major',\n",
       " '124',\n",
       " '2',\n",
       " 'psychology',\n",
       " 'social_sci',\n",
       " '156',\n",
       " '34',\n",
       " 'psychology',\n",
       " 'social_sci']"
      ]
     },
     "execution_count": 28,
     "metadata": {},
     "output_type": "execute_result"
    }
   ],
   "source": [
    "ext_input_major_query #major_list 으로부터 데이터베이스에서 추출한 관련 전공 데이터.... 이것을 비교할 것임"
   ]
  },
  {
   "cell_type": "code",
   "execution_count": 29,
   "metadata": {},
   "outputs": [
    {
     "data": {
      "text/plain": [
       "['humanities', 'social_sci', nan, 'social_sci', 'social_sci', nan]"
      ]
     },
     "execution_count": 29,
     "metadata": {},
     "output_type": "execute_result"
    }
   ],
   "source": [
    "get_major # 입력한 활동내역을 토대로 분석한 결과 매칭 추출된 값"
   ]
  },
  {
   "cell_type": "code",
   "execution_count": 30,
   "metadata": {},
   "outputs": [
    {
     "ename": "NameError",
     "evalue": "name 'fit_list_str' is not defined",
     "output_type": "error",
     "traceback": [
      "\u001b[1;31m---------------------------------------------------------------------------\u001b[0m",
      "\u001b[1;31mNameError\u001b[0m                                 Traceback (most recent call last)",
      "\u001b[1;32m<ipython-input-30-70a4ec59e269>\u001b[0m in \u001b[0;36m<module>\u001b[1;34m\u001b[0m\n\u001b[0;32m      5\u001b[0m \u001b[1;33m\u001b[0m\u001b[0m\n\u001b[0;32m      6\u001b[0m \u001b[1;31m# 수상내역이 데이터에 없을 경우 not sure. 그러나 수상점수는 계산이 가능함(first, winner 등의 단어를 확인해서)\u001b[0m\u001b[1;33m\u001b[0m\u001b[1;33m\u001b[0m\u001b[1;33m\u001b[0m\u001b[0m\n\u001b[1;32m----> 7\u001b[1;33m \u001b[1;32mif\u001b[0m \u001b[0mfit_list_str\u001b[0m \u001b[1;33m==\u001b[0m \u001b[1;32mNone\u001b[0m\u001b[1;33m:\u001b[0m \u001b[1;31m#이 false 라면 not sure로 해야 함\u001b[0m\u001b[1;33m\u001b[0m\u001b[1;33m\u001b[0m\u001b[0m\n\u001b[0m\u001b[0;32m      8\u001b[0m     \u001b[0mprint\u001b[0m \u001b[1;33m(\u001b[0m\u001b[1;34m\"not sure\"\u001b[0m\u001b[1;33m)\u001b[0m\u001b[1;33m\u001b[0m\u001b[1;33m\u001b[0m\u001b[0m\n\u001b[0;32m      9\u001b[0m     \u001b[0mfit_result\u001b[0m\u001b[1;33m.\u001b[0m\u001b[0mappend\u001b[0m\u001b[1;33m(\u001b[0m\u001b[1;34m'not sure'\u001b[0m\u001b[1;33m)\u001b[0m\u001b[1;33m\u001b[0m\u001b[1;33m\u001b[0m\u001b[0m\n",
      "\u001b[1;31mNameError\u001b[0m: name 'fit_list_str' is not defined"
     ]
    }
   ],
   "source": [
    "#드디어 분석 fit analysis!!!!\n",
    "#선택한 전공 3개,1개를 비교하여 데이터베이스 비교 분석하여 활동내역과 전공이 일치하는지 판단!\n",
    "fit_result = []\n",
    "\n",
    "\n",
    "# 수상내역이 데이터에 없을 경우 not sure. 그러나 수상점수는 계산이 가능함(first, winner 등의 단어를 확인해서)\n",
    "if fit_list_str == None: #이 false 라면 not sure로 해야 함\n",
    "    print (\"not sure\")\n",
    "    fit_result.append('not sure')\n",
    "else:\n",
    "    for category in get_major: #분석 추출한 결과 내역들을 모두 단어로 쪼개어서 하나씩 추출해서 비교\n",
    "        for major_item in ext_input_major_query:# 신청한 전공 3개와 연관된 주제단어를 가져와서\n",
    "            if major_item  == category: # 전공이 있으면 fit\n",
    "                print (\"fit\")\n",
    "                fit_result.append('fit')\n",
    "\n",
    "            else: # 원하는 전공 3개와 연관된 전공중 아무것도 매칭되는 것이 없으면 not sure\n",
    "                    print (\"not fit\")\n",
    "                    fit_result.append('not fit')"
   ]
  },
  {
   "cell_type": "code",
   "execution_count": null,
   "metadata": {},
   "outputs": [],
   "source": [
    "fit_result #데이터프레임으로\n",
    "df_fit_re = pd.DataFrame(fit_result)\n",
    "df_fit_re"
   ]
  },
  {
   "cell_type": "code",
   "execution_count": null,
   "metadata": {},
   "outputs": [],
   "source": [
    "df_fit_re.columns = ['fit']\n",
    "df_fit_re"
   ]
  },
  {
   "cell_type": "code",
   "execution_count": null,
   "metadata": {},
   "outputs": [],
   "source": [
    "list_fit_re = df_fit_re.drop_duplicates() #중복값 제거!!!! 결과 도출, 여기서 FIT: 1 or NOT FIT : 2 or NOT SURE : 0 구분하면 됨\n",
    "list_fit_re"
   ]
  },
  {
   "cell_type": "code",
   "execution_count": null,
   "metadata": {},
   "outputs": [],
   "source": [
    "#조건문을 만들어서 결과를 출력해보자.\n",
    "fit_anaysis_result_fin =[]\n",
    "if 'fit' in list_fit_re: # fi이 있다면 NOT FIT 출력\n",
    "    print(\"NOT FIT\")\n",
    "    fit_anaysis_result_fin.append('NOT FIT')\n",
    "elif 'not fit' in list_fit_re: # not fit 이 있다면 , NOT FIT 출력\n",
    "    print(\"NOT FIT\")\n",
    "    fit_anaysis_result_fin.append('FIT')\n",
    "else:\n",
    "    print(\"NOT SURE\")\n",
    "    fit_anaysis_result_fin.append('NOT SURE')\n",
    "    \n",
    "fit_anaysis_result_fin"
   ]
  },
  {
   "cell_type": "markdown",
   "metadata": {},
   "source": [
    "## 1차 분석 끝!    이제 함수로 처리하여 10개의 입력을 받아서, 몇개의 fit이 나왔는지 카운트 하면 됨"
   ]
  },
  {
   "cell_type": "code",
   "execution_count": null,
   "metadata": {},
   "outputs": [],
   "source": []
  },
  {
   "cell_type": "code",
   "execution_count": null,
   "metadata": {},
   "outputs": [],
   "source": []
  },
  {
   "cell_type": "code",
   "execution_count": null,
   "metadata": {},
   "outputs": [],
   "source": []
  },
  {
   "cell_type": "code",
   "execution_count": null,
   "metadata": {},
   "outputs": [],
   "source": []
  },
  {
   "cell_type": "code",
   "execution_count": null,
   "metadata": {},
   "outputs": [],
   "source": []
  },
  {
   "cell_type": "code",
   "execution_count": null,
   "metadata": {},
   "outputs": [],
   "source": []
  },
  {
   "cell_type": "code",
   "execution_count": null,
   "metadata": {},
   "outputs": [],
   "source": []
  },
  {
   "cell_type": "code",
   "execution_count": null,
   "metadata": {},
   "outputs": [],
   "source": []
  },
  {
   "cell_type": "markdown",
   "metadata": {},
   "source": [
    "## 이하코드는 이전에 작성한 것이지만 지금 활용하지 않음.. csv 파일로 저장하여 활용하였음."
   ]
  },
  {
   "cell_type": "code",
   "execution_count": null,
   "metadata": {},
   "outputs": [],
   "source": [
    "# major fit을 계산하려면 입력한 희망전공 3개를 예: ['mechanical engineering', ' computer science', ' bioligy']\n",
    "\n",
    "# 각 전공을 다음 리스트에서 검색하여 매칭되는 값이 일치(여기서는 business이면) 하면 'FIT',  아니라면 ''NOT FIT 없으면 '?'로 표시\n",
    "\n",
    "\n",
    "tech_eng_ = ['mechanical engineering', 'general Engineering', 'mechanical Engineering', 'Industrial engineering', 'bioengineering',\n",
    "            'operations Research', 'materials Science', 'electrical Engineering', 'computer Science/engineering','computer engineering'\n",
    "            'civil engineering', 'aerospace Engineering', 'chemical Engineering', 'environmental engineering', 'stem', 'steam', 'robotics', \n",
    "            'robots', 'computer', 'computers', 'computer programming', 'programming', 'coding', 'computing', 'mechanical', 'mechanics', \n",
    "            'mechanism', 'ai', 'artificial intelligence', 'sensor', 'environmental engineering', 'environmental technology', \n",
    "            'alternative energy', 'renewable energy', 'material science', 'biomedical', 'biomaterials', 'nanotech', 'pharmaceutical',\n",
    "            'biomechanics', 'biomimicking', 'biomimicry', 'machine', 'bioengineering', 'chemical engineering', 'applied physics', \n",
    "            'operations research', 'civil engineering', 'aerospace', 'system', 'operations research', 'industrial engineering', 'computer Science'\n",
    "            'invention', 'electrical', 'computational']\n",
    "\n",
    "tech_eng = []\n",
    "for i in tech_eng_:\n",
    "    i_ = i.lower()\n",
    "    tech_eng.append(i_)\n",
    "\n",
    "math_sci_ = ['Agriculture', 'Physics', 'Biology', 'Biophysics', 'Biochemistry/Molecular Biology',\n",
    "            'Mathematics', 'Applied Mathematics', 'Nutrition/Food Science', 'Genetics', 'Astronomy/Astrophysics',\n",
    "            'Statistics', 'Chemistry', 'Neuroscience', 'Economics','Nursing','Pre-Med', 'Pre-Veterinary'\n",
    "            'Pharmacy/Pre-Pharmacy', 'Pre-Dental', 'Pharmacy', 'Pre-Pharmacy', 'STEM', 'STEAM', 'Chemistry', 'physics',\n",
    "            'biology', 'bio', 'biochem', 'biochemistry', 'science', 'math', 'mathematics', 'algorithm', 'biophysics', \n",
    "            'applied math', 'genetics', 'scientific', 'astronomy', 'astrophysics', 'statistics', 'neuroscience', 'dental',\n",
    "            'doctor', 'physical', 'medical', 'scientific research', 'Biomaterials', 'material science', 'nutrition', 'clinical',\n",
    "            'earth science', 'environmental science', 'ecology', 'ecological', 'veterinary', 'molecular', 'nanotech', 'biomedical',\n",
    "            'pharmaceutical', 'food science, biotech', 'brain', 'botany', 'botanical', 'immunology', 'immune', 'zoology', 'biomechanics',\n",
    "            'biomimicking', 'biomimicry']\n",
    "\n",
    "math_sci = []\n",
    "for j in math_sci_:\n",
    "    j_ = j.lower()\n",
    "    math_sci.append(j_)\n",
    "    \n",
    "social_sci_ = ['Economics Asian Studies', 'African Studies','Psychology', \"Women's Studies\",'Anthropology', 'Political Science/Government',\n",
    "                'Political Science', 'Political Government', 'International Relations/Affairs', 'International Relations',\n",
    "                'International Affairs', 'Public Policy/Affairs', 'Public Policy', 'Public Affairs', 'Public Health',\n",
    "                'Environmental Science/Studies', 'Environmental Science', 'Environmental Studies', 'Urban Planning', 'Education',\n",
    "                'Volunteer', 'community', 'community service', 'culture', 'equality', 'service',' social issue', 'social', \n",
    "                'society', 'economic', 'economy', 'SDGs', 'environment', 'policy', 'psychology', 'Asian studies', 'race relations', \n",
    "                'ethnicity', 'ethnic', 'women', 'anthropology', 'politic', 'international relations', 'international affairs',\n",
    "                'diplomacy', 'diplomat', 'public policy', 'public health,' 'inequality', 'geography', 'geographic', 'linguistic', \n",
    "                 'sociology', 'culture', 'urban studies', 'diversity', 'LGBT', 'LGBTQ', 'sustainable', 'sustainability', 'debate',\n",
    "                 'Middle East',' Middle Eastern Studies']\n",
    "\n",
    "social_sci = []\n",
    "for k in social_sci_:\n",
    "    k_ = k.lower()\n",
    "    social_sci.append(k_)\n",
    "\n",
    "humanities_ = ['Archeology', 'Film Studies','German (Language and Literature)','Art History',\n",
    "                'French (Language and Literature)','Spanish','Theology/Religious Studies',\n",
    "                'Linguistics','History','English Language and Literature','Comparative Literature',\n",
    "                'Philosophy','Classical Studies/Latin/Greek', 'English', 'literature', 'history', 'writing', \n",
    "              'heritage', 'essay', 'script', 'culture' ,'humanities', 'poem', 'poet', 'playwright', 'script',\n",
    "              'poetry', 'literary', 'lit', 'writing', 'Spanish', 'German', 'Chinese', 'Italian', 'French', 'Russian', 'literature', \n",
    "              'Latin', 'Greek', 'anthropology', 'archaeology', 'Law', 'ethics', 'film studies']\n",
    "\n",
    "humanities = []\n",
    "for l in humanities_:\n",
    "    l_ = l.lower()\n",
    "    humanities.append(l_)\n",
    "    \n",
    "\n",
    "visualart_ = ['Film&Television', 'Film', 'Television', 'Design (Graphic, Industrial, Computer Graphics)','Graphic Design','Industral Design', \n",
    "             'Computer Graphics', 'Fashion Design', 'Photography', 'Architecture', 'Movie', 'visual', 'music', 'art', 'arts', 'performing', \n",
    "             'paint', 'painting',' visual arts', 'design', 'draw', 'drawing', 'graphic', 'architecture', 'architect', 'film', 'sculpture',\n",
    "             'artwork', 'fine art']\n",
    "\n",
    "visualart = []\n",
    "for m in visualart_:\n",
    "    m_ = m.lower()\n",
    "    visualart.append(m_)\n",
    "    \n",
    "\n",
    "business_ = ['Business', 'Finance', 'Accounting', 'Marketing', 'Intl', 'Biz','International Business','Mgmt.', 'Info Systems', \n",
    "            'Hotel/Hospitality Management', 'Hotel Management', 'Hospitality Management', 'Business', 'start up', 'start-up',\n",
    "            'entrepreneur', 'entrepreneurship', 'investment', 'invest', 'business plan', 'finance', 'marketing',' organizational behavior',\n",
    "            'logistics', 'management', 'managing', 'social entrepreneur', 'social enterprise', 'accounting', 'managerial', 'MIS', \n",
    "            'Management Information Systems', 'Hotel management', 'hospitality']\n",
    "\n",
    "business = []\n",
    "for o in business_:\n",
    "    o_ = o.lower()\n",
    "    business.append(o_)\n",
    "    \n",
    "\n",
    "music_ = ['Music (Performance)', 'Music', 'Music Theory']\n",
    "\n",
    "music = []\n",
    "for p in music_:\n",
    "    p_ = p.lower()\n",
    "    music.append(p_)\n",
    "    \n",
    "\n",
    "performing_arts_ = ['performing arts','performance', 'dance', 'Movie', 'music', 'musical', 'theater', 'theatre', 'opera', 'thespian', 'song',\n",
    "                   'sing', 'vocal', 'drama', 'orchestra', 'band', 'acting', 'acrobatics', 'ballet','circus', 'magic', 'mime', 'puppetry',\n",
    "                   'ventriloquism', 'spoken word', 'stand-up comedy', 'Chinese opera', 'pansori', 'chamber music', 'cabaret', \n",
    "                   'jazz band', 'big band', 'Bharatanatyam', 'Gamelan semar pegulingan', 'Shōmyō', 'Odissi', 'Cantonese opera']\n",
    "\n",
    "performing_arts = []\n",
    "for q in performing_arts_:\n",
    "    q_ = q.lower()\n",
    "    performing_arts.append(q_)\n",
    "\n",
    "communication_ = ['Documentary', 'SNS', 'Social Network', 'PR', 'public relations', 'advertisement', 'advertising', 'movie', 'film', 'news',\n",
    "                 'journalism', 'newspaper', 'debate', 'speech', 'newspaper', 'media', 'communication']\n",
    "\n",
    "communication = []\n",
    "for r in communication_:\n",
    "    r_ = r.lower()\n",
    "    communication.append(r_)"
   ]
  },
  {
   "cell_type": "code",
   "execution_count": null,
   "metadata": {},
   "outputs": [],
   "source": [
    "#비교 not fit 계산을 위해서 전공 리스트를 모두 합쳐보자\n",
    "all_majors = tech_eng_ + math_sci_ + social_sci_ + humanities_ + visualart_ + business_ + music_ + performing_arts_ + communication_"
   ]
  },
  {
   "cell_type": "code",
   "execution_count": null,
   "metadata": {},
   "outputs": [],
   "source": [
    "df_a = pd.DataFrame(tech_eng, columns=[\"major\"])\n",
    "df_a[\"main_major\"] = \"tech_eng\"\n",
    "df_a[:5]"
   ]
  },
  {
   "cell_type": "code",
   "execution_count": null,
   "metadata": {},
   "outputs": [],
   "source": [
    "df_b = pd.DataFrame(math_sci, columns=[\"major\"])\n",
    "df_b[\"main_major\"] = \"math_sci\"\n",
    "df_b[:5]"
   ]
  },
  {
   "cell_type": "code",
   "execution_count": null,
   "metadata": {},
   "outputs": [],
   "source": [
    "df_c = pd.DataFrame(social_sci, columns=[\"major\"])\n",
    "df_c[\"main_major\"] = \"social_sci\"\n",
    "df_c[:5]"
   ]
  },
  {
   "cell_type": "code",
   "execution_count": null,
   "metadata": {},
   "outputs": [],
   "source": [
    "df_d = pd.DataFrame(humanities, columns=[\"major\"])\n",
    "df_d[\"main_major\"] = \"humanities\"\n",
    "df_d[:5]"
   ]
  },
  {
   "cell_type": "code",
   "execution_count": null,
   "metadata": {},
   "outputs": [],
   "source": [
    "df_e = pd.DataFrame(business, columns=[\"major\"])\n",
    "df_e[\"main_major\"] = \"business\"\n",
    "df_e[:5]"
   ]
  },
  {
   "cell_type": "code",
   "execution_count": null,
   "metadata": {},
   "outputs": [],
   "source": [
    "df_f = pd.DataFrame(music, columns=[\"major\"])\n",
    "df_f[\"main_major\"] = \"music\"\n",
    "df_f[:5]"
   ]
  },
  {
   "cell_type": "code",
   "execution_count": null,
   "metadata": {},
   "outputs": [],
   "source": [
    "df_g = pd.DataFrame(performing_arts, columns=[\"major\"])\n",
    "df_g[\"main_major\"] = \"performing_arts\"\n",
    "df_g[:5]"
   ]
  },
  {
   "cell_type": "code",
   "execution_count": null,
   "metadata": {},
   "outputs": [],
   "source": [
    "df_h = pd.DataFrame(communication, columns=[\"major\"])\n",
    "df_h[\"main_major\"] = \"communication\"\n",
    "df_h[:5]"
   ]
  },
  {
   "cell_type": "code",
   "execution_count": null,
   "metadata": {},
   "outputs": [],
   "source": [
    "# 전공별 데이터와 주 전공을 하나의 데이터프레임으로 합친다. \n",
    "total_major_df = pd.concat([df_a,df_b,df_c,df_d,df_e,df_f,df_g,df_h])\n",
    "total_major_df"
   ]
  },
  {
   "cell_type": "code",
   "execution_count": null,
   "metadata": {},
   "outputs": [],
   "source": [
    "#데이터처리한 결과를 저장해놓는다. \n",
    "total_major_df.to_csv(\"total_major_fit_dataset.csv\", mode='w')"
   ]
  },
  {
   "cell_type": "code",
   "execution_count": null,
   "metadata": {},
   "outputs": [],
   "source": [
    "#이제 main_major에서 관련 전공을 선택하고, 어떤 분야의 main_major인지 매칭해서 fit, not fit, ? 를 구분한다.\n",
    "major_list # 다시 확인. 그리고나서 이것을 total_major_df에서 검색을 한다.  매칭되면 main_major와 fit한지 판단."
   ]
  },
  {
   "cell_type": "code",
   "execution_count": null,
   "metadata": {},
   "outputs": [],
   "source": []
  },
  {
   "cell_type": "code",
   "execution_count": null,
   "metadata": {},
   "outputs": [],
   "source": [
    "# 원하는 전공 리스트의 값을 데이터프레임 total_major_df에서 찾아보자\n",
    "fit_analysis_list = []\n",
    "for search_major in major_list:\n",
    "    \n",
    "    re__ = total_major_df[total_major_df['major'] == search_major]  # 데이터프레임에 찾고자하는 전공이 있다면\n",
    "    print (re__) # 결과물을 리스트에 저장해보자\n",
    "    fit_analysis_list.append(re__)\n",
    "\n"
   ]
  },
  {
   "cell_type": "code",
   "execution_count": null,
   "metadata": {},
   "outputs": [],
   "source": [
    "fit_analysis_list"
   ]
  },
  {
   "cell_type": "code",
   "execution_count": null,
   "metadata": {},
   "outputs": [],
   "source": [
    "#fit_analysis_list 를 문자로 만들어서 개별 리스트로 만들자\n",
    "s =\" \".join(map(str, fit_analysis_list))\n",
    "s"
   ]
  },
  {
   "cell_type": "code",
   "execution_count": null,
   "metadata": {},
   "outputs": [],
   "source": [
    "fit_list_str = s.split()# str을 공란()으로 쪼갬   \n",
    "fit_list_str"
   ]
  },
  {
   "cell_type": "code",
   "execution_count": null,
   "metadata": {},
   "outputs": [],
   "source": [
    "#드디어 분석 fit analysis!!!!\n",
    "#선택한 전공 3개,1개를 비교하여 데이터베이스 비교 분석하여 활동내역과 전공이 일치하는지 판단!\n",
    "fit_result = []\n",
    "\n",
    "\n",
    "# 수상내역이 데이터에 없을 경우 not sure. 그러나 수상점수는 계산이 가능함(first, winner 등의 단어를 확인해서)\n",
    "if fit_list_str == None: #이 false 라면 not sure로 해야 함\n",
    "    print (\"not sure\")\n",
    "    fit_result.append('not sure')\n",
    "else:\n",
    "    for category in get_major: #분석 추출한 결과 내역들을 모두 단어로 쪼개어서 하나씩 추출해서 비교\n",
    "        for major_item in major_list:# 신청한 전공 3개와 연관된 주제단어를 가져와서\n",
    "            if major_item  == category: # 전공이 있으면 fit\n",
    "                print (\"fit\")\n",
    "                fit_result.append('fit')\n",
    "\n",
    "            else: # 원하는 전공 3개와 연관된 전공중 아무것도 매칭되는 것이 없으면 not sure\n",
    "                    print (\"not fit\")\n",
    "                    fit_result.append('not fit')"
   ]
  },
  {
   "cell_type": "code",
   "execution_count": null,
   "metadata": {},
   "outputs": [],
   "source": [
    "fit_result #데이터프레임으로\n",
    "df_fit_re = pd.DataFrame(fit_result)\n",
    "df_fit_re"
   ]
  },
  {
   "cell_type": "code",
   "execution_count": null,
   "metadata": {},
   "outputs": [],
   "source": [
    "df_fit_re.columns = ['fit']\n",
    "df_fit_re"
   ]
  },
  {
   "cell_type": "code",
   "execution_count": null,
   "metadata": {},
   "outputs": [],
   "source": [
    "list_fit_re = df_fit_re.drop_duplicates() #중복값 제거!!!! 결과 도출, 여기서 FIT: 1 or NOT FIT : 2 or NOT SURE : 0 구분하면 됨\n",
    "list_fit_re"
   ]
  },
  {
   "cell_type": "code",
   "execution_count": null,
   "metadata": {},
   "outputs": [],
   "source": [
    "'fit'in list_fit_re #확인해보고.. 데이터프레임에 fit이라는것이 있다면 true 로???"
   ]
  },
  {
   "cell_type": "code",
   "execution_count": null,
   "metadata": {},
   "outputs": [],
   "source": [
    "'not fit' in list_fit_re # not fit이 있다면 flase이다. 반대인가?"
   ]
  },
  {
   "cell_type": "code",
   "execution_count": null,
   "metadata": {},
   "outputs": [],
   "source": [
    "#조건문을 만들어서 결과를 출력해보자.\n",
    "fit_anaysis_result_fin =[]\n",
    "if 'fit' in list_fit_re: # fi이 있다면 NOT FIT 출력\n",
    "    print(\"NOT FIT\")\n",
    "    fit_anaysis_result_fin.append('NOT FIT')\n",
    "elif 'not fit' in list_fit_re: # not fit 이 있다면 , NOT FIT 출력\n",
    "    print(\"NOT FIT\")\n",
    "    fit_anaysis_result_fin.append('FIT')\n",
    "else:\n",
    "    print(\"NOT SURE\")\n",
    "    fit_anaysis_result_fin.append('NOT SURE')\n",
    "    \n",
    "fit_anaysis_result_fin"
   ]
  },
  {
   "cell_type": "code",
   "execution_count": null,
   "metadata": {},
   "outputs": [],
   "source": []
  },
  {
   "cell_type": "code",
   "execution_count": null,
   "metadata": {},
   "outputs": [],
   "source": []
  },
  {
   "cell_type": "code",
   "execution_count": null,
   "metadata": {},
   "outputs": [],
   "source": []
  },
  {
   "cell_type": "code",
   "execution_count": null,
   "metadata": {},
   "outputs": [],
   "source": []
  },
  {
   "cell_type": "code",
   "execution_count": null,
   "metadata": {},
   "outputs": [],
   "source": []
  },
  {
   "cell_type": "code",
   "execution_count": null,
   "metadata": {},
   "outputs": [],
   "source": []
  },
  {
   "cell_type": "markdown",
   "metadata": {},
   "source": [
    "1)데이터프레임의 각 행의 값을 가져와서, 각 단어를 분해(토큰화)하여, 리스트에 담고 : ['young' 'americans' 'for' 'liberty']\n",
    "2)activity_list의 값을 위의 결과값과 비교하여, 존재한다면, MAJOR FIT을 비교하여 판단한다."
   ]
  },
  {
   "cell_type": "code",
   "execution_count": null,
   "metadata": {},
   "outputs": [],
   "source": [
    "title_item = data_act['title'][0] # 첫번재 값을 가져와서\n",
    "t_item = title_item.split() \n",
    "t_item"
   ]
  },
  {
   "cell_type": "code",
   "execution_count": null,
   "metadata": {},
   "outputs": [],
   "source": [
    "#2)activity_list의 값을 위의 결과값과 비교하여, 존재한다면\n",
    "for i in activity_list:\n",
    "    for k in t_item:\n",
    "        if i == k:\n",
    "            print('FIT')\n",
    "        else:\n",
    "            print('NOT FIT')"
   ]
  },
  {
   "cell_type": "code",
   "execution_count": null,
   "metadata": {},
   "outputs": [],
   "source": []
  }
 ],
 "metadata": {
  "kernelspec": {
   "display_name": "Python 3",
   "language": "python",
   "name": "python3"
  },
  "language_info": {
   "codemirror_mode": {
    "name": "ipython",
    "version": 3
   },
   "file_extension": ".py",
   "mimetype": "text/x-python",
   "name": "python",
   "nbconvert_exporter": "python",
   "pygments_lexer": "ipython3",
   "version": "3.7.9"
  }
 },
 "nbformat": 4,
 "nbformat_minor": 4
}
