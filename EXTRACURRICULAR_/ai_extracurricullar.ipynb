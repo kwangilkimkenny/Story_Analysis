{
 "cells": [
  {
   "cell_type": "code",
   "execution_count": 5,
   "metadata": {},
   "outputs": [],
   "source": [
    "import numpy as np\n",
    "import re\n",
    "import pandas as pd"
   ]
  },
  {
   "cell_type": "markdown",
   "metadata": {},
   "source": [
    "## Dedicaton Analysis"
   ]
  },
  {
   "cell_type": "code",
   "execution_count": null,
   "metadata": {},
   "outputs": [],
   "source": [
    "#input\n",
    "time_spent_hrs_per_week = 12 #time_spent_hrs_per_week\n",
    "tiem_spent_weeks_per_year = 12 #tiem_spent_weeks_per_year"
   ]
  },
  {
   "cell_type": "code",
   "execution_count": 7,
   "metadata": {
    "scrolled": true
   },
   "outputs": [
    {
     "data": {
      "text/html": [
       "<div>\n",
       "<style scoped>\n",
       "    .dataframe tbody tr th:only-of-type {\n",
       "        vertical-align: middle;\n",
       "    }\n",
       "\n",
       "    .dataframe tbody tr th {\n",
       "        vertical-align: top;\n",
       "    }\n",
       "\n",
       "    .dataframe thead th {\n",
       "        text-align: right;\n",
       "    }\n",
       "</style>\n",
       "<table border=\"1\" class=\"dataframe\">\n",
       "  <thead>\n",
       "    <tr style=\"text-align: right;\">\n",
       "      <th></th>\n",
       "      <th>period_years_of_activity</th>\n",
       "      <th>coefficient</th>\n",
       "      <th>hrs_per_week</th>\n",
       "      <th>week_strength</th>\n",
       "      <th>weeks_per_year</th>\n",
       "      <th>year_strength</th>\n",
       "      <th>total_activity_hrs</th>\n",
       "      <th>total_dedication_avg</th>\n",
       "    </tr>\n",
       "  </thead>\n",
       "  <tbody>\n",
       "    <tr>\n",
       "      <th>0</th>\n",
       "      <td>5.0</td>\n",
       "      <td>1.00</td>\n",
       "      <td>15+</td>\n",
       "      <td>5.0</td>\n",
       "      <td>30_52</td>\n",
       "      <td>5.0</td>\n",
       "      <td>3300+</td>\n",
       "      <td>5</td>\n",
       "    </tr>\n",
       "    <tr>\n",
       "      <th>1</th>\n",
       "      <td>4.0</td>\n",
       "      <td>1.00</td>\n",
       "      <td>10-14</td>\n",
       "      <td>4.5</td>\n",
       "      <td>20_29</td>\n",
       "      <td>4.5</td>\n",
       "      <td>3200_3300</td>\n",
       "      <td>5</td>\n",
       "    </tr>\n",
       "    <tr>\n",
       "      <th>2</th>\n",
       "      <td>3.0</td>\n",
       "      <td>0.90</td>\n",
       "      <td>8-9</td>\n",
       "      <td>4.0</td>\n",
       "      <td>15_19</td>\n",
       "      <td>4.0</td>\n",
       "      <td>2400_3200</td>\n",
       "      <td>4</td>\n",
       "    </tr>\n",
       "    <tr>\n",
       "      <th>3</th>\n",
       "      <td>2.0</td>\n",
       "      <td>0.75</td>\n",
       "      <td>5-7</td>\n",
       "      <td>3.0</td>\n",
       "      <td>12_14</td>\n",
       "      <td>3.0</td>\n",
       "      <td>1600_2400</td>\n",
       "      <td>3</td>\n",
       "    </tr>\n",
       "    <tr>\n",
       "      <th>4</th>\n",
       "      <td>1.0</td>\n",
       "      <td>0.60</td>\n",
       "      <td>3-4</td>\n",
       "      <td>2.0</td>\n",
       "      <td>8_11</td>\n",
       "      <td>2.0</td>\n",
       "      <td>1200_1600</td>\n",
       "      <td>2</td>\n",
       "    </tr>\n",
       "    <tr>\n",
       "      <th>5</th>\n",
       "      <td>NaN</td>\n",
       "      <td>NaN</td>\n",
       "      <td>1-2</td>\n",
       "      <td>1.0</td>\n",
       "      <td>1_7</td>\n",
       "      <td>1.0</td>\n",
       "      <td>0_1200</td>\n",
       "      <td>1</td>\n",
       "    </tr>\n",
       "  </tbody>\n",
       "</table>\n",
       "</div>"
      ],
      "text/plain": [
       "   period_years_of_activity  coefficient hrs_per_week  week_strength  \\\n",
       "0                       5.0         1.00          15+            5.0   \n",
       "1                       4.0         1.00        10-14            4.5   \n",
       "2                       3.0         0.90          8-9            4.0   \n",
       "3                       2.0         0.75          5-7            3.0   \n",
       "4                       1.0         0.60          3-4            2.0   \n",
       "5                       NaN          NaN          1-2            1.0   \n",
       "\n",
       "  weeks_per_year  year_strength total_activity_hrs  total_dedication_avg  \n",
       "0          30_52            5.0              3300+                     5  \n",
       "1          20_29            4.5          3200_3300                     5  \n",
       "2          15_19            4.0          2400_3200                     4  \n",
       "3          12_14            3.0          1600_2400                     3  \n",
       "4           8_11            2.0          1200_1600                     2  \n",
       "5            1_7            1.0             0_1200                     1  "
      ]
     },
     "execution_count": 7,
     "metadata": {},
     "output_type": "execute_result"
    }
   ],
   "source": [
    "data_awards = pd.read_csv('dedication_analysis .csv')\n",
    "data_awards"
   ]
  },
  {
   "cell_type": "markdown",
   "metadata": {},
   "source": [
    " dedication_cal = Coefficient X [ (한주별 활동 시간 강도  + 1년간 몇주 참여 강도) / 2 ]\n"
   ]
  },
  {
   "cell_type": "code",
   "execution_count": null,
   "metadata": {},
   "outputs": [],
   "source": [
    "if "
   ]
  },
  {
   "cell_type": "code",
   "execution_count": null,
   "metadata": {},
   "outputs": [],
   "source": []
  },
  {
   "cell_type": "code",
   "execution_count": null,
   "metadata": {},
   "outputs": [],
   "source": []
  },
  {
   "cell_type": "code",
   "execution_count": null,
   "metadata": {},
   "outputs": [],
   "source": [
    "dedication_cal = "
   ]
  },
  {
   "cell_type": "code",
   "execution_count": null,
   "metadata": {},
   "outputs": [],
   "source": []
  },
  {
   "cell_type": "code",
   "execution_count": null,
   "metadata": {},
   "outputs": [],
   "source": []
  },
  {
   "cell_type": "code",
   "execution_count": null,
   "metadata": {},
   "outputs": [],
   "source": []
  }
 ],
 "metadata": {
  "kernelspec": {
   "display_name": "Python 3",
   "language": "python",
   "name": "python3"
  },
  "language_info": {
   "codemirror_mode": {
    "name": "ipython",
    "version": 3
   },
   "file_extension": ".py",
   "mimetype": "text/x-python",
   "name": "python",
   "nbconvert_exporter": "python",
   "pygments_lexer": "ipython3",
   "version": "3.7.9"
  }
 },
 "nbformat": 4,
 "nbformat_minor": 4
}
