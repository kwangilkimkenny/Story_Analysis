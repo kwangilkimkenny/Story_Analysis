{
 "cells": [
  {
   "cell_type": "code",
   "execution_count": 1,
   "metadata": {},
   "outputs": [
    {
     "name": "stderr",
     "output_type": "stream",
     "text": [
      "[nltk_data] Downloading package stopwords to\n",
      "[nltk_data]     /Users/kimkwangil/nltk_data...\n",
      "[nltk_data]   Unzipping corpora/stopwords.zip.\n"
     ]
    }
   ],
   "source": [
    "from transformers import BertTokenizer\n",
    "from model import BertForMultiLabelClassification\n",
    "from multilabel_pipeline import MultiLabelPipeline\n",
    "import pandas as pd\n",
    "from pandas import Series\n",
    "import re\n",
    "import nltk\n",
    "nltk.download('stopwords')\n",
    "from nltk.corpus import stopwords\n",
    "import numpy as np\n",
    "\n",
    "\n",
    "\n",
    "tokenizer = BertTokenizer.from_pretrained(\"monologg/bert-base-cased-goemotions-original\")\n",
    "model = BertForMultiLabelClassification.from_pretrained(\"monologg/bert-base-cased-goemotions-original\")\n",
    "\n",
    "goemotions = MultiLabelPipeline(\n",
    "    model=model,\n",
    "    tokenizer=tokenizer,\n",
    "    threshold=0.3\n",
    ")"
   ]
  },
  {
   "cell_type": "code",
   "execution_count": 2,
   "metadata": {},
   "outputs": [],
   "source": [
    "#데이터 전처리 \n",
    "def cleaning(datas):\n",
    "\n",
    "    fin_datas = []\n",
    "\n",
    "    for data in datas:\n",
    "        # 영문자 이외 문자는 공백으로 변환\n",
    "        only_english = re.sub('[^a-zA-Z]', ' ', data)\n",
    "    \n",
    "        # 데이터를 리스트에 추가 \n",
    "        fin_datas.append(only_english)\n",
    "\n",
    "    return fin_datas"
   ]
  },
  {
   "cell_type": "code",
   "execution_count": 62,
   "metadata": {},
   "outputs": [],
   "source": [
    "def ai_emotion_analysis(input_text):\n",
    "    # . 로 구분하여 리스트로 변환\n",
    "    re_text = input_text.split(\".\")\n",
    "    #print(\"re_text type: \", type(re_text))\n",
    "        \n",
    "    texts = cleaning(re_text)\n",
    "    re_emot =  goemotions(texts)\n",
    "    df = pd.DataFrame(re_emot)\n",
    "    #print(\"dataframe:\", df)\n",
    "    label_cnt = df.count()\n",
    "    #print(label_cnt)\n",
    " \n",
    "    #추출된 감성중 레이블만 다시 추출하고, 이것을 리스트로 변환 후, 이중리스트 flatten하고, 가장 많이 추출된 대표감성을 카운트하여 산출한다.\n",
    "    result_emotion = list(df['labels'])\n",
    "    #이중리스트 flatten\n",
    "    all_emo_types = sum(result_emotion, [])\n",
    "    #대표감성 추출 : 리스트 항목 카운트하여 가장 높은 값 산출\n",
    "    ext_emotion = {}\n",
    "    for i in all_emo_types:\n",
    "        if i == 'neutral': # neutral 감정은 제거함\n",
    "            pass\n",
    "        else:\n",
    "            try: ext_emotion[i] += 1\n",
    "            except: ext_emotion[i]=1    \n",
    "    print(ext_emotion)\n",
    "    #결과값 오름차순 정렬 : 추출된 감성 결과가 높은 순서대로 정려하기\n",
    "    key_emo = sorted(ext_emotion.items(), key=lambda x: x[1], reverse=True)\n",
    "    print(\"Key extract emoitons: \", key_emo)\n",
    "    \n",
    "    #가장 많이 추출된 감성 1개\n",
    "    key_emo[0]\n",
    "    #가장 많이 추출된 감성 3개\n",
    "    key_emo[:2]\n",
    "    result_emo_list = [*sum(zip(re_text, result_emotion),())]\n",
    "    \n",
    "    #결과해석\n",
    "    # result_emo_list >>> 문장, 분석감성\n",
    "    # key_emo[0] >>> 가장 많이 추출된 감성 1개로 이것이 에세이이 포함된 대표감성\n",
    "    # key_emo[:2] 가장 많이 추출된 감성 3개\n",
    "    return result_emo_list, key_emo[0], key_emo[:2]"
   ]
  },
  {
   "cell_type": "code",
   "execution_count": 63,
   "metadata": {},
   "outputs": [
    {
     "name": "stdout",
     "output_type": "stream",
     "text": [
      "{'amusement': 1, 'admiration': 4, 'approval': 6, 'realization': 5, 'desire': 1, 'excitement': 2, 'anger': 1, 'annoyance': 1}\n",
      "Key extract emoitons:  [('approval', 6), ('realization', 5), ('admiration', 4), ('excitement', 2), ('amusement', 1), ('desire', 1), ('anger', 1), ('annoyance', 1)]\n",
      "(['Bloomington Normal is almost laughably cliché for a midwestern city', ['amusement'], ' Vast swathes of corn envelop winding roads and the heady smell of BBQ smoke pervades the countryside every summer', ['neutral'], ' Yet, underlying the trite norms of Normal is the prescriptive force of tradition—the expectation to fulfill my role as a female Filipino by playing Debussy in the yearly piano festival and enrolling in multivariable calculus instead of political philosophy', ['neutral'], \"So when I discovered the technical demand of bebop, the triplet groove, and the intricacies of chordal harmony after ten years of grueling classical piano, I was fascinated by the music's novelty\", ['admiration', 'neutral'], ' Jazz guitar was not only evocative and creative, but also strangely liberating', ['neutral'], ' I began to explore different pedagogical methods, transcribe solos from the greats, and experiment with various approaches until my own unique sound began to develop', ['admiration', 'neutral'], \" And, although I did not know what would be the 'best' route for me to follow as a musician, the freedom to forge whatever path I felt was right seemed to be exactly what I needed; there were no expectations for me to continue in any particular way—only the way that suited my own desires\", ['approval'], 'While journeying this trail, I found myself at Interlochen Arts Camp the summer before my junior year', ['realization'], \" Never before had I been immersed in an environment so conducive to musical growth: I was surrounded by people intensely passionate about pursuing all kinds of art with no regard for ideas of what art 'should' be\", ['desire', 'excitement'], ' I knew immediately that this would be a perfect opportunity to cultivate my sound, unbounded by the limits of confining tradition', ['admiration', 'approval'], ' On the first day of camp, I found that my peer guitarist in big band was another Filipino girl from Illinois', ['neutral'], ' Until that moment, my endeavors in jazz guitar had been a solitary effort; I had no one with whom to collaborate and no one against whom I could compare myself, much less someone from a background mirroring my own', ['neutral'], ' I was eager to play with her, but while I quickly recognized a slew of differences between us—different heights, guitars, and even playing styles—others seemed to have trouble making that distinction during performances', ['excitement'], \" Some even went as far as calling me 'other-Francesca\", ['neutral'], \"' Thus, amidst the glittering lakes and musky pine needles of Interlochen, I once again confronted Bloomington's frustrating expectations\", ['anger', 'annoyance'], \"After being mistaken for her several times, I could not help but view Francesca as a standard of what the 'female Filipino jazz guitarist' should embody\", ['approval', 'realization', 'neutral'], ' Her improvisatory language, comping style and even personal qualities loomed above me as something I had to live up to', ['admiration'], ' Nevertheless, as Francesca and I continued to play together, it was not long before we connected through our creative pursuit', ['realization', 'neutral'], ' In time, I learned to draw inspiration from her instead of feeling pressured to follow whatever precedent I thought she set', ['neutral'], ' I found that I grew because of, rather than in spite of, her presence; I could find solace in our similarities and even a sense of comfort in an unfamiliar environment without being trapped by expectation', ['realization'], \" Though the pressure to conform was still present—and will likely remain present in my life no matter what genre I'm playing or what pursuits I engage in—I learned to eschew its corrosive influence and enjoy the rewards that it brings\", ['approval', 'neutral'], ' While my encounter with Francesca at first sparked a feeling of pressure to conform in a setting where I never thought I would feel its presence, it also carried the warmth of finding someone with whom I could connect', ['realization', 'neutral'], ' Like the admittedly trite conditions of my hometown, the resemblances between us provided comfort to me through their familiarity', ['approval'], ' I ultimately found that I can embrace this warmth while still rejecting the pressure to succumb to expectations, and that, in the careful balance between these elements, I can grow in a way that feels both like discove', ['approval']], ('approval', 6), [('approval', 6), ('realization', 5)])\n"
     ]
    }
   ],
   "source": [
    "###### Run ######\n",
    "input_text = \"\"\"Bloomington Normal is almost laughably cliché for a midwestern city. Vast swathes of corn envelop winding roads and the heady smell of BBQ smoke pervades the countryside every summer. Yet, underlying the trite norms of Normal is the prescriptive force of tradition—the expectation to fulfill my role as a female Filipino by playing Debussy in the yearly piano festival and enrolling in multivariable calculus instead of political philosophy.So when I discovered the technical demand of bebop, the triplet groove, and the intricacies of chordal harmony after ten years of grueling classical piano, I was fascinated by the music's novelty. Jazz guitar was not only evocative and creative, but also strangely liberating. I began to explore different pedagogical methods, transcribe solos from the greats, and experiment with various approaches until my own unique sound began to develop. And, although I did not know what would be the 'best' route for me to follow as a musician, the freedom to forge whatever path I felt was right seemed to be exactly what I needed; there were no expectations for me to continue in any particular way—only the way that suited my own desires.While journeying this trail, I found myself at Interlochen Arts Camp the summer before my junior year. Never before had I been immersed in an environment so conducive to musical growth: I was surrounded by people intensely passionate about pursuing all kinds of art with no regard for ideas of what art 'should' be. I knew immediately that this would be a perfect opportunity to cultivate my sound, unbounded by the limits of confining tradition. On the first day of camp, I found that my peer guitarist in big band was another Filipino girl from Illinois. Until that moment, my endeavors in jazz guitar had been a solitary effort; I had no one with whom to collaborate and no one against whom I could compare myself, much less someone from a background mirroring my own. I was eager to play with her, but while I quickly recognized a slew of differences between us—different heights, guitars, and even playing styles—others seemed to have trouble making that distinction during performances. Some even went as far as calling me 'other-Francesca.' Thus, amidst the glittering lakes and musky pine needles of Interlochen, I once again confronted Bloomington's frustrating expectations.After being mistaken for her several times, I could not help but view Francesca as a standard of what the 'female Filipino jazz guitarist' should embody. Her improvisatory language, comping style and even personal qualities loomed above me as something I had to live up to. Nevertheless, as Francesca and I continued to play together, it was not long before we connected through our creative pursuit. In time, I learned to draw inspiration from her instead of feeling pressured to follow whatever precedent I thought she set. I found that I grew because of, rather than in spite of, her presence; I could find solace in our similarities and even a sense of comfort in an unfamiliar environment without being trapped by expectation. Though the pressure to conform was still present—and will likely remain present in my life no matter what genre I'm playing or what pursuits I engage in—I learned to eschew its corrosive influence and enjoy the rewards that it brings. While my encounter with Francesca at first sparked a feeling of pressure to conform in a setting where I never thought I would feel its presence, it also carried the warmth of finding someone with whom I could connect. Like the admittedly trite conditions of my hometown, the resemblances between us provided comfort to me through their familiarity. I ultimately found that I can embrace this warmth while still rejecting the pressure to succumb to expectations, and that, in the careful balance between these elements, I can grow in a way that feels both like discove\"\"\"\n",
    "\n",
    "result_ = ai_emotion_analysis(input_text)\n",
    "\n",
    "print(result_)"
   ]
  },
  {
   "cell_type": "code",
   "execution_count": 64,
   "metadata": {},
   "outputs": [
    {
     "data": {
      "text/plain": [
       "tuple"
      ]
     },
     "execution_count": 64,
     "metadata": {},
     "output_type": "execute_result"
    }
   ],
   "source": [
    "type(result_)"
   ]
  },
  {
   "cell_type": "code",
   "execution_count": 65,
   "metadata": {},
   "outputs": [
    {
     "data": {
      "text/plain": [
       "<function tuple.index(value, start=0, stop=9223372036854775807, /)>"
      ]
     },
     "execution_count": 65,
     "metadata": {},
     "output_type": "execute_result"
    }
   ],
   "source": [
    "idx = result_.index\n",
    "idx"
   ]
  },
  {
   "cell_type": "code",
   "execution_count": null,
   "metadata": {},
   "outputs": [],
   "source": []
  },
  {
   "cell_type": "code",
   "execution_count": null,
   "metadata": {},
   "outputs": [],
   "source": []
  }
 ],
 "metadata": {
  "kernelspec": {
   "display_name": "Python 3",
   "language": "python",
   "name": "python3"
  },
  "language_info": {
   "codemirror_mode": {
    "name": "ipython",
    "version": 3
   },
   "file_extension": ".py",
   "mimetype": "text/x-python",
   "name": "python",
   "nbconvert_exporter": "python",
   "pygments_lexer": "ipython3",
   "version": "3.7.9"
  }
 },
 "nbformat": 4,
 "nbformat_minor": 5
}
