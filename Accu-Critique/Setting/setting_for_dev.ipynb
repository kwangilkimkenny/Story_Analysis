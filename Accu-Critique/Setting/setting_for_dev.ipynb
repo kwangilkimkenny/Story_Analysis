{
 "cells": [
  {
   "cell_type": "code",
   "execution_count": 7,
   "id": "informed-determination",
   "metadata": {},
   "outputs": [],
   "source": [
    "import nltk\n",
    "import re\n",
    "import numpy as np\n",
    "import pandas as pd\n",
    "import gensim\n",
    "from nltk.tokenize import sent_tokenize\n",
    "import multiprocessing\n",
    "import io\n",
    "from gensim.models import Phrases\n",
    "from textblob import TextBlob\n",
    "from nltk.tag import pos_tag\n",
    "from nltk.tokenize import word_tokenize\n",
    "from nltk.tokenize import RegexpTokenizer\n",
    "from collections import defaultdict\n",
    "import spacy\n",
    "\n",
    "nlp = spacy.load('en_core_web_lg')"
   ]
  },
  {
   "cell_type": "code",
   "execution_count": 23,
   "id": "biological-highway",
   "metadata": {},
   "outputs": [],
   "source": [
    "# 시간, 공간, 장소를 알려주는 단어 추출하여 카운트\n",
    "def find_setting_words(text):\n",
    "    # Create Doc object\n",
    "    doc2 = nlp(text)\n",
    "    \n",
    "    setting_list = []\n",
    "    # Identify by label FAC(building etc), GPE(countries, cities..), LOC(locaton), TIME\n",
    "    fac_r = [ent.text for ent in doc2.ents if ent.label_ == 'FAC']\n",
    "    setting_list.append(fac_r)\n",
    "    \n",
    "    gpe_r = [ent.text for ent in doc2.ents if ent.label_ == 'GPE']\n",
    "    setting_list.append(gpe_r)\n",
    "    \n",
    "    loc_r = [ent.text for ent in doc2.ents if ent.label_ == 'LOC']\n",
    "    setting_list.append(loc_r)\n",
    "    \n",
    "    time_r = [ent.text for ent in doc2.ents if ent.label_ == 'TIME']\n",
    "    setting_list.append(time_r)\n",
    "    \n",
    "    #추출된 항목들\n",
    "    all_setting_words = sum(setting_list, [])\n",
    "    \n",
    "    #총 수\n",
    "    get_setting_list = len(all_setting_words)\n",
    "    \n",
    "    # Return all setting words\n",
    "    return get_setting_list, all_setting_words"
   ]
  },
  {
   "cell_type": "code",
   "execution_count": 24,
   "id": "searching-training",
   "metadata": {},
   "outputs": [],
   "source": [
    "input_text = \"\"\"Bloomington Normal is almost laughably cliché for a midwestern city. Vast swathes of corn envelop winding roads and the heady smell of BBQ smoke pervades the countryside every summer. Yet, underlying the trite norms of Normal is the prescriptive force of tradition—the expectation to fulfill my role as a female Filipino by playing Debussy in the yearly piano festival and enrolling in multivariable calculus instead of political philosophy.So when I discovered the technical demand of bebop, the triplet groove, and the intricacies of chordal harmony after ten years of grueling classical piano, I was fascinated by the music's novelty. Jazz guitar was not only evocative and creative, but also strangely liberating. I began to explore different pedagogical methods, transcribe solos from the greats, and experiment with various approaches until my own unique sound began to develop. And, although I did not know what would be the 'best' route for me to follow as a musician, the freedom to forge whatever path I felt was right seemed to be exactly what I needed; there were no expectations for me to continue in any particular way—only the way that suited my own desires.While journeying this trail, I found myself at Interlochen Arts Camp the summer before my junior year. Never before had I been immersed in an environment so conducive to musical growth: I was surrounded by people intensely passionate about pursuing all kinds of art with no regard for ideas of what art 'should' be. I knew immediately that this would be a perfect opportunity to cultivate my sound, unbounded by the limits of confining tradition. On the first day of camp, I found that my peer guitarist in big band was another Filipino girl from Illinois. Until that moment, my endeavors in jazz guitar had been a solitary effort; I had no one with whom to collaborate and no one against whom I could compare myself, much less someone from a background mirroring my own. I was eager to play with her, but while I quickly recognized a slew of differences between us—different heights, guitars, and even playing styles—others seemed to have trouble making that distinction during performances. Some even went as far as calling me 'other-Francesca.' Thus, amidst the glittering lakes and musky pine needles of Interlochen, I once again confronted Bloomington's frustrating expectations.After being mistaken for her several times, I could not help but view Francesca as a standard of what the 'female Filipino jazz guitarist' should embody. Her improvisatory language, comping style and even personal qualities loomed above me as something I had to live up to. Nevertheless, as Francesca and I continued to play together, it was not long before we connected through our creative pursuit. In time, I learned to draw inspiration from her instead of feeling pressured to follow whatever precedent I thought she set. I found that I grew because of, rather than in spite of, her presence; I could find solace in our similarities and even a sense of comfort in an unfamiliar environment without being trapped by expectation. Though the pressure to conform was still present—and will likely remain present in my life no matter what genre I'm playing or what pursuits I engage in—I learned to eschew its corrosive influence and enjoy the rewards that it brings. While my encounter with Francesca at first sparked a feeling of pressure to conform in a setting where I never thought I would feel its presence, it also carried the warmth of finding someone with whom I could connect. Like the admittedly trite conditions of my hometown, the resemblances between us provided comfort to me through their familiarity. I ultimately found that I can embrace this warmth while still rejecting the pressure to succumb to expectations, and that, in the careful balance between these elements, I can grow in a way that feels both like discove\"\"\""
   ]
  },
  {
   "cell_type": "code",
   "execution_count": 27,
   "id": "subject-leeds",
   "metadata": {},
   "outputs": [],
   "source": [
    "result_setting = list(find_setting_words(input_text))"
   ]
  },
  {
   "cell_type": "code",
   "execution_count": 28,
   "id": "detected-lighter",
   "metadata": {},
   "outputs": [
    {
     "data": {
      "text/plain": [
       "[3, ['Illinois', 'Interlochen', 'Bloomington']]"
      ]
     },
     "execution_count": 28,
     "metadata": {},
     "output_type": "execute_result"
    }
   ],
   "source": [
    "result_setting\n"
   ]
  },
  {
   "cell_type": "code",
   "execution_count": 29,
   "id": "sorted-antigua",
   "metadata": {},
   "outputs": [],
   "source": [
    "# 1000명의 에세이 평균과 비교해서 ideal, overboard, lacking 구분할 것"
   ]
  },
  {
   "cell_type": "code",
   "execution_count": 38,
   "id": "ruled-avenue",
   "metadata": {},
   "outputs": [],
   "source": [
    "def lackigIdealOverboard(group_mean, personal_value): # group_mean: 1000명 평균, personal_value|:개인값\n",
    "        ideal_mean = group_mean\n",
    "        one_ps_char_desc = personal_value\n",
    "        #최대, 최소값 기준으로 구간설정. 구간비율 30% => 0.3으로 설정\n",
    "        min_ = int(ideal_mean-ideal_mean*0.6)\n",
    "        # #print('min_', min_)\n",
    "        max_ = int(ideal_mean+ideal_mean*0.6)\n",
    "        # #print('max_: ', max_)\n",
    "        div_ = int(((ideal_mean+ideal_mean*0.6)-(ideal_mean-ideal_mean*0.6))/3)\n",
    "        # #print('div_:', div_)\n",
    "\n",
    "        #결과 판단 Lacking, Ideal, Overboard\n",
    "        cal_abs = abs(ideal_mean - one_ps_char_desc) # 개인 - 단체 값의 절대값계산\n",
    "\n",
    "        # #print('cal_abs 절대값 :', cal_abs)\n",
    "        compare7 = (one_ps_char_desc + ideal_mean)/6\n",
    "        compare6 = (one_ps_char_desc + ideal_mean)/5\n",
    "        compare5 = (one_ps_char_desc + ideal_mean)/4\n",
    "        compare4 = (one_ps_char_desc + ideal_mean)/3\n",
    "        compare3 = (one_ps_char_desc + ideal_mean)/2\n",
    "        # #print('compare7 :', compare7)\n",
    "        # #print('compare6 :', compare6)\n",
    "        # #print('compare5 :', compare5)\n",
    "        # #print('compare4 :', compare4)\n",
    "        # #print('compare3 :', compare3)\n",
    "\n",
    "\n",
    "\n",
    "        if one_ps_char_desc > ideal_mean: # 개인점수가 평균보다 클 경우는 overboard\n",
    "            if cal_abs > compare3: # 37 개인점수가 개인평균차의 절대값보다 클 경우, 즉 차이가 많이 날경우\n",
    "                # #print(\"Overboard: 2\")\n",
    "                result = 2 #overboard\n",
    "                #score = 1\n",
    "            elif cal_abs > compare4:\n",
    "                # #print(\"Overvoard: 2\")\n",
    "                result = 2\n",
    "                #score = 2\n",
    "            elif cal_abs > compare5:\n",
    "                # #print(\"Overvoard: 2\")\n",
    "                result = 2\n",
    "                #score = 3\n",
    "            elif cal_abs > compare6:\n",
    "                # #print(\"Overvoard: 2\")\n",
    "                result = 2\n",
    "                #score = 4\n",
    "            else:\n",
    "                # #print(\"Ideal: 1\")\n",
    "                result = 1\n",
    "                #score = 5\n",
    "        elif one_ps_char_desc < ideal_mean: # 개인점수가 평균보다 작을 경우 lacking\n",
    "            if cal_abs > compare3: # 37 개인점수가 개인평균차의 절대값보다 클 경우, 즉 차이가 많이 날경우\n",
    "                # #print(\"Lacking: 2\")\n",
    "                result = 0\n",
    "                #score = 1\n",
    "            elif cal_abs > compare4:\n",
    "                # #print(\"Lacking: 2\")\n",
    "                result = 0\n",
    "                #score = 2\n",
    "            elif cal_abs > compare5:\n",
    "                # #print(\"Lacking: 2\")\n",
    "                result = 0\n",
    "                #score = 3\n",
    "            elif cal_abs > compare6:\n",
    "                # #print(\"Lacking: 2\")\n",
    "                result = 0\n",
    "                #score = 4\n",
    "            else:\n",
    "                # #print(\"Ideal: 1\")\n",
    "                result = 1\n",
    "                #score = 5\n",
    "                \n",
    "        else:\n",
    "            # #print(\"Ideal: 1\")\n",
    "            result = 1\n",
    "            #score = 5\n",
    "\n",
    "        return result"
   ]
  },
  {
   "cell_type": "code",
   "execution_count": 40,
   "id": "gross-water",
   "metadata": {},
   "outputs": [
    {
     "data": {
      "text/plain": [
       "0"
      ]
     },
     "execution_count": 40,
     "metadata": {},
     "output_type": "execute_result"
    }
   ],
   "source": [
    "# ILO mean ideal lacking overboard\n",
    "# 1000명의 평균 값을 변경하려면 \"1000명의 평균값으로 int \"을 적절한 숫자(int)로 바꿔야함!!\n",
    "# re_setting_ILO = lackigIdealOverboard(\"1000명의 평균값으로 int \", \"입력한 계산 결과값 int\")\n",
    "# 0:lacking, 1:ideal, 2:overbaord\n",
    "re_setting_ILO = lackigIdealOverboard(4, result_setting[0])\n",
    "re_setting_ILO"
   ]
  },
  {
   "cell_type": "code",
   "execution_count": 41,
   "id": "tight-command",
   "metadata": {},
   "outputs": [
    {
     "data": {
      "text/plain": [
       "int"
      ]
     },
     "execution_count": 41,
     "metadata": {},
     "output_type": "execute_result"
    }
   ],
   "source": [
    "type(re_setting_ILO)"
   ]
  },
  {
   "cell_type": "code",
   "execution_count": null,
   "id": "flying-iraqi",
   "metadata": {},
   "outputs": [],
   "source": []
  }
 ],
 "metadata": {
  "kernelspec": {
   "display_name": "Python 3",
   "language": "python",
   "name": "python3"
  },
  "language_info": {
   "codemirror_mode": {
    "name": "ipython",
    "version": 3
   },
   "file_extension": ".py",
   "mimetype": "text/x-python",
   "name": "python",
   "nbconvert_exporter": "python",
   "pygments_lexer": "ipython3",
   "version": "3.7.9"
  }
 },
 "nbformat": 4,
 "nbformat_minor": 5
}
