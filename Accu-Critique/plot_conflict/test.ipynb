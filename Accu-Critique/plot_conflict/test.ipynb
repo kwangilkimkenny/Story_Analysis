{
 "cells": [
  {
   "cell_type": "code",
   "execution_count": 5,
   "metadata": {},
   "outputs": [],
   "source": [
    "token_list_str_set =  ['contradictory', 'bloomington', 'normal', 'is', 'almost', 'laughably', 'cliché', 'for', 'a', 'midwestern', 'city', 'vast', 'swathes', 'of', 'corn', 'envelop', 'winding', 'roads', 'and', 'the', 'heady', 'smell', 'of', 'bbq', 'smoke', 'pervades', 'the', 'countryside', 'every', 'summer', 'yet', 'underlying', 'the', 'trite', 'norms', 'of', 'normal', 'is', 'the', 'prescriptive', 'force', 'of', 'tradition—the', 'expectation', 'to', 'fulfill', 'my', 'role', 'as', 'a', 'female', 'filipino', 'by', 'playing', 'debussy', 'in', 'the', 'yearly', 'piano', 'festival', 'and', 'enrolling', 'in', 'multivariable', 'calculus', 'instead', 'of', 'political', 'philosophy', 'so', 'when', 'i', 'discovered', 'the', 'technical', 'demand', 'of', 'bebop', 'the', 'triplet', 'groove', 'and', 'the', 'intricacies', 'of', 'chordal', 'harmony', 'after', 'ten', 'years', 'of', 'grueling', 'classical', 'piano', 'i', 'was', 'fascinated', 'by', 'the', \"music's\", 'novelty', 'jazz', 'guitar', 'was', 'not', 'only', 'evocative', 'and', 'creative', 'but', 'also', 'strangely', 'liberating', 'i', 'began', 'to', 'explore', 'different', 'pedagogical', 'methods', 'transcribe', 'solos', 'from', 'the', 'greats', 'and', 'experiment', 'with', 'various', 'approaches', 'until', 'my', 'own', 'unique', 'sound', 'began', 'to', 'develop', 'and', 'although', 'i', 'did', 'not', 'know', 'what', 'would', 'be', 'the', \"'best'\", 'route', 'for', 'me', 'to', 'follow', 'as', 'a', 'musician', 'the', 'freedom', 'to', 'forge', 'whatever', 'path', 'i', 'felt', 'was', 'right', 'seemed', 'to', 'be', 'exactly', 'what', 'i', 'needed', 'there', 'were', 'no', 'expectations', 'for', 'me', 'to', 'continue', 'in', 'any', 'particular', 'way—only', 'the', 'way', 'that', 'suited', 'my', 'own', 'desires', 'while', 'journeying', 'this', 'trail', 'i', 'found', 'myself', 'at', 'interlochen', 'arts', 'camp', 'the', 'summer', 'before', 'my', 'junior', 'year', 'never', 'before', 'had', 'i', 'been', 'immersed', 'in', 'an', 'environment', 'so', 'conducive', 'to', 'musical', 'growth', 'i', 'was', 'surrounded', 'by', 'people', 'intensely', 'passionate', 'about', 'pursuing', 'all', 'kinds', 'of', 'art', 'with', 'no', 'regard', 'for', 'ideas', 'of', 'what', 'art', \"'should'\", 'be', 'i', 'knew', 'immediately', 'that', 'this', 'would', 'be', 'a', 'perfect', 'opportunity', 'to', 'cultivate', 'my', 'sound', 'unbounded', 'by', 'the', 'limits', 'of', 'confining', 'tradition', 'on', 'the', 'first', 'day', 'of', 'camp', 'i', 'found', 'that', 'my', 'peer', 'guitarist', 'in', 'big', 'band', 'was', 'another', 'filipino', 'girl', 'from', 'illinois', 'until', 'that', 'moment', 'my', 'endeavors', 'in', 'jazz', 'guitar', 'had', 'been', 'a', 'solitary', 'effort', 'i', 'had', 'no', 'one', 'with', 'whom', 'to', 'collaborate', 'and', 'no', 'one', 'against', 'whom', 'i', 'could', 'compare', 'myself', 'much', 'less', 'someone', 'from', 'a', 'background', 'mirroring', 'my', 'own', 'i', 'was', 'eager', 'to', 'play', 'with', 'her', 'but', 'while', 'i', 'quickly', 'recognized', 'a', 'slew', 'of', 'differences', 'between', 'us—different', 'heights', 'guitars', 'and', 'even', 'playing', 'styles—others', 'seemed', 'to', 'have', 'trouble', 'making', 'that', 'distinction', 'during', 'performances', 'some', 'even', 'went', 'as', 'far', 'as', 'calling', 'me', \"'other\", 'francesca', \"'\", 'thus', 'amidst', 'the', 'glittering', 'lakes', 'and', 'musky', 'pine', 'needles', 'of', 'interlochen', 'i', 'once', 'again', 'confronted', \"bloomington's\", 'frustrating', 'expectations', 'after', 'being', 'mistaken', 'for', 'her', 'several', 'times', 'i', 'could', 'not', 'help', 'but', 'view', 'francesca', 'as', 'a', 'standard', 'of', 'what', 'the', \"'female\", 'filipino', 'jazz', \"guitarist'\", 'should', 'embody', 'her', 'improvisatory', 'language', 'comping', 'style', 'and', 'even', 'personal', 'qualities', 'loomed', 'above', 'me', 'as', 'something', 'i', 'had', 'to', 'live', 'up', 'to', 'nevertheless', 'as', 'francesca', 'and', 'i', 'continued', 'to', 'play', 'together', 'it', 'was', 'not', 'long', 'before', 'we', 'connected', 'through', 'our', 'creative', 'pursuit', 'in', 'time', 'i', 'learned', 'to', 'draw', 'inspiration', 'from', 'her', 'instead', 'of', 'feeling', 'pressured', 'to', 'follow', 'whatever', 'precedent', 'i', 'thought', 'she', 'set', 'i', 'found', 'that', 'i', 'grew', 'because', 'of', 'rather', 'than', 'in', 'spite', 'of', 'her', 'presence', 'i', 'could', 'find', 'solace', 'in', 'our', 'similarities', 'and', 'even', 'a', 'sense', 'of', 'comfort', 'in', 'an', 'unfamiliar', 'environment', 'without', 'being', 'trapped', 'by', 'expectation', 'though', 'the', 'pressure', 'to', 'conform', 'was', 'still', 'present—and', 'will', 'likely', 'remain', 'present', 'in', 'my', 'life', 'no', 'matter', 'what', 'genre', \"i'm\", 'playing', 'or', 'what', 'pursuits', 'i', 'engage', 'in—i', 'learned', 'to', 'eschew', 'its', 'corrosive', 'influence', 'and', 'enjoy', 'the', 'rewards', 'that', 'it', 'brings', 'while', 'my', 'encounter', 'with', 'francesca', 'at', 'first', 'sparked', 'a', 'feeling', 'of', 'pressure', 'to', 'conform', 'in', 'a', 'setting', 'where', 'i', 'never', 'thought', 'i', 'would', 'feel', 'its', 'presence', 'it', 'also', 'carried', 'the', 'warmth', 'of', 'finding', 'someone', 'with', 'whom', 'i', 'could', 'connect', 'like', 'the', 'admittedly', 'trite', 'conditions', 'of', 'my', 'hometown', 'the', 'resemblances', 'between', 'us', 'provided', 'comfort', 'to', 'me', 'through', 'their', 'familiarity', 'i', 'ultimately', 'found', 'that', 'i', 'can', 'embrace', 'this', 'warmth', 'while', 'still', 'rejecting', 'the', 'pressure', 'to', 'succumb', 'to', 'expectations', 'and', 'that', 'in', 'the', 'careful', 'balance', 'between', 'these', 'elements', 'i', 'can', 'grow', 'in', 'a', 'way', 'that', 'feels', 'both', 'like', 'discove']"
   ]
  },
  {
   "cell_type": "code",
   "execution_count": 6,
   "metadata": {},
   "outputs": [],
   "source": [
    "confict_words_list_set = {'odds', 'contradictory', 'irreconcilable', 'at odds', 'differ', 'opposing', 'vary', 'in opposition', 'contrast', 'incongruous', 'clash', 'divergent', 'collide', 'variance', 'different', 'clashing', 'inconsistent', 'incompatible', 'diverge', 'discordant', 'contrary', 'contrasting', 'opposition', 'differing', 'varying', 'antithetical', 'opposed', 'at variance', 'opposite', 'disagree', 'discrepant', 'conflict', 'disagreeing'}\n",
    "    "
   ]
  },
  {
   "cell_type": "code",
   "execution_count": 9,
   "metadata": {},
   "outputs": [
    {
     "name": "stdout",
     "output_type": "stream",
     "text": [
      "문장에 들어있는 추출된 conflict 단어들: ['contradictory', 'different']\n"
     ]
    }
   ],
   "source": [
    "count_conflict_list = []\n",
    "\n",
    "for ittm in confict_words_list_set:\n",
    "    if ittm in token_list_str_set:\n",
    "        count_conflict_list.append(ittm)\n",
    "        \n",
    "print('문장에 들어있는 추출된 conflict 단어들:', count_conflict_list)"
   ]
  },
  {
   "cell_type": "code",
   "execution_count": 10,
   "metadata": {},
   "outputs": [
    {
     "data": {
      "text/plain": [
       "['contradictory', 'different']"
      ]
     },
     "execution_count": 10,
     "metadata": {},
     "output_type": "execute_result"
    }
   ],
   "source": [
    "count_conflict_list"
   ]
  },
  {
   "cell_type": "code",
   "execution_count": null,
   "metadata": {},
   "outputs": [],
   "source": []
  }
 ],
 "metadata": {
  "kernelspec": {
   "display_name": "Python 3",
   "language": "python",
   "name": "python3"
  },
  "language_info": {
   "codemirror_mode": {
    "name": "ipython",
    "version": 3
   },
   "file_extension": ".py",
   "mimetype": "text/x-python",
   "name": "python",
   "nbconvert_exporter": "python",
   "pygments_lexer": "ipython3",
   "version": "3.7.9"
  }
 },
 "nbformat": 4,
 "nbformat_minor": 4
}
