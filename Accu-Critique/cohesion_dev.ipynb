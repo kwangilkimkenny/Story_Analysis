{
 "cells": [
  {
   "cell_type": "code",
   "execution_count": 1,
   "id": "alpha-joshua",
   "metadata": {},
   "outputs": [],
   "source": [
    "import re\n"
   ]
  },
  {
   "cell_type": "code",
   "execution_count": 8,
   "id": "decent-arabic",
   "metadata": {},
   "outputs": [],
   "source": [
    "# 데이터 전처리 for Sentence Summery\n",
    "def cleaning(data):\n",
    "    data = data.split(\".\")\n",
    "    \n",
    "    fin_data = []\n",
    "    for data_itm in data:\n",
    "        # 영문자 이외 문자는 공백으로 변환\n",
    "        only_english = re.sub('[^a-zA-Z]', ' ', data_itm)\n",
    "        \n",
    "        lists_re_ = re.sub(r\"^\\s+|\\s+$\", \"\", only_english) # 공백문자 제거\n",
    "        only_english_ = lists_re_.rstrip('\\n')\n",
    "        # 데이터를 리스트에 추가 \n",
    "        fin_data.append(only_english_)\n",
    "        # str 로 만드릭\n",
    "        result = ' '.join(fin_data)\n",
    "    return fin_data\n",
    "\n"
   ]
  },
  {
   "cell_type": "code",
   "execution_count": 9,
   "id": "accepting-traffic",
   "metadata": {},
   "outputs": [],
   "source": [
    "# input College Supp Essay \n",
    "essay_input = \"\"\"I inhale deeply and blow harder than I thought possible, pushing the tiny ember from its resting place on the candle out into the air. The room erupts around me, and 'Happy Birthday!' cheers echo through the halls. It's time to make a wish. In my mind, that new Limited Edition Deluxe Ben 10 watch will soon be mine. My parents and the aunties and uncles around me attempt to point me in a different direction. 'Wish that you get to go to the temple every day when you're older! Wish that you memorize all your Sanskrit texts before you turn 6! Wish that you can live in India after college!' My ears listen, but my mind tunes them out, as nothing could possibly compare to that toy watch! What I never realized on my third birthday is that those wishes quietly tell the story of how my family hopes my life will play out. In this version of my life, there wasn't much room for change, personal growth, or 'rocking the boat.' A vital aspect of my family's cultural background is their focus on accepting things as they are. Growing up, I was discouraged from questioning others or asking questions that didn't have definitive yes or no answers. If I innocently asked my grandma why she expected me to touch her feet, my dad would grab my hand in a sudden swoop, look me sternly in the eye, and tell me not to disrespect her like that again. At home, if I mentioned that I had tried eggs for breakfast at a friend's house, I'd be looked at like I had just committed a felony for eating what my parents considered meat. If I asked the priest at the temple why he had asked an Indian man and his white wife to leave, I'd be met with a condescending glare and told that I should also leave for asking such questions.In direct contrast, my curiosity was invited and encouraged at school. After an environmental science lesson, I stayed for a few minutes after class to ask my 4th-grade science teacher with wide eyes how it was possible that Niagara Falls doesn't run out of flowing water. Instead of scolding me for asking her a 'dumb question,' she smiled and explained the intricacy of the water cycle. Now, if a teacher mentions that we'll learn about why a certain proof or idea works only in a future class, I'll stay after to ask more or pour through an advanced textbook to try to understand it. While my perspective was widening at school, the receptiveness to raising complex questions at home was diminishing. After earning my driver's license, I registered as an organ donor. My small checkmark on a piece of paper led to an intense clash between my and my parents' moral platform. I wanted to ensure that I positively contributed to society, while my parents believed that organ donation was an unfamiliar and unnecessary cultural taboo. I would often ask for clarity or for reasons that supported their ideologies. Their response would usually entail feeling a deep, visceral sense that traditions must be followed exactly as taught, without objection. Told in one language to keep asking questions and in another to ask only the right ones, I chose exploring questions that don't have answers, rather than accepting answers that don't get questioned. When it comes to the maze of learning, even when I take a wrong turn and encounter roadblocks that are meant to stop me, I've learned to climb over them and keep moving forward. My curiosity strengthens with each hurdle and has expanded into a pure love of learning new things. I've become someone who seeks to understand things at a fundamental level and who finds excitement in taking on big questions that have yet to be solved. I'm no longer afraid to rock the boat. \"},{\"index\":1,\"personal_essay\":\"Ever since I first held a small foam Spiderman basketball in my tiny hands and watched my idol Kobe Bryant hit every three-pointer he attempted, I've wanted to understand and replicate his flawless jump shot. As my math education progressed in school, I began to realize I had the tools to create a perfect shot formula. After learning about variables for the first time in 5th grade Algebra, I began to treat each aspect of Kobe's jump shot as a different variable, each combination of variables resulting in a unique solution. While in 7th-grade geometry, I graphed the arc of his shot, and after learning about quadratic equations in 8th grade, I expressed his shot as a parabolic function that would ensure a swish when shooting from any spot. After calculus lessons in 10th and 11th grade, I was excited to finally solve for the perfect velocity and acceleration needed on my release. At Brown, I hope to explore this intellectual pursuit through a different lens. What if I could maximize the odds of making shots if I understood the science behind one's mental mindset and focus through CLPS 500: Perception and Action? Or use astrophysics to account for drag and gravitational force anywhere in the universe? Or use data science to break down the analytics of the NBA's best shooters? Through the Open Curriculum, I see myself not only becoming a more complete learner, but also a more complete thinker, applying a flexible mindset to any problem I encounter. Brown's Open Curriculum allows students to explore broadly while also diving deeply into their academic pursuits. Tell us about an academic interest (or interests) that excites you, and how you might use the Open Curriculum to pursue it. I've been playing the Mridangam since I was five years old. It's a simple instrument: A wood barrel covered on two ends by goatskin with leather straps surrounding the hull. This instrument serves as a connection between me and one of the most beautiful aspects of my culture: Carnatic music. As a young child, I'd be taken to the temple every weekend for three-hour-long Carnatic music concerts, where the most accomplished teenagers and young adults in our local Indian community would perform. I would watch in awe as the mridangists' hands moved gracefully, flowing across the goatskin as if they weren't making contact, while simultaneously producing sharp rhythmic patterns that never failed to fall on the beat. Hoping to be like these idols on the stage, I trained intensely with my teacher, a strict man who taught me that the simple drum I was playing had thousands of years of culture behind it. Building up from simple strokes, I realized that the finger speed I'd had been awestruck by wasn't some magical talent, it was instead a science perfected by repeated practice.\"\"\"\n"
   ]
  },
  {
   "cell_type": "code",
   "execution_count": 11,
   "id": "supreme-court",
   "metadata": {},
   "outputs": [
    {
     "data": {
      "text/plain": [
       "['I inhale deeply and blow harder than I thought possible  pushing the tiny ember from its resting place on the candle out into the air',\n",
       " 'The room erupts around me  and  Happy Birthday   cheers echo through the halls',\n",
       " 'It s time to make a wish',\n",
       " 'In my mind  that new Limited Edition Deluxe Ben    watch will soon be mine',\n",
       " 'My parents and the aunties and uncles around me attempt to point me in a different direction',\n",
       " 'Wish that you get to go to the temple every day when you re older  Wish that you memorize all your Sanskrit texts before you turn    Wish that you can live in India after college   My ears listen  but my mind tunes them out  as nothing could possibly compare to that toy watch  What I never realized on my third birthday is that those wishes quietly tell the story of how my family hopes my life will play out',\n",
       " 'In this version of my life  there wasn t much room for change  personal growth  or  rocking the boat',\n",
       " 'A vital aspect of my family s cultural background is their focus on accepting things as they are',\n",
       " 'Growing up  I was discouraged from questioning others or asking questions that didn t have definitive yes or no answers',\n",
       " 'If I innocently asked my grandma why she expected me to touch her feet  my dad would grab my hand in a sudden swoop  look me sternly in the eye  and tell me not to disrespect her like that again',\n",
       " 'At home  if I mentioned that I had tried eggs for breakfast at a friend s house  I d be looked at like I had just committed a felony for eating what my parents considered meat',\n",
       " 'If I asked the priest at the temple why he had asked an Indian man and his white wife to leave  I d be met with a condescending glare and told that I should also leave for asking such questions',\n",
       " 'In direct contrast  my curiosity was invited and encouraged at school',\n",
       " 'After an environmental science lesson  I stayed for a few minutes after class to ask my  th grade science teacher with wide eyes how it was possible that Niagara Falls doesn t run out of flowing water',\n",
       " 'Instead of scolding me for asking her a  dumb question   she smiled and explained the intricacy of the water cycle',\n",
       " 'Now  if a teacher mentions that we ll learn about why a certain proof or idea works only in a future class  I ll stay after to ask more or pour through an advanced textbook to try to understand it',\n",
       " 'While my perspective was widening at school  the receptiveness to raising complex questions at home was diminishing',\n",
       " 'After earning my driver s license  I registered as an organ donor',\n",
       " 'My small checkmark on a piece of paper led to an intense clash between my and my parents  moral platform',\n",
       " 'I wanted to ensure that I positively contributed to society  while my parents believed that organ donation was an unfamiliar and unnecessary cultural taboo',\n",
       " 'I would often ask for clarity or for reasons that supported their ideologies',\n",
       " 'Their response would usually entail feeling a deep  visceral sense that traditions must be followed exactly as taught  without objection',\n",
       " 'Told in one language to keep asking questions and in another to ask only the right ones  I chose exploring questions that don t have answers  rather than accepting answers that don t get questioned',\n",
       " 'When it comes to the maze of learning  even when I take a wrong turn and encounter roadblocks that are meant to stop me  I ve learned to climb over them and keep moving forward',\n",
       " 'My curiosity strengthens with each hurdle and has expanded into a pure love of learning new things',\n",
       " 'I ve become someone who seeks to understand things at a fundamental level and who finds excitement in taking on big questions that have yet to be solved',\n",
       " 'I m no longer afraid to rock the boat',\n",
       " 'index     personal essay   Ever since I first held a small foam Spiderman basketball in my tiny hands and watched my idol Kobe Bryant hit every three pointer he attempted  I ve wanted to understand and replicate his flawless jump shot',\n",
       " 'As my math education progressed in school  I began to realize I had the tools to create a perfect shot formula',\n",
       " 'After learning about variables for the first time in  th grade Algebra  I began to treat each aspect of Kobe s jump shot as a different variable  each combination of variables resulting in a unique solution',\n",
       " 'While in  th grade geometry  I graphed the arc of his shot  and after learning about quadratic equations in  th grade  I expressed his shot as a parabolic function that would ensure a swish when shooting from any spot',\n",
       " 'After calculus lessons in   th and   th grade  I was excited to finally solve for the perfect velocity and acceleration needed on my release',\n",
       " 'At Brown  I hope to explore this intellectual pursuit through a different lens',\n",
       " 'What if I could maximize the odds of making shots if I understood the science behind one s mental mindset and focus through CLPS      Perception and Action  Or use astrophysics to account for drag and gravitational force anywhere in the universe  Or use data science to break down the analytics of the NBA s best shooters  Through the Open Curriculum  I see myself not only becoming a more complete learner  but also a more complete thinker  applying a flexible mindset to any problem I encounter',\n",
       " 'Brown s Open Curriculum allows students to explore broadly while also diving deeply into their academic pursuits',\n",
       " 'Tell us about an academic interest  or interests  that excites you  and how you might use the Open Curriculum to pursue it',\n",
       " 'I ve been playing the Mridangam since I was five years old',\n",
       " 'It s a simple instrument  A wood barrel covered on two ends by goatskin with leather straps surrounding the hull',\n",
       " 'This instrument serves as a connection between me and one of the most beautiful aspects of my culture  Carnatic music',\n",
       " 'As a young child  I d be taken to the temple every weekend for three hour long Carnatic music concerts  where the most accomplished teenagers and young adults in our local Indian community would perform',\n",
       " 'I would watch in awe as the mridangists  hands moved gracefully  flowing across the goatskin as if they weren t making contact  while simultaneously producing sharp rhythmic patterns that never failed to fall on the beat',\n",
       " 'Hoping to be like these idols on the stage  I trained intensely with my teacher  a strict man who taught me that the simple drum I was playing had thousands of years of culture behind it',\n",
       " 'Building up from simple strokes  I realized that the finger speed I d had been awestruck by wasn t some magical talent  it was instead a science perfected by repeated practice',\n",
       " '']"
      ]
     },
     "execution_count": 11,
     "metadata": {},
     "output_type": "execute_result"
    }
   ],
   "source": [
    "docs = cleaning(essay_input)\n",
    "docs"
   ]
  },
  {
   "cell_type": "code",
   "execution_count": 32,
   "id": "sharp-marketplace",
   "metadata": {},
   "outputs": [],
   "source": [
    "from collections import defaultdict\n",
    "\n",
    "import pandas as pd\n",
    "\n",
    "def get_context_counts(lines, w_size=2):\n",
    "    co_dict = defaultdict(int)\n",
    "    \n",
    "    for line in lines:\n",
    "        words = line.split()\n",
    "        \n",
    "        for i, w in enumerate(words):\n",
    "            for c in words[i - w_size: i + w_size]:\n",
    "                if w != c:\n",
    "                    co_dict[(w, c)] += 1\n",
    "    return pd.Series(co_dict)\n",
    "\n"
   ]
  },
  {
   "cell_type": "code",
   "execution_count": 33,
   "id": "joint-nightlife",
   "metadata": {},
   "outputs": [],
   "source": [
    "def co_occurrence(co_dict, vocab):\n",
    "    data = []\n",
    "    for word1 in vocab:\n",
    "        row = []\n",
    "        for word2 in vacab:\n",
    "            try:\n",
    "                count = co_dict[(word1, word2)]\n",
    "            except KeyError:\n",
    "                count = 0\n",
    "            row.append(count)\n",
    "        data.append(row)\n",
    "    return pd.DataFrame(data, index=vocab, columns=vocab)"
   ]
  },
  {
   "cell_type": "code",
   "execution_count": 34,
   "id": "boolean-power",
   "metadata": {},
   "outputs": [
    {
     "data": {
      "text/plain": [
       "deeply    I            1\n",
       "          inhale       1\n",
       "          and          1\n",
       "and       inhale       1\n",
       "          deeply       1\n",
       "                      ..\n",
       "repeated  perfected    1\n",
       "          by           1\n",
       "          practice     1\n",
       "practice  by           1\n",
       "          repeated     1\n",
       "Length: 2877, dtype: int64"
      ]
     },
     "execution_count": 34,
     "metadata": {},
     "output_type": "execute_result"
    }
   ],
   "source": [
    "get_cxt_cnt = get_context_counts(docs, w_size=2)\n",
    "get_cxt_cnt"
   ]
  },
  {
   "cell_type": "code",
   "execution_count": null,
   "id": "cognitive-deputy",
   "metadata": {},
   "outputs": [],
   "source": []
  },
  {
   "cell_type": "code",
   "execution_count": null,
   "id": "flexible-witness",
   "metadata": {},
   "outputs": [],
   "source": []
  },
  {
   "cell_type": "code",
   "execution_count": 24,
   "id": "imported-invasion",
   "metadata": {},
   "outputs": [],
   "source": []
  },
  {
   "cell_type": "code",
   "execution_count": 28,
   "id": "southwest-swiss",
   "metadata": {},
   "outputs": [
    {
     "ename": "TypeError",
     "evalue": "'int' object is not subscriptable",
     "output_type": "error",
     "traceback": [
      "\u001b[0;31m---------------------------------------------------------------------------\u001b[0m",
      "\u001b[0;31mTypeError\u001b[0m                                 Traceback (most recent call last)",
      "\u001b[0;32m<ipython-input-28-36ddc8e19590>\u001b[0m in \u001b[0;36m<module>\u001b[0;34m\u001b[0m\n\u001b[0;32m----> 1\u001b[0;31m \u001b[0mcohesion_result\u001b[0m \u001b[0;34m=\u001b[0m \u001b[0mcohesion\u001b[0m\u001b[0;34m(\u001b[0m\u001b[0;36m10\u001b[0m\u001b[0;34m)\u001b[0m\u001b[0;34m\u001b[0m\u001b[0;34m\u001b[0m\u001b[0m\n\u001b[0m\u001b[1;32m      2\u001b[0m \u001b[0mcohesion_result\u001b[0m\u001b[0;34m\u001b[0m\u001b[0;34m\u001b[0m\u001b[0m\n",
      "\u001b[0;32m<ipython-input-24-8c4364ae1470>\u001b[0m in \u001b[0;36mcohesion\u001b[0;34m(w)\u001b[0m\n\u001b[1;32m      1\u001b[0m \u001b[0;32mdef\u001b[0m \u001b[0mcohesion\u001b[0m\u001b[0;34m(\u001b[0m\u001b[0mw\u001b[0m\u001b[0;34m)\u001b[0m\u001b[0;34m:\u001b[0m\u001b[0;34m\u001b[0m\u001b[0;34m\u001b[0m\u001b[0m\n\u001b[0;32m----> 2\u001b[0;31m     \u001b[0;32mreturn\u001b[0m \u001b[0mpow\u001b[0m\u001b[0;34m(\u001b[0m\u001b[0mcount\u001b[0m\u001b[0;34m[\u001b[0m\u001b[0mw\u001b[0m\u001b[0;34m]\u001b[0m\u001b[0;34m/\u001b[0m\u001b[0mcount\u001b[0m\u001b[0;34m[\u001b[0m\u001b[0mw\u001b[0m\u001b[0;34m[\u001b[0m\u001b[0;36m0\u001b[0m\u001b[0;34m]\u001b[0m\u001b[0;34m]\u001b[0m\u001b[0;34m,\u001b[0m \u001b[0;36m1\u001b[0m\u001b[0;34m/\u001b[0m\u001b[0;34m(\u001b[0m\u001b[0mlen\u001b[0m\u001b[0;34m(\u001b[0m\u001b[0mw\u001b[0m\u001b[0;34m)\u001b[0m\u001b[0;34m-\u001b[0m\u001b[0;36m1\u001b[0m\u001b[0;34m)\u001b[0m\u001b[0;34m)\u001b[0m\u001b[0;34m\u001b[0m\u001b[0;34m\u001b[0m\u001b[0m\n\u001b[0m",
      "\u001b[0;31mTypeError\u001b[0m: 'int' object is not subscriptable"
     ]
    }
   ],
   "source": []
  },
  {
   "cell_type": "code",
   "execution_count": null,
   "id": "seventh-witch",
   "metadata": {},
   "outputs": [],
   "source": []
  },
  {
   "cell_type": "code",
   "execution_count": null,
   "id": "bigger-ukraine",
   "metadata": {},
   "outputs": [],
   "source": []
  },
  {
   "cell_type": "code",
   "execution_count": null,
   "id": "future-witch",
   "metadata": {},
   "outputs": [],
   "source": []
  }
 ],
 "metadata": {
  "kernelspec": {
   "display_name": "Python 3",
   "language": "python",
   "name": "python3"
  },
  "language_info": {
   "codemirror_mode": {
    "name": "ipython",
    "version": 3
   },
   "file_extension": ".py",
   "mimetype": "text/x-python",
   "name": "python",
   "nbconvert_exporter": "python",
   "pygments_lexer": "ipython3",
   "version": "3.7.9"
  }
 },
 "nbformat": 4,
 "nbformat_minor": 5
}
