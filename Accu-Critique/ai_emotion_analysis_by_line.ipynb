{
 "cells": [
  {
   "cell_type": "code",
   "execution_count": 3,
   "metadata": {},
   "outputs": [
    {
     "name": "stderr",
     "output_type": "stream",
     "text": [
      "[nltk_data] Downloading package stopwords to\n",
      "[nltk_data]     /Users/kimkwangil/nltk_data...\n",
      "[nltk_data]   Package stopwords is already up-to-date!\n"
     ]
    }
   ],
   "source": [
    "#입력한 문단을 .을 기준으로 구분(개별문장 구분)후 감성분석한다.\n",
    "#분석결과중 neutral을 제외하고 가장 높은 점수를 얻은 대표감성을 산출하고\n",
    "#최종결과로 문장과 대표감성만을 추출하여 리턴하는 함수\n",
    "\n",
    "#관련: accu-critique\n",
    "\n",
    "\n",
    "from transformers import BertTokenizer\n",
    "from model import BertForMultiLabelClassification\n",
    "from multilabel_pipeline import MultiLabelPipeline\n",
    "\n",
    "# from essayai.ai_plot.model import BertForMultiLabelClassification\n",
    "# from essayai.ai_plot.multilabel_pipeline import MultiLabelPipeline\n",
    "\n",
    "# from essayai.ai_emotion.model import BertForMultiLabelClassification\n",
    "# from essayai.ai_emotion.multilabel_pipeline import MultiLabelPipeline\n",
    "import pandas as pd\n",
    "import re\n",
    "import nltk\n",
    "nltk.download('stopwords')\n",
    "from nltk.corpus import stopwords\n",
    "import numpy as np\n",
    "\n",
    "import operator\n",
    "\n",
    "tokenizer = BertTokenizer.from_pretrained(\"monologg/bert-base-cased-goemotions-ekman\")\n",
    "model = BertForMultiLabelClassification.from_pretrained(\"monologg/bert-base-cased-goemotions-ekman\")\n",
    "\n",
    "goemotions = MultiLabelPipeline(\n",
    "    model=model,\n",
    "    tokenizer=tokenizer,\n",
    "    threshold=0.3\n",
    ")"
   ]
  },
  {
   "cell_type": "code",
   "execution_count": 4,
   "metadata": {},
   "outputs": [],
   "source": [
    "#데이터 전처리 \n",
    "def cleaning(datas):\n",
    "\n",
    "    fin_datas = []\n",
    "\n",
    "    for data in datas:\n",
    "        # 영문자 이외 문자는 공백으로 변환\n",
    "        only_english = re.sub('[^a-zA-Z]', ' ', data)\n",
    "    \n",
    "        # 데이터를 리스트에 추가 \n",
    "        fin_datas.append(only_english)\n",
    "\n",
    "    return fin_datas"
   ]
  },
  {
   "cell_type": "code",
   "execution_count": 5,
   "metadata": {},
   "outputs": [],
   "source": [
    "def get_ai_emotion(input_text) :\n",
    "    \n",
    "    joy = 0\n",
    "    anger = 0\n",
    "    sadness = 0\n",
    "    surprise = 0\n",
    "    fear = 0\n",
    "    neutral = 0\n",
    "    \n",
    "    list_max = []\n",
    "    \n",
    "    try : \n",
    "        \n",
    "        re_text = input_text.split(\".\")\n",
    "        texts = cleaning(re_text)\n",
    "        print(\"전처리 결과\", texts)\n",
    "        re_emot =  goemotions(texts)  ####### 감정 계산하는 부분 \n",
    "        \n",
    "        \n",
    "        df = pd.DataFrame(re_emot)\n",
    "\n",
    "        #결과물을 다시 감정유형별 비율로 계산하여 새로운 데이터프레임을 만들자!\n",
    "        # result_emotion = df['labels'].value_counts(normalize=True, sort=True, ascending=False, dropna=True) #문장 전체에서 각 값의 상대적 비율을 게산\n",
    "        result_emotion = df['labels'].value_counts(normalize=True) #문장 전체에서 각 값의 상대적 비율을 게산\n",
    "        #print(\"index\", result_emotion.index[0][0])\n",
    "\n",
    "\n",
    "        result_emotion_list = result_emotion.tolist()\n",
    "        \n",
    "\n",
    "        \n",
    "        idx=0\n",
    "        \n",
    "        for  idx  in range(len(result_emotion)) : \n",
    "                \n",
    "                \n",
    "                if  'joy' in result_emotion.index[idx][0]: \n",
    "                    joy += round(float(result_emotion_list[idx]),2)\n",
    "                    print(\"joy >>>>>>>>>>>>>>>>:\", joy)\n",
    "                    \n",
    "                    \n",
    "                elif 'anger' in result_emotion.index[idx][0]:\n",
    "                    anger += round(float(result_emotion_list[idx]),2)\n",
    "                    print(\"anger >>>>>>>>>>>>>>>>:\", anger)\n",
    "                    \n",
    "                    \n",
    "\n",
    "                elif 'sadness' in  result_emotion.index[idx][0]:\n",
    "                    sadness += round(float(result_emotion_list[idx]),2)\n",
    "                    print(\"sadness >>>>>>>>>>>>>>>>:\", sadness)\n",
    "\n",
    "                    \n",
    "\n",
    "                elif 'surprise' in result_emotion.index[idx][0]:\n",
    "                    surprise += round(float(result_emotion_list[idx]),2)\n",
    "                    print(\"surprise >>>>>>>>>>>>>>>>:\", surprise)\n",
    "\n",
    "                    \n",
    "\n",
    "                elif 'fear' in result_emotion.index[idx][0]:\n",
    "                    fear += round(float(result_emotion_list[idx]),2)\n",
    "                    print(\"fear >>>>>>>>>>>>>>>>:\", fear)\n",
    "\n",
    "                    \n",
    "\n",
    "                elif 'neutral' in result_emotion.index[idx][0]:\n",
    "                    neutral += round(float(result_emotion_list[idx]),2)\n",
    "                    print(\"neutral >>>>>>>>>>>>>>>>:\", neutral)\n",
    "\n",
    "                    \n",
    "\n",
    "                idx = idx + 1\n",
    "        \n",
    "        \n",
    "            \n",
    "        list_max = [joy,anger,sadness,surprise,fear,neutral]\n",
    "    \n",
    "        # print(\"max:\",list_max.index(max(list_max))) \n",
    "        \n",
    "        \n",
    "        \n",
    "    except Exception as e : \n",
    "        print (\"------------------------->error:\",e)\n",
    "    \n",
    "    try : \n",
    "       max_value = list_max.index(max(list_max))+1 \n",
    "    \n",
    "    except Exception as e :\n",
    "        max_value = 2 \n",
    "        print(\"Exception_-------->\",e)\n",
    "            \n",
    "    #딕셔너리로 결과 추출\n",
    "    data = {\n",
    "        \"joy\" : joy,\n",
    "        \"anger\" : anger,\n",
    "        \"sadness\" : sadness,\n",
    "        \"surprise\" : surprise,\n",
    "        \"fear\" : fear,\n",
    "        #\"neutral\" : neutral,\n",
    "        #\"max\": max_value\n",
    "    }\n",
    "    \n",
    "    #가장 높은 값 추출\n",
    "    data_values = sorted(data.items(), key=operator.itemgetter(1))\n",
    "    print(\"dtype: \", type(data_values)) #list\n",
    "    print(\"data_vlaues: \", data_values)\n",
    "    return re_text, data_values[4]  #리스트의 마지막 값이 가장 높은 점수를 받은 대표 감성\n",
    "    "
   ]
  },
  {
   "cell_type": "markdown",
   "metadata": {},
   "source": [
    "text = \"\"\" Tom was in love with Cyndi.She loved Tom too because \n",
    "he was so nice and kind.\"\"\"\n",
    "print(\">>>>>>>>>>>>>>>>>>>>>>>>>>>>>>>>\",get_ai_emotion(text))\n"
   ]
  },
  {
   "cell_type": "code",
   "execution_count": 6,
   "metadata": {},
   "outputs": [],
   "source": [
    "text = \"\"\" Tom was in love with Cyndi. He really loved her dearly. She loved Tom too because \n",
    "he was so nice and kind. They would walk in the peaceful park gazing at the bright pink cherry \n",
    "blossom that colored the crisp spring air. Then they got into a big fight. Tom began to hate \n",
    "Cyndi's guts. Cyndi cheated on Tom and she began to ignore Tom. He eventually became furious. \n",
    "Back at their house, Tom began to slap Cyndi and she was crying miserably. However, the sun \n",
    "shined upon them when they won the lotto. Both of them were ecstatic and overjoyed with happiness. \n",
    "They where so happy that they jumped around in celebration. Nonetheless, the happiness never\n",
    "lasted too long. Cyndi began to cheat on Tom again and they went bankrupt very quickly. Fights \n",
    "and quarrels continued in the old torn smelly apartment. It really sucked for both of them. \n",
    "Extreme sadness came over them. But then Cyndi bought another lotto and she won again. \n",
    "This time, it was even more money and they were extremely excited. To celebrate the second winning,\n",
    "then went to a casino and began gambling. They were overly excited because they won money at the \n",
    "fancy casino too. Nevertheless, Tom had too much drink and died. Cyndi was so sad. Didn't know \n",
    "what to do and weeped in despair. \"\"\"\n",
    "#print(\">>>>>>>>>>>>>>>>>>>>>>>>>>>>>>>>\",get_ai_emotion(text))\n"
   ]
  },
  {
   "cell_type": "code",
   "execution_count": 7,
   "metadata": {},
   "outputs": [],
   "source": [
    "def splitParagraphIntoSentences(paragraph):\n",
    "  import re\n",
    "  sentenceEnders = re.compile(r\"\"\"\n",
    "      # Split sentences on whitespace between them.\n",
    "      (?:               # Group for two positive lookbehinds.\n",
    "        (?<=[.!?])      # Either an end of sentence punct,\n",
    "      | (?<=[.!?]['\"])  # or end of sentence punct and quote.\n",
    "      )                 # End group of two positive lookbehinds.\n",
    "      (?<!  Mr\\.   )    # Don't end sentence on \"Mr.\"\n",
    "      (?<!  Mrs\\.  )    # Don't end sentence on \"Mrs.\"\n",
    "      (?<!  Jr\\.   )    # Don't end sentence on \"Jr.\"\n",
    "      (?<!  Dr\\.   )    # Don't end sentence on \"Dr.\"\n",
    "      (?<!  Prof\\. )    # Don't end sentence on \"Prof.\"\n",
    "      (?<!  Sr\\.   )    # Don't end sentence on \"Sr.\".\"\n",
    "    \\s+               # Split on whitespace between sentences.\n",
    "    \"\"\", \n",
    "    re.IGNORECASE | re.VERBOSE)\n",
    "  sentenceList = sentenceEnders.split(paragraph)\n",
    "  return sentenceList"
   ]
  },
  {
   "cell_type": "code",
   "execution_count": 8,
   "metadata": {},
   "outputs": [
    {
     "data": {
      "text/plain": [
       "[' Tom was in love with Cyndi.',\n",
       " 'He really loved her dearly.',\n",
       " 'She loved Tom too because \\nhe was so nice and kind.',\n",
       " 'They would walk in the peaceful park gazing at the bright pink cherry \\nblossom that colored the crisp spring air.',\n",
       " 'Then they got into a big fight.',\n",
       " \"Tom began to hate \\nCyndi's guts.\",\n",
       " 'Cyndi cheated on Tom and she began to ignore Tom.',\n",
       " 'He eventually became furious.',\n",
       " 'Back at their house, Tom began to slap Cyndi and she was crying miserably.',\n",
       " 'However, the sun \\nshined upon them when they won the lotto.',\n",
       " 'Both of them were ecstatic and overjoyed with happiness.',\n",
       " 'They where so happy that they jumped around in celebration.',\n",
       " 'Nonetheless, the happiness never\\nlasted too long.',\n",
       " 'Cyndi began to cheat on Tom again and they went bankrupt very quickly.',\n",
       " 'Fights \\nand quarrels continued in the old torn smelly apartment.',\n",
       " 'It really sucked for both of them.',\n",
       " 'Extreme sadness came over them.',\n",
       " 'But then Cyndi bought another lotto and she won again.',\n",
       " 'This time, it was even more money and they were extremely excited.',\n",
       " 'To celebrate the second winning,\\nthen went to a casino and began gambling.',\n",
       " 'They were overly excited because they won money at the \\nfancy casino too.',\n",
       " 'Nevertheless, Tom had too much drink and died.',\n",
       " 'Cyndi was so sad.',\n",
       " \"Didn't know \\nwhat to do and weeped in despair.\",\n",
       " '']"
      ]
     },
     "execution_count": 8,
     "metadata": {},
     "output_type": "execute_result"
    }
   ],
   "source": [
    "text_split_sentence = splitParagraphIntoSentences(text)\n",
    "text_split_sentence"
   ]
  },
  {
   "cell_type": "code",
   "execution_count": 9,
   "metadata": {},
   "outputs": [
    {
     "name": "stdout",
     "output_type": "stream",
     "text": [
      "전처리 결과 [' Tom was in love with Cyndi', '']\n",
      "joy >>>>>>>>>>>>>>>>: 0.5\n",
      "neutral >>>>>>>>>>>>>>>>: 0.5\n",
      "dtype:  <class 'list'>\n",
      "data_vlaues:  [('anger', 0), ('sadness', 0), ('surprise', 0), ('fear', 0), ('joy', 0.5)]\n",
      "전처리 결과 ['He really loved her dearly', '']\n",
      "joy >>>>>>>>>>>>>>>>: 0.5\n",
      "neutral >>>>>>>>>>>>>>>>: 0.5\n",
      "dtype:  <class 'list'>\n",
      "data_vlaues:  [('anger', 0), ('sadness', 0), ('surprise', 0), ('fear', 0), ('joy', 0.5)]\n",
      "전처리 결과 ['She loved Tom too because  he was so nice and kind', '']\n",
      "joy >>>>>>>>>>>>>>>>: 0.5\n",
      "neutral >>>>>>>>>>>>>>>>: 0.5\n",
      "dtype:  <class 'list'>\n",
      "data_vlaues:  [('anger', 0), ('sadness', 0), ('surprise', 0), ('fear', 0), ('joy', 0.5)]\n",
      "전처리 결과 ['They would walk in the peaceful park gazing at the bright pink cherry  blossom that colored the crisp spring air', '']\n",
      "joy >>>>>>>>>>>>>>>>: 0.5\n",
      "neutral >>>>>>>>>>>>>>>>: 0.5\n",
      "dtype:  <class 'list'>\n",
      "data_vlaues:  [('anger', 0), ('sadness', 0), ('surprise', 0), ('fear', 0), ('joy', 0.5)]\n",
      "전처리 결과 ['Then they got into a big fight', '']\n",
      "neutral >>>>>>>>>>>>>>>>: 1.0\n",
      "dtype:  <class 'list'>\n",
      "data_vlaues:  [('joy', 0), ('anger', 0), ('sadness', 0), ('surprise', 0), ('fear', 0)]\n",
      "전처리 결과 ['Tom began to hate  Cyndi s guts', '']\n",
      "anger >>>>>>>>>>>>>>>>: 0.5\n",
      "neutral >>>>>>>>>>>>>>>>: 0.5\n",
      "dtype:  <class 'list'>\n",
      "data_vlaues:  [('joy', 0), ('sadness', 0), ('surprise', 0), ('fear', 0), ('anger', 0.5)]\n",
      "전처리 결과 ['Cyndi cheated on Tom and she began to ignore Tom', '']\n",
      "neutral >>>>>>>>>>>>>>>>: 1.0\n",
      "dtype:  <class 'list'>\n",
      "data_vlaues:  [('joy', 0), ('anger', 0), ('sadness', 0), ('surprise', 0), ('fear', 0)]\n",
      "전처리 결과 ['He eventually became furious', '']\n",
      "neutral >>>>>>>>>>>>>>>>: 1.0\n",
      "dtype:  <class 'list'>\n",
      "data_vlaues:  [('joy', 0), ('anger', 0), ('sadness', 0), ('surprise', 0), ('fear', 0)]\n",
      "전처리 결과 ['Back at their house  Tom began to slap Cyndi and she was crying miserably', '']\n",
      "neutral >>>>>>>>>>>>>>>>: 1.0\n",
      "dtype:  <class 'list'>\n",
      "data_vlaues:  [('joy', 0), ('anger', 0), ('sadness', 0), ('surprise', 0), ('fear', 0)]\n",
      "전처리 결과 ['However  the sun  shined upon them when they won the lotto', '']\n",
      "neutral >>>>>>>>>>>>>>>>: 1.0\n",
      "dtype:  <class 'list'>\n",
      "data_vlaues:  [('joy', 0), ('anger', 0), ('sadness', 0), ('surprise', 0), ('fear', 0)]\n",
      "전처리 결과 ['Both of them were ecstatic and overjoyed with happiness', '']\n",
      "joy >>>>>>>>>>>>>>>>: 0.5\n",
      "neutral >>>>>>>>>>>>>>>>: 0.5\n",
      "dtype:  <class 'list'>\n",
      "data_vlaues:  [('anger', 0), ('sadness', 0), ('surprise', 0), ('fear', 0), ('joy', 0.5)]\n",
      "전처리 결과 ['They where so happy that they jumped around in celebration', '']\n",
      "joy >>>>>>>>>>>>>>>>: 0.5\n",
      "neutral >>>>>>>>>>>>>>>>: 0.5\n",
      "dtype:  <class 'list'>\n",
      "data_vlaues:  [('anger', 0), ('sadness', 0), ('surprise', 0), ('fear', 0), ('joy', 0.5)]\n",
      "전처리 결과 ['Nonetheless  the happiness never lasted too long', '']\n",
      "neutral >>>>>>>>>>>>>>>>: 0.5\n",
      "neutral >>>>>>>>>>>>>>>>: 1.0\n",
      "dtype:  <class 'list'>\n",
      "data_vlaues:  [('joy', 0), ('anger', 0), ('sadness', 0), ('surprise', 0), ('fear', 0)]\n",
      "전처리 결과 ['Cyndi began to cheat on Tom again and they went bankrupt very quickly', '']\n",
      "neutral >>>>>>>>>>>>>>>>: 1.0\n",
      "dtype:  <class 'list'>\n",
      "data_vlaues:  [('joy', 0), ('anger', 0), ('sadness', 0), ('surprise', 0), ('fear', 0)]\n",
      "전처리 결과 ['Fights  and quarrels continued in the old torn smelly apartment', '']\n",
      "neutral >>>>>>>>>>>>>>>>: 1.0\n",
      "dtype:  <class 'list'>\n",
      "data_vlaues:  [('joy', 0), ('anger', 0), ('sadness', 0), ('surprise', 0), ('fear', 0)]\n",
      "전처리 결과 ['It really sucked for both of them', '']\n",
      "anger >>>>>>>>>>>>>>>>: 0.5\n",
      "neutral >>>>>>>>>>>>>>>>: 0.5\n",
      "dtype:  <class 'list'>\n",
      "data_vlaues:  [('joy', 0), ('sadness', 0), ('surprise', 0), ('fear', 0), ('anger', 0.5)]\n",
      "전처리 결과 ['Extreme sadness came over them', '']\n",
      "sadness >>>>>>>>>>>>>>>>: 0.5\n",
      "neutral >>>>>>>>>>>>>>>>: 0.5\n",
      "dtype:  <class 'list'>\n",
      "data_vlaues:  [('joy', 0), ('anger', 0), ('surprise', 0), ('fear', 0), ('sadness', 0.5)]\n",
      "전처리 결과 ['But then Cyndi bought another lotto and she won again', '']\n",
      "neutral >>>>>>>>>>>>>>>>: 1.0\n",
      "dtype:  <class 'list'>\n",
      "data_vlaues:  [('joy', 0), ('anger', 0), ('sadness', 0), ('surprise', 0), ('fear', 0)]\n",
      "전처리 결과 ['This time  it was even more money and they were extremely excited', '']\n",
      "joy >>>>>>>>>>>>>>>>: 0.5\n",
      "neutral >>>>>>>>>>>>>>>>: 0.5\n",
      "dtype:  <class 'list'>\n",
      "data_vlaues:  [('anger', 0), ('sadness', 0), ('surprise', 0), ('fear', 0), ('joy', 0.5)]\n",
      "전처리 결과 ['To celebrate the second winning  then went to a casino and began gambling', '']\n",
      "joy >>>>>>>>>>>>>>>>: 0.5\n",
      "neutral >>>>>>>>>>>>>>>>: 0.5\n",
      "dtype:  <class 'list'>\n",
      "data_vlaues:  [('anger', 0), ('sadness', 0), ('surprise', 0), ('fear', 0), ('joy', 0.5)]\n",
      "전처리 결과 ['They were overly excited because they won money at the  fancy casino too', '']\n",
      "joy >>>>>>>>>>>>>>>>: 0.5\n",
      "neutral >>>>>>>>>>>>>>>>: 0.5\n",
      "dtype:  <class 'list'>\n",
      "data_vlaues:  [('anger', 0), ('sadness', 0), ('surprise', 0), ('fear', 0), ('joy', 0.5)]\n",
      "전처리 결과 ['Nevertheless  Tom had too much drink and died', '']\n",
      "neutral >>>>>>>>>>>>>>>>: 0.5\n",
      "neutral >>>>>>>>>>>>>>>>: 1.0\n",
      "dtype:  <class 'list'>\n",
      "data_vlaues:  [('joy', 0), ('anger', 0), ('sadness', 0), ('surprise', 0), ('fear', 0)]\n",
      "전처리 결과 ['Cyndi was so sad', '']\n",
      "sadness >>>>>>>>>>>>>>>>: 0.5\n",
      "neutral >>>>>>>>>>>>>>>>: 0.5\n",
      "dtype:  <class 'list'>\n",
      "data_vlaues:  [('joy', 0), ('anger', 0), ('surprise', 0), ('fear', 0), ('sadness', 0.5)]\n",
      "전처리 결과 ['Didn t know  what to do and weeped in despair', '']\n",
      "sadness >>>>>>>>>>>>>>>>: 0.5\n",
      "neutral >>>>>>>>>>>>>>>>: 0.5\n",
      "dtype:  <class 'list'>\n",
      "data_vlaues:  [('joy', 0), ('anger', 0), ('surprise', 0), ('fear', 0), ('sadness', 0.5)]\n",
      "전처리 결과 ['']\n",
      "neutral >>>>>>>>>>>>>>>>: 1.0\n",
      "dtype:  <class 'list'>\n",
      "data_vlaues:  [('joy', 0), ('anger', 0), ('sadness', 0), ('surprise', 0), ('fear', 0)]\n"
     ]
    }
   ],
   "source": [
    "result_all_emo_sent = []\n",
    "for line_ in text_split_sentence:\n",
    "    emo_analy_sentence = get_ai_emotion(line_)\n",
    "    result_all_emo_sent.append(emo_analy_sentence)"
   ]
  },
  {
   "cell_type": "code",
   "execution_count": 10,
   "metadata": {},
   "outputs": [
    {
     "data": {
      "text/plain": [
       "[([' Tom was in love with Cyndi', ''], ('joy', 0.5)),\n",
       " (['He really loved her dearly', ''], ('joy', 0.5)),\n",
       " (['She loved Tom too because \\nhe was so nice and kind', ''], ('joy', 0.5))]"
      ]
     },
     "execution_count": 10,
     "metadata": {},
     "output_type": "execute_result"
    }
   ],
   "source": [
    "result_all_emo_sent[:3]"
   ]
  },
  {
   "cell_type": "code",
   "execution_count": 11,
   "metadata": {},
   "outputs": [
    {
     "data": {
      "text/plain": [
       "25"
      ]
     },
     "execution_count": 11,
     "metadata": {},
     "output_type": "execute_result"
    }
   ],
   "source": [
    "len(result_all_emo_sent)"
   ]
  },
  {
   "cell_type": "code",
   "execution_count": 12,
   "metadata": {},
   "outputs": [
    {
     "data": {
      "text/plain": [
       "' Tom was in love with Cyndi'"
      ]
     },
     "execution_count": 12,
     "metadata": {},
     "output_type": "execute_result"
    }
   ],
   "source": [
    "[x[0] for x in result_all_emo_sent][0][0]"
   ]
  },
  {
   "cell_type": "code",
   "execution_count": 13,
   "metadata": {},
   "outputs": [
    {
     "data": {
      "text/plain": [
       "'He really loved her dearly'"
      ]
     },
     "execution_count": 13,
     "metadata": {},
     "output_type": "execute_result"
    }
   ],
   "source": [
    "[x[0] for x in result_all_emo_sent][1][0]"
   ]
  },
  {
   "cell_type": "code",
   "execution_count": 14,
   "metadata": {},
   "outputs": [
    {
     "data": {
      "text/plain": [
       "'joy'"
      ]
     },
     "execution_count": 14,
     "metadata": {},
     "output_type": "execute_result"
    }
   ],
   "source": [
    "[x[1] for x in result_all_emo_sent][0][0]"
   ]
  },
  {
   "cell_type": "code",
   "execution_count": 15,
   "metadata": {},
   "outputs": [
    {
     "data": {
      "text/plain": [
       "'joy'"
      ]
     },
     "execution_count": 15,
     "metadata": {},
     "output_type": "execute_result"
    }
   ],
   "source": [
    "[x[1] for x in result_all_emo_sent][1][0]"
   ]
  },
  {
   "cell_type": "code",
   "execution_count": 16,
   "metadata": {},
   "outputs": [],
   "source": [
    "#문장을 하나씩 분석하여 감성정보를 분석 후 각 값을 매칭시킴\n",
    "#결과값은 딕셔너리로 {문장 : 감성분석결과}\n",
    "get_sentences = {}\n",
    "cnt = 0\n",
    "for cnt in range(0, len(result_all_emo_sent)):\n",
    "    s_ = [x[0] for x in result_all_emo_sent][cnt][0]\n",
    "    e_ = [x[1] for x in result_all_emo_sent][cnt][0]\n",
    "    get_sentences[s_] = e_\n",
    "    cnt += 1"
   ]
  },
  {
   "cell_type": "code",
   "execution_count": 17,
   "metadata": {},
   "outputs": [
    {
     "data": {
      "text/plain": [
       "{' Tom was in love with Cyndi': 'joy',\n",
       " 'He really loved her dearly': 'joy',\n",
       " 'She loved Tom too because \\nhe was so nice and kind': 'joy',\n",
       " 'They would walk in the peaceful park gazing at the bright pink cherry \\nblossom that colored the crisp spring air': 'joy',\n",
       " 'Then they got into a big fight': 'fear',\n",
       " \"Tom began to hate \\nCyndi's guts\": 'anger',\n",
       " 'Cyndi cheated on Tom and she began to ignore Tom': 'fear',\n",
       " 'He eventually became furious': 'fear',\n",
       " 'Back at their house, Tom began to slap Cyndi and she was crying miserably': 'fear',\n",
       " 'However, the sun \\nshined upon them when they won the lotto': 'fear',\n",
       " 'Both of them were ecstatic and overjoyed with happiness': 'joy',\n",
       " 'They where so happy that they jumped around in celebration': 'joy',\n",
       " 'Nonetheless, the happiness never\\nlasted too long': 'fear',\n",
       " 'Cyndi began to cheat on Tom again and they went bankrupt very quickly': 'fear',\n",
       " 'Fights \\nand quarrels continued in the old torn smelly apartment': 'fear',\n",
       " 'It really sucked for both of them': 'anger',\n",
       " 'Extreme sadness came over them': 'sadness',\n",
       " 'But then Cyndi bought another lotto and she won again': 'fear',\n",
       " 'This time, it was even more money and they were extremely excited': 'joy',\n",
       " 'To celebrate the second winning,\\nthen went to a casino and began gambling': 'joy',\n",
       " 'They were overly excited because they won money at the \\nfancy casino too': 'joy',\n",
       " 'Nevertheless, Tom had too much drink and died': 'fear',\n",
       " 'Cyndi was so sad': 'sadness',\n",
       " \"Didn't know \\nwhat to do and weeped in despair\": 'sadness',\n",
       " '': 'fear'}"
      ]
     },
     "execution_count": 17,
     "metadata": {},
     "output_type": "execute_result"
    }
   ],
   "source": [
    "#결과 추출 : 이제 자바스크립트로 웹페이지 감성정보를 추출하여 밑줄긋도 분석결과 정보 제공하면 됨\n",
    "get_sentences"
   ]
  },
  {
   "cell_type": "code",
   "execution_count": null,
   "metadata": {},
   "outputs": [],
   "source": []
  },
  {
   "cell_type": "code",
   "execution_count": null,
   "metadata": {},
   "outputs": [],
   "source": []
  },
  {
   "cell_type": "code",
   "execution_count": null,
   "metadata": {},
   "outputs": [],
   "source": []
  },
  {
   "cell_type": "code",
   "execution_count": null,
   "metadata": {},
   "outputs": [],
   "source": []
  }
 ],
 "metadata": {
  "kernelspec": {
   "display_name": "Python 3",
   "language": "python",
   "name": "python3"
  },
  "language_info": {
   "codemirror_mode": {
    "name": "ipython",
    "version": 3
   },
   "file_extension": ".py",
   "mimetype": "text/x-python",
   "name": "python",
   "nbconvert_exporter": "python",
   "pygments_lexer": "ipython3",
   "version": "3.7.9"
  }
 },
 "nbformat": 4,
 "nbformat_minor": 4
}
