{
 "cells": [
  {
   "cell_type": "code",
   "execution_count": 4,
   "metadata": {
    "scrolled": true
   },
   "outputs": [
    {
     "name": "stderr",
     "output_type": "stream",
     "text": [
      "[nltk_data] Downloading package punkt to\n",
      "[nltk_data]     C:\\Users\\cacki\\AppData\\Roaming\\nltk_data...\n",
      "[nltk_data]   Package punkt is already up-to-date!\n",
      "[nltk_data] Downloading package vader_lexicon to\n",
      "[nltk_data]     C:\\Users\\cacki\\AppData\\Roaming\\nltk_data...\n",
      "[nltk_data]   Package vader_lexicon is already up-to-date!\n",
      "[nltk_data] Downloading package averaged_perceptron_tagger to\n",
      "[nltk_data]     C:\\Users\\cacki\\AppData\\Roaming\\nltk_data...\n",
      "[nltk_data]   Package averaged_perceptron_tagger is already up-to-\n",
      "[nltk_data]       date!\n"
     ]
    }
   ],
   "source": [
    "#1000 명의 에세이 분석 평균값 계산하기, 이것을 web의 ai_plot_conflict.py에 적용해야 함\n",
    "\n",
    "#conflict\n",
    "import nltk\n",
    "nltk.download('punkt')\n",
    "nltk.download('vader_lexicon')\n",
    "nltk.download('averaged_perceptron_tagger')\n",
    "from nltk.sentiment.vader import SentimentIntensityAnalyzer \n",
    "import pandas as pd\n",
    "from pandas import DataFrame as df\n",
    "from mpld3 import plugins, fig_to_html, save_html, fig_to_dict\n",
    "from tqdm import tqdm\n",
    "import numpy as np\n",
    "import json\n",
    "from tensorflow.keras.preprocessing.text import text_to_word_sequence\n",
    "\n",
    "#character, setting\n",
    "import numpy as np\n",
    "import gensim\n",
    "import nltk\n",
    "import re\n",
    "import matplotlib.pyplot as plt\n",
    "from sklearn.manifold import TSNE\n",
    "import seaborn as sns\n",
    "import pandas as pd\n",
    "from nltk.tokenize import sent_tokenize\n",
    "import multiprocessing\n",
    "import os\n",
    "from pathlib import Path\n",
    "import io\n",
    "from gensim.models import Phrases\n",
    "from textblob import TextBlob\n",
    "from nltk.tag import pos_tag\n",
    "from nltk.tokenize import word_tokenize\n",
    "from nltk.tokenize import RegexpTokenizer\n",
    "from collections import defaultdict\n",
    "\n",
    "\n",
    "\n",
    "def ai_plot_conf(essay_input_):\n",
    "    #1.input essay\n",
    "    input_text = essay_input_\n",
    "\n",
    "    #########################################################################\n",
    "\n",
    "    #2.유사단어를 추출하여 리스트로 반환\n",
    "    def conflict_sim_words(text):\n",
    "\n",
    "        essay_input_corpus = str(text) #문장입력\n",
    "        essay_input_corpus = essay_input_corpus.lower()#소문자 변환\n",
    "\n",
    "        sentences  = sent_tokenize(essay_input_corpus) #문장 토큰화\n",
    "        total_sentences = len(sentences)#토큰으로 처리된 총 문장 수\n",
    "        total_words = len(word_tokenize(essay_input_corpus))# 총 단어수\n",
    "        \n",
    "        split_sentences = []\n",
    "        for sentence in sentences:\n",
    "            processed = re.sub(\"[^a-zA-Z]\",\" \", sentence)\n",
    "            words = processed.split()\n",
    "            split_sentences.append(words)\n",
    "\n",
    "        skip_gram = 1\n",
    "        workers = multiprocessing.cpu_count()\n",
    "        bigram_transformer = Phrases(split_sentences)\n",
    "\n",
    "        model = gensim.models.word2vec.Word2Vec(bigram_transformer[split_sentences], workers=workers, sg=skip_gram, min_count=1)\n",
    "\n",
    "        model.train(split_sentences, total_examples=sum([len(sentence) for sentence in sentences]), epochs=100)\n",
    "        \n",
    "        #모델 설계 완료\n",
    "\n",
    "        #표현하는 단어들을 리스트에 넣어서 필터로 만들고\n",
    "        confict_words_list = ['clash', 'incompatible', 'inconsistent', 'incongruous', 'opposition', 'variance','vary', 'odds', \n",
    "                                'differ', 'diverge', 'disagree', 'contrast', 'collide', 'contradictory', 'incompatible', 'conflict',\n",
    "                                'inconsistent','irreconcilable','incongruous','contrary','opposite','opposing','opposed',\n",
    "                                'antithetical','clashing','discordant','differing','different','divergent','discrepant',\n",
    "                                'varying','disagreeing','contrasting','at odds','in opposition','at variance' ]\n",
    "        \n",
    "        ####문장에 list의 단어들이 있는지 확인하고, 있다면 유사단어를 추출한다.\n",
    "        \n",
    "        #우선 토큰화한다.\n",
    "        retokenize = RegexpTokenizer(\"[\\w]+\") #줄바꿈 제거하여 한줄로 만들고\n",
    "        token_input_text = retokenize.tokenize(essay_input_corpus)\n",
    "        #print (token_input_text) #토큰화 처리 확인.. 토큰들이 리스트에 담김\n",
    "        #리트스로 정리된 개별 토큰을 char_list와 비교해서 존재하는 것만 추출한다.\n",
    "        filtered_chr_text = []\n",
    "        for k in token_input_text:\n",
    "            for j in confict_words_list:\n",
    "                if k == j:\n",
    "                    filtered_chr_text.append(j)\n",
    "        \n",
    "        #print (filtered_chr_text) # 유사단어 비교 추출 완료, 겹치는 단어는 제거하자.\n",
    "        \n",
    "        filtered_chr_text_ = set(filtered_chr_text) #중복제거\n",
    "        filtered_chr_text__ = list(filtered_chr_text_) #다시 리스트로 변환\n",
    "        #print (filtered_chr_text__) # 중복값 제거 확인\n",
    "        \n",
    "#         for i in filtered_chr_text__:\n",
    "#             ext_sim_words_key = model.most_similar_cosmul(i) #모델적용\n",
    "        \n",
    "#         char_total_count = len(filtered_chr_text) # 중복이 제거되지 않은 에세이 총 문장에 사용된 표현 수\n",
    "#         char_count_ = len(filtered_chr_text__) #중복제거된  표현 총 수\n",
    "            \n",
    "#         result_char_ratio = round(char_total_count/total_words * 100, 2)\n",
    "\n",
    "#         import pandas as pd\n",
    "\n",
    "#         df_conf_words = pd.DataFrame(ext_sim_words_key, columns=['words','values']) #데이터프레임으로 변환\n",
    "#         df_r = df_conf_words['words'] #words 컬럼 값 추출\n",
    "#         ext_sim_words_key = df_r.values.tolist() # 유사단어 추출\n",
    "        ext_sim_words_key = filtered_chr_text__\n",
    "\n",
    "        #return result_char_ratio, total_sentences, total_words, char_total_count, char_count_, ext_sim_words_key\n",
    "        return ext_sim_words_key\n",
    "\n",
    "\n",
    "\n",
    "    #########################################################################\n",
    "    # 3.유사단어를 문장에서 추출하여 반환한다.\n",
    "    conflict_sim_words_ratio_result = conflict_sim_words(input_text)\n",
    "\n",
    "\n",
    "\n",
    "    #########################################################################\n",
    "    # 4.CONFLICT GRAPH EXPRESSION Analysis  -- 그래프로 그리기\n",
    "    # conflict(input_text):\n",
    "    contents = str(input_text)\n",
    "    token_list_str = text_to_word_sequence(contents) #tokenize\n",
    "\n",
    "    confict_words_list_basic = ['clash', 'incompatible', 'inconsistent', 'incongruous', 'opposition', 'variance','vary', 'odds', \n",
    "                            'differ', 'diverge', 'disagree', 'contrast', 'collide', 'contradictory', 'incompatible', 'conflict',\n",
    "                            'inconsistent','irreconcilable','incongruous','contrary','opposite','opposing','opposed',\n",
    "                            'antithetical','clashing','discordant','differing','different','divergent','discrepant',\n",
    "                            'varying','disagreeing','contrasting','at odds','in opposition','at variance' ]\n",
    "\n",
    "    confict_words_list = confict_words_list_basic + conflict_sim_words_ratio_result #유사단어를 계산결과 반영!\n",
    "\n",
    "    count_conflict_list = []\n",
    "    for i in token_list_str:\n",
    "        for j in confict_words_list:\n",
    "            if i == j:\n",
    "                count_conflict_list.append(j)\n",
    "\n",
    "    len(count_conflict_list) # 한 문장에 들어있는 conflict 단어 수\n",
    "\n",
    "    list_str = contents.split(\".\")  # 문장별로 분리한다. 분리는 .를 기준으로 한다.   \n",
    "\n",
    "    listSentiment = []\n",
    "\n",
    "    sid = SentimentIntensityAnalyzer()\n",
    "\n",
    "    i=0\n",
    "    for sentence in tqdm(list_str): #한문장식 가져와서 처리한다.\n",
    "        ss = sid.polarity_scores(sentence) #긍정, 부정, 중립, 혼합점수 계산\n",
    "        #print(ss.keys())\n",
    "        #print('{}: neg:{},neu:{},pos:{},compound:{}'.format(i,ss['neg'],ss['neu'],ss['pos'],ss['compound']))\n",
    "        #print('{}: neg:{}'.format(i,ss['neg']))\n",
    "        i +=1\n",
    "        listSentiment.append([ss['neg'],ss['neu'],ss['pos'],ss['compound']])\n",
    "\n",
    "    import pandas as pd\n",
    "\n",
    "    df_sent = pd.DataFrame(listSentiment)\n",
    "    df_sent.columns = ['neg', 'neu', 'pos','compound']\n",
    "    reslult_df = df_sent.columns\n",
    "\n",
    "\n",
    "    df_sent['comp_score'] = df_sent['compound'].apply(lambda c: 'pos' if c >=0  else 'neg')\n",
    "\n",
    "    df_sent['comp_score'].value_counts()\n",
    "\n",
    "    conflict_ratio = df_sent['comp_score'].value_counts(normalize=True) #상대적 비율 계산\n",
    "\n",
    "    # df_sent 의 값은 아래와 같다.\n",
    "\n",
    "    # neg\tneu\tpos\tcompound\tcomp_score\n",
    "    # 0\t0.000\t0.808\t0.192\t0.2280\tpos\n",
    "    # 1\t0.000\t1.000\t0.000\t0.0000\tpos\n",
    "    # 2\t0.041\t0.778\t0.181\t0.7269\tpos\n",
    "    # 3\t0.044\t0.787\t0.169\t0.6486\tpos\n",
    "    # 4\t0.190\t0.678\t0.132\t-0.2144\tneg\n",
    "    # 5\t0.000\t1.000\t0.000\t0.0000\tpos\n",
    "\n",
    "    #comp_score를 1 -1 변환\n",
    "    df_sent.loc[df_sent[\"comp_score\"] == \"pos\",\"comp_score\"] = 1\n",
    "    df_sent.loc[df_sent[\"comp_score\"] == \"neg\",\"comp_score\"] = -1\n",
    "\n",
    "    # df_sent 의 변환된 값은 아래와 같다.\n",
    "    # neg\tneu\tpos\tcompound\tcomp_score\n",
    "    # 0\t0.000\t0.808\t0.192\t0.2280\t1\n",
    "    # 1\t0.000\t1.000\t0.000\t0.0000\t1\n",
    "    # 2\t0.041\t0.778\t0.181\t0.7269\t1\n",
    "    # 3\t0.044\t0.787\t0.169\t0.6486\t1\n",
    "    # 4\t0.190\t0.678\t0.132\t-0.2144\t-1\n",
    "    # 5\t0.000\t1.000\t0.000\t0.0000\t\n",
    "\n",
    "    #########################################################################\n",
    "    # 5. 그래프로 그려보자. 이 코드는 matplotlib 로 그린것임. 종필은 highcharts로 표현할 것\n",
    "    #########################################################################\n",
    "    \n",
    "    # from matplotlib import pyplot as plt\n",
    "\n",
    "    # plt.plot(df_sent)\n",
    "    # plt.xlabel('STORY')\n",
    "    # plt.ylabel('CONFLICT')\n",
    "    # plt.title('FLOW ANALYSIS')\n",
    "    # plt.legend(['neg','neu','pos','compound','reslult'])\n",
    "    # plt.show()\n",
    "\n",
    "    #########################################################################\n",
    "    # 6.ACTION VERB로 그래프 그리기\n",
    "\n",
    "\n",
    "    #입력한 글을 모두 단어로 쪼개로 리스트로 만들기 - \n",
    "    essay_input_corpus_ = str(input_text) #문장입력\n",
    "    essay_input_corpus_ = essay_input_corpus_.lower()#소문자 변환\n",
    "\n",
    "    sentences_  = sent_tokenize(essay_input_corpus_) #문장단위로 토큰화(구분)되어 리스에 담김\n",
    "\n",
    "    # 문장을 토크큰화하여 해당 문장에 Action Verbs가 있는지 분석 부분 코드임 ---> 뒤에서 나옴 아래 777로 표시된 코드부분에서 sentences_ 값 재활용\n",
    "\n",
    "    split_sentences_ = []\n",
    "    for sentence in sentences_:\n",
    "        processed = re.sub(\"[^a-zA-Z]\",\" \", sentence)\n",
    "        words = processed.split()\n",
    "        split_sentences_.append(words)\n",
    "        \n",
    "    # 입력한 문장을 모두 리스트로 변환\n",
    "    input_text_list = [y for x in split_sentences_ for y in x] # 이중 리스트 Flatten\n",
    "\n",
    "    #리스로 변환된 값 확인\n",
    "    #input_text_list \n",
    "\n",
    "    #csv 파일에서 Action Verbs 단어 사전 불러오기\n",
    "    import pandas as pd\n",
    "\n",
    "    #Awards 데이터 불러오기\n",
    "    data_action_verbs = pd.read_csv('actionverbs.csv')\n",
    "    data_ac_verbs_list = data_action_verbs.values.tolist()\n",
    "    verbs_list = [y for x in data_ac_verbs_list for y in x]\n",
    "\n",
    "    #########################################################################\n",
    "    # 7.Action Verbs 유사단어를 추출하여 리스트로 반환\n",
    "\n",
    "    def actionverb_sim_words(text):\n",
    "\n",
    "        essay_input_corpus = str(text) #문장입력\n",
    "        essay_input_corpus = essay_input_corpus.lower()#소문자 변환\n",
    "\n",
    "        sentences  = sent_tokenize(essay_input_corpus) #문장 토큰화\n",
    "        total_sentences = len(sentences)#토큰으로 처리된 총 문장 수\n",
    "        total_words = len(word_tokenize(essay_input_corpus))# 총 단어수\n",
    "        \n",
    "        split_sentences = []\n",
    "        for sentence in sentences:\n",
    "            processed = re.sub(\"[^a-zA-Z]\",\" \", sentence)\n",
    "            words = processed.split()\n",
    "            split_sentences.append(words)\n",
    "\n",
    "        skip_gram = 1\n",
    "        workers = multiprocessing.cpu_count()\n",
    "        bigram_transformer = Phrases(split_sentences)\n",
    "\n",
    "        model = gensim.models.word2vec.Word2Vec(bigram_transformer[split_sentences], workers=workers, sg=skip_gram, min_count=1)\n",
    "\n",
    "        model.train(split_sentences, total_examples=sum([len(sentence) for sentence in sentences]), epochs=100)\n",
    "        \n",
    "        #모델 설계 완료\n",
    "\n",
    "        # ACTION VERBS 표현하는 단어들을 리스트에 넣어서 필터로 만들고\n",
    "        ##################################################\n",
    "        # verbs_list\n",
    "\n",
    "        ####문장에 list의 단어들이 있는지 확인하고, 있다면 유사단어를 추출한다.\n",
    "        \n",
    "        #우선 토큰화한다.\n",
    "        retokenize = RegexpTokenizer(\"[\\w]+\") #줄바꿈 제거하여 한줄로 만들고\n",
    "        token_input_text = retokenize.tokenize(essay_input_corpus)\n",
    "        #print (token_input_text) #토큰화 처리 확인.. 토큰들이 리스트에 담김\n",
    "        #리트스로 정리된 개별 토큰을 char_list와 비교해서 존재하는 것만 추출한다.\n",
    "        filtered_chr_text = []\n",
    "        for k in token_input_text:\n",
    "            for j in verbs_list:\n",
    "                if k == j:\n",
    "                    filtered_chr_text.append(j)\n",
    "        \n",
    "        #print (filtered_chr_text) # 유사단어 비교 추출 완료, 겹치는 단어는 제거하자.\n",
    "        \n",
    "        filtered_chr_text_ = set(filtered_chr_text) #중복제거\n",
    "        filtered_chr_text__ = list(filtered_chr_text_) #다시 리스트로 변환\n",
    "        #print (filtered_chr_text__) # 중복값 제거 확인\n",
    "        \n",
    "#         for i in filtered_chr_text__:\n",
    "#             ext_sim_words_key = model.most_similar_cosmul(i) #모델적용\n",
    "        \n",
    "#         char_total_count = len(filtered_chr_text) # 중복이 제거되지 않은 에세이 총 문장에 사용된 표현 수\n",
    "#         char_count_ = len(filtered_chr_text__) #중복제거된  표현 총 수\n",
    "            \n",
    "#         result_char_ratio = round(char_total_count/total_words * 100, 2)\n",
    "        \n",
    "#         df_conf_words = pd.DataFrame(ext_sim_words_key, columns=['words','values']) #데이터프레임으로 변환\n",
    "#         df_r = df_conf_words['words'] #words 컬럼 값 추출\n",
    "#         ext_sim_words_key = df_r.values.tolist() # 유사단어 추출\n",
    "\n",
    "        #return result_char_ratio, total_sentences, total_words, char_total_count, char_count_, ext_sim_words_key\n",
    "        ext_sim_words_key = filtered_chr_text__\n",
    "        return ext_sim_words_key\n",
    "\n",
    "\n",
    "    # 입력문장에서 맥락상 Aciton Verbs와 유사한 의미의 단어를 추출\n",
    "    ext_action_verbs = actionverb_sim_words(input_text)\n",
    "\n",
    "    #########################################################################\n",
    "    # 8.이제 입력문장에서 사용용된 Action Verbs 단어를 비교하여 추출해보자.\n",
    "\n",
    "    # Action Verbs를 모두 모음(직접적인 단어, 문맥상 유사어 포함)\n",
    "    all_ac_verbs_list = verbs_list + ext_action_verbs\n",
    "\n",
    "    #입력한 수생내역의 리스트 값을 하나씩 불러와서 데이터프레이에 있는지 비교 찾아내서 해당 점수를 가져오기\n",
    "    graph_calculation_list = []\n",
    "    get_words__ = []\n",
    "    for each_verb in all_ac_verbs_list: #데이터프레임에서 인덱스의 값과 비교하여\n",
    "        for h in input_text_list: #df에 특정 단어가 있다면, 해당하는 컬럼의 값을 가져오기\n",
    "            if each_verb == h:\n",
    "                get_words__.append(h) # 동일하면 저장하기\n",
    "                graph_calculation_list.append(1)\n",
    "            \n",
    "        else: #없다면\n",
    "            graph_calculation_list.append(0)\n",
    "\n",
    "    #문장에 Action Verbs 추출확인\n",
    "    #get_words__ \n",
    "\n",
    "    #########################################################################\n",
    "    # 9. 그래프 출력 : 문장 전체를 단어로 분리하고, Action verbs가 사용된 부분을 그래프로 표시\n",
    "\n",
    "    # 전체 글에서 Action verbs가 언급된 부분을 리스트로 계산(있다 : 1, 없다: 0)\n",
    "    # graph_calculation_list \n",
    "\n",
    "    #그래프로 표시됨\n",
    "    plt.plot(graph_calculation_list)\n",
    "    plt.xlabel('STORY')\n",
    "    plt.ylabel('ACTON VERBS')\n",
    "    plt.title('USAGE OF ACTION VERBS ANALYSIS')\n",
    "    plt.legend(['action verbs'])\n",
    "    plt.show()\n",
    "\n",
    "    #########################################################################\n",
    "    # 10.입력한 에세이 문장에서 Action Verbs가 얼마나 포함되어 있는지 포함비율 분석\n",
    "    action_verbs_ratio = round(len(get_words__)/len(input_text_list) *100, 3)\n",
    "\n",
    "    print (\"ACTION VERBS RATIO :\", action_verbs_ratio )\n",
    "\n",
    "\n",
    "    #########################################################################\n",
    "    # 11. 글속에 감정이 얼마나 표현되어 있는지 분석 - origin (Bert pre trained model 활용)\n",
    "    from transformers import BertTokenizer\n",
    "    from model import BertForMultiLabelClassification\n",
    "    from multilabel_pipeline import MultiLabelPipeline\n",
    "    from pprint import pprint\n",
    "\n",
    "\n",
    "    tokenizer = BertTokenizer.from_pretrained(\"monologg/bert-base-cased-goemotions-original\")\n",
    "    model = BertForMultiLabelClassification.from_pretrained(\"monologg/bert-base-cased-goemotions-original\")\n",
    "\n",
    "    goemotions = MultiLabelPipeline(\n",
    "        model=model,\n",
    "        tokenizer=tokenizer,\n",
    "        threshold=0.3\n",
    "    )\n",
    "    #결과확인\n",
    "    #print(goemotions(texts))\n",
    "    ########## 여기서는 최초 입력 에세이를 적용한다. input_text !!!!!!!!\n",
    "    re_text = input_text.split(\".\")\n",
    "\n",
    "    #데이터 전처리 \n",
    "    def cleaning(datas):\n",
    "\n",
    "        fin_datas = []\n",
    "\n",
    "        for data in datas:\n",
    "            # 영문자 이외 문자는 공백으로 변환\n",
    "            only_english = re.sub('[^a-zA-Z]', ' ', data)\n",
    "        \n",
    "            # 데이터를 리스트에 추가 \n",
    "            fin_datas.append(only_english)\n",
    "\n",
    "        return fin_datas\n",
    "\n",
    "    texts = cleaning(re_text)\n",
    "\n",
    "    #분석된 감정만 추출\n",
    "    emo_re = goemotions(texts)\n",
    "\n",
    "    emo_all = []\n",
    "    for list_val in range(0, len(emo_re)):\n",
    "        #print(emo_re[list_val]['labels'],emo_re[list_val]['scores'])\n",
    "        #mo_all.append((emo_re[list_val]['labels'],emo_re[list_val]['scores'])) #KEY, VALUE만 추출하여 리스트로 저장\n",
    "        #emo_all.append(emo_re[list_val]['scores'])\n",
    "        emo_all.append((emo_re[list_val]['labels']))\n",
    "        \n",
    "    #추출결과 확인 \n",
    "    # emo_all\n",
    "\n",
    "    # ['sadness'],\n",
    "    #  ['anger'],\n",
    "    #  ['admiration', 'realization'],\n",
    "    #  ['admiration', 'disappointment'],\n",
    "    #  ['love'],\n",
    "    #  ['sadness', 'neutral'],\n",
    "    #  ['realization', 'neutral'],\n",
    "    #  ['neutral'],\n",
    "    #  ['optimism'],\n",
    "    #  ['neutral'],\n",
    "    #  ['excitement'],\n",
    "    #  ['neutral'],\n",
    "    #  ['neutral'],\n",
    "    #  ['caring'],\n",
    "    #  ['gratitude'],\n",
    "    #  ['admiration', 'approval'], ...\n",
    "\n",
    "    from pandas.core.common import flatten #이중리스틀 FLATTEN하게 변환\n",
    "    flat_list = list(flatten(emo_all))\n",
    "\n",
    "    # ['neutral',\n",
    "    #  'neutral',\n",
    "    #  'sadness',\n",
    "    #  'anger',\n",
    "    #  'admiration',\n",
    "    #  'realization',\n",
    "    #  'admiration',\n",
    "    #  'disappointment',\n",
    "\n",
    "\n",
    "    #중립적인 감정을 제외하고, 입력한 문장에서 다양한 감정을 모두 추출하고 어떤 감정이 있는지 계산해보자\n",
    "    unique = []\n",
    "    for r in flat_list:\n",
    "        if r == 'neutral':\n",
    "            pass\n",
    "        else:\n",
    "            unique.append(r)\n",
    "\n",
    "    #중립감정 제거 및 유일한 감정값 확인\n",
    "    #unique\n",
    "    unique_re = set(unique) #중복제거\n",
    "\n",
    "    ############################################################################\n",
    "    # 글에 표현된 감정이 얼마나 다양한지 분석 결과!!!¶\n",
    "    print(\"====================================================================\")\n",
    "    print(\"에세이에 표현된 다양한 감정 수:\", len(unique_re))\n",
    "    print(\"====================================================================\")\n",
    "\n",
    "    #분석가능한 감정 총 감정 수 - Bert origin model 적용시 28개 감정 추출돰\n",
    "    total_num_emotion_analyzed = 28\n",
    "\n",
    "    # 감정기복 비율 계산 !!!\n",
    "    result_emo_swings =round(len(unique_re)/total_num_emotion_analyzed *100,1) #소숫점 첫째자리만 표현\n",
    "    result_emo_swings\n",
    "    print(\"문장에 표현된 감정 비율 : \", result_emo_swings)\n",
    "    print(\"====================================================================\")\n",
    "\n",
    "\n",
    "    #########################################################################\n",
    "    # 12. SETTING RATIO 계산\n",
    "\n",
    "    def setting_anaysis(text):\n",
    "\n",
    "        essay_input_corpus = str(text) #문장입력\n",
    "        essay_input_corpus = essay_input_corpus.lower()#소문자 변환\n",
    "\n",
    "        sentences  = sent_tokenize(essay_input_corpus) #문장 토큰화\n",
    "        total_sentences = len(sentences)#토큰으로 처리된 총 문장 수\n",
    "        total_words = len(word_tokenize(essay_input_corpus))# 총 단어수\n",
    "        split_sentences = []\n",
    "        for sentence in sentences:\n",
    "            processed = re.sub(\"[^a-zA-Z]\",\" \", sentence)\n",
    "            words = processed.split()\n",
    "            split_sentences.append(words)\n",
    "\n",
    "        skip_gram = 1\n",
    "        workers = multiprocessing.cpu_count()\n",
    "        bigram_transformer = Phrases(split_sentences)\n",
    "\n",
    "        model = gensim.models.word2vec.Word2Vec(bigram_transformer[split_sentences], workers=workers, sg=skip_gram, min_count=1)\n",
    "\n",
    "        model.train(split_sentences, total_examples=sum([len(sentence) for sentence in sentences]), epochs=100)\n",
    "        \n",
    "        #모델 설계 완료\n",
    "\n",
    "        #setting을 표현하는 단어들을 리스트에 넣어서 필터로 만들고\n",
    "        location_list = ['above', 'behind','below','beside','betweed','by','in','inside','near',\n",
    "                        'on','over','through']\n",
    "        time_list = ['after', 'before','by','during','from','on','past','since','through','to','until','upon']\n",
    "        \n",
    "        movement_list = ['against','along','down','from','into','off','on','onto','out of','toward','up','upon']\n",
    "        \n",
    "        palce_terrain_type_list = ['wood', 'forest', 'copse', 'bush', 'trees', 'stand',\n",
    "                                    'swamp', 'marsh', 'wetland', 'fen', 'bog', 'moor', 'heath', 'fells', 'morass',\n",
    "                                    'jungle', 'rainforest', 'cloud forest','plains', 'fields', 'grass', 'grassland', \n",
    "                                    'savannah', 'flood plain', 'flats', 'prairie','tundra', 'iceberg', 'glacier', \n",
    "                                    'snowfields','hills', 'highland,' 'heights', 'plateau', 'badland', 'kame', 'shield',\n",
    "                                    'downs', 'downland', 'ridge', 'ridgeline','hollow,' 'valley',' vale','glen', 'dell',\n",
    "                                    'mountain', 'peak', 'summit', 'rise', 'pass', 'notch', 'crown', 'mount', 'switchback',\n",
    "                                    'furth','canyon', 'cliff', 'bluff,' 'ravine', 'gully', 'gulch', 'gorge',\n",
    "                                    'desert', 'scrub', 'waste', 'wasteland', 'sands', 'dunes',\n",
    "                                    'volcano', 'crater', 'cone', 'geyser', 'lava fields']\n",
    "        \n",
    "        water_list = ['ocean', 'sea', 'coast', 'beach', 'shore', 'strand','bay', 'port', 'harbour', 'fjord', 'vike',\n",
    "                    'cove', 'shoals', 'lagoon', 'firth', 'bight', 'sound', 'strait', 'gulf', 'inlet', 'loch', \n",
    "                    'bayou','dock', 'pier', 'anchorage', 'jetty', 'wharf', 'marina', 'landing', 'mooring', 'berth', \n",
    "                    'quay', 'staith','river', 'stream', 'creek', 'brook', 'waterway', 'rill','delta', 'bank', 'runoff',\n",
    "                    'bend', 'meander', 'backwater','lake', 'pool', 'pond', 'dugout', 'fountain', 'spring', \n",
    "                    'watering-hole', 'oasis','well', 'cistern', 'reservoir','waterfall', 'falls', 'rapids', 'cataract', \n",
    "                    'cascade','bridge', 'crossing', 'causeway', 'viaduct', 'aquaduct', 'ford', 'ferry','dam', 'dike', \n",
    "                    'bar', 'canal', 'ditch','peninsula', 'isthmus', 'island', 'isle', 'sandbar', 'reef', 'atoll', \n",
    "                    'archipelago', 'cay','shipwreck', 'derelict']\n",
    "        \n",
    "        \n",
    "        outdoor_places_list = ['clearing', 'meadow', 'grove', 'glade', 'fairy ring','earldom', 'fief', 'shire',\n",
    "                                'ruin', 'acropolis', 'desolation', 'remnant', 'remains',\n",
    "                                'henge', 'cairn', 'circle', 'mound', 'barrow', 'earthworks', 'petroglyphs',\n",
    "                                'lookout', 'aerie', 'promontory', 'outcropping', 'ledge', 'overhang', 'mesa', 'butte',\n",
    "                                'outland', 'outback', 'territory', 'reaches', 'wild', 'wilderness', 'expanse',\n",
    "                                'view', 'vista', 'tableau', 'spectacle', 'landscape', 'seascape', 'aurora', 'landmark',\n",
    "                                'battlefield', 'trenches', 'gambit', 'folly', 'conquest', 'claim', 'muster', 'post',\n",
    "                                'path', 'road', 'track', 'route', 'highway', 'way', 'trail', 'lane', 'thoroughfare', 'pike',\n",
    "                                'alley', 'street', 'avenue', 'boulevard', 'promenade', 'esplande', 'boardwalk',\n",
    "                                'crossroad', 'junction', 'intersection', 'turn', 'corner','plaza', 'terrace', 'square', \n",
    "                                'courtyard', 'court', 'park', 'marketplace', 'bazaar', 'fairground','realm', 'land', 'country',\n",
    "                                'nation', 'state', 'protectorate', 'empire', 'kingdom', 'principality','domain', 'dominion',\n",
    "                                'demesne', 'province', 'county', 'duchy', 'barony', 'baronetcy', 'march', 'canton']\n",
    "\n",
    "        \n",
    "        underground_list = ['pit', 'hole', 'abyss', 'sinkhole', 'crack', 'chasm', 'scar', 'rift', 'trench', 'fissure',\n",
    "                            'cavern', 'cave', 'gallery', 'grotto', 'karst',\n",
    "                            'mine', 'quarry', 'shaft', 'vein','graveyard', 'cemetery',\n",
    "                            'darkness', 'shadow', 'depths', 'void','maze', 'labyrinth'\n",
    "                            'tomb', 'grave', 'crypt', 'sepulchre', 'mausoleum', 'ossuary', 'boneyard']\n",
    "                            \n",
    "        living_places_list = ['nest', 'burrow', 'lair', 'den', 'bolt-hole', 'warren', 'roost', 'rookery', 'hibernaculum',\n",
    "                            'home', 'rest', 'hideout', 'hideaway', 'retreat', 'resting-place', 'safehouse', 'sanctuary',\n",
    "                            'respite', 'lodge','slum', 'shantytown', 'ghetto','camp', 'meeting place,' 'bivouac', 'campsite', \n",
    "                            'encampment','tepee', 'tent', 'wigwam', 'shelter', 'lean-to', 'yurt','house', 'mansion', 'estate',\n",
    "                            'villa','hut', 'palace', 'outbuilding', 'shack tenement', 'hovel', 'manse', 'manor', 'longhouse',\n",
    "                            'cottage', 'cabin','parsonage', 'rectory', 'vicarge', 'friary', 'priory','abbey', 'monastery', \n",
    "                            'nunnery', 'cloister', 'convent', 'hermitage','castle', 'keep', 'fort', 'fortress', 'citadel', \n",
    "                            'bailey', 'motte', 'stronghold', 'hold', 'chateau', 'outpost', 'redoubt',\n",
    "                            'town', 'village', 'hamlet', 'city', 'metropolis','settlement', 'commune']\n",
    "\n",
    "        building_facilities_list = ['temple', 'shrine', 'church', 'cathedral', 'tabernacle', 'ark', 'sanctum', 'parish', 'university',\n",
    "                                    'chapel', 'synagogue', 'mosque','pyramid', 'ziggurat', 'prison', 'jail', 'dungeon',\n",
    "                                    'oubliette', 'hospital', 'hospice', 'stocks', 'gallows','asylum', 'madhouse', 'bedlam',\n",
    "                                    'vault', 'treasury', 'warehouse', 'cellar', 'relicry', 'repository',\n",
    "                                    'barracks', 'armoury','sewer', 'gutter', 'catacombs', 'dump', 'middens', 'pipes', 'baths', 'heap',\n",
    "                                    'mill', 'windmill', 'sawmill', 'smithy', 'forge', 'workshop', 'brickyard', 'shipyard', 'forgeworks',\n",
    "                                    'foundry','bakery', 'brewery', 'almshouse', 'counting house', 'courthouse', 'apothecary', 'haberdashery', 'cobbler',\n",
    "                                    'garden', 'menagerie', 'zoo', 'aquarium', 'terrarium', 'conservatory', 'lawn', 'greenhouse',\n",
    "                                    'farm', 'orchard', 'vineyard', 'ranch', 'apiary', 'farmstead', 'homestead',\n",
    "                                    'pasture', 'commons', 'granary', 'silo', 'crop','barn', 'stable', 'pen', 'kennel', 'mews', 'hutch', \n",
    "                                    'pound', 'coop', 'stockade', 'yard', 'lumber yard','tavern', 'inn', 'pub', 'brothel', 'whorehouse',\n",
    "                                    'cathouse', 'discotheque','lighthouse', 'beacon','amphitheatre', 'colosseum', 'stadium', 'arena', \n",
    "                                    'circus','academy', 'university', 'campus', 'college', 'library', 'scriptorium', 'laboratory', \n",
    "                                    'observatory', 'museum']\n",
    "        \n",
    "        \n",
    "        architecture_list = ['hall', 'chamber', 'room','nave', 'aisle', 'vestibule',\n",
    "                            'antechamber', 'chantry', 'pulpit','dome', 'arch', 'colonnade',\n",
    "                            'stair', 'ladder', 'climb', 'ramp', 'steps',\n",
    "                            'portal', 'mouth', 'opening', 'door', 'gate', 'entrance', 'maw',\n",
    "                            'tunnel', 'passage', 'corridor', 'hallway', 'chute', 'slide', 'tube', 'trapdoor',\n",
    "                            'tower', 'turret', 'belfry','wall', 'fortifications', 'ramparts', 'pallisade', 'battlements',\n",
    "                            'portcullis', 'barbican','throne room', 'ballroom','roof', 'rooftops', 'chimney', 'attic',\n",
    "                            'loft', 'gable', 'eaves', 'belvedere','balcony', 'balustrade', 'parapet', 'walkway', 'catwalk',\n",
    "                            'pavillion', 'pagoda', 'gazebo','mirror', 'glass', 'mere','throne', 'seat', 'dais',\n",
    "                            'pillar', 'column', 'stone', 'spike', 'rock', 'megalith', 'menhir', 'dolmen', 'obelisk',\n",
    "                            'statue', 'giant', 'head', 'arm', 'leg', 'body', 'chest', 'body', 'face', 'visage', 'gargoyle', 'grotesque',\n",
    "                            'fire', 'flame', 'bonfire', 'hearth', 'fireplace', 'furnace', 'stove','window', 'grate', 'peephole', \n",
    "                            'arrowslit', 'slit', 'balistraria', 'lancet', 'aperture', 'dormerl']\n",
    "        \n",
    "        \n",
    "        setting_words_filter_list = location_list + time_list + movement_list + palce_terrain_type_list + water_list + outdoor_places_list + underground_list + underground_list + living_places_list + building_facilities_list + architecture_list\n",
    "\n",
    "        \n",
    "        ####문장에 setting_words_filter_list의 단어들이 있는지 확인하고, 있다면 유사단어를 추출한다.\n",
    "        #우선 토큰화한다.\n",
    "        retokenize = RegexpTokenizer(\"[\\w]+\") #줄바꿈 제거하여 한줄로 만들고\n",
    "        token_input_text = retokenize.tokenize(essay_input_corpus)\n",
    "        #print (token_input_text) #토큰화 처리 확인.. 토큰들이 리스트에 담김\n",
    "        #리트스로 정리된 개별 토큰을 char_list와 비교해서 존재하는 것만 추출한다.\n",
    "        filtered_setting_text = []\n",
    "        for k in token_input_text:\n",
    "            for j in setting_words_filter_list:\n",
    "                if k == j:\n",
    "                    filtered_setting_text.append(j)\n",
    "        \n",
    "        #print (filtered_chr_text) # 유사단어 비교 추출 완료, 겹치는 단어는 제거하자.\n",
    "        \n",
    "        filtered_setting_text_ = set(filtered_setting_text) #중복제거\n",
    "        filtered_setting_text__ = list(filtered_setting_text_) #다시 리스트로 변환\n",
    "        print (filtered_setting_text__) # 중복값 제거 확인\n",
    "        \n",
    "#         for i in filtered_setting_text__:\n",
    "#             ext_setting_sim_words_key = model.most_similar_cosmul(i) #모델적용\n",
    "        \n",
    "        setting_total_count = len(filtered_setting_text) # 중복이 제거되지 않은 에세이 총 문장에 사용된 setting 표현 수\n",
    "        setting_count_ = len(filtered_setting_text__) #중복제거된 setting표현 총 수\n",
    "            \n",
    "        result_setting_words_ratio = round(setting_total_count/total_words * 100, 2)\n",
    "        #return result_setting_words_ratio, total_sentences, total_words, setting_total_count, setting_count_, ext_setting_sim_words_key\n",
    "        return result_setting_words_ratio\n",
    "\n",
    "\n",
    "    # 셋팅 비율 계산\n",
    "    settig_ratio_re = setting_anaysis(input_text)\n",
    "    print(\"====================================================================\")\n",
    "    print(\"SETTING RATIO : \", settig_ratio_re)\n",
    "    print(\"====================================================================\")\n",
    "\n",
    "\n",
    "    ############################################################################\n",
    "    # 13. PLOT COMPLEXITY 계산¶ - 캐릭터 20% + conflict 40% + 감정기복 30% + setting 10%\n",
    "    ############################################################################\n",
    "\n",
    "    def character(text):\n",
    "\n",
    "        essay_input_corpus = str(text) #문장입력\n",
    "        essay_input_corpus = essay_input_corpus.lower()#소문자 변환\n",
    "\n",
    "        sentences  = sent_tokenize(essay_input_corpus) #문장 토큰화\n",
    "        total_sentences = len(sentences)#토큰으로 처리된 총 문장 수\n",
    "        total_words = len(word_tokenize(essay_input_corpus))# 총 단어수\n",
    "        \n",
    "        split_sentences = []\n",
    "        for sentence in sentences:\n",
    "            processed = re.sub(\"[^a-zA-Z]\",\" \", sentence)\n",
    "            words = processed.split()\n",
    "            split_sentences.append(words)\n",
    "\n",
    "        skip_gram = 1\n",
    "        workers = multiprocessing.cpu_count()\n",
    "        bigram_transformer = Phrases(split_sentences)\n",
    "\n",
    "        model = gensim.models.word2vec.Word2Vec(bigram_transformer[split_sentences], workers=workers, sg=skip_gram, min_count=1)\n",
    "\n",
    "        model.train(split_sentences, total_examples=sum([len(sentence) for sentence in sentences]), epochs=100)\n",
    "        \n",
    "        #모델 설계 완료\n",
    "\n",
    "        #캐릭터 표현하는 단어들을 리스트에 넣어서 필터로 만들고\n",
    "        character_list = ['i', 'my', 'me', 'mine', 'you', 'your', 'they','them',\n",
    "                        'yours', 'he','him','his' 'she','her','it','someone','their', 'myself', 'aunt',\n",
    "                        'brother','cousin','daughter','father','grandchild','granddaughter','granddson','grandfather',\n",
    "                        'grandmother','great-grandchild','husband','ex-husband','son-in-law', 'daughter-in-law','mother',\n",
    "                        'niece','nephew','parents','sister','son','stepfather','stepmother','stepdaughter', 'stepson',\n",
    "                        'twin','uncle','widow','widower','wife','ex-wife']\n",
    "        \n",
    "        ####문장에 char_list의 단어들이 있는지 확인하고, 있다면 유사단어를 추출한다.\n",
    "        #우선 토큰화한다.\n",
    "        retokenize = RegexpTokenizer(\"[\\w]+\") #줄바꿈 제거하여 한줄로 만들고\n",
    "        token_input_text = retokenize.tokenize(essay_input_corpus)\n",
    "        #print (token_input_text) #토큰화 처리 확인.. 토큰들이 리스트에 담김\n",
    "        #리트스로 정리된 개별 토큰을 char_list와 비교해서 존재하는 것만 추출한다.\n",
    "        filtered_chr_text = []\n",
    "        for k in token_input_text:\n",
    "            for j in character_list:\n",
    "                if k == j:\n",
    "                    filtered_chr_text.append(j)\n",
    "        \n",
    "        #print (filtered_chr_text) # 유사단어 비교 추출 완료, 겹치는 단어는 제거하자.\n",
    "        \n",
    "        filtered_chr_text_ = set(filtered_chr_text) #중복제거\n",
    "        filtered_chr_text__ = list(filtered_chr_text_) #다시 리스트로 변환\n",
    "        #print (filtered_chr_text__) # 중복값 제거 확인\n",
    "        \n",
    "        for i in filtered_chr_text__:\n",
    "            ext_sim_words_key = model.most_similar_cosmul(i) #모델적용\n",
    "        \n",
    "        char_total_count = len(filtered_chr_text) # 중복이 제거되지 않은 에세이 총 문장에 사용된 캐릭터 표현 수\n",
    "        char_count_ = len(filtered_chr_text__) #중복제거된 캐릭터 표현 총 수\n",
    "            \n",
    "        result_char_ratio = round(char_total_count/total_words * 100, 2)\n",
    "\n",
    "        #return result_char_ratio, total_sentences, total_words, char_total_count, char_count_, ext_sim_words_key\n",
    "        return result_char_ratio\n",
    "\n",
    "\n",
    "    #######################################################################\n",
    "    ##########################   Plot complexity  ######################\n",
    "    #######################################################################\n",
    "    # 이제 최종 계산을 해보자.\n",
    "    # character_ratio_result #캐릭터 비율 20%\n",
    "    # result_emo_swings # 감정기복 비율 30%\n",
    "    # conflict_word_ratio #CONFLICT 비율 계산 40%\n",
    "    # settig_ratio_re #Setting 비율 계산 10%\n",
    "    # 전체 문장에서 캐릭터를 의미하는 단어나 유사어 비율 \n",
    "\n",
    "    character_ratio_result = character(input_text)\n",
    "    character_ratio_result\n",
    "    print(\"전체 문장에서 캐릭터를 의미하는 단어나 유사어 비율 :\", character_ratio_result)\n",
    "\n",
    "    ###########################################################\n",
    "    ############# Degree of Conflict  비율 계산 #################\n",
    "    conflict_word_ratio = round(len(count_conflict_list) / len(input_text_list) * 100, 1)  \n",
    "    print(\"Degree of conflict  단어가 전체 문장(단어)에서 차지하는 비율 계산 :\", conflict_word_ratio)\n",
    "\n",
    "\n",
    "\n",
    "    ###########################################################\n",
    "    ############# Emotional Rollercoaster  비율 계산 #################\n",
    "    print(\"감정기복비율 :\", result_emo_swings) \n",
    "\n",
    "    # 셋팅비율 계산\n",
    "    print(\"셋팅비율 계산 : \", settig_ratio_re)\n",
    "\n",
    "    # 4개의 값을 리스트로 담는다.\n",
    "    de_flt_list = [character_ratio_result, result_emo_swings, conflict_word_ratio, settig_ratio_re]\n",
    "\n",
    "\n",
    "    import numpy\n",
    "    numpy.mean(de_flt_list) #평균\n",
    "    numpy.var(de_flt_list) #분산\n",
    "    numpy.std(de_flt_list) #표준편차\n",
    "\n",
    "    #######################################################################\n",
    "    ############# Plot complexity  st_input 표준편차 비율 계산 #################\n",
    "    de_flt_list_ = [character_ratio_result*2, result_emo_swings*3, conflict_word_ratio*4, settig_ratio_re]\n",
    "    numpy.mean(de_flt_list_) # 평균\n",
    "    numpy.var(de_flt_list_) # 분산\n",
    "    st_input = numpy.std(de_flt_list_) # 표준편차 ----> 이 값으로 계산\n",
    "    print(\"Plot Complxity :\", st_input )\n",
    "    \n",
    "    \n",
    "    return st_input, result_emo_swings, conflict_word_ratio\n",
    "\n"
   ]
  },
  {
   "cell_type": "code",
   "execution_count": 5,
   "metadata": {},
   "outputs": [],
   "source": [
    "#!/usr/bin/python\n",
    "# -*- coding:utf-8 -*-\n",
    "\n",
    "import json\n",
    "import pandas as pd\n",
    "import sys\n",
    "import os"
   ]
  },
  {
   "cell_type": "code",
   "execution_count": 6,
   "metadata": {},
   "outputs": [
    {
     "data": {
      "text/plain": [
       "'C:\\\\Users\\\\cacki\\\\Projects\\\\008_AI\\\\01_PLOT_CONFLICT_'"
      ]
     },
     "execution_count": 6,
     "metadata": {},
     "output_type": "execute_result"
    }
   ],
   "source": [
    "pwd"
   ]
  },
  {
   "cell_type": "code",
   "execution_count": 7,
   "metadata": {},
   "outputs": [
    {
     "data": {
      "text/plain": [
       "['each_personal_essay_0.json',\n",
       " 'each_personal_essay_1.json',\n",
       " 'each_personal_essay_10.json']"
      ]
     },
     "execution_count": 7,
     "metadata": {},
     "output_type": "execute_result"
    }
   ],
   "source": [
    "path = \"C:\\\\Users\\\\cacki\\\\Projects\\\\008_AI\\\\01_PLOT_CONFLICT_\\\\ps_data\\\\\"\n",
    "file_list = os.listdir(path)\n",
    "file_list[:3]"
   ]
  },
  {
   "cell_type": "code",
   "execution_count": null,
   "metadata": {},
   "outputs": [
    {
     "name": "stderr",
     "output_type": "stream",
     "text": [
      "  0%|          | 0/971 [00:00<?, ?it/s]\n",
      "100%|██████████| 100/100 [00:00<00:00, 5879.56it/s]\n"
     ]
    },
    {
     "data": {
      "image/png": "[encoded data removed]",
      "text/plain": [
       "<Figure size 432x288 with 1 Axes>"
      ]
     },
     "metadata": {
      "needs_background": "light"
     },
     "output_type": "display_data"
    },
    {
     "name": "stdout",
     "output_type": "stream",
     "text": [
      "ACTION VERBS RATIO : 8.722\n",
      "====================================================================\n",
      "에세이에 표현된 다양한 감정 수: 16\n",
      "====================================================================\n",
      "문장에 표현된 감정 비율 :  57.1\n",
      "====================================================================\n",
      "['fields', 'ocean', 'from', 'well', 'off', 'street', 'trees', 'campus', 'city', 'way', 'against', 'rest', 'view', 'through', 'since', 'by', 'wall', 'over', 'keep', 'gallery', 'into', 'court', 'home', 'college', 'stand', 'window', 'in', 'museum', 'on', 'house', 'after', 'along', 'during', 'to', 'up', 'past']\n",
      "====================================================================\n",
      "SETTING RATIO :  10.01\n",
      "====================================================================\n"
     ]
    },
    {
     "name": "stderr",
     "output_type": "stream",
     "text": [
      "C:\\Users\\cacki\\anaconda3\\envs\\py37pytorch\\lib\\site-packages\\ipykernel_launcher.py:700: DeprecationWarning: Call to deprecated `most_similar_cosmul` (Method will be removed in 4.0.0, use self.wv.most_similar_cosmul() instead).\n",
      "\r",
      "  0%|          | 1/971 [00:27<7:22:03, 27.34s/it]"
     ]
    },
    {
     "name": "stdout",
     "output_type": "stream",
     "text": [
      "전체 문장에서 캐릭터를 의미하는 단어나 유사어 비율 : 10.5\n",
      "Degree of conflict  단어가 전체 문장(단어)에서 차지하는 비율 계산 : 0.5\n",
      "감정기복비율 : 57.1\n",
      "셋팅비율 계산 :  10.01\n",
      "Plot Complxity : 69.73744703349844\n"
     ]
    },
    {
     "name": "stderr",
     "output_type": "stream",
     "text": [
      "\n",
      "100%|██████████| 96/96 [00:00<00:00, 1852.92it/s]\n"
     ]
    },
    {
     "data": {
      "image/png": "[encoded data removed]",
      "text/plain": [
       "<Figure size 432x288 with 1 Axes>"
      ]
     },
     "metadata": {
      "needs_background": "light"
     },
     "output_type": "display_data"
    },
    {
     "name": "stdout",
     "output_type": "stream",
     "text": [
      "ACTION VERBS RATIO : 10.524\n",
      "====================================================================\n",
      "에세이에 표현된 다양한 감정 수: 18\n",
      "====================================================================\n",
      "문장에 표현된 감정 비율 :  64.3\n",
      "====================================================================\n",
      "['fields', 'abbey', 'from', 'well', 'vein', 'mere', 'opening', 'chapel', 'campus', 'country', 'university', 'way', 'turn', 'view', 'steps', 'until', 'before', 'through', 'since', 'by', 'head', 'sound', 'track', 'door', 'face', 'beach', 'into', 'onto', 'home', 'college', 'hold', 'in', 'upon', 'on', 'toward', 'during', 'to', 'up', 'past']\n",
      "====================================================================\n",
      "SETTING RATIO :  10.35\n",
      "====================================================================\n"
     ]
    },
    {
     "name": "stderr",
     "output_type": "stream",
     "text": [
      "\r",
      "  0%|          | 2/971 [00:53<7:17:48, 27.11s/it]"
     ]
    },
    {
     "name": "stdout",
     "output_type": "stream",
     "text": [
      "전체 문장에서 캐릭터를 의미하는 단어나 유사어 비율 : 6.3\n",
      "Degree of conflict  단어가 전체 문장(단어)에서 차지하는 비율 계산 : 0.2\n",
      "감정기복비율 : 64.3\n",
      "셋팅비율 계산 :  10.35\n",
      "Plot Complxity : 80.22254495308658\n"
     ]
    },
    {
     "name": "stderr",
     "output_type": "stream",
     "text": [
      "\n",
      "100%|██████████| 93/93 [00:00<00:00, 3447.77it/s]\n"
     ]
    },
    {
     "data": {
      "image/png": "[encoded data removed]",
      "text/plain": [
       "<Figure size 432x288 with 1 Axes>"
      ]
     },
     "metadata": {
      "needs_background": "light"
     },
     "output_type": "display_data"
    },
    {
     "name": "stdout",
     "output_type": "stream",
     "text": [
      "ACTION VERBS RATIO : 8.807\n",
      "====================================================================\n",
      "에세이에 표현된 다양한 감정 수: 15\n",
      "====================================================================\n",
      "문장에 표현된 감정 비율 :  53.6\n",
      "====================================================================\n",
      "['camp', 'fields', 'ocean', 'from', 'route', 'well', 'off', 'campus', 'way', 'city', 'against', 'rest', 'view', 'until', 'leg', 'before', 'through', 'since', 'by', 'over', 'sound', 'face', 'into', 'home', 'college', 'path', 'in', 'forge', 'museum', 'on', 'above', 'after', 'during', 'to', 'up', 'trail']\n",
      "====================================================================\n",
      "SETTING RATIO :  9.97\n",
      "====================================================================\n"
     ]
    },
    {
     "name": "stderr",
     "output_type": "stream",
     "text": [
      "\r",
      "  0%|          | 3/971 [01:20<7:17:09, 27.10s/it]"
     ]
    },
    {
     "name": "stdout",
     "output_type": "stream",
     "text": [
      "전체 문장에서 캐릭터를 의미하는 단어나 유사어 비율 : 7.16\n",
      "Degree of conflict  단어가 전체 문장(단어)에서 차지하는 비율 계산 : 0.2\n",
      "감정기복비율 : 53.6\n",
      "셋팅비율 계산 :  9.97\n",
      "Plot Complxity : 66.18717828061565\n"
     ]
    },
    {
     "name": "stderr",
     "output_type": "stream",
     "text": [
      "\n",
      "100%|██████████| 82/82 [00:00<00:00, 3040.26it/s]\n"
     ]
    },
    {
     "data": {
      "image/png": "[encoded data removed]",
      "text/plain": [
       "<Figure size 432x288 with 1 Axes>"
      ]
     },
     "metadata": {
      "needs_background": "light"
     },
     "output_type": "display_data"
    },
    {
     "name": "stdout",
     "output_type": "stream",
     "text": [
      "ACTION VERBS RATIO : 11.411\n",
      "====================================================================\n",
      "에세이에 표현된 다양한 감정 수: 18\n",
      "====================================================================\n",
      "문장에 표현된 감정 비율 :  64.3\n",
      "====================================================================\n",
      "['realm', 'fields', 'from', 'well', 'off', 'street', 'university', 'country', 'way', 'tube', 'view', 'before', 'through', 'by', 'wall', 'intersection', 'sound', 'into', 'onto', 'path', 'room', 'in', 'on', 'to', 'up']\n",
      "====================================================================\n",
      "SETTING RATIO :  8.74\n",
      "====================================================================\n"
     ]
    },
    {
     "name": "stderr",
     "output_type": "stream",
     "text": [
      "\r",
      "  0%|          | 4/971 [01:44<7:01:38, 26.16s/it]"
     ]
    },
    {
     "name": "stdout",
     "output_type": "stream",
     "text": [
      "전체 문장에서 캐릭터를 의미하는 단어나 유사어 비율 : 8.8\n",
      "Degree of conflict  단어가 전체 문장(단어)에서 차지하는 비율 계산 : 0.1\n",
      "감정기복비율 : 64.3\n",
      "셋팅비율 계산 :  8.74\n",
      "Plot Complxity : 79.90038360358479\n"
     ]
    },
    {
     "name": "stderr",
     "output_type": "stream",
     "text": [
      "\n",
      "100%|██████████| 254/254 [00:00<00:00, 3488.90it/s]\n"
     ]
    },
    {
     "data": {
      "image/png": "[encoded data removed]",
      "text/plain": [
       "<Figure size 432x288 with 1 Axes>"
      ]
     },
     "metadata": {
      "needs_background": "light"
     },
     "output_type": "display_data"
    },
    {
     "name": "stdout",
     "output_type": "stream",
     "text": [
      "ACTION VERBS RATIO : 10.113\n",
      "====================================================================\n",
      "에세이에 표현된 다양한 감정 수: 22\n",
      "====================================================================\n",
      "문장에 표현된 감정 비율 :  78.6\n",
      "====================================================================\n",
      "['fields', 'from', 'well', 'campus', 'country', 'university', 'way', 'rest', 'turn', 'near', 'view', 'state', 'before', 'through', 'since', 'village', 'by', 'head', 'over', 'behind', 'keep', 'face', 'down', 'into', 'beach', 'home', 'college', 'town', 'in', 'upon', 'on', 'house', 'after', 'along', 'during', 'to', 'up']\n",
      "====================================================================\n",
      "SETTING RATIO :  10.14\n",
      "====================================================================\n"
     ]
    },
    {
     "name": "stderr",
     "output_type": "stream",
     "text": [
      "\r",
      "  1%|          | 5/971 [02:15<7:24:19, 27.60s/it]"
     ]
    },
    {
     "name": "stdout",
     "output_type": "stream",
     "text": [
      "전체 문장에서 캐릭터를 의미하는 단어나 유사어 비율 : 8.86\n",
      "Degree of conflict  단어가 전체 문장(단어)에서 차지하는 비율 계산 : 0.0\n",
      "감정기복비율 : 78.6\n",
      "셋팅비율 계산 :  10.14\n",
      "Plot Complxity : 98.28442030657757\n"
     ]
    },
    {
     "name": "stderr",
     "output_type": "stream",
     "text": [
      "\n",
      "100%|██████████| 128/128 [00:00<00:00, 2984.99it/s]\n"
     ]
    },
    {
     "data": {
      "image/png": "[encoded data removed]",
      "text/plain": [
       "<Figure size 432x288 with 1 Axes>"
      ]
     },
     "metadata": {
      "needs_background": "light"
     },
     "output_type": "display_data"
    },
    {
     "name": "stdout",
     "output_type": "stream",
     "text": [
      "ACTION VERBS RATIO : 12.17\n",
      "====================================================================\n",
      "에세이에 표현된 다양한 감정 수: 17\n",
      "====================================================================\n",
      "문장에 표현된 감정 비율 :  60.7\n",
      "====================================================================\n",
      "['fields', 'from', 'well', 'circle', 'university', 'country', 'city', 'way', 'crossing', 'turn', 'steps', 'until', 'before', 'through', 'since', 'by', 'behind', 'keep', 'track', 'door', 'down', 'into', 'seat', 'park', 'home', 'mine', 'college', 'hold', 'window', 'in', 'museum', 'on', 'above', 'after', 'aisle', 'during', 'to', 'up', 'past', 'ford']\n",
      "====================================================================\n",
      "SETTING RATIO :  10.95\n",
      "====================================================================\n"
     ]
    },
    {
     "name": "stderr",
     "output_type": "stream",
     "text": [
      "\r",
      "  1%|          | 6/971 [02:45<7:33:50, 28.22s/it]"
     ]
    },
    {
     "name": "stdout",
     "output_type": "stream",
     "text": [
      "전체 문장에서 캐릭터를 의미하는 단어나 유사어 비율 : 8.35\n",
      "Degree of conflict  단어가 전체 문장(단어)에서 차지하는 비율 계산 : 0.7\n",
      "감정기복비율 : 60.7\n",
      "셋팅비율 계산 :  10.95\n",
      "Plot Complxity : 74.6201495492337\n"
     ]
    },
    {
     "name": "stderr",
     "output_type": "stream",
     "text": [
      "\n",
      "100%|██████████| 92/92 [00:00<00:00, 2713.10it/s]\n"
     ]
    },
    {
     "data": {
      "image/png": "[encoded data removed]",
      "text/plain": [
       "<Figure size 432x288 with 1 Axes>"
      ]
     },
     "metadata": {
      "needs_background": "light"
     },
     "output_type": "display_data"
    },
    {
     "name": "stdout",
     "output_type": "stream",
     "text": [
      "ACTION VERBS RATIO : 8.61\n",
      "====================================================================\n",
      "에세이에 표현된 다양한 감정 수: 17\n",
      "====================================================================\n",
      "문장에 표현된 감정 비율 :  60.7\n",
      "====================================================================\n",
      "['camp', 'fields', 'from', 'well', 'off', 'furnace', 'prison', 'way', 'against', 'body', 'until', 'before', 'through', 'glass', 'by', 'wall', 'over', 'giant', 'depths', 'post', 'farm', 'face', 'into', 'seat', 'college', 'room', 'forge', 'in', 'on', 'after', 'to', 'up', 'past']\n",
      "====================================================================\n",
      "SETTING RATIO :  11.5\n",
      "====================================================================\n"
     ]
    },
    {
     "name": "stderr",
     "output_type": "stream",
     "text": [
      "\r",
      "  1%|          | 7/971 [03:13<7:31:17, 28.09s/it]"
     ]
    },
    {
     "name": "stdout",
     "output_type": "stream",
     "text": [
      "전체 문장에서 캐릭터를 의미하는 단어나 유사어 비율 : 7.05\n",
      "Degree of conflict  단어가 전체 문장(단어)에서 차지하는 비율 계산 : 0.1\n",
      "감정기복비율 : 60.7\n",
      "셋팅비율 계산 :  11.5\n",
      "Plot Complxity : 75.2748754565559\n"
     ]
    },
    {
     "name": "stderr",
     "output_type": "stream",
     "text": [
      "\n",
      "100%|██████████| 326/326 [00:00<00:00, 7105.96it/s]\n"
     ]
    },
    {
     "data": {
      "image/png": "[encoded data removed]",
      "text/plain": [
       "<Figure size 432x288 with 1 Axes>"
      ]
     },
     "metadata": {
      "needs_background": "light"
     },
     "output_type": "display_data"
    },
    {
     "name": "stdout",
     "output_type": "stream",
     "text": [
      "ACTION VERBS RATIO : 10.721\n",
      "====================================================================\n",
      "에세이에 표현된 다양한 감정 수: 23\n",
      "====================================================================\n",
      "문장에 표현된 감정 비율 :  82.1\n",
      "====================================================================\n",
      "['fields', 'ocean', 'wild', 'from', 'sea', 'dais', 'march', 'river', 'off', 'street', 'land', 'campus', 'bar', 'way', 'forest', 'city', 'temple', 'body', 'sanctuary', 'mouth', 'against', 'state', 'near', 'pool', 'mirror', 'until', 'before', 'through', 'since', 'remnant', 'by', 'head', 'wall', 'laboratory', 'clearing', 'over', 'behind', 'stone', 'volcano', 'post', 'void', 'farm', 'track', 'face', 'mill', 'down', 'into', 'slum', 'below', 'court', 'onto', 'home', 'corner', 'mine', 'stand', 'path', 'hold', 'pit', 'beside', 'gorge', 'in', 'upon', 'stream', 'on', 'waste', 'chest', 'house', 'along', 'during', 'to', 'up', 'past']\n",
      "====================================================================\n",
      "SETTING RATIO :  10.92\n",
      "====================================================================\n"
     ]
    },
    {
     "name": "stderr",
     "output_type": "stream",
     "text": [
      "\r",
      "  1%|          | 8/971 [03:58<8:53:31, 33.24s/it]"
     ]
    },
    {
     "name": "stdout",
     "output_type": "stream",
     "text": [
      "전체 문장에서 캐릭터를 의미하는 단어나 유사어 비율 : 8.44\n",
      "Degree of conflict  단어가 전체 문장(단어)에서 차지하는 비율 계산 : 0.1\n",
      "감정기복비율 : 82.1\n",
      "셋팅비율 계산 :  10.92\n",
      "Plot Complxity : 102.75026557143295\n"
     ]
    },
    {
     "name": "stderr",
     "output_type": "stream",
     "text": [
      "\n",
      "100%|██████████| 23/23 [00:00<00:00, 1913.19it/s]\n"
     ]
    },
    {
     "data": {
      "image/png": "[encoded data removed]",
      "text/plain": [
       "<Figure size 432x288 with 1 Axes>"
      ]
     },
     "metadata": {
      "needs_background": "light"
     },
     "output_type": "display_data"
    },
    {
     "name": "stdout",
     "output_type": "stream",
     "text": [
      "ACTION VERBS RATIO : 13.6\n"
     ]
    }
   ],
   "source": [
    "from tqdm import tqdm\n",
    "\n",
    "essay_results = []\n",
    "\n",
    "for file_name_raw in tqdm(file_list): # 파일이름을 하나씩 불러와서\n",
    "    file_name = path  + file_name_raw #경로를 추가하고\n",
    "    with open(file_name, 'r') as json_file : #JSON파일로 파일을 열어서\n",
    "        ps_input_each_data = json.load(json_file) # JSON파일로 로드한다.\n",
    "        input_text = json.dumps(ps_input_each_data)\n",
    "        re_each_ess = ai_plot_conf(input_text)\n",
    "        essay_results.append(re_each_ess)"
   ]
  },
  {
   "cell_type": "code",
   "execution_count": null,
   "metadata": {},
   "outputs": [],
   "source": [
    "essay_results"
   ]
  },
  {
   "cell_type": "code",
   "execution_count": null,
   "metadata": {},
   "outputs": [],
   "source": [
    "df_r = pd.DataFrame(essay_results, columns =['plot_complexity', 'emotional_rollercoaster', 'degree_conflict'])  #e데이터프레임에 넣기\n",
    "df_r"
   ]
  },
  {
   "cell_type": "code",
   "execution_count": null,
   "metadata": {},
   "outputs": [],
   "source": [
    "setting_indicators_mean = df_r['plot_complexity'].mean()\n",
    "intro_re_mean = df_r['emotional_rollercoaster'].mean()\n",
    "body_re_mean = df_r['degree_conflict'].mean()\n"
   ]
  },
  {
   "cell_type": "code",
   "execution_count": null,
   "metadata": {},
   "outputs": [],
   "source": [
    "setting_all_1000data_mean = [setting_indicators_mean, intro_re_mean, body_re_mean]"
   ]
  },
  {
   "cell_type": "markdown",
   "metadata": {},
   "source": [
    "## 1000명 에세이 데이터 처리 결과 저장"
   ]
  },
  {
   "cell_type": "code",
   "execution_count": null,
   "metadata": {},
   "outputs": [],
   "source": [
    "\n",
    "import pickle\n",
    "# save\n",
    "with open('1000_essay_results.pickle', 'wb') as f:\n",
    "    pickle.dump(essay_results, f, pickle.HIGHEST_PROTOCOL)"
   ]
  },
  {
   "cell_type": "code",
   "execution_count": null,
   "metadata": {},
   "outputs": [],
   "source": [
    "# load\n",
    "with open('data_ai_theme.pickle', 'rb') as f:\n",
    "    result_most_simWords = pickle.load(f)"
   ]
  },
  {
   "cell_type": "code",
   "execution_count": null,
   "metadata": {},
   "outputs": [],
   "source": []
  }
 ],
 "metadata": {
  "kernelspec": {
   "display_name": "Python 3",
   "language": "python",
   "name": "python3"
  },
  "language_info": {
   "codemirror_mode": {
    "name": "ipython",
    "version": 3
   },
   "file_extension": ".py",
   "mimetype": "text/x-python",
   "name": "python",
   "nbconvert_exporter": "python",
   "pygments_lexer": "ipython3",
   "version": "3.7.9"
  }
 },
 "nbformat": 4,
 "nbformat_minor": 4
}
