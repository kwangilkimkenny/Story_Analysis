{
 "cells": [
  {
   "cell_type": "code",
   "execution_count": 6,
   "id": "seventh-guest",
   "metadata": {},
   "outputs": [],
   "source": [
    "# Prompt Oriented Sentiments  -- 글속에 감정이 얼마나 표현되어 있는지 분석 - origin (Bert pre trained model 활용)\n",
    "import re\n",
    "from transformers import BertTokenizer\n",
    "from model import BertForMultiLabelClassification\n",
    "from multilabel_pipeline import MultiLabelPipeline\n",
    "from pprint import pprint\n",
    "\n",
    "tokenizer = BertTokenizer.from_pretrained(\"monologg/bert-base-cased-goemotions-original\")\n",
    "model = BertForMultiLabelClassification.from_pretrained(\"monologg/bert-base-cased-goemotions-original\")\n",
    "\n",
    "goemotions = MultiLabelPipeline(\n",
    "    model=model,\n",
    "    tokenizer=tokenizer,\n",
    "    threshold=0.3\n",
    ")"
   ]
  },
  {
   "cell_type": "code",
   "execution_count": 7,
   "id": "metropolitan-haven",
   "metadata": {},
   "outputs": [],
   "source": [
    "\n",
    "def Prompt_Oriented_Sentiments_analysis(essay_input):\n",
    "    ########## 여기서는 최초 입력 에세이를 적용한다. input_text !!!!!!!!\n",
    "    re_text = essay_input.split(\".\")\n",
    "\n",
    "    #데이터 전처리 \n",
    "    def cleaning(datas):\n",
    "\n",
    "        fin_datas = []\n",
    "\n",
    "        for data in datas:\n",
    "            # 영문자 이외 문자는 공백으로 변환\n",
    "            only_english = re.sub('[^a-zA-Z]', ' ', data)\n",
    "        \n",
    "            # 데이터를 리스트에 추가 \n",
    "            fin_datas.append(only_english)\n",
    "\n",
    "        return fin_datas\n",
    "\n",
    "    texts = cleaning(re_text)\n",
    "\n",
    "    #분석된 감정만 추출\n",
    "    emo_re = goemotions(texts)\n",
    "\n",
    "    emo_all = []\n",
    "    for list_val in range(0, len(emo_re)):\n",
    "        #print(emo_re[list_val]['labels'],emo_re[list_val]['scores'])\n",
    "        #mo_all.append((emo_re[list_val]['labels'],emo_re[list_val]['scores'])) #KEY, VALUE만 추출하여 리스트로 저장\n",
    "        #emo_all.append(emo_re[list_val]['scores'])\n",
    "        emo_all.append((emo_re[list_val]['labels']))\n",
    "        \n",
    "    #추출결과 확인 \n",
    "    # emo_all\n",
    "\n",
    "    # ['sadness'],\n",
    "    #  ['anger'],\n",
    "    #  ['admiration', 'realization'],\n",
    "    #  ['admiration', 'disappointment'],\n",
    "    #  ['love'],\n",
    "    #  ['sadness', 'neutral'],\n",
    "    #  ['realization', 'neutral'],\n",
    "    #  ['neutral'],\n",
    "    #  ['optimism'],\n",
    "    #  ['neutral'],\n",
    "    #  ['excitement'],\n",
    "    #  ['neutral'],\n",
    "    #  ['neutral'],\n",
    "    #  ['caring'],\n",
    "    #  ['gratitude'],\n",
    "    #  ['admiration', 'approval'], ...\n",
    "\n",
    "    from pandas.core.common import flatten #이중리스틀 FLATTEN하게 변환\n",
    "    flat_list = list(flatten(emo_all))\n",
    "\n",
    "    # ['neutral',\n",
    "    #  'neutral',\n",
    "    #  'sadness',\n",
    "    #  'anger',\n",
    "    #  'admiration',\n",
    "    #  'realization',\n",
    "    #  'admiration',\n",
    "    #  'disappointment',\n",
    "\n",
    "\n",
    "    #중립적인 감정을 제외하고, 입력한 문장에서 다양한 감정을 모두 추출하고 어떤 감정이 있는지 계산해보자\n",
    "    unique = []\n",
    "    for r in flat_list:\n",
    "        if r == 'neutral':\n",
    "            pass\n",
    "        else:\n",
    "            unique.append(r)\n",
    "\n",
    "    #중립감정 제거 및 유일한 감정값 확인\n",
    "    #unique\n",
    "    unique_re = set(unique) #중복제거\n",
    "\n",
    "    ############################################################################\n",
    "    # 글에 표현된 감정이 얼마나 다양한지 분석 결과!!!¶\n",
    "    # print(\"====================================================================\")\n",
    "    # print(\"에세이에 표현된 다양한 감정 수:\", len(unique_re))\n",
    "    # print(\"====================================================================\")\n",
    "\n",
    "    #분석가능한 감정 총 감정 수 - Bert origin model 적용시 28개 감정 추출돰\n",
    "    total_num_emotion_analyzed = 28\n",
    "\n",
    "    # 감정기복 비율 계산 !!!\n",
    "    result_emo_swings =round(len(unique_re)/total_num_emotion_analyzed *100,1) #소숫점 첫째자리만 표현\n",
    "    # print(\"문장에 표현된 감정 비율 : \", result_emo_swings)\n",
    "    # print(\"====================================================================\")\n",
    "    return result_emo_swings"
   ]
  },
  {
   "cell_type": "code",
   "execution_count": 8,
   "id": "civilian-departure",
   "metadata": {},
   "outputs": [],
   "source": [
    "# input College Supp Essay \n",
    "essay_input = \"\"\"I inhale deeply and blow harder than I thought possible, pushing the tiny ember from its resting place on the candle out into the air. The room erupts around me, and 'Happy Birthday!' cheers echo through the halls. It's time to make a wish. In my mind, that new Limited Edition Deluxe Ben 10 watch will soon be mine. My parents and the aunties and uncles around me attempt to point me in a different direction. 'Wish that you get to go to the temple every day when you're older! Wish that you memorize all your Sanskrit texts before you turn 6! Wish that you can live in India after college!' My ears listen, but my mind tunes them out, as nothing could possibly compare to that toy watch! What I never realized on my third birthday is that those wishes quietly tell the story of how my family hopes my life will play out. In this version of my life, there wasn't much room for change, personal growth, or 'rocking the boat.' A vital aspect of my family's cultural background is their focus on accepting things as they are. Growing up, I was discouraged from questioning others or asking questions that didn't have definitive yes or no answers. If I innocently asked my grandma why she expected me to touch her feet, my dad would grab my hand in a sudden swoop, look me sternly in the eye, and tell me not to disrespect her like that again. At home, if I mentioned that I had tried eggs for breakfast at a friend's house, I'd be looked at like I had just committed a felony for eating what my parents considered meat. If I asked the priest at the temple why he had asked an Indian man and his white wife to leave, I'd be met with a condescending glare and told that I should also leave for asking such questions.In direct contrast, my curiosity was invited and encouraged at school. After an environmental science lesson, I stayed for a few minutes after class to ask my 4th-grade science teacher with wide eyes how it was possible that Niagara Falls doesn't run out of flowing water. Instead of scolding me for asking her a 'dumb question,' she smiled and explained the intricacy of the water cycle. Now, if a teacher mentions that we'll learn about why a certain proof or idea works only in a future class, I'll stay after to ask more or pour through an advanced textbook to try to understand it. While my perspective was widening at school, the receptiveness to raising complex questions at home was diminishing. After earning my driver's license, I registered as an organ donor. My small checkmark on a piece of paper led to an intense clash between my and my parents' moral platform. I wanted to ensure that I positively contributed to society, while my parents believed that organ donation was an unfamiliar and unnecessary cultural taboo. I would often ask for clarity or for reasons that supported their ideologies. Their response would usually entail feeling a deep, visceral sense that traditions must be followed exactly as taught, without objection. Told in one language to keep asking questions and in another to ask only the right ones, I chose exploring questions that don't have answers, rather than accepting answers that don't get questioned. When it comes to the maze of learning, even when I take a wrong turn and encounter roadblocks that are meant to stop me, I've learned to climb over them and keep moving forward. My curiosity strengthens with each hurdle and has expanded into a pure love of learning new things. I've become someone who seeks to understand things at a fundamental level and who finds excitement in taking on big questions that have yet to be solved. I'm no longer afraid to rock the boat. \"},{\"index\":1,\"personal_essay\":\"Ever since I first held a small foam Spiderman basketball in my tiny hands and watched my idol Kobe Bryant hit every three-pointer he attempted, I've wanted to understand and replicate his flawless jump shot. As my math education progressed in school, I began to realize I had the tools to create a perfect shot formula. After learning about variables for the first time in 5th grade Algebra, I began to treat each aspect of Kobe's jump shot as a different variable, each combination of variables resulting in a unique solution. While in 7th-grade geometry, I graphed the arc of his shot, and after learning about quadratic equations in 8th grade, I expressed his shot as a parabolic function that would ensure a swish when shooting from any spot. After calculus lessons in 10th and 11th grade, I was excited to finally solve for the perfect velocity and acceleration needed on my release. At Brown, I hope to explore this intellectual pursuit through a different lens. What if I could maximize the odds of making shots if I understood the science behind one's mental mindset and focus through CLPS 500: Perception and Action? Or use astrophysics to account for drag and gravitational force anywhere in the universe? Or use data science to break down the analytics of the NBA's best shooters? Through the Open Curriculum, I see myself not only becoming a more complete learner, but also a more complete thinker, applying a flexible mindset to any problem I encounter. Brown's Open Curriculum allows students to explore broadly while also diving deeply into their academic pursuits. Tell us about an academic interest (or interests) that excites you, and how you might use the Open Curriculum to pursue it. I've been playing the Mridangam since I was five years old. It's a simple instrument: A wood barrel covered on two ends by goatskin with leather straps surrounding the hull. This instrument serves as a connection between me and one of the most beautiful aspects of my culture: Carnatic music. As a young child, I'd be taken to the temple every weekend for three-hour-long Carnatic music concerts, where the most accomplished teenagers and young adults in our local Indian community would perform. I would watch in awe as the mridangists' hands moved gracefully, flowing across the goatskin as if they weren't making contact, while simultaneously producing sharp rhythmic patterns that never failed to fall on the beat. Hoping to be like these idols on the stage, I trained intensely with my teacher, a strict man who taught me that the simple drum I was playing had thousands of years of culture behind it. Building up from simple strokes, I realized that the finger speed I'd had been awestruck by wasn't some magical talent, it was instead a science perfected by repeated practice.\"\"\"\n"
   ]
  },
  {
   "cell_type": "code",
   "execution_count": 9,
   "id": "organic-orbit",
   "metadata": {},
   "outputs": [
    {
     "data": {
      "text/plain": [
       "46.4"
      ]
     },
     "execution_count": 9,
     "metadata": {},
     "output_type": "execute_result"
    }
   ],
   "source": [
    "Prompt_Oriented_Sentiments_analysis(essay_input)"
   ]
  },
  {
   "cell_type": "code",
   "execution_count": null,
   "id": "digital-renaissance",
   "metadata": {},
   "outputs": [],
   "source": []
  },
  {
   "cell_type": "code",
   "execution_count": null,
   "id": "final-cornell",
   "metadata": {},
   "outputs": [],
   "source": []
  }
 ],
 "metadata": {
  "kernelspec": {
   "display_name": "Python 3",
   "language": "python",
   "name": "python3"
  },
  "language_info": {
   "codemirror_mode": {
    "name": "ipython",
    "version": 3
   },
   "file_extension": ".py",
   "mimetype": "text/x-python",
   "name": "python",
   "nbconvert_exporter": "python",
   "pygments_lexer": "ipython3",
   "version": "3.7.9"
  }
 },
 "nbformat": 4,
 "nbformat_minor": 5
}
