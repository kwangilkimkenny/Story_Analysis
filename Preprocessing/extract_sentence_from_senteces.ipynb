{
 "cells": [
  {
   "cell_type": "code",
   "execution_count": 25,
   "id": "interior-samuel",
   "metadata": {},
   "outputs": [],
   "source": [
    "from nltk.tokenize import word_tokenize\n",
    "from nltk.tokenize import sent_tokenize\n",
    "import re\n",
    "from nltk.stem import WordNetLemmatizer\n",
    "from nltk.corpus import stopwords\n",
    "stop = stopwords.words('english')"
   ]
  },
  {
   "cell_type": "code",
   "execution_count": 26,
   "id": "typical-witch",
   "metadata": {},
   "outputs": [],
   "source": [
    " sentence_lower = ['in my opinion','i believe','in my mind','it would seem that','it could be argued that','the evidence suggests that','this proves that the','supports the idea that',\n",
    "                    'although ','it seems to me that','in my opinion,','i am of the opinion that','i take the view that','my personal view is that','in my experience','as far as i understand',\n",
    "                    'as far as i can see','as i see it','from my point of view','as far as i know','from what i know','i might be wrong but','if i am not mistaken','i believe one can say',\n",
    "                    'i believe one can safely say','i cannot deny that','i can imagine that','i believe','i think', 'i suppose','personally, i think','that is why i think','i am sure that',\n",
    "                    'i am certain that','i am convinced that','i am convinced that','i am not sure, but','i am not certain, but',\n",
    "                    \"i am not sure, because i don't know the situation exactly\",'i am not convinced that','i have read that','i am of mixed opinions about',\n",
    "                    'i am of mixed opinions on','it is obvious that','it is certain that','one can say that','it is clear that','there is no doubt that','the fact is that','the point is that',\n",
    "                    'the main point is that','this proves that','what it comes down to is that','i am of mixed opinions on this','i am of mixed opinions about this','i have no opinion in this matter',\n",
    "                    'it is claimed that','i must admit that','in my opinion','from my point of view','in my view','as i see','i think','my mind','as i see it','from my standpoint','i believe',\n",
    "                    'i believe that','from my vantage point','from where i sit','from where i stand','if you ask me','way i see it','as far as i am concerned','for me','in my eyes','in my point of view',\n",
    "                    'i think that','in my estimation','in my perspective','it seems to me','i feel','in my judgment','according to my way of thinking','from my own point of view','from my viewpoint',\n",
    "                    'in my book','in my judgement','way i see','according to me','according to my belief','from a personal perspective','from my view','i suppose','it seems to me that',\n",
    "                    'speaking for myself','speaking personally','for my part','for myself','i feel that','my way of thinking',\"as far as i'm concerned\",'for my money','i assume','my thinking',\n",
    "                    'my viewpoint','according to my lights','as for me','by my reckoning','for my own part','from me',\"from one's point of view\",'from our point of view',\"from where i'm sitting\",\n",
    "                    'how i see it','i am of the opinion that','in thinking this through, i conclude','outta my sight','i consider','i do believe','i get the feeling that','i get the impression that',\n",
    "                    'i guess','i have a feeling that','i have the feeling that','i have the impression that','i see','i suspect','i thought','i was thinking','in my experience','in my mind',\n",
    "                    'in my own view','it is my belief that','it seems that','my eyes','my way','the best of my belief','as far as i can tell','as far as i know','as far as i understand',\n",
    "                    'as far as i was concerned','as i wish','as i would have it','consider this','for my taste','from my personal standpoint','from the perspective','from where i was standing',\n",
    "                    \"from where i'm standing\",'i believe so','i guess that','i have noticed that','i have observed','i have observed that','i have seen that','i maintain that','i reckon',\n",
    "                    'i regard','i suggest','i would say','i would suggest','in my humble opinion','in my own conceit','in my position','in my thinking','it seems likely',\"it's my understanding\",\n",
    "                    'methinks','my understanding is','my view is that','sounds to me like','what i say is','you can see that','as far as i understand it','as to me','by my estimation',\n",
    "                    'by my lights','for all i know','for my own sake','for my sake','from where i am','i conclude','i dare say that','i imagine that','i infer','i personally believe',\n",
    "                    'i personally feel','i personally find','i personally suppose','i personally think','i presume','i reckon that','i understand that','i would say that',\"i'd like to point out that\",\n",
    "                    \"i'd suggest that\",\"i'm thinking\",'in my own viewpoint','in my personal opinion','in opinion','it appears','it goes without saying that','it is my assessment','it is my impression that',\n",
    "                    'it is my opinion that','it looks like','it pretends to be','it resembles','it seems',\"it's obvious to me\",'my belief is that','my conviction is that','my impression is that',\n",
    "                    'my knowledge','my opinion is that','my perspective','my thinking is','my thought is','my view','one can postulate','one might argue that','personally','personally i think',\n",
    "                    'personally speaking','point is that','this assumes','what i mean is','all i care','for all i care','from my side','from my sight','from sight','from where i sat',\n",
    "                    'from where i was sitting','in my case','in my personal opinion, i believe','in my personal opinion, i reckon','in my personal opinion, i suppose','in my personal opinion, i think',\n",
    "                    'in my viewpoint','i think that','i really think that','i believe','i believe that','i’m sure that','in my opinion','my opinion is','i agree with','i feel that','i imagine',\n",
    "                    'i guess','i have no doubt that','i’m certain that','i strongly believe that','i’ve never really thought about this before, but','my personal opinion is that',\n",
    "                    'personally, my opinion is that ','to be honest','in my honest opinion, ','as far as i know, ','i agree with the opinion of ','i could be wrong, but ','i’d definitely say that',\n",
    "                    'i’d guess that ','i’d imagine that ','i’d say that','i’m absolutely certain that','i’m fairly confident that','i’m no expert, but','i’m no expert on this, but ','i’m positive that',\n",
    "                    'i’m pretty sure that','it seems to me that','it’s a complicated issue, but','it’s a difficult issue, but','my view is','my view on this is','my point of view on this is','my point of view is',\n",
    "                    'obviously,','to the best of my knowledge,','what i think is','you could say','my opinion was best expressed by ','in my limited experience','it could/might well be that',\n",
    "                    'know what i think? ','in my opinion','in my eyes','to my mind','as far as i am concerned','speaking personally','from my point of view','as for me','as to me','my view is that',\n",
    "                    'my opinion is that','my beliefis that','my impression is that','my conviction is that','i hold the view that','i am sure','i am certain that ','some people may disagree with me, but',\n",
    "                    'this is just my opinion, but','without a doubt,','you probably won’t agree, but','after much thought,','after weighing up both sides of the argument',\n",
    "                    'although i can see both points of view','although i can understand the opposite point of view','as i see it,','correct me if i’m wrong, but','for me','from my point of view',\n",
    "                    'frankly,','i am not very familiar with this topic, but','i do believe','i do feel','i do think','i have come to the conclusion that','i might change my mind later, but',\n",
    "                    'i suppose','i reckon','i tend to think that','i’m not sure i’m the right person to ask, but','i have very limited experience of this, but','i’m pretty confident that',\n",
    "                    'i’ve always thought that','if you ask me,',\"i'm convinced that\",\"i'm absolutely convinced that\",'in my humble opinion','imho','it could be said that','it seems clear to me that',\n",
    "                    'it would seem to me that','my initial reaction is','not everyone will agree with me, but','not everyone would agree with me, but','personally speaking','speaking for myself','i would say that',\n",
    "                    'it seems to me that','i am of the opinion that','my impression is that','i am under the impression that','it is my impression that','i have the feeling that',\n",
    "                    'my own feeling on the subject is that','i have no doubt that','my view this issue is clear','my position on this issue is that','my view on this is that','off the top of my head',\n",
    "                    'plainly','quite frankly','there is a part of me that says','this may well be controversial, but','to my mind','to my way of thinking','to summarise my views on the matter',\n",
    "                    'to summarise my rather complex views on the matter','what i always say is','with some reservations','without a shred/shadow of doubt',\n",
    "                    'you’d have to be crazy not to agree thatany idiot can see that','after giving this matter some serious thought',\"as far as i'm concerned\",'as the old saying goes',\n",
    "                    'having given this question due consideration','i am of the opinion that','i can’t help thinking that','i know this is a minority view, but ','i’m in the minority in thinking that',\n",
    "                    'i tend towards the opinion that','i think it’s reasonable to say','i think it’s fair to say','i’ll tell you what i think','i’m quite convinced that',\n",
    "                    'i’m entirely convinced that','i’ve come the conclusion that','if i must come up with an opinion','if you want my opinion,','the way i see it is',\n",
    "                    'if you really want my opinion,','the way i see it','to be frank','to be perfectly frank','i think that','i consider that','i find  that','i feel that','i believe that',\n",
    "                    'i suppose that','i presume that','i assume that','i hold the opinion that','i dare say that','i guess that','i bet that','i gather that','it goes without saying that']"
   ]
  },
  {
   "cell_type": "code",
   "execution_count": 27,
   "id": "wooden-belly",
   "metadata": {},
   "outputs": [],
   "source": [
    "# input College Supp Essay \n",
    "essay_input = \"\"\"I inhale deeply and blow harder than I thought possible, pushing the tiny ember from its resting place on the candle out into the air. The room erupts around me, and 'Happy Birthday!' cheers echo through the halls. It's time to make a wish. In my mind, that new Limited Edition Deluxe Ben 10 watch will soon be mine. My parents and the aunties and uncles around me attempt to point me in a different direction. 'Wish that you get to go to the temple every day when you're older! Wish that you memorize all your Sanskrit texts before you turn 6! Wish that you can live in India after college!' My ears listen, but my mind tunes them out, as nothing could possibly compare to that toy watch! What I never realized on my third birthday is that those wishes quietly tell the story of how my family hopes my life will play out. In this version of my life, there wasn't much room for change, personal growth, or 'rocking the boat.' A vital aspect of my family's cultural background is their focus on accepting things as they are. Growing up, I was discouraged from questioning others or asking questions that didn't have definitive yes or no answers. If I innocently asked my grandma why she expected me to touch her feet, my dad would grab my hand in a sudden swoop, look me sternly in the eye, and tell me not to disrespect her like that again. At home, if I mentioned that I had tried eggs for breakfast at a friend's house, I'd be looked at like I had just committed a felony for eating what my parents considered meat. If I asked the priest at the temple why he had asked an Indian man and his white wife to leave, I'd be met with a condescending glare and told that I should also leave for asking such questions.In direct contrast, my curiosity was invited and encouraged at school. After an environmental science lesson, I stayed for a few minutes after class to ask my 4th-grade science teacher with wide eyes how it was possible that Niagara Falls doesn't run out of flowing water. Instead of scolding me for asking her a 'dumb question,' she smiled and explained the intricacy of the water cycle. Now, if a teacher mentions that we'll learn about why a certain proof or idea works only in a future class, I'll stay after to ask more or pour through an advanced textbook to try to understand it. While my perspective was widening at school, the receptiveness to raising complex questions at home was diminishing. After earning my driver's license, I registered as an organ donor. My small checkmark on a piece of paper led to an intense clash between my and my parents' moral platform. I wanted to ensure that I positively contributed to society, while my parents believed that organ donation was an unfamiliar and unnecessary cultural taboo. I would often ask for clarity or for reasons that supported their ideologies. Their response would usually entail feeling a deep, visceral sense that traditions must be followed exactly as taught, without objection. Told in one language to keep asking questions and in another to ask only the right ones, I chose exploring questions that don't have answers, rather than accepting answers that don't get questioned. When it comes to the maze of learning, even when I take a wrong turn and encounter roadblocks that are meant to stop me, I've learned to climb over them and keep moving forward. My curiosity strengthens with each hurdle and has expanded into a pure love of learning new things. I've become someone who seeks to understand things at a fundamental level and who finds excitement in taking on big questions that have yet to be solved. I'm no longer afraid to rock the boat. \"},{\"index\":1,\"personal_essay\":\"Ever since I first held a small foam Spiderman basketball in my tiny hands and watched my idol Kobe Bryant hit every three-pointer he attempted, I've wanted to understand and replicate his flawless jump shot. As my math education progressed in school, I began to realize I had the tools to create a perfect shot formula. After learning about variables for the first time in 5th grade Algebra, I began to treat each aspect of Kobe's jump shot as a different variable, each combination of variables resulting in a unique solution. While in 7th-grade geometry, I graphed the arc of his shot, and after learning about quadratic equations in 8th grade, I expressed his shot as a parabolic function that would ensure a swish when shooting from any spot. After calculus lessons in 10th and 11th grade, I was excited to finally solve for the perfect velocity and acceleration needed on my release. At Brown, I hope to explore this intellectual pursuit through a different lens. What if I could maximize the odds of making shots if I understood the science behind one's mental mindset and focus through CLPS 500: Perception and Action? Or use astrophysics to account for drag and gravitational force anywhere in the universe? Or use data science to break down the analytics of the NBA's best shooters? Through the Open Curriculum, I see myself not only becoming a more complete learner, but also a more complete thinker, applying a flexible mindset to any problem I encounter. Brown's Open Curriculum allows students to explore broadly while also diving deeply into their academic pursuits. Tell us about an academic interest (or interests) that excites you, and how you might use the Open Curriculum to pursue it. I've been playing the Mridangam since I was five years old. It's a simple instrument: A wood barrel covered on two ends by goatskin with leather straps surrounding the hull. This instrument serves as a connection between me and one of the most beautiful aspects of my culture: Carnatic music. As a young child, I'd be taken to the temple every weekend for three-hour-long Carnatic music concerts, where the most accomplished teenagers and young adults in our local Indian community would perform. I would watch in awe as the mridangists' hands moved gracefully, flowing across the goatskin as if they weren't making contact, while simultaneously producing sharp rhythmic patterns that never failed to fall on the beat. Hoping to be like these idols on the stage, I trained intensely with my teacher, a strict man who taught me that the simple drum I was playing had thousands of years of culture behind it. Building up from simple strokes, I realized that the finger speed I'd had been awestruck by wasn't some magical talent, it was instead a science perfected by repeated practice.\"\"\"\n"
   ]
  },
  {
   "cell_type": "code",
   "execution_count": 28,
   "id": "featured-eligibility",
   "metadata": {},
   "outputs": [],
   "source": [
    "# preprocessing\n",
    "def preprocessing(essay_input):\n",
    "    essay_input_corpus = str(essay_input) #문장입력\n",
    "    essay_input_corpus_ = essay_input_corpus.lower()#소문자 변환\n",
    "    #print('essay_input_corpus :', essay_input_corpus)\n",
    "\n",
    "    sentences  = sent_tokenize(essay_input_corpus_) #문장 토큰화 > 문장으로 구분\n",
    "    total_sentences = len(sentences)#토큰으로 처리된 총 문장 수\n",
    "    total_words = word_tokenize(essay_input_corpus_)\n",
    "    total_words_num = len(word_tokenize(essay_input_corpus_))# 총 단어수\n",
    "    #print(total_words)\n",
    "    split_sentences = []\n",
    "    for sentence in sentences:\n",
    "        processed = re.sub(\"[^a-zA-Z]\",\" \", sentence)\n",
    "        words = processed.split()\n",
    "        split_sentences.append(words)\n",
    "\n",
    "    # 총 문장수 곗한\n",
    "    split_sentences_cnt = len(split_sentences)\n",
    "\n",
    "\n",
    "    lemmatizer = WordNetLemmatizer()\n",
    "    preprossed_sent_all = [] # 문장별로 단어의 원형을 리스트로 구분하여 변화한 모든 문장값 [[문장],[문장..토큰화] ...\n",
    "    for i in split_sentences:\n",
    "        preprossed_sent = [] # 개별문장을 단어 원형으로 구성된 리스트[문장..토큰화]\n",
    "        for i_ in i:\n",
    "            if i_ not in stop: #remove stopword\n",
    "                lema_re = lemmatizer.lemmatize(i_, pos='v') #표제어 추출, 동사는 현재형으로 변환, 3인칭 단수는 1인칭으로 변환\n",
    "                if len(lema_re) > 3: # 단어 길이가 3 초과단어만 저장(길이가 3 이하는 제거)\n",
    "                    preprossed_sent.append(lema_re)\n",
    "        preprossed_sent_all.append(preprossed_sent)\n",
    "\n",
    "    #print('preprossed_sent_all:', preprossed_sent_all)\n",
    "    \n",
    "    # preprossed_sent_all 이중 리스트를 flatten하게 만들고, 여기에서 Perspective를 카운트해서 비교 계산하면 됨\n",
    "    flatten_dic_list = [y for x in preprossed_sent_all for y in x]\n",
    "\n",
    "        \n",
    "    input_essay_words = flatten_dic_list\n",
    "    #print('input_essay_words:', input_essay_words)\n",
    "\n",
    "\n",
    "    # 문장들을 문장리스트로 분해하고 다시 각 문장을 단어 리스트로 분해하여 이중리스트를 만든다.\n",
    "    def double_list(essay_input_data):\n",
    "        result = essay_input_data.split(\".\")\n",
    "\n",
    "        wdt_sents = []\n",
    "        for i in result:\n",
    "            wdt = word_tokenize(i)\n",
    "            wdt_sent = []\n",
    "            for j in wdt:\n",
    "                lw_wdt = j.lower() # 소문자 변환\n",
    "                wdt_sent.append(lw_wdt)\n",
    "            wdt_sents.append(wdt_sent)\n",
    "        return wdt_sents\n",
    "\n",
    "    get_double_list = double_list(essay_input)\n",
    "\n",
    "    # 결과 해석 #\n",
    "    # input_essay_words : 입력한 에세이를 단어로 분해한 것 type: list ------------> 이것만 사용함\n",
    "    # split_sentences_cnt : 입력한 총 문장의 수\n",
    "    # get_double_list : 문장들을 문장리스트로 분해하고 다시 각 문장을 단어 리스트로 분해하여 이중리스트\n",
    "    return input_essay_words, split_sentences_cnt, get_double_list"
   ]
  },
  {
   "cell_type": "code",
   "execution_count": 29,
   "id": "confirmed-reconstruction",
   "metadata": {},
   "outputs": [],
   "source": [
    "# 문장들을 문장리스트로 분해하고 다시 각 문장을 단어 리스트로 분해하여 이중리스트를 만드는 Method\n",
    "def sents_to_sent_list(sentence_lower):\n",
    "    wdt_sents = []\n",
    "    for i in sentence_lower:\n",
    "        wdt = word_tokenize(i)\n",
    "        wdt_sent = []\n",
    "        for j in wdt:\n",
    "            lw_wdt = j.lower() # 소문자 변환\n",
    "            wdt_sent.append(lw_wdt)\n",
    "        wdt_sents.append(wdt_sent)\n",
    "\n",
    "    return wdt_sents"
   ]
  },
  {
   "cell_type": "code",
   "execution_count": 30,
   "id": "reliable-adjustment",
   "metadata": {},
   "outputs": [],
   "source": [
    "comp_sents = sents_to_sent_list(sentence_lower)  # [['in', 'my', 'opinion'], ['i', 'believe'],['in', 'my', 'mind'],....\n",
    "wwd = preprocessing(essay_input) # wwd[2] 의 결과를 아래에 넣음"
   ]
  },
  {
   "cell_type": "code",
   "execution_count": 31,
   "id": "representative-twist",
   "metadata": {},
   "outputs": [],
   "source": [
    "# 비교하려는 표현이 들어있는 문장을 찾기 위해서\n",
    "# 각 표현의 문장과 에세이 문장을 비교하여 겹치는 단어 수가 정확히 표현문장과 일치할 때, 원본 문장을 생성한다.\n",
    "get_matching_sents_all = [] #표현이 포함된 문장 추출되어 리스트에 담김\n",
    "for sent in comp_sents: # 비교하고자 하는 문구를 리스트로 분리한 리스트집합\n",
    "    for e in sent: # 문구별로 하나씩 가져와서, 개발 리스트의 값(단어)\n",
    "        for itm in wwd[2]: # 에세이의 한 문장을 리스트로 분리한 값\n",
    "            cnt = 0 #카운터 초기화\n",
    "            get_matching_sents = []\n",
    "            if e in itm: # 에세이 문장에, 비교 문구의 단어가 있다면, 카운트를 해서\n",
    "                cnt += 1\n",
    "                if cnt == len(sent)-2: #일치하는 단어가 비교하려는 문구의 단어 수와 같다면, 해당 비교 문장(단어 리스트로 묶인 문장)을 별도로 저장한다.\n",
    "                    get_matching_sents.append(itm)\n",
    "                else:\n",
    "                    pass\n",
    "            get_matching_sents_all.append(get_matching_sents)"
   ]
  },
  {
   "cell_type": "code",
   "execution_count": 32,
   "id": "opening-witch",
   "metadata": {},
   "outputs": [],
   "source": [
    "# 빈 리스트 없애기 - 이중리스트 삭제하고\n",
    "get_mat_org_sents = [y for x in get_matching_sents_all for y in x] \n",
    "\n",
    "# 각 리스트를 개별 문장으로 복원한 리스트로 변환\n",
    "full_snt_re = []\n",
    "for lit in get_mat_org_sents:\n",
    "    full_snt = ' '.join(lit)\n",
    "    full_snt_re.append(full_snt)\n",
    "# 추출한 최종 문장 - 이것은 비교분석하고자하는 문장이 포함된 문장이다.\n",
    "result_re = list(set(full_snt_re))\n",
    "#print('추출한 최종 문장 - 이것은 비교분석하고자하는 문장이 포함된 문장:', result_re)\n",
    "# perstive의 관련 단어가 포함된 문장의 수\n",
    "tot_cnt_perspective_exp = len(result_re)\n",
    "#print('perstive의 관련 단어가 포함된 문장의 수:', tot_cnt_perspective_exp)"
   ]
  },
  {
   "cell_type": "code",
   "execution_count": 34,
   "id": "statutory-baseline",
   "metadata": {},
   "outputs": [
    {
     "data": {
      "text/plain": [
       "43"
      ]
     },
     "execution_count": 34,
     "metadata": {},
     "output_type": "execute_result"
    }
   ],
   "source": [
    "tot_cnt_perspective_exp"
   ]
  },
  {
   "cell_type": "code",
   "execution_count": null,
   "id": "premium-hawaii",
   "metadata": {},
   "outputs": [],
   "source": []
  }
 ],
 "metadata": {
  "kernelspec": {
   "display_name": "Python 3",
   "language": "python",
   "name": "python3"
  },
  "language_info": {
   "codemirror_mode": {
    "name": "ipython",
    "version": 3
   },
   "file_extension": ".py",
   "mimetype": "text/x-python",
   "name": "python",
   "nbconvert_exporter": "python",
   "pygments_lexer": "ipython3",
   "version": "3.7.9"
  }
 },
 "nbformat": 4,
 "nbformat_minor": 5
}
