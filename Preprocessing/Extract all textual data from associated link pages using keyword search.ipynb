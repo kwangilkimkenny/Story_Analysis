{
 "cells": [
  {
   "cell_type": "markdown",
   "id": "sublime-generator",
   "metadata": {},
   "source": [
    "# Extract all textual data from associated link pages using keyword search\n",
    "# 이 코드는 키워드를 입력하면 \n",
    "1) 1차로 구글검색을 통해서 결과룰 추출 - 연결링크 모두 수집 <br>\n",
    "2) 2차로 링크페이지에 모두 접속하여 text 데이터를 추출하여 리스트로 돌려주는(출력) 기능"
   ]
  },
  {
   "cell_type": "code",
   "execution_count": 1,
   "id": "thorough-premium",
   "metadata": {},
   "outputs": [],
   "source": [
    "# Chrome 버전을 확인하고 드라이버 버전을 동일하게 해야 함\n",
    "# 크롬드라이버 다운로드 링크 : https://chromedriver.chromium.org/downloads\n",
    "# 현재 사용하는 크롬 버전 90.0.4430.85(공식 빌드) (x86_64)\n",
    "# 적용한 크롬 드라이버 버전은 위와 동일"
   ]
  },
  {
   "cell_type": "code",
   "execution_count": 2,
   "id": "known-induction",
   "metadata": {},
   "outputs": [],
   "source": [
    "import re\n",
    "import pandas as pd\n",
    "import openpyxl\n",
    "from urllib.parse import ParseResultBytes, quote_plus\n",
    "from bs4 import BeautifulSoup\n",
    "from selenium import webdriver\n",
    "\n",
    "from tqdm import tqdm\n",
    "\n",
    "from nltk.stem import WordNetLemmatizer\n",
    "lemmatizer = WordNetLemmatizer()\n",
    "\n",
    "from nltk.corpus import stopwords\n",
    "stop = stopwords.words('english')\n",
    "stop_words = set(stopwords.words('english')) \n",
    "\n",
    "options = webdriver.ChromeOptions()\n",
    "options.add_argument('headless')\n",
    "options.add_argument('window-size=1920x1080')\n",
    "options.add_argument(\"disable-gpu\")\n",
    "# 혹은 options.add_argument(\"--disable-gpu\")\n",
    "\n",
    "# UserAgent값을 바꿔줍시다! 서버가 인식하지 못하도록 가상으로 headless 값 추가함ㅠ\n",
    "options.add_argument(\"user-agent=Mozilla/5.0 (Macintosh; Intel Mac OS X 10_12_6) AppleWebKit/537.36 (KHTML, like Gecko) Chrome/61.0.3163.100 Safari/537.36\")\n"
   ]
  },
  {
   "cell_type": "code",
   "execution_count": 3,
   "id": "advanced-butler",
   "metadata": {},
   "outputs": [],
   "source": [
    "def cleaning_data(input_data):\n",
    "    remove = input_data.replace(\"  \",\" \") # 변환\n",
    "    remove_ = re.sub(r\"\\t\", \" \", remove) # 제거\n",
    "    remove__ = re.sub(r\"\\n\", \" \", remove_) # 제거\n",
    "    remove__ = remove__.replace(\"   \", \" \")\n",
    "    remove__ = remove__.replace(\"  \", \" \")\n",
    "    remove__ = remove__.replace(\" \", \",\")\n",
    "    remove__ = remove__.replace(\"…/\", \" \")\n",
    "    remove__ = remove__.replace(\"…\", \" \")\n",
    "    remove__ = remove__.replace(\"/\", \" \")\n",
    "    remove__ = remove__.replace(\" \", \",\")\n",
    "    remove__ = remove__.replace(\")\", \",\")\n",
    "    remove__ = remove__.replace(\"(\", \",\")\n",
    "    preprossed = remove__.split(\",\") # 단어를 리스트로 변환\n",
    "    #print(preprossed)\n",
    "    \n",
    "    # 표제어 추출, 동사는 현재형으로 변환\n",
    "    lemma_list =[]\n",
    "    for i in preprossed:\n",
    "        lema_re = lemmatizer.lemmatize(i, pos='v') #표제어 추출, 동사는 현재형으로 변환\n",
    "        lemma_list.append(lema_re)\n",
    "    \n",
    "    # 표제어 추출\n",
    "    ext_lema = [lemmatizer.lemmatize(w) for w in preprossed]\n",
    "    # 중복값을 제거하고\n",
    "    rm_dupli = set(ext_lema)\n",
    "    # 다시 리스트로 만들고\n",
    "    re_li = list(rm_dupli)\n",
    "    # 빈 값은 제거하고\n",
    "    get_wd =list(filter(None, re_li))\n",
    "    # 소문자로 모두 변환\n",
    "    lower_wd = [i.lower() for i in get_wd]\n",
    "    \n",
    "    result = []\n",
    "    for w in lower_wd: \n",
    "        if w not in stop_words: \n",
    "            result.append(w)\n",
    "    return result"
   ]
  },
  {
   "cell_type": "code",
   "execution_count": 4,
   "id": "destroyed-music",
   "metadata": {},
   "outputs": [],
   "source": [
    "def google_search_result_tp_knowledge(input_word):\n",
    "    baseUrl = 'https://www.google.com/search?q='\n",
    "\n",
    "    #plusUrl = input('무엇을 검색할까요? :')\n",
    "    plusUrl = input_word\n",
    "\n",
    "    # url = baseUrl + quote_plus(plusUrl)\n",
    "    url = baseUrl + plusUrl\n",
    "    # 한글을 사용할 경우 :  quote_plus 적용 - URL에 막 %CE%GD%EC 이런 거 생성해줌\n",
    "\n",
    "    driver = webdriver.Chrome(executable_path= r'./data/chromedriver_mac_ver_90', chrome_options=options)\n",
    "    driver.get(url)\n",
    "\n",
    "    html = driver.page_source\n",
    "    soup = BeautifulSoup(html, features=\"html.parser\")\n",
    "\n",
    "    v = soup.select('.yuRUbf')\n",
    "\n",
    "    search_title_result = []\n",
    "    search_linked_contents_result = []\n",
    "    for i in v:\n",
    "        #print(i.select_one('.LC20lb.DKV0Md').text)\n",
    "        search_title_result.append(i.select_one('.LC20lb.DKV0Md').text)\n",
    "        print(i.a.attrs['href'])\n",
    "        search_linked_contents_result.append(i.a.attrs['href'])\n",
    "        #print()\n",
    "\n",
    "\n",
    "    # search_linked_contents_result 의 각 링크로 접속하여 해당 내용을 모두 text로 크롤링한 후, body내의 단어들만 추출한다.\n",
    "    get_all_linked_web_data = []\n",
    "    for linked_page in tqdm(search_linked_contents_result):\n",
    "        driver.get(linked_page)\n",
    "        html = driver.page_source\n",
    "        get_all_data = BeautifulSoup(html, features=\"html.parser\")\n",
    "        get_all_linked_web_data.append(get_all_data)\n",
    "        \n",
    "    body = re.search('<body.*/body>', html, re.I|re.S)\n",
    "    if (body is None):\n",
    "        print (\"No <body> in html\")\n",
    "        exit()\n",
    "            \n",
    "    body = body.group()\n",
    "    #print(body)\n",
    "    \n",
    "    # 추출된 정보 클린징\n",
    "    korean = re.compile('[\\u3131-\\u3163\\uac00-\\ud7a3]+')#한글제거\n",
    "\n",
    "    item_extract = str(body).replace('\\n', ' ')\n",
    "    item_extract = re.sub('<span.*?>.*?</span>', ' ', item_extract)\n",
    "    item_extract = re.sub('<b>.*?</b>', ' ', item_extract)    \n",
    "    item_extract = re.sub('<.*?>', ' ', item_extract)        \n",
    "    item_extract = item_extract.replace('\\t', ' ')\n",
    "    item_extract = re.sub(korean, '', item_extract)\n",
    "    item_extract = re.sub('[-=.#/?:$}]', ' ', item_extract)\n",
    "    item_extract = re.sub(\"[-=+,#/\\?:^$.@*\\\"※~&%ㆍ!』;{}()'\\\\‘|\\(\\)\\[\\]\\<\\>`\\'…》]\", ' ', item_extract)\n",
    "    #print (item_extract)\n",
    "    \n",
    "    driver.close()\n",
    "\n",
    "    get_result_str = str(item_extract)\n",
    "    result_cln = cleaning_data(get_result_str) # 결과값 청소\n",
    "    result = list(set(result_cln)) # 중복제거\n",
    "\n",
    "    return result"
   ]
  },
  {
   "cell_type": "code",
   "execution_count": 5,
   "id": "opened-dominant",
   "metadata": {},
   "outputs": [
    {
     "name": "stderr",
     "output_type": "stream",
     "text": [
      "/Users/kimkwangil/opt/anaconda3/envs/py37pytorch/lib/python3.7/site-packages/ipykernel_launcher.py:11: DeprecationWarning: use options instead of chrome_options\n",
      "  # This is added back by InteractiveShellApp.init_path()\n",
      "  0%|          | 0/13 [00:00<?, ?it/s]"
     ]
    },
    {
     "name": "stdout",
     "output_type": "stream",
     "text": [
      "https://www.collegeessayguy.com/blog/college-essay-examples\n",
      "https://www.princetonreview.com/college-advice/college-essay\n",
      "https://www.collegebasics.com/applying-to-college/seven-ways-to-make-your-college-essay-stand-out/\n",
      "https://blog.collegevine.com/8-questions-your-college-essay-should-answer/\n",
      "https://www.fastweb.com/college-search/articles/college-admissions-essay-topics-to-avoid\n",
      "https://www.shemmassianconsulting.com/blog/college-essay-examples\n",
      "https://www.usnews.com/education/best-colleges/articles/2019-04-24/college-essay-examples-how-to-write-your-story\n",
      "https://www.usnews.com/education/best-colleges/articles/how-to-write-a-college-essay\n",
      "https://www.princetonreview.com/college-advice/college-essay\n",
      "https://blog.prepscholar.com/what-is-a-personal-statement-everything-you-need-to-know-about-the-college-essay\n",
      "https://blog.prepscholar.com/college-essay-examples-that-worked-expert-analysis\n",
      "https://apply.jhu.edu/application-process/essays-that-worked/\n",
      "https://blog.collegevine.com/personal-statement-essay-examples/\n"
     ]
    },
    {
     "name": "stderr",
     "output_type": "stream",
     "text": [
      "100%|██████████| 13/13 [00:48<00:00,  3.74s/it]\n"
     ]
    },
    {
     "name": "stdout",
     "output_type": "stream",
     "text": [
      "['real', 'grade', 'urging', 'might', 'new', 'applicant', '2023', '2021', 'texas', 'worried', 'unfair', 'like', 'bag', 'html', 'reading', 'year', 'communities', 'journey', 'http', 'subscribe', 'sat', 'graduate', 'felt', 'surprised', 'enabled', 'spice', 'questions', 'course', 'written', 'becoming', 'feed', 'students’', 'write', 'community', 'window', 'road', 'personal', 'drove', 'application', 'name', 'document', 'flagname', 'ce8524c1e3a3', 'seen', 'careers', 'thousand', 'exercise', 'understand', 'find', 'middle', 'addition', 'play', 'strong', 'early', '2416790', 'freedom', 'j', 'b2iexixdbaepgrxfeiepirt1wzaib2dmwjtx5va2', 'fifth', 'posts', 'cardemail', 'confirmation', 'converter', 'true', 'rest', 'what’s', 'way', 'terms', '4c28', 'test', 'financial', 'youssef', 'post', 'let', 'change', 'difference', 'applying', 'bus', 'lock', 'you’ll', 'interrupted', 'newsletter', 'mistake', 'around', 'pageuri', 'review', 'cs', 'stellar', 'information', 'officer', '5', 'ground', '6d41c6e5', 'earlier', 'always', 'education', 'multiple', 'api', 'call', 'length', 'integration', 'contact', 'asia', 'learning', 'bargaining', 'don’t', 'without', 'e', 'life', 'hope', 'modal', 'country', 'hsforms', 'dependent', 'successfully', 'onload', 'today', 'email', 'looks', 'straight', 'divorce', 'important', 'would', 'unset', 'tips', 'app', 'calculate', 'lib', 'street', 'network', 'room', 'large', 'hard', 'meeting', 'position', 'student', 'pressure', 'oregon', 'getting', 'square', 'confident', 'florida', 'follow', 'interest', 'michigan', 'put', 'rule', 'news', 'didn’t', 'bio', 'guide', 'playing', 'learned', '3x1xmtjmhpxo', 'mission', 'although', 'meet', 'stop', 'expected', 'later', 'first', 'loved', 'house', 'spoke', 'error', 'standardized', 'motivated', 'many', 'morocco', 'home', 'studied', 'location', 'lesson', 'glimpse', 'individuality', 'similarly', 'younger', 'bustling', 'categories', 'unsetuserflag', 'extracurricular', 'good', 'dad’s', 'mom', 'allowed', 'get', 'fare', 'constant', 'improve', 'master', 'california', 'really', 'wows', 'program', 'step', 'signing', 'tulane', 'academically', 'become', 'everything', 'support', 'ten', 'idea', 'practice', 'discussed', 'load', 'prep', 'nbsp', '4d14', 'account', 'psychology', 'fully', 'free', 'missing', 'bottom', 'stressed', 'come', '8f32', 'thanks', 'runsessionsideeffects', 'complete', 'us', 'prompt', 'backdrop', 'achieve', 'place', 'knew', 'summer', 'use', 'patiently', 'constantly', 'pagescripts', 'university', 'changed', '—', 'expectation', 'heap', 'path', 'contenttype', 'person', 'scent', 'ajax', 'reflective', 'experience', 'common', 'attended', 'letting', 'realized', 'one', 'unique', 'calculator', 'med', '💰', 'day', 'jiupxtdttoeunpybgndwhovjja9tgqdhwwqb', 'succeed', 'madrasa', 'mosaic', 'oboe', 'language', 'oh', 'give', 'blogger', 'etc', 'answered', 'inbox', 'paid', 'success', 'it’s', 'may', 'mean', 'coalition', 'livestreams', 'view', 'short', 'peer', 'extracurriculars', 'strength', 'formid', 'immature', 'ago', 'chance', 'dashboard', 'performance', 'autonomous', 'admission', 'essay', '2022', 'typeof', 'checklists', 'image', 'vendor', 'english', 'continued', 'analysis', 'fulfill', 'type', 'worked', 'majors', 'preventdefault', 'please', 'flag', 'parents’', 'perfect', 'revised', 'main', '––', 'refresh', 'corrected', 'past', 'dbfc13e4', 'miss', 'effective', '11', 'log', 'setuserflag', 'dismissed', 'despite', 'create', '8641', 'editing', 'desires’', 'try', 'furniture', 'funded', '95f3', 'l', 'sense', 'data', 'making', 'college', 'factor', 'writer', 'family’s', 'aid', 'still', 'intensive', 'downloads', 'began', 'dad', 'submission', 'wa', 'study', 'health', 'resource', 'scores', 'ultimate', 'see', 'close', 'tool', 'live', 'chances', 'refused', 'scholarship', 'light', '→', 'heapnewsession', 'guidance', 'soon', 'a’s', 'became', 'writing', 'draft', 'stand', 'amp', 'activity', 'form', 'rate', 'pushed', 'self', 'sport', '2020', 'ornate', 'high', 'field', 'tip', 'context', 'school', 'messed', 'pre', 'wholly', 'additional', 'medieval', 'held', 'go', 'alone', 'week', 'related', 'version', 'trip', 'uncomfortable', 'authenticity_token', 'york', 'event', 'ha', 'supplemental', 'signup', 'child', 'seven', 'access', 'similar', 'somewhat', 'enough', 'cta', 'little', 'think', 'towards', 'collegevine', 'complied', 'best', 'applied', 'unification', 'function', 'swim', 'pick', 'bbfb', '12th', 'academics', 'overcame', '10', '←how', 'actually', 'moved', 'wrong', 'cv', 'src', 'fumble', 'press', 'strolled', 'article', 'family', 'example', 'discover', 'easy', '672c39980544', 'defined', 'aice', 'learn', 'static', 'essays', 'full', 'negative', 'word', '1a16', 'fall', 'city', 'train', 'every', 'parent', 'webinars', 'according', 'set', 'v3', 'across', 'guides', 'submit', 'acceptance', 'fair', 'market', 'com', 'hobby', 'portalid', 'join', 'json', 'share', '11th', 'achievement', 'rail', 'business', 'tests', 'even', 'opportunity', 'j0qwtp1xa', 'keyboard', 'approach', 'battle', 'special', 'examples', 'studying', 'blog', 'independent', 'value', 'val', 'quite', '6', 'lazy', 'academic', 'explore', 'rejection', '9th', 'foreign', 'gq6zti9yk', 'washington', '10th', 'uncommon', 'diversity', 'colleges', 'want', 'better', 'attr', 'took', 'love', '📝', 'host', 'speaking', 'crush', 'var', 'b', 'part', 'team', 'arbor', 'transform', 'url', 'accepted', 'enable', 'focus', '🎪', 'demand', 'help', 'background', 'hidden', 'mark', 'young', 'track', 'sufficient', 'difficult', 'notice', 'bradlee', 'covered', 'freshly', 'allows', 'thoughts', 'end', 'initiative', 'const', 'unified', 'ready', 'list', 'prompts', '2024', 'exclusive', 'map', 'ann', 'next', 'throughout', 'brother', 'belief', 'right', 'told', 'applications', 'presence', 'must', 'comfortable', 'public', 'template_id', '0', 'sufficiency', 'hbspt', 'arabic', 'schools', 'process', 'provide', 'something', 'stroke', 'space', 'send', 'old', 'flag_name', 'know', 'show', 'missed', 'gpa', 'exchange', 'ben', 'final', 'improved', 'snyi', 'grow', 'wgzq74rt6jxf', 'develop', 'build', 'start', 'believe', 'pressured', 'doesn’t', 'riding', 'thought', 'hour', 'exam', 'thing', 'led', 'growth', 'independence', 'statement', 'however', 'back', 'navigated', 'twisting', 'undefined', 'feel', 'wish', 'went', 'make', 'database', 'pastry', 'javascript', 'fragrant', 'resources', 'busier', 'committed', 'three', 'convinced', 'beyond', 'interesting', 'nutrition', 'compelled', 'href', 'select', 'lived', 'hnpilpow3yusb7wrxlurt3xktniyiij5jolwsn1tms91bn0ug', 'stringify', 'separation', 'profile', 'travel', 'individually', 'dutifully', 'diploma', 'desire', 'apps', 'drive', '©', 'pattern', 'wasn’t', 'scholarships', 'privacy', 'higher', 'marrakesh']\n"
     ]
    }
   ],
   "source": [
    "# run ##\n",
    "\n",
    "#result = google_search_result(input_word)\n",
    "result = google_search_result_tp_knowledge(\"college personal essay\")\n",
    "\n",
    "print(result)\n"
   ]
  },
  {
   "cell_type": "code",
   "execution_count": null,
   "id": "failing-variance",
   "metadata": {},
   "outputs": [],
   "source": []
  }
 ],
 "metadata": {
  "kernelspec": {
   "display_name": "Python 3",
   "language": "python",
   "name": "python3"
  },
  "language_info": {
   "codemirror_mode": {
    "name": "ipython",
    "version": 3
   },
   "file_extension": ".py",
   "mimetype": "text/x-python",
   "name": "python",
   "nbconvert_exporter": "python",
   "pygments_lexer": "ipython3",
   "version": "3.7.9"
  }
 },
 "nbformat": 4,
 "nbformat_minor": 5
}
