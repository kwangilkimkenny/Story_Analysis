{
 "cells": [
  {
   "cell_type": "code",
   "execution_count": 4,
   "id": "ad155e6f",
   "metadata": {},
   "outputs": [],
   "source": [
    "# offic venv : py37Torch"
   ]
  },
  {
   "cell_type": "code",
   "execution_count": 3,
   "id": "7c4df449",
   "metadata": {},
   "outputs": [
    {
     "name": "stdout",
     "output_type": "stream",
     "text": [
      "Collecting BeautifulSoup4\n",
      "  Using cached beautifulsoup4-4.9.3-py3-none-any.whl (115 kB)\n",
      "Collecting soupsieve>1.2\n",
      "  Downloading soupsieve-2.2.1-py3-none-any.whl (33 kB)\n",
      "Installing collected packages: soupsieve, BeautifulSoup4\n",
      "Successfully installed BeautifulSoup4-4.9.3 soupsieve-2.2.1\n"
     ]
    }
   ],
   "source": [
    "!pip install BeautifulSoup4"
   ]
  },
  {
   "cell_type": "code",
   "execution_count": 32,
   "id": "12bd9563",
   "metadata": {},
   "outputs": [],
   "source": [
    "import requests\n",
    "from bs4 import BeautifulSoup\n",
    "\n",
    "class grant_crawler:\n",
    "\n",
    "    def url_requests(self,address):\n",
    "        try:\n",
    "            req = requests.get(address,timeout=5)\n",
    "        except:\n",
    "            return \"Timeout error..\"\n",
    "        source = req.text\n",
    "        return BeautifulSoup(source, 'html.parser')\n",
    "\n",
    "    def find_target_class_list(self,str_data,target_string):\n",
    "        index = 0\n",
    "        table_list = []\n",
    "        while index > -1:\n",
    "            index = str_data.find(target_string, index)\n",
    "            if index > -1:\n",
    "                table_info = str(str_data[index:str_data.find('>', index)])\n",
    "                table_list.append(table_info.split(\"=\")[1].split(\"\\\"\")[1].split(\" \")[0])\n",
    "                index += 1\n",
    "        return table_list\n",
    "\n",
    "    def find_target_slicing(self,str_data,target_string):\n",
    "        index = 0\n",
    "        while index > -1:\n",
    "            index = str_data.find(target_string, index)\n",
    "            if index > -1:\n",
    "                str_data = str_data[:index]\n",
    "                index += 1\n",
    "        return str_data\n",
    "\n",
    "    def wikipedia_search(self,address):\n",
    "        ################# 위키피디아 전용 ########################\n",
    "        url_respond = self.url_requests(address)\n",
    "        if url_respond == \"Timeout error..\":\n",
    "            return \"Timeout error..\"\n",
    "        else:\n",
    "            contents = url_respond\n",
    "\n",
    "            def section_info(request_instance,selector):\n",
    "                info_txt = request_instance.select(selector)\n",
    "                if(len(info_txt)>0):\n",
    "                    return info_txt[0].text\n",
    "                else:\n",
    "                    return \"\"\n",
    "\n",
    "            contents_info = contents.select(\"#mw-content-text > div.mw-parser-output\")\n",
    "            index_info = section_info(contents,\"#toc\")\n",
    "            infobox_info = section_info(contents,\"#mw-content-text > div.mw-parser-output > table.infobox.vcard\")\n",
    "            ref_info = section_info(contents,\"#mw-content-text > div.mw-parser-output > div.reflist\")\n",
    "\n",
    "            filtered_info = contents_info[0].text.replace(index_info,\"\").replace(infobox_info,\"\").replace(ref_info,\"\")\n",
    "\n",
    "            str_data = str(contents_info[0])\n",
    "            table_list = self.find_target_class_list(str_data,'<table class=')\n",
    "\n",
    "            table_result = list(map(lambda x: contents.select(\".\"+str(x)), list(set(table_list))))\n",
    "\n",
    "\n",
    "            for table_index in range(len(table_result)):\n",
    "                for table_buffer in range(len(table_result[table_index])):\n",
    "                    filtered_info = filtered_info.replace(str(table_result[table_index][table_buffer].text),\"\")\n",
    "\n",
    "            ## Ref number 삭제\n",
    "            for N_ref in list(map(lambda x: x.text, contents.select('.reference'))):\n",
    "                filtered_info = filtered_info.replace(N_ref,\"\")\n",
    "\n",
    "            ## Reference 이후 불필요한 부분 삭제\n",
    "            filtered_info = self.find_target_slicing(filtered_info,\"References[edit]\")\n",
    "            filtered_info = filtered_info.replace(\"[edit]\",\"\") ## edit 제거\n",
    "            filtered_info = filtered_info.split(\"\\n\")\n",
    "\n",
    "            strip_list = list(map(lambda x: x.strip(),filtered_info))\n",
    "\n",
    "            sentence = \"\"\n",
    "            for ingredient in strip_list:\n",
    "                if(ingredient == ''):\n",
    "                    pass\n",
    "                else:\n",
    "                    ingredient = ingredient.replace(\"\\xa0\",\" \") ## 이따금 들어오는 공백 널문자는 공백으로 대체함.\n",
    "                    ## 각 요소 마다 마지막엔 구두점으로 끝나게하자.(문장 구분을 통해 NLP성능 극대화)\n",
    "                    if(ingredient[-1] == \".\"):\n",
    "                        pass\n",
    "                    else:\n",
    "                        ingredient += \".\"\n",
    "                    sentence += ingredient + \" \"\n",
    "\n",
    "            return sentence[:-1]"
   ]
  },
  {
   "cell_type": "code",
   "execution_count": 33,
   "id": "3b037d0e",
   "metadata": {},
   "outputs": [
    {
     "data": {
      "text/plain": [
       "<!DOCTYPE html>\n",
       "<html lang=\"en\"><head><meta charset=\"utf-8\"/><link href=\"https://stories.starbucks.com/favicon.ico\" rel=\"shortcut icon\"/><meta content=\"width=device-width,initial-scale=1,shrink-to-fit=no\" name=\"viewport\"/><meta content=\"#000000\" name=\"theme-color\"/><link href=\"https://stories.starbucks.com/manifest.json\" rel=\"manifest\"/><title>Starbucks</title><link href=\"https://stories.starbucks.com/static/css/130.6cccecdc.chunk.css\" rel=\"stylesheet\"/><link href=\"https://stories.starbucks.com/static/css/main.a8580acc.chunk.css\" rel=\"stylesheet\"/></head><body><noscript>You need to enable JavaScript to run this app.</noscript><div class=\"sb-app-wrap\" id=\"root\"></div><div id=\"modal-root\"></div><script name=\"x-state\"></script><script>!function(e,t,a,n,g){e[n]=e[n]||[],e[n].push({\"gtm.start\":(new Date).getTime(),event:\"gtm.js\"});var m=t.getElementsByTagName(a)[0],r=t.createElement(a);r.async=!0,r.src=\"https://www.googletagmanager.com/gtm.js?id=GTM-P93LDX\",m.parentNode.insertBefore(r,m)}(window,document,\"script\",\"dataLayer\")</script><script>!function(o){function e(e){for(var a,c,f=e[0],t=e[1],r=e[2],d=0,n=[];d<f.length;d++)c=f[d],u[c]&&n.push(u[c][0]),u[c]=0;for(a in t)Object.prototype.hasOwnProperty.call(t,a)&&(o[a]=t[a]);for(s&&s(e);n.length;)n.shift()();return i.push.apply(i,r||[]),b()}function b(){for(var e,a=0;a<i.length;a++){for(var c=i[a],f=!0,t=1;t<c.length;t++){var r=c[t];0!==u[r]&&(f=!1)}f&&(i.splice(a--,1),e=l(l.s=c[0]))}return e}var c={},u={129:0},i=[];function l(e){if(c[e])return c[e].exports;var a=c[e]={i:e,l:!1,exports:{}};return o[e].call(a.exports,a,a.exports,l),a.l=!0,a.exports}l.e=function(r){var e=[],c=u[r];if(0!==c)if(c)e.push(c[2]);else{var a=new Promise(function(e,a){c=u[r]=[e,a]});e.push(c[2]=a);var f,d=document.createElement(\"script\");d.charset=\"utf-8\",d.timeout=120,l.nc&&d.setAttribute(\"nonce\",l.nc),d.src=l.p+\"static/js/\"+({}[r]||r)+\".\"+{0:\"8280fc8f\",1:\"01a9ed8a\",2:\"e75eb397\",3:\"773205a3\",4:\"5e40a5e0\",5:\"2003c67f\",6:\"b291824e\",7:\"d20e54fb\",8:\"4dee08da\",9:\"3e965f2c\",10:\"6e7c6380\",11:\"1cf307de\",12:\"0cd83e31\",13:\"4dc00046\",14:\"ae5020fc\",15:\"165fa139\",16:\"c4561276\",17:\"0b70f44f\",18:\"c707128b\",19:\"a0fdfcd7\",20:\"171b4ea1\",21:\"9b7513b6\",22:\"dee43cb9\",23:\"8a423d84\",24:\"8f84cf0e\",25:\"2bf00e8f\",26:\"601c8d85\",27:\"36d9e0d4\",28:\"e8788734\",29:\"c99cdd36\",30:\"5ac4d0d5\",31:\"8af68e9e\",32:\"87f5700f\",33:\"79ea255d\",34:\"4af8a6a1\",35:\"ec128db8\",36:\"7fdc00c6\",37:\"82724ee1\",38:\"1ebd93d8\",39:\"81f2063a\",40:\"4b290f49\",41:\"36818940\",42:\"94fa509e\",43:\"fe8a33a9\",44:\"8c043d1a\",45:\"0239ab9a\",46:\"35304b53\",47:\"e8cd6cae\",48:\"ef528c4c\",49:\"abc9e9a4\",50:\"697147ff\",51:\"3e561e27\",52:\"6ef9120c\",53:\"539b3ab1\",54:\"ef2b471b\",55:\"fb7e738a\",56:\"8851628a\",57:\"680d0ca2\",58:\"345e110b\",59:\"5a21c3ad\",60:\"569f236d\",61:\"c889d147\",62:\"9d562591\",63:\"cb287f4c\",64:\"9bc729c6\",65:\"411e1a36\",66:\"09d23988\",67:\"8dff526d\",68:\"dd8c0fc4\",69:\"c97394ba\",70:\"05f9520a\",71:\"3dcf6662\",72:\"3408d630\",73:\"a3909d8c\",74:\"19558560\",75:\"45b39398\",76:\"4eb9d475\",77:\"dd2477d9\",78:\"8a875aec\",79:\"83da3631\",80:\"d8010f18\",81:\"d0481dde\",82:\"b7f93cfa\",83:\"18e8ac34\",84:\"8cef9af1\",85:\"aca03645\",86:\"1b83bf26\",87:\"f21298ab\",88:\"ab9db056\",89:\"f8a44dd0\",90:\"bd6d766e\",91:\"390ea312\",92:\"816e5c8c\",93:\"c800e79f\",94:\"ef976537\",95:\"f2f9ddd6\",96:\"5eee43a0\",97:\"e6da2de9\",98:\"c2a91e83\",99:\"e15b0265\",100:\"a0daa181\",101:\"e3e97b5a\",102:\"1d09bc7b\",103:\"62001a55\",104:\"86bd835d\",105:\"290b5619\",106:\"f26f84a6\",107:\"d4a43df2\",108:\"9e2e5e9b\",109:\"93ec1258\",110:\"8d2d6539\",111:\"5b0a2a22\",112:\"9779696e\",113:\"e7f22006\",114:\"5d76da2d\",115:\"e7c6cda7\",116:\"7767c393\",117:\"5ecf5c41\",118:\"afd61f05\",119:\"8e941b52\",120:\"33e6cc17\",121:\"eb91b9ee\",122:\"cf731cc4\",123:\"b61ff772\",124:\"bab58f82\",125:\"47c8f9c7\",126:\"e136a92a\",127:\"df681de2\"}[r]+\".chunk.js\",f=function(e){d.onerror=d.onload=null,clearTimeout(n);var a=u[r];if(0!==a){if(a){var c=e&&(\"load\"===e.type?\"missing\":e.type),f=e&&e.target&&e.target.src,t=new Error(\"Loading chunk \"+r+\" failed.\\n(\"+c+\": \"+f+\")\");t.type=c,t.request=f,a[1](t)}u[r]=void 0}};var n=setTimeout(function(){f({type:\"timeout\",target:d})},12e4);d.onerror=d.onload=f,document.head.appendChild(d)}return Promise.all(e)},l.m=o,l.c=c,l.d=function(e,a,c){l.o(e,a)||Object.defineProperty(e,a,{enumerable:!0,get:c})},l.r=function(e){\"undefined\"!=typeof Symbol&&Symbol.toStringTag&&Object.defineProperty(e,Symbol.toStringTag,{value:\"Module\"}),Object.defineProperty(e,\"__esModule\",{value:!0})},l.t=function(a,e){if(1&e&&(a=l(a)),8&e)return a;if(4&e&&\"object\"==typeof a&&a&&a.__esModule)return a;var c=Object.create(null);if(l.r(c),Object.defineProperty(c,\"default\",{enumerable:!0,value:a}),2&e&&\"string\"!=typeof a)for(var f in a)l.d(c,f,function(e){return a[e]}.bind(null,f));return c},l.n=function(e){var a=e&&e.__esModule?function(){return e.default}:function(){return e};return l.d(a,\"a\",a),a},l.o=function(e,a){return Object.prototype.hasOwnProperty.call(e,a)},l.p=\"https://stories.starbucks.com/\",l.oe=function(e){throw console.error(e),e};var a=window.webpackJsonp=window.webpackJsonp||[],f=a.push.bind(a);a.push=e,a=a.slice();for(var t=0;t<a.length;t++)e(a[t]);var s=f;b()}([])</script><script src=\"https://stories.starbucks.com/static/js/130.f85b7abc.chunk.js\"></script><script src=\"https://stories.starbucks.com/static/js/main.a3d0d86c.chunk.js\"></script></body></html>"
      ]
     },
     "execution_count": 33,
     "metadata": {},
     "output_type": "execute_result"
    }
   ],
   "source": [
    "cr = crawler()\n",
    "\n",
    "address = \"https://stories.starbucks.com/stories/the-starbucks-foundation/\"\n",
    "\n",
    "se_re = cr.url_requests(address)\n",
    "\n",
    "se_re"
   ]
  },
  {
   "cell_type": "code",
   "execution_count": null,
   "id": "e8f01d2c",
   "metadata": {},
   "outputs": [],
   "source": []
  }
 ],
 "metadata": {
  "kernelspec": {
   "display_name": "Python 3",
   "language": "python",
   "name": "python3"
  },
  "language_info": {
   "codemirror_mode": {
    "name": "ipython",
    "version": 3
   },
   "file_extension": ".py",
   "mimetype": "text/x-python",
   "name": "python",
   "nbconvert_exporter": "python",
   "pygments_lexer": "ipython3",
   "version": "3.7.10"
  }
 },
 "nbformat": 4,
 "nbformat_minor": 5
}
