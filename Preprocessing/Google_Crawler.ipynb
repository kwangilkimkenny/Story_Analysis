{
 "cells": [
  {
   "cell_type": "code",
   "execution_count": 77,
   "id": "resident-wagner",
   "metadata": {},
   "outputs": [],
   "source": [
    "import re"
   ]
  },
  {
   "cell_type": "code",
   "execution_count": 78,
   "id": "motivated-setup",
   "metadata": {},
   "outputs": [
    {
     "name": "stderr",
     "output_type": "stream",
     "text": [
      "/Users/kimkwangil/opt/anaconda3/envs/py37pytorch/lib/python3.7/site-packages/ipykernel_launcher.py:27: DeprecationWarning: use options instead of chrome_options\n"
     ]
    },
    {
     "name": "stdout",
     "output_type": "stream",
     "text": [
      "<div id=\"result-stats\">검색결과 약 3,910,000,000개<nobr> (0.49초) </nobr></div>\n"
     ]
    }
   ],
   "source": [
    "#창없는 크롬으로 크롤링하기\n",
    "#https://beomi.github.io/2017/09/28/HowToMakeWebCrawler-Headless-Chrome/\n",
    "\n",
    "from urllib.parse import quote_plus\n",
    "from bs4 import BeautifulSoup\n",
    "from selenium import webdriver\n",
    "\n",
    "\n",
    "options = webdriver.ChromeOptions()\n",
    "options.add_argument('headless')\n",
    "options.add_argument('window-size=1920x1080')\n",
    "options.add_argument(\"disable-gpu\")\n",
    "# 혹은 options.add_argument(\"--disable-gpu\")\n",
    "\n",
    "# UserAgent값을 바꿔줍시다! 서버가 인식하지 못하도록 가상으로 headless 값 추가함ㅠ\n",
    "options.add_argument(\"user-agent=Mozilla/5.0 (Macintosh; Intel Mac OS X 10_12_6) AppleWebKit/537.36 (KHTML, like Gecko) Chrome/61.0.3163.100 Safari/537.36\")\n",
    "\n",
    "baseUrl = 'https://www.google.com/search?q='\n",
    "\n",
    "#plusUrl = input('무엇을 검색할까요? :')\n",
    "plusUrl = 'AI'\n",
    "\n",
    "# url = baseUrl + quote_plus(plusUrl)\n",
    "url = baseUrl + plusUrl\n",
    "# 한글을 사용할 경우 :  quote_plus 적용 - URL에 막 %CE%GD%EC 이런 거 생성해줌\n",
    "\n",
    "driver = webdriver.Chrome(executable_path= r'./data/chromedriver_home', chrome_options=options)\n",
    "driver.get(url)\n",
    "\n",
    "html = driver.page_source\n",
    "soup = BeautifulSoup(html)\n",
    "\n",
    "\n",
    "print(soup.find('div', id='result-stats'))\n",
    "get_result = soup.find('div', id='result-stats')\n",
    "\n",
    "driver.close()"
   ]
  },
  {
   "cell_type": "code",
   "execution_count": 79,
   "id": "incredible-facing",
   "metadata": {},
   "outputs": [
    {
     "data": {
      "text/plain": [
       "<div id=\"result-stats\">검색결과 약 3,910,000,000개<nobr> (0.49초) </nobr></div>"
      ]
     },
     "execution_count": 79,
     "metadata": {},
     "output_type": "execute_result"
    }
   ],
   "source": [
    "get_result"
   ]
  },
  {
   "cell_type": "code",
   "execution_count": 80,
   "id": "convinced-limitation",
   "metadata": {},
   "outputs": [
    {
     "data": {
      "text/plain": [
       "bs4.element.Tag"
      ]
     },
     "execution_count": 80,
     "metadata": {},
     "output_type": "execute_result"
    }
   ],
   "source": [
    "type(get_result)"
   ]
  },
  {
   "cell_type": "code",
   "execution_count": 81,
   "id": "adverse-strain",
   "metadata": {},
   "outputs": [
    {
     "data": {
      "text/plain": [
       "'<div id=\"result-stats\">검색결과 약 3,910,000,000개<nobr> (0.49초)\\xa0</nobr></div>'"
      ]
     },
     "execution_count": 81,
     "metadata": {},
     "output_type": "execute_result"
    }
   ],
   "source": [
    "result = str(get_result)\n",
    "result"
   ]
  },
  {
   "cell_type": "code",
   "execution_count": 82,
   "id": "tested-record",
   "metadata": {},
   "outputs": [
    {
     "data": {
      "text/plain": [
       "'<div id=\"result-stats\">검색결과 약 3,910,000,000개<nobr> '"
      ]
     },
     "execution_count": 82,
     "metadata": {},
     "output_type": "execute_result"
    }
   ],
   "source": [
    "re_ =re.sub(\"[^()]+$\", \"\", result)\n",
    "re__ =re.sub(\"\\([^)]*\\)\", \"\", re_) # 괄호안의 문제 제거\n",
    "re__"
   ]
  },
  {
   "cell_type": "code",
   "execution_count": 83,
   "id": "excess-respect",
   "metadata": {},
   "outputs": [
    {
     "data": {
      "text/plain": [
       "['3', '910', '000', '000']"
      ]
     },
     "execution_count": 83,
     "metadata": {},
     "output_type": "execute_result"
    }
   ],
   "source": [
    "re_d = re.findall(\"\\d+\", re__)\n",
    "re_d"
   ]
  },
  {
   "cell_type": "code",
   "execution_count": 84,
   "id": "loved-survival",
   "metadata": {},
   "outputs": [
    {
     "data": {
      "text/plain": [
       "'3910000000'"
      ]
     },
     "execution_count": 84,
     "metadata": {},
     "output_type": "execute_result"
    }
   ],
   "source": [
    "# 검색어로 추출한 결과물을 가지고 topic uniquness 기능을 적용. 검색결과가 평균값(비교 단어로 추정하여 정함)보다 작으면 unique, 크면 ununiqe topis 이다.\n",
    "search_re = \"\".join(re_d)\n",
    "search_re"
   ]
  },
  {
   "cell_type": "code",
   "execution_count": null,
   "id": "generic-camel",
   "metadata": {},
   "outputs": [],
   "source": []
  }
 ],
 "metadata": {
  "kernelspec": {
   "display_name": "Python 3",
   "language": "python",
   "name": "python3"
  },
  "language_info": {
   "codemirror_mode": {
    "name": "ipython",
    "version": 3
   },
   "file_extension": ".py",
   "mimetype": "text/x-python",
   "name": "python",
   "nbconvert_exporter": "python",
   "pygments_lexer": "ipython3",
   "version": "3.7.9"
  }
 },
 "nbformat": 4,
 "nbformat_minor": 5
}
