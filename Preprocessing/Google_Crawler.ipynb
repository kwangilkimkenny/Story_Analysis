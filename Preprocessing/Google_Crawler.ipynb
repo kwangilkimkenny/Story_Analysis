{
 "cells": [
  {
   "cell_type": "code",
   "execution_count": 98,
   "id": "described-monkey",
   "metadata": {},
   "outputs": [],
   "source": [
    "import re\n",
    "import pandas as pd\n",
    "import openpyxl\n",
    "from urllib.parse import ParseResultBytes, quote_plus\n",
    "from bs4 import BeautifulSoup\n",
    "from selenium import webdriver\n",
    "\n",
    "options = webdriver.ChromeOptions()\n",
    "options.add_argument('headless')\n",
    "options.add_argument('window-size=1920x1080')\n",
    "options.add_argument(\"disable-gpu\")\n",
    "# 혹은 options.add_argument(\"--disable-gpu\")\n",
    "\n",
    "# UserAgent값을 바꿔줍시다! 서버가 인식하지 못하도록 가상으로 headless 값 추가함ㅠ\n",
    "options.add_argument(\"user-agent=Mozilla/5.0 (Macintosh; Intel Mac OS X 10_12_6) AppleWebKit/537.36 (KHTML, like Gecko) Chrome/61.0.3163.100 Safari/537.36\")\n"
   ]
  },
  {
   "cell_type": "code",
   "execution_count": 99,
   "id": "cheap-trauma",
   "metadata": {},
   "outputs": [],
   "source": [
    "def google_search_result(input_word):\n",
    "    baseUrl = 'https://www.google.com/search?q='\n",
    "\n",
    "    #plusUrl = input('무엇을 검색할까요? :')\n",
    "    plusUrl = input_word\n",
    "\n",
    "    # url = baseUrl + quote_plus(plusUrl)\n",
    "    url = baseUrl + plusUrl\n",
    "    # 한글을 사용할 경우 :  quote_plus 적용 - URL에 막 %CE%GD%EC 이런 거 생성해줌\n",
    "\n",
    "    driver = webdriver.Chrome(executable_path= r'./data/chromedriver_mac_ver_90', chrome_options=options)\n",
    "    driver.get(url)\n",
    "\n",
    "    html = driver.page_source\n",
    "    soup = BeautifulSoup(html, features=\"html.parser\")\n",
    "\n",
    "    #print(soup.find('div', id='result-stats'))\n",
    "    get_result = soup.find('div', id='result-stats')\n",
    "\n",
    "    driver.close()\n",
    "\n",
    "    result = str(get_result)\n",
    "    re_ =re.sub(\"[^()]+$\", \"\", result)\n",
    "    re__ =re.sub(\"\\([^)]*\\)\", \"\", re_) # 괄호안의 문제 제거\n",
    "    re_d = re.findall(\"\\d+\", re__)\n",
    "    # 검색어로 추출한 결과물을 가지고 topic uniquness 기능을 적용. 검색결과가 평균값(비교 단어로 추정하여 정함)보다 작으면 unique, 크면 ununiqe topis 이다.\n",
    "    search_re = \"\".join(re_d)\n",
    "    #print(search_re)\n",
    "    input_search_num = int(search_re)\n",
    "    \n",
    "    # 저장기능\n",
    "    data =[input_word, input_search_num]\n",
    "    dataframe = pd.DataFrame(data)\n",
    "    dataframe.to_csv(\"./data/topic_search_result.csv\", header=False, index=False)\n",
    "\n",
    "    uniq_result = get_uniquness(input_search_num)\n",
    "\n",
    "    return uniq_result"
   ]
  },
  {
   "cell_type": "code",
   "execution_count": 100,
   "id": "informational-calculation",
   "metadata": {},
   "outputs": [],
   "source": [
    "\n",
    "def get_uniquness(search_result):\n",
    "    # Dim sum  = 197,000,000\n",
    "    # Macarons  = 68,100,000\n",
    "    # Churros   = 24,300,000\n",
    "    # pasta    = 754,000,000\n",
    "    # ramen    = 164,000,000\n",
    "    # udon soba = 30,200,000\n",
    "    # Tom yam kung = 944,000\n",
    "    if search_result > 100000000:\n",
    "        uniqueness_re = 'Common'\n",
    "    elif search_result <= 100000000 and search_result > 30000000:\n",
    "        uniqueness_re = 'Unique'\n",
    "    else: # search_result <= 100000000\n",
    "        uniqueness_re = 'very unique'\n",
    "    return uniqueness_re\n"
   ]
  },
  {
   "cell_type": "code",
   "execution_count": 101,
   "id": "burning-inspection",
   "metadata": {},
   "outputs": [],
   "source": [
    "input_word = 'essay'"
   ]
  },
  {
   "cell_type": "code",
   "execution_count": 102,
   "id": "bored-adventure",
   "metadata": {},
   "outputs": [
    {
     "name": "stderr",
     "output_type": "stream",
     "text": [
      "/Users/kimkwangil/opt/anaconda3/envs/py37pytorch/lib/python3.7/site-packages/ipykernel_launcher.py:11: DeprecationWarning: use options instead of chrome_options\n",
      "  # This is added back by InteractiveShellApp.init_path()\n"
     ]
    }
   ],
   "source": [
    "get_result = google_search_result(input_word) "
   ]
  },
  {
   "cell_type": "code",
   "execution_count": 103,
   "id": "nearby-module",
   "metadata": {},
   "outputs": [
    {
     "data": {
      "text/plain": [
       "str"
      ]
     },
     "execution_count": 103,
     "metadata": {},
     "output_type": "execute_result"
    }
   ],
   "source": [
    "type(get_result)"
   ]
  },
  {
   "cell_type": "code",
   "execution_count": 104,
   "id": "arabic-reminder",
   "metadata": {},
   "outputs": [
    {
     "data": {
      "text/plain": [
       "'Common'"
      ]
     },
     "execution_count": 104,
     "metadata": {},
     "output_type": "execute_result"
    }
   ],
   "source": [
    "result = str(get_result)\n",
    "result"
   ]
  },
  {
   "cell_type": "code",
   "execution_count": null,
   "id": "incoming-adoption",
   "metadata": {},
   "outputs": [],
   "source": []
  },
  {
   "cell_type": "code",
   "execution_count": null,
   "id": "synthetic-girlfriend",
   "metadata": {},
   "outputs": [],
   "source": []
  },
  {
   "cell_type": "code",
   "execution_count": null,
   "id": "illegal-serve",
   "metadata": {},
   "outputs": [],
   "source": []
  },
  {
   "cell_type": "code",
   "execution_count": null,
   "id": "boolean-record",
   "metadata": {},
   "outputs": [],
   "source": []
  },
  {
   "cell_type": "code",
   "execution_count": null,
   "id": "intense-magazine",
   "metadata": {},
   "outputs": [],
   "source": []
  },
  {
   "cell_type": "code",
   "execution_count": null,
   "id": "composed-nurse",
   "metadata": {},
   "outputs": [],
   "source": []
  },
  {
   "cell_type": "code",
   "execution_count": null,
   "id": "silver-truth",
   "metadata": {},
   "outputs": [],
   "source": []
  },
  {
   "cell_type": "code",
   "execution_count": null,
   "id": "collaborative-scenario",
   "metadata": {},
   "outputs": [],
   "source": []
  },
  {
   "cell_type": "code",
   "execution_count": null,
   "id": "upper-simpson",
   "metadata": {},
   "outputs": [],
   "source": []
  },
  {
   "cell_type": "code",
   "execution_count": 105,
   "id": "lined-magnet",
   "metadata": {},
   "outputs": [
    {
     "data": {
      "text/plain": [
       "''"
      ]
     },
     "execution_count": 105,
     "metadata": {},
     "output_type": "execute_result"
    }
   ],
   "source": [
    "re_ =re.sub(\"[^()]+$\", \"\", result)\n",
    "re__ =re.sub(\"\\([^)]*\\)\", \"\", re_) # 괄호안의 문제 제거\n",
    "re__"
   ]
  },
  {
   "cell_type": "code",
   "execution_count": 106,
   "id": "humanitarian-gallery",
   "metadata": {},
   "outputs": [
    {
     "data": {
      "text/plain": [
       "[]"
      ]
     },
     "execution_count": 106,
     "metadata": {},
     "output_type": "execute_result"
    }
   ],
   "source": [
    "re_d = re.findall(\"\\d+\", re__)\n",
    "re_d"
   ]
  },
  {
   "cell_type": "code",
   "execution_count": 107,
   "id": "affecting-sodium",
   "metadata": {},
   "outputs": [
    {
     "data": {
      "text/plain": [
       "''"
      ]
     },
     "execution_count": 107,
     "metadata": {},
     "output_type": "execute_result"
    }
   ],
   "source": [
    "# 검색어로 추출한 결과물을 가지고 topic uniquness 기능을 적용. 검색결과가 평균값(비교 단어로 추정하여 정함)보다 작으면 unique, 크면 ununiqe topis 이다.\n",
    "search_re = \"\".join(re_d)\n",
    "search_re"
   ]
  },
  {
   "cell_type": "code",
   "execution_count": null,
   "id": "three-batman",
   "metadata": {},
   "outputs": [],
   "source": []
  }
 ],
 "metadata": {
  "kernelspec": {
   "display_name": "Python 3",
   "language": "python",
   "name": "python3"
  },
  "language_info": {
   "codemirror_mode": {
    "name": "ipython",
    "version": 3
   },
   "file_extension": ".py",
   "mimetype": "text/x-python",
   "name": "python",
   "nbconvert_exporter": "python",
   "pygments_lexer": "ipython3",
   "version": "3.7.9"
  }
 },
 "nbformat": 4,
 "nbformat_minor": 5
}
