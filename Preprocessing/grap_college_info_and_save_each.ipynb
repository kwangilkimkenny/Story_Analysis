{
 "cells": [
  {
   "cell_type": "code",
   "execution_count": 32,
   "id": "moderate-commodity",
   "metadata": {},
   "outputs": [],
   "source": [
    "# 검색데이터가 딕셔너리에 있다면, 해당 value 값을 돌려주고, 없다면 구글검색을 통해서 데이터를 수집하고, 저장하고, 돌려준다.\n",
    "# Chrome: 버전 90.0.4430.85(공식 빌드) (x86_64)"
   ]
  },
  {
   "cell_type": "code",
   "execution_count": 33,
   "id": "governing-cancer",
   "metadata": {},
   "outputs": [],
   "source": [
    "import re\n",
    "import pandas as pd\n",
    "import openpyxl\n",
    "from urllib.parse import ParseResultBytes, quote_plus\n",
    "from bs4 import BeautifulSoup\n",
    "from selenium import webdriver\n",
    "import pickle\n",
    "\n",
    "from tqdm import tqdm\n",
    "\n",
    "from nltk.stem import WordNetLemmatizer\n",
    "lemmatizer = WordNetLemmatizer()\n",
    "\n",
    "from nltk.corpus import stopwords\n",
    "stop = stopwords.words('english')\n",
    "stop_words = set(stopwords.words('english')) \n",
    "\n",
    "options = webdriver.ChromeOptions()\n",
    "options.add_argument('headless')\n",
    "options.add_argument('window-size=1920x1080')\n",
    "options.add_argument(\"disable-gpu\")\n",
    "# 혹은 options.add_argument(\"--disable-gpu\")\n",
    "\n",
    "# UserAgent값을 바꿔줍시다! 서버가 인식하지 못하도록 가상으로 headless 값 추가함ㅠ\n",
    "options.add_argument(\"user-agent=Mozilla/5.0 (Macintosh; Intel Mac OS X 10_12_6) AppleWebKit/537.36 (KHTML, like Gecko) Chrome/61.0.3163.100 Safari/537.36\")\n"
   ]
  },
  {
   "cell_type": "code",
   "execution_count": 34,
   "id": "olive-invention",
   "metadata": {},
   "outputs": [],
   "source": [
    "def cleaning_data(input_data):\n",
    "    remove = input_data.replace(\"  \",\" \") # 변환\n",
    "    remove_ = re.sub(r\"\\t\", \" \", remove) # 제거\n",
    "    remove__ = re.sub(r\"\\n\", \" \", remove_) # 제거\n",
    "    remove__ = remove__.replace(\"   \", \" \")\n",
    "    remove__ = remove__.replace(\"  \", \" \")\n",
    "    remove__ = remove__.replace(\" \", \",\")\n",
    "    remove__ = remove__.replace(\"…/\", \" \")\n",
    "    remove__ = remove__.replace(\"…\", \" \")\n",
    "    remove__ = remove__.replace(\"/\", \" \")\n",
    "    remove__ = remove__.replace(\" \", \",\")\n",
    "    remove__ = remove__.replace(\")\", \",\")\n",
    "    remove__ = remove__.replace(\"(\", \",\")\n",
    "    preprossed = remove__.split(\",\") # 단어를 리스트로 변환\n",
    "    #print(preprossed)\n",
    "    \n",
    "    # 표제어 추출, 동사는 현재형으로 변환\n",
    "    lemma_list =[]\n",
    "    for i in preprossed:\n",
    "        lema_re = lemmatizer.lemmatize(i, pos='v') #표제어 추출, 동사는 현재형으로 변환\n",
    "        lemma_list.append(lema_re)\n",
    "    \n",
    "    # 표제어 추출\n",
    "    ext_lema = [lemmatizer.lemmatize(w) for w in preprossed]\n",
    "    # 중복값을 제거하고\n",
    "    rm_dupli = set(ext_lema)\n",
    "    # 다시 리스트로 만들고\n",
    "    re_li = list(rm_dupli)\n",
    "    # 빈 값은 제거하고\n",
    "    get_wd =list(filter(None, re_li))\n",
    "    # 소문자로 모두 변환\n",
    "    lower_wd = [i.lower() for i in get_wd]\n",
    "    \n",
    "    result = []\n",
    "    for w in lower_wd: \n",
    "        if w not in stop_words: \n",
    "            result.append(w)\n",
    "    return result"
   ]
  },
  {
   "cell_type": "code",
   "execution_count": 35,
   "id": "flying-diversity",
   "metadata": {},
   "outputs": [],
   "source": [
    "# 구글엔진을 이용해 키워드를 검색하고 결과 링크를 모두 조사하여 text 파일의 리스트로 결과 도출되는 코드\n",
    "def check_searched_keywords(input_word):\n",
    "    baseUrl = 'https://www.google.com/search?q='\n",
    "\n",
    "    plusUrl = input_word\n",
    "\n",
    "\n",
    "    # url = baseUrl + quote_plus(plusUrl)\n",
    "    url = baseUrl + plusUrl\n",
    "    # 한글을 사용할 경우 :  quote_plus 적용 - URL에 막 %CE%GD%EC 이런 거 생성해줌\n",
    "\n",
    "    driver = webdriver.Chrome(executable_path= r'./data/chromedriver_office', chrome_options=options)\n",
    "    driver.get(url)\n",
    "\n",
    "    html = driver.page_source\n",
    "    soup = BeautifulSoup(html, features=\"html.parser\")\n",
    "\n",
    "    v = soup.select('.yuRUbf')\n",
    "\n",
    "    search_title_result = []\n",
    "    search_linked_contents_result = []\n",
    "    for i in v:\n",
    "        #print(i.select_one('.LC20lb.DKV0Md').text)\n",
    "        search_title_result.append(i.select_one('.LC20lb.DKV0Md').text)\n",
    "        print(i.a.attrs['href'])\n",
    "        search_linked_contents_result.append(i.a.attrs['href'])\n",
    "        #print()\n",
    "\n",
    "\n",
    "    # search_linked_contents_result 의 각 링크로 접속하여 해당 내용을 모두 text로 크롤링한 후, body내의 단어들만 추출한다.\n",
    "    get_all_linked_web_data = []\n",
    "    for linked_page in tqdm(search_linked_contents_result):\n",
    "        driver.get(linked_page)\n",
    "        html = driver.page_source\n",
    "        get_all_data = BeautifulSoup(html, features=\"html.parser\")\n",
    "        get_all_linked_web_data.append(get_all_data)\n",
    "        \n",
    "    body = re.search('<body.*/body>', html, re.I|re.S)\n",
    "    if (body is None):\n",
    "        print (\"No <body> in html\")\n",
    "        exit()\n",
    "            \n",
    "    body = body.group()\n",
    "    #print(body)\n",
    "    \n",
    "    # 추출된 정보 클린징\n",
    "    korean = re.compile('[\\u3131-\\u3163\\uac00-\\ud7a3]+')#한글제거\n",
    "\n",
    "    item_extract = str(body).replace('\\n', ' ')\n",
    "    item_extract = re.sub('<span.*?>.*?</span>', ' ', item_extract)\n",
    "    item_extract = re.sub('<b>.*?</b>', ' ', item_extract)    \n",
    "    item_extract = re.sub('<.*?>', ' ', item_extract)        \n",
    "    item_extract = item_extract.replace('\\t', ' ')\n",
    "    item_extract = re.sub(korean, '', item_extract)\n",
    "    item_extract = re.sub('[-=.#/?:$}]', ' ', item_extract)\n",
    "    item_extract = re.sub(\"[-=+,#/\\?:^$.@*\\\"※~&%ㆍ!』;{}()'\\\\‘|\\(\\)\\[\\]\\<\\>`\\'…》]\", ' ', item_extract)\n",
    "    #print (item_extract)\n",
    "    \n",
    "    driver.close()\n",
    "\n",
    "    get_result_str = str(item_extract)\n",
    "    result_cln = cleaning_data(get_result_str) # 결과값 청소\n",
    "    result = list(set(result_cln)) # 중복제거\n",
    "\n",
    "    dic_data = {'search keyword' : 'data_words'}\n",
    "    dic_data[input_word] = result\n",
    "    \n",
    "    # 저장파일 이름 적용하기\n",
    "    path = './data/college/' + input_word + '.pickle'\n",
    "    \n",
    "    # 저장하기\n",
    "    with open(path, 'wb') as fw:\n",
    "        pickle.dump(dic_data, fw)\n",
    "\n",
    "    return dic_data"
   ]
  },
  {
   "cell_type": "code",
   "execution_count": 36,
   "id": "lightweight-measurement",
   "metadata": {},
   "outputs": [],
   "source": [
    "### 이것이 실행함수 ### 검색데이터가 딕셔너리에 있다면, 해당 value 값을 돌려주고, 없다면 구글검색을 통해서 데이터를 수집하고, 저장하고, 돌려준다.\n",
    "def google_search_result_tp_knowledge():\n",
    "    #load data\n",
    "    \n",
    "    input_word = input('무엇을 검색할까요? :')\n",
    "    \n",
    "    path = './data/college/' + input_word + '.pickle'\n",
    "    \n",
    "    dic_data = {'search keyword' : 'data_words'}\n",
    "    \n",
    "    # 저장할 파일 생성하기\n",
    "    with open(path, 'wb') as fw:\n",
    "        pickle.dump(dic_data, fw)\n",
    "    \n",
    "    # 저장파일 불러왜기(최초로 생성하였다면, 파일 안에는 아무것도 없기 때문에 google search 기능이 실행될거임)\n",
    "    with open(path, 'rb') as fr:\n",
    "        data_loaded = pickle.load(fr)\n",
    "\n",
    "    #print('data_loaded :', data_loaded)\n",
    "    #키가 있는지 검색, 즉 검색 단어가 있는지 저장된 딕셔너리에거 검색하기\n",
    "    if input_word in data_loaded:\n",
    "        print(\"key exist! value is : \", data_loaded[input_word]) # 키가 있다면 결과값을 추출(리턴) 해준다.\n",
    "        result_fin = data_loaded[input_word]\n",
    "\n",
    "    else:\n",
    "        print(\"key not exist! so i am going to search data from google!\") # 데이터에 검색어 키가 없기 때문에 구글검색 실행하여 데어터 수집하고 처리\n",
    "        result_fin= check_searched_keywords(input_word)\n",
    "\n",
    "    \n",
    "    return result_fin"
   ]
  },
  {
   "cell_type": "code",
   "execution_count": 39,
   "id": "departmental-questionnaire",
   "metadata": {},
   "outputs": [
    {
     "name": "stdout",
     "output_type": "stream",
     "text": [
      "무엇을 검색할까요? :UPENN Biology\n",
      "key not exist! so i am going to search data from google!\n"
     ]
    },
    {
     "name": "stderr",
     "output_type": "stream",
     "text": [
      "/Users/kimkwangil/opt/anaconda3/envs/py37TF2/lib/python3.7/site-packages/ipykernel_launcher.py:12: DeprecationWarning: use options instead of chrome_options\n",
      "  if sys.path[0] == '':\n",
      "  0%|          | 0/11 [00:00<?, ?it/s]"
     ]
    },
    {
     "name": "stdout",
     "output_type": "stream",
     "text": [
      "https://www.bio.upenn.edu/\n",
      "https://www.collegefactual.com/colleges/university-of-pennsylvania/academic-life/academic-majors/biological-biomedical-sciences/\n",
      "http://www.thedp.com/article/2017/08/out-of-89-majors-economics-and-biology-are-two-of-the-most-popular\n",
      "https://en.wikipedia.org/wiki/University_of_Pennsylvania\n",
      "https://www.ucas.com/explore/subjects/biological-sciences\n",
      "https://catalog.upenn.edu/undergraduate/programs/biology-general-biology-ba/\n",
      "https://catalog.upenn.edu/courses/biol/\n",
      "https://www.med.upenn.edu/camb/\n",
      "https://catalog.upenn.edu/undergraduate/programs/biology-molecular-cell-biology-ba/\n",
      "https://catalog.upenn.edu/graduate/programs/biology-phd/\n",
      "https://twitter.com/pennbiology\n"
     ]
    },
    {
     "name": "stderr",
     "output_type": "stream",
     "text": [
      "100%|██████████| 11/11 [00:31<00:00,  2.87s/it]"
     ]
    },
    {
     "name": "stdout",
     "output_type": "stream",
     "text": [
      "{'search keyword': 'data_words', 'UPENN Biology': ['xk', 'graphql_mutation_favorite_mode', 'responsive_web_search_reorder_typeahead_results_enabled', 'null', 'network_layer_503_backoff_mode', 'responsive_web_scroller_autopoll_enabled', 'ie', 'var', 'na', 'hashflags_animation_like_button_enabled', '2', 'gm', 'mk', 'responsive_web_use_app_prompt_enabled', 'vc', 'line', 'vn', 'responsive_web_graphql_likes_timeline', 'sg', 'detected', 'w', 'white', 'ee', 'entity', 'lu', 'responsive_web_instream_video_redesign_enabled', 'dm_conversations_muted_list_enabled', 'dm_reactions_config_active_reactions', 'vncdn', 'responsive_web_linger_refactor_enabled', 'mw', 'privacy', 'nz', 'a3', 'sha', 'hr', 'responsive_web_auto_logout_restrictedauthtoken_enabled', '😲', 'uaparsertags', 'livepipeline_client_enabled', 'responsive_web_dockable_autoplay_policy_enabled', 'identity_verification_intake_enabled', 'responsive_web_multiple_account_limit', 'dm_conversations_requests_inbox_actions_button_enabled', 'responsive_web_settings_timeline_refresh_background_interval', 'responsive_web_better_stateful_buttons_variant', 'cr', 'responsive_web_search_limit_user_typeahead_results', 'responsive_web_login_signup_sheet_app_install_cta_enabled', 'id', '1da1f2', 'responsive_web_chirp_font_enabled', 'showtweetmediadetaildrawer', 'platform', 'cm', 'responsive_web_cleanup_macaw_swift_indexed_db', 'responsive_web_graphql_redux_module_users', 'responsive_web_alt_svc', 'function', 'responsive_web_add_impression_id_to_mute_engagement_enabled', 'message', 'search_channels_description_enabled', 'gt', 'responsive_web_login_input_type_email_enabled', 'si1', '👍', 'np', '3em', 'cl', 'vu', 'mt', 'l', 'responsive_web_eu_countries', 'topic_landing_page_share_enabled', '0f1419', 'serverdate', 'er', 'loginpromptshown', '0', 'responsive_web_graphql_bookmarks', 'v', 'remote', 'radius', 'typeaheadusers', 'de', 'a0', 'local', 'm2', 'web_video_smart_buffering_enabled', 'py', 'config', 'video', 'secure', 'active', 'json', 'web_video_hlsjs_version', 'responsive_web_virtual_keyboard_detector', '©', 'session', 'scrollbar', 'impression_pointers', 'responsive_web_carousel_v2_communities_enabled', 'checkin_time', '600px', 'isloggedin', 'ab', 'iq', 'responsive_web_eu_compliance_double_click_disabled', 'responsive_web_fleets_viewer_screen_enabled', 'mh', 'language', 'responsive_web_inline_login_box_enabled', 'responsive_web_video_promoted_logging_enabled', 'nu', 'helvetica', 'conversation_controls_limited_replies_consumption_configuration', 'explore_settings_trends_policy_url', '43200', 'family', 'cv', 'eb', 'gq', 'conversation_controls_notifying_participants_enabled', 'gd', 'display_sensitive_media', 'lc', 'home_timeline_latest_timeline_switch_enabled', 'value', '🔥', 'mc', '😢', 'live_event_multi_video_auto_advance_enabled', 'bf', 'responsive_web_report_page_not_found', 'tt', '2fa_multikey_management_enabled', 'pf', 'sm', 'push_settings', 'prod', 'scroll', 'api', 'topics_grid_carousel_basic_pill_plus_disabled', 'tg', 'responsive_web_trigger_test_backoff_on_bookmark', 'ru', 'af', 'responsive_web_birdwatch_pivots_enabled', 'responsive_web_open_in_app_prompt_enabled', 'index', 'mq', 'home_timeline_spheres_custom_banner_image_reads_enabled', 'dj', 'ky', 'sl', 'scribe_web_nav', 'md', 'main', 'gw', 'mx', 'responsive_web_birdwatch_hcomp_user', 'card', 'a1', 'path', 'ir', 'responsive_web_auto_logout_twid_enabled', 'responsive_web_extension_compatibility_hide', 'ton', 'keysread', 'responsive_web_graphql_home_enabled', 'responsive_web_sidebar_ttf_enabled', 'tweet_limited_actions_config_enabled', 'responsive_web_api_transition_enabled', 'tr', 'responsive_web_live_video_parity_periscope_auth_enabled', 'topics_peek_home_enabled', 'dm_conversations_muting_enabled', 'la', 'kw', 'responsive_web_eu_compliance_ga_disabled', 'setting', 'v6', 'device', 'soft_interventions_retweet_nudge_enabled', 'fj', 'a2', 'si', 'focus', 'responsive_web_ntab_verified_mentions_vit_internal_dogfood', 'window', 'r', 'subscribed', 'control', 'bg', '150', '26', 'responsive_web_instream_video_store_keyed', 'env', 'sh', 'text', 'responsive_web_inline_reply_with_fab_enabled', 'u', 'responsive_web_birdwatch_consumption_enabled', 'responsive_web_second_degree_replies_nudge_show_enabled', 'th', 'responsive_web_prerolls_fullscreen_disabled_on_ios', 'kn', 'responsive_web_nav_visual_refresh_enabled', '👎', 'serif', 'sb', 'sms_settings_template', 'switch', '2em', 'gu', '80', 'behavior', 'hk', 'responsive_web_serviceworker_safari_disabled', 'featureswitch', 'az', 'nc', 'hasmultiaccountcookie', 'cz', 'conversation_controls_flexible_participation_enabled', 'right', 'cg', 'responsive_web_search_dms_enabled', 'io', 'vine', 'responsive_web_carousels_convert_to_single_media', 'tw', 'responsive_web_menu_section_divider_enabled', 'responsive_web_left_nav_refresh_connect_enabled', '5256000', 'responsive_web_rich_tweet_landing_enabled', 'root', 'responsive_web_second_degree_replies_nudge_force_enabled', 'lv', 'ro', 'ca', 'ga', 'pl', 'qa', 'conversation_controls_flexible_participation_reply_enabled', 'ne', 'gl', 'responsive_web_dcm_2_enabled', 'responsive_web_media_upload_target_jpg_pixels_per_byte', 'ads', 'home_timeline_latest_timeline_max_time_to_autoswitch_minutes', 'true', 'zm', 'scribe_api_error_sample_size', 'cdn', 'responsive_web_eu_compliance_sentry_disabled', 'fetchstatus', '__meta_data__', 'responsive_web_graphql_amr_timeline', 'voice_rooms_scheduling_enabled', 'responsive_web_card_preload_mode', 'ai', 'document', 'transient', 'tk', 'responsive_web_promoted_tweet_url_rewrite_enabled', 'web_video_hls_mp4_threshold_sec', 'responsive_web_new_copy_security_key_2fa_enabled', 'bb', 'h1', 'responsive_web_settings_timeline_polling_enabled', 'getelementbyid', '1619587437890', 'decodeuricomponent', 'ng', 'agree', 'responsive_web_zipkin_api_requests_paths_allowlist', 'ke', 'responsive_web_graphql_list_management_timelines_enabled', 'dm_inbox_search_max_recent_searches_stored', 'add_to_bookmarks', 'share_tweet_via', 'using', 'bz', 'jm', 'je', 'va', 'za', 'please', 'responsive_web_extension_compatibility_scribe', 'responsive_web_ocf_sms_autoverify_darkwrite', 'responsive_web_settings_timeline_refresh_enabled', 'responsive_web_zipkin_api_requests_enabled', 'i18n', '50', 'rw', 'li', 'onefactorlogineligibility', 'live_event_timeline_server_controlled_refresh_rate_enabled', 'responsive_web_lohp_refresh_enabled', 'si0', 'vi', 'conversation_controls_my_followers_enabled', 'margin', 'gi', 'display', 'like', 'om', 'com', 'mask', 'guest_broadcasting_timeline_decorations_enabled', 'tweet_limited_actions_config_non_compliant', 'view_tweet_activity', 'home_timeline_latest_timeline_autoswitch_half_life_minutes', 'sa', 'responsive_web_graphql_dark_reads_probability', 'fk', 'user', 'nr', 'identity_verification_debadging_notification_enabled', 'responsive_web_alt_text_badge_enabled', 'responsive_web_ocf_sms_autoverify_enabled', 'responsive_web_settings_revamp_enabled', 'country', 'al', 'home_timeline_spheres_max_user_owned_or_subscribed_lists_count', 'soft_interventions_like_nudge_enabled', 'defaultconfig', 'scribe_cdn_sample_size', 'bd', 'lb', 'responsive_web_fake_root_twitter_domain_for_testing', 'sx', 'sk', 'fo', 'enable_label_appealing_misinfo_enabled', '218', 'prompt_better', 'responsive_web_graphql_non_legacy_card', 'responsive_web_csrf_clientside_enabled', 'tc', 'au', 'soft_interventions_share_nudge_enabled', 'web_video_smart_buffering_preroll_prebuffering_enabled', 'responsive_web_extension_compatibility_size_threshold', 'timeline', 'lastupdated', 'responsive_web_fleets_notification_screen_enabled', 'featuresettoken', 'pg', 'lr', 'responsive_web_continue_as_always_enabled', 'responsive_web_media_upload_limit_3g', '16px', 'live_event_docking_enabled', 'responsive_web_graphql_media_timeline', 'sad', 'notificationsettings', '1', 'important', 'jp', 'tweet', 'livepipeline_dm_features_enabled', 'reply', 'co', 'disabled', 'service', 'react', 'ml', 'error', 'live_event_multi_video_auto_advance_fullscreen_enabled', 'uz', 'highcontrastenabled', 'supported', 'list', 'responsive_web_moment_maker_promoted_tweets_enabled', 'responsive_web_vs_config_resize_observer_enabled', 'bm', 'responsive_web_vod_muted_captions_enabled', 'add_to_moment', 'pushnotificationsprompt', 'domain', 'il', 'twimg', 'responsive_web_video_pcomplete_enabled', 'responsive_web_graphql_users_by_rest_ids', 'themebackground', 'c9s_enabled', 'conversationlookup', 'cd', 'kh', 'topic_icons_enabled', 'browserpush', 'gh', 'responsive_web_newsletters_callout_enabled', 'responsive_web_new_client_events_enabled', 'toast', 'home_timeline_latest_timeline_threshold_to_increase_autoswitch_seconds', 'policy', 'mu', 'p', '__initial_state__', 'wf', 'autopollnewtweets', 'responsive_web_left_nav_refresh_topics_enabled', '10800', 'mv', 'responsive_web_dm_server_side_search', 'nf', 'help', 'tz', 'se', 'funny', 'ci', 'sz', 'ye', 'false', 'guestid', 'cc', 'themecolor', 'bw', 'inc', 'dm_reactions_config_inactive_reactions', 'email', '5em', 'web_video_hls_android_mse_enabled', 'normal', 'responsive_web_graphql_feedback', 'responsive_web_media_upload_md5_hashing_enabled', 'padding', 'responsive_web_settings_timeline_refresh_instant_default', 'bv', 'data', 'bt', 'responsive_web_branch_sdk_enabled', 'hide', 'ua', 'scribe_cdn_host_list', 'mtc', 'graphql_mutation_retweet_mode', 'ni', 'rgb', 'uy', 'dm_voice_rendering_enabled', 'mo', 'color', 'tm', 'gn', 'ax', 'responsive_web_extension_compatibility_override_param', 'ao', 'ph', 'ba', '1em', 'ug', 'criticalscripts', 'retweet', 'live_event_multi_video_enabled', 'list_management_page_urt_timeline_enabled', 'responsive_web_fetch_hashflags_on_boot', 'topics_discovery_page_enabled', 'responsive_web_moment_maker_annotations_enabled', 'user_display_name_max_limit', '😷', 'border', 'pa', 'vendor', 'bq', 'graphql_mutation_unretweet_mode', 'nl', 'cu', 'f8a10c616e30f6096fc127a270620e8c', 'pk', 'datasavermode', 'denylist', 'javascript', 'search_channels_discovery_page_enabled', 'pt', 'ag', 'responsive_web_list_hover_cards_enabled', 'team', 'nextpushcheckin', 'pr', 'im', 'underline', 'kg', 'rest_only', 'responsive_web_newsletters_menu_enabled', 'responsive_web_ocf_lite_login_flow_enabled', 'info', 'scribe_web_nav_sample_size', 'hn', 'fi', 'dk', 'decoration', 'si3', 'conversation_controls_limited_replies_creation_enabled', 'pn', 'h2', 'fr', 'mp', 'msw', 'employee_role', 'responsive_web_graphql_conversations_enabled', '5', 'responsive_web_dm_quick_access_with_close_enabled', 'zw', 'home_timeline_spheres_detail_page_muting_enabled', 'cw', 'light', 'see', 'responsive_web_graphql_user_results', 'responsive_web_birdwatch_contribution_enabled', 'audio', 'enable', 'body', '2021', 'b', 'home_timeline_latest_timeline_min_time_to_autoswitch_minutes', 'st', 'topics_new_social_context_icon_color_enabled', 'pe', 'topics_peek_search_enabled', 'e', 'none', 'home', 'mn', 'eg', 'scribe_api_sample_size', 'pb', 'sr', 'responsive_web_media_upload_limit_slow_2g', 'width', 'emaillitelogineligibility', 'bo', 'cookie', 'reducedmotionenabled', 'errorcontainer', 'overscroll', 'tj', 'gg', 'web_video_prefetch_playlist_autoplay_disabled', 'identity_verification_educational_prompt_enabled', 'sc', 'center', 'et', 'voice_rooms_consumption_enabled', 'responsive_web_framerate_tracking_home_enabled', 'responsive_web_article_nudge_enabled', 'km', 'gf', 'size', 'responsive_web_install_banner_show_immediate', 'mf', 'responsive_web_birdwatch_site_enabled', 'overflow', 'lt', 'ch', 'responsive_web_second_degree_replies_nudge_get_enabled', 'responsive_web_graphql_topic_timeline_enabled', 'ly', 'responsive_web_modal_close_enabled', 'placeholder', 'responsive_web_search_delay_prefetch_typeahead_results_enabled', 'graphql_mutation_update_mode', 'phone_number', 'tf', 'mg', 'topics_discovery_topic_picker_page_enabled', 'style', 'c', 'enable_label_appealing_sensitive_content_enabled', '__scripts_loaded__', 'author_moderated_replies_urt_container_enabled', 'sv', 'stateful_login_enabled', 'dm_conversations_nsfw_media_filter_enabled', 'responsive_web_moment_maker_enabled', 'settingsversion', '3b720277f1c41b3589a49772efe12c28c05434eb', 'blue500', 'bh', 'voice_rooms_expanded_dock', 'account_session_console_from_graphql_enabled', 'shouldautoplaygif', 'account_country_setting_countries_whitelist', '1387276379423592452', 'responsive_web_use_app_prompt_copy_variant', 'home_timeline_latest_timeline_autoswitch_threshold_multiplier', '250', 'responsive_web_birdwatch_traffic_lights_enabled', 'responsive_web_extension_compatibility_impression_guard', 'responsive_web_graphql_user_profile_screen', 'push_settings_template', 'livepipeline_tweetengagement_enabled', 'dismissed', 'web_video_bitrate_persistence_enabled', 'ck', 'ht', 'mr', 'hu', 'responsive_web_eu_compliance_player_card_disabled', 'br', 'we’ve', 'dz', 'mz', 'ge', 'aw', 'dtabbarinfo', 'responsive_web_settings_timeline_polling_interval_ms', 'business_profiles_rweb_onboarding_enabled', 'responsive_web_trends_setting_new_endpoints', 'angry', 'ad', 'pw', 'kz', 'errorbutton', '6', 'gr', 'responsive_web_hoisting_anchor_invalidation_enabled', 'debug', 'ar', 'responsive_web_graphql_tweet_results', 'tn', 'ae', 'cy', '1500', 'traffic_rewrite_map', 'loginpromptlastshown', 'responsive_web_quick_promote_enabled', 'bn', 'responsive_web_account_ownership_verification_enabled', 'impression', 'block', 'amp', 'height', '😂', 'dm', 'hashflags', 'lastvieweddminboxpath', 'voice_consumption_enabled', 'live_event_multi_video_auto_advance_transition_duration_seconds', 'responsive_web_graphql_tweet_by_rest_id', '60', 'errorfooter', 'home_timeline_spheres_list_cell_thumbnail_enabled', 'bi', 'excited', 'home_timeline_spheres_ranking_mode_control_enabled', 'en', 'lk', 'responsive_web_media_upload_limit_2g', 'themefocus', 'responsive_web_auto_logout_multiaccount_enabled', 'disagree', 'kr', 'c1f5074f10bf8f6465e41273491e561c28274e7a', 'responsive_web_graphql_mutation_bookmarks', 'scale', 'live_event_multi_video_auto_advance_dock_enabled', 'background', 'bj', 'soft_interventions_nudge_backend_control_enabled', 'responsive_web_promoted_tweet_param_append_enabled', 'polyfills', 'responsive_web_branch_cpid_enabled', 'graphql_mutation_unfavorite_mode', 'responsive_web_hover_on_mousemove_enabled', 'host', '657786', 'tl', 'send_via_dm', 'responsive_web_fleets_dm_consumption_enabled', '❤️', 'rweb', 'scriptloadfailure', 'isloaded', 'responsive_web_fleets_bounding_boxes_enabled', 'responsive_web_continue_as_param_enabled', 'sans', 'live_event_timeline_minimum_refresh_rate_interval_seconds', 'auto', '10', 'fff', 'pm', 'gy', 'moment_annotations_enabled', 'pin_to_profile', 'n', 'visited', 'browser', 'responsive_web_graphql_profile_timeline', '161958743783805159', 'max', 'gb', 'responsive_web_fleets_viewer_threading_enabled', 'font', '100', 'responsive_web_inline_reply_enabled', '145', 'terms', 'cx', 'responsive_web_oauth2_consent_flow_enabled', 'si2', 'isloading', 'available', 'isrtl', 'td', 'template', 'sn', '😠', 'bl', 'jo', 'g', 'responsive_web_unsupported_entry_tombstone', 'unified_cards_cta_color_blue_cta', 'full', 'hover', 'urt', 'mid', 'optimist', 'datasaver', 'responsive_web_scroller_v3_enabled', '30', 'twitter', 'topic_landing_page_enabled', 'sms_settings', 'ki', 'edge', 'continue', 'fm', 'surprised', 'no_reply', 'cf', 'yt', 'ec', 'gp', 'live_event_timeline_default_refresh_rate_interval_seconds', 'age', 'tv', 'content_language_setting_enabled', 'imprint', 'rito_smart_block_list_enabled']}\n"
     ]
    },
    {
     "name": "stderr",
     "output_type": "stream",
     "text": [
      "\n"
     ]
    }
   ],
   "source": [
    "## run ##\n",
    "\n",
    "result = google_search_result_tp_knowledge()\n",
    "\n",
    "print(result)"
   ]
  },
  {
   "cell_type": "code",
   "execution_count": null,
   "id": "manual-wilderness",
   "metadata": {},
   "outputs": [],
   "source": []
  }
 ],
 "metadata": {
  "kernelspec": {
   "display_name": "Python 3",
   "language": "python",
   "name": "python3"
  },
  "language_info": {
   "codemirror_mode": {
    "name": "ipython",
    "version": 3
   },
   "file_extension": ".py",
   "mimetype": "text/x-python",
   "name": "python",
   "nbconvert_exporter": "python",
   "pygments_lexer": "ipython3",
   "version": "3.7.9"
  }
 },
 "nbformat": 4,
 "nbformat_minor": 5
}
