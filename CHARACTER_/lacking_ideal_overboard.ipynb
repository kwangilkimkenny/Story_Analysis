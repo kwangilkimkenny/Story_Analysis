{
 "cells": [
  {
   "cell_type": "code",
   "execution_count": null,
   "metadata": {},
   "outputs": [],
   "source": [
    "# 개인: 50 , 단체: 20 = Extremely Overboard\n",
    "# 개인: 50 , 단체: 30 = Overboard\n",
    "# 개인: 50 , 단체: 50 = Ideal\n",
    "# 개인: 50 , 단체: 70 = Lacking\n",
    "# 개인: 50 , 단체: 100 = Extremely Lacking"
   ]
  },
  {
   "cell_type": "code",
   "execution_count": 190,
   "metadata": {},
   "outputs": [
    {
     "name": "stdout",
     "output_type": "stream",
     "text": [
      "min_ 35\n",
      "max_:  65\n",
      "div_: 10\n"
     ]
    }
   ],
   "source": [
    "# Test\n",
    "\n",
    "one_ps_char_desc = 97\n",
    "ideal_mean = 50\n",
    "\n",
    "\n",
    "min_ = int(ideal_mean-ideal_mean*0.3)\n",
    "print('min_', min_)\n",
    "max_ = int(ideal_mean+ideal_mean*0.3)\n",
    "print('max_: ', max_)\n",
    "div_ = int(((ideal_mean+ideal_mean*0.3)-(ideal_mean-ideal_mean*0.3))/3)\n",
    "print('div_:', div_)\n"
   ]
  },
  {
   "cell_type": "code",
   "execution_count": 191,
   "metadata": {},
   "outputs": [
    {
     "name": "stdout",
     "output_type": "stream",
     "text": [
      "cal_abs 절대값 : 47\n",
      "Overboard\n"
     ]
    }
   ],
   "source": [
    "cal_abs = abs(ideal_mean - one_ps_char_desc) # 개인 - 단체 값의 절대값계산\n",
    "print('cal_abs 절대값 :', cal_abs)\n",
    "\n",
    "if one_ps_char_desc > ideal_mean: # 개인점수가 평균보다 클 경우는 overboard\n",
    "    if cal_abs > max_: # 개인점수가 개인평균차의 절대값보다 클 경우, 즉 차이가 많이 날경우\n",
    "        print(\"Overboard\")\n",
    "    else: #차이가 많이 안나면\n",
    "        print(\"Overboard\")\n",
    "        \n",
    "# 개인, 평균과 같을 때는 Ideal이다.\n",
    "elif min_ + div_ <= one_ps_char_desc & one_ps_char_desc <= max_ - div_ :\n",
    "    print('min_ + div_',  min_ + div_)\n",
    "    print('max_ - div_', max_ - div_)\n",
    "    print (\"Ideal\")\n",
    "    \n",
    "else:\n",
    "    if cal_abs > one_ps_char_desc: #차이가 많이나면 # 개인점수가  평균보다 작을 경우 Lacking이고 \n",
    "        print(\"Lacking\")\n",
    "    else: #차이가 많이 안나면\n",
    "        print (\"Lacking\")\n",
    "\n",
    "    "
   ]
  },
  {
   "cell_type": "code",
   "execution_count": null,
   "metadata": {},
   "outputs": [],
   "source": []
  },
  {
   "cell_type": "code",
   "execution_count": null,
   "metadata": {},
   "outputs": [],
   "source": []
  },
  {
   "cell_type": "code",
   "execution_count": null,
   "metadata": {},
   "outputs": [],
   "source": []
  },
  {
   "cell_type": "code",
   "execution_count": null,
   "metadata": {},
   "outputs": [],
   "source": []
  },
  {
   "cell_type": "code",
   "execution_count": null,
   "metadata": {},
   "outputs": [],
   "source": []
  },
  {
   "cell_type": "code",
   "execution_count": null,
   "metadata": {},
   "outputs": [],
   "source": []
  },
  {
   "cell_type": "code",
   "execution_count": null,
   "metadata": {},
   "outputs": [],
   "source": []
  },
  {
   "cell_type": "code",
   "execution_count": null,
   "metadata": {},
   "outputs": [],
   "source": []
  },
  {
   "cell_type": "code",
   "execution_count": null,
   "metadata": {},
   "outputs": [],
   "source": []
  }
 ],
 "metadata": {
  "kernelspec": {
   "display_name": "Python 3",
   "language": "python",
   "name": "python3"
  },
  "language_info": {
   "codemirror_mode": {
    "name": "ipython",
    "version": 3
   },
   "file_extension": ".py",
   "mimetype": "text/x-python",
   "name": "python",
   "nbconvert_exporter": "python",
   "pygments_lexer": "ipython3",
   "version": "3.7.9"
  }
 },
 "nbformat": 4,
 "nbformat_minor": 4
}
