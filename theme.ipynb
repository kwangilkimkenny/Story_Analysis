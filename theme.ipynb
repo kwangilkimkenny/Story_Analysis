{
 "cells": [
  {
   "cell_type": "code",
   "execution_count": 11,
   "metadata": {},
   "outputs": [
    {
     "name": "stderr",
     "output_type": "stream",
     "text": [
      "[nltk_data] Downloading package punkt to\n",
      "[nltk_data]     /Users/kimkwangil/nltk_data...\n",
      "[nltk_data]   Package punkt is already up-to-date!\n",
      "[nltk_data] Downloading package vader_lexicon to\n",
      "[nltk_data]     /Users/kimkwangil/nltk_data...\n",
      "[nltk_data]   Package vader_lexicon is already up-to-date!\n"
     ]
    }
   ],
   "source": [
    "#conflict\n",
    "import nltk\n",
    "nltk.download('punkt')\n",
    "nltk.download('vader_lexicon')\n",
    "from nltk.sentiment.vader import SentimentIntensityAnalyzer \n",
    "import pandas as pd\n",
    "from pandas import DataFrame as df\n",
    "from mpld3 import plugins, fig_to_html, save_html, fig_to_dict\n",
    "from tqdm import tqdm\n",
    "import numpy as np\n",
    "import json\n",
    "from tensorflow.keras.preprocessing.text import text_to_word_sequence\n",
    "#character, setting\n",
    "import numpy as np\n",
    "import gensim\n",
    "import nltk\n",
    "import re\n",
    "import matplotlib.pyplot as plt\n",
    "from sklearn.manifold import TSNE\n",
    "import seaborn as sns\n",
    "import pandas as pd\n",
    "from nltk.tokenize import sent_tokenize\n",
    "import multiprocessing\n",
    "import os\n",
    "from pathlib import Path\n",
    "import io\n",
    "from gensim.models import Phrases\n",
    "from textblob import TextBlob\n",
    "from nltk.tag import pos_tag\n",
    "from nltk.tokenize import word_tokenize\n",
    "from nltk.tokenize import RegexpTokenizer"
   ]
  },
  {
   "cell_type": "code",
   "execution_count": 12,
   "metadata": {},
   "outputs": [],
   "source": [
    "text = \"\"\"His glittered hand reaches for mine, and I swiftly yank my arm back to avoid contact. Hurt momentarily clouds his eyes, but his excitement soon returns once he rejoins the chaos of the parade. As the surrounding clamor of drag queens and rainbow motorcycles drifts into my periphery, a desperate isolation overcomes me. This march is my community's grandest welcome party\\u2014the epitome of acceptance\\u2014yet why do I feel like an excluded spectator? Shouldn't my rainbow flag also be fluttering in the air, not neatly furled beneath my jacket?My gnawing guilt feels all too familiar. It's what I first experienced when I spotted Jethro, then a freshman, in the school parking lot. While half of me basked in awe of his high heels and rainbow bandana, my other half suffered a creeping discomfort. Dad, expectedly, only expressed the latter.'Look, I know you're different too...but you're not that different right?''No, of course not.''Good.'As having just come out as gay, that fleeting conversation warped my self-perception. It solidified an arbitrary line between acceptable and detestable, leading me struggling to display idealized teenage masculinity. Instead of culinary documentaries, football. Gardening and watercolors became hobbies of history. I knew I succumbed to internalized homophobia, but conformity provided security. I preferred feeling confused and deprived to facing any negativity from expressing myself candidly.Thankfully, Jethro entered my life again\\u2014this time on Instagram, where he passionately rebuked discriminatory comments. I attempted a facade of indifference, but subconsciously I resonated with his vulnerability and\\u2014surprisingly\\u2014courage. When he concluded with 'We have nothing to be sorry for,' I actually started to believe it.That millisecond of empowerment slowly became a feeling I craved. Thus, I ventured into the world of activism, but since my initial anxieties lingered, I remained anonymous. Through storytelling, I connected with others who confronted similar difficulties, writing and sharing blog posts about my social experiences. When my city back-lashed against California's new LGBTQ+-inclusive sexual education curriculum, I interviewed dozens of students on identity to compile their voices into a magazine, weaving together narratives of mental health, sexuality, and self-acceptance. Did it obliterate homophobia? No. But it certainly revealed perspectives that had been suppressed for too long. I was honestly proud of my project, yet I still obscured my name and story due to fear.The blare of horns drags me back to the present, and suddenly, I realize this march might be my final chance to escape hypocrisy and reclaim my activism. I urge others to live freely, but how can I do so when I shudder at the thought of being recognized with a rainbow flag?Here and now, I must accept that being gay does define me. Not as being predisposed to enjoy art and horticulture, but through my journey towards self-acceptance, I have gained a refined sensitivity to the struggles of others. I listen, I understand, and when others are lost, I extend my own experiences to empathize with their hardships. These qualities all contribute to my ability to tell compelling stories, a cornerstone of activism, but detached from their authors, stories are just hollow words. To truly empower others in the future, especially those in silence like I was, I can't shy away from the spotlight. I must let all my readers know that I am a tangible individual who is unashamed to exude my story truthfully.Before releasing my first real 'About Me' blog post, I unzip my jacket and reveal my flag. Uplifted by my thrill of starting a new chapter, my arm reaches higher into the canopy of confetti, and I stare wondrously at the colors rippling above. Finally, I feel no more doubt and no more fear: I break free from the sidelines and joyously clasp the next hand offered.I am a staunch opponent of the belief 'Stick to your passions early.' At best, this advice is idealistic, and at worst, it limits exploration. When I first volunteered as a science instructor at a local elementary school, this dogma was rampant, rigidifying curriculum and intimidating students.As cofounder and Director of Outreach of the non-profit organization Stemnova, I sought to eliminate the walls that suffocated STEM education. By our second year, I grew ambitious. I was determined to take steps to reinvent local perceptions of science bigger than the small fundraisers and science nights we had organized before.Thus, Stemnova partnered with the state Science Olympiad organization to host the first student-run tournament on the West Coast. Although our mission was daunting, I knew it was key to proving to our community that science is not compartmentalized. The competition committee I organized creatively planned each event down to the finest detail. For epidemiology, we incorporated novel computer models; for chemistry, we devised labs inspired by botany and nutritional sciences, and for experimental design, we blended together physics and biology. Each minute of the tournament was a sacred chance to exhibit the applicability and interdisciplinary nature of science.By the invitational's end, it was evident our purpose reached the students - at least half their questions for our professional guest speakers linked together various scientific fields. Though some parents still seemed confused, I was content that we had influenced the minds that mattered the most. The awards ceremony was an revelatory moment. Not only did I recognize the current impacts of my leadership, but I also began to envision what my innovative potential could bring in the future - an unbounded educational landscape. I felt empowered by both the students' excitement and my volunteers' own devotions to materializing something we had initially struggled to define. Our competition was a first for many, and I am still proud of myself and my team for devising an experience that broadened the next generation's understandings and encouraged their once suppressed desire to explore.Like an unscratchable itch, the Finite Heartbeat Theory tugs constantly at my curiosities. Its hypothesis is simple - we have a predetermined number of heartbeats. When my half-pseudoscientist, half-biology teacher first exclaimed this to our class years ago, my seventh-grade self believed it wholeheartedly.By ninth grade, I feared the heart. With Grandpa passing away from a heart attack and my teacher's words still echoing in my head, I viewed the heart as a ticking time bomb. From my apprehension, however, spawned a cautious interest towards cardiology: I was perpetually haunted by the question 'How many heartbeats left?'My concerns brought me into the Priest Laboratory for Pediatric Cardiology through the Stanford Institutes of Medicine Summer Research Program. Hoping to characterize diabetes' effects on prenatal heart development, I dissected fetal hearts and submerged them in toxic, diabetic conditions overnight.The next morning, as I examined the petri dish with a microscope, I could barely grapple with what I saw - the hearts still beat, oblivious to their caustic surroundings. What I once perceived as a doomed organ suddenly transformed into a vessel of resilience. Before, my interest in cardiology was rooted in foreboding, but, now, it stemmed from a newfound appreciation for the heart's endurance despite adversary. My epiphany spawned fresh queries and perspectives. As I reminisced my Grandpa's own passing, I refused to anxiously calculate how many heartbeats he used. Instead, I began to inquire how I could better the lives of my parents, remembering my own father's cardiovascular disease.These questions led me to where I am today, researching pediatric cardiology in the Priest Lab and observing cardiac stem cell therapy in the Wu Lab. Every day, my work, from cultivating cells to evaluating genetic data, is inspired by my faith in the heart's tenacity, and through pursuing cardiology, I have sharpened my experimental acumen and diversified my scientific skillset. Occasionally, I still ponder over the truth of the Finite Heartbeat Theory, but I always arrive at the same conclusion - with limited heartbeats, I better seize opportunity now and fully dedicate myself to understanding the heart's complexity.Since childhood, I have always been fascinated with the Wubble Bubble. It was simple yet entertaining - its tinted surface humorously distorting my friend's whispers as they floated through the ball to my ear. While my Wubble Bubble now remains deflated in my garage, my fascination with bubbles is still very much afloat. Fortunately - or unfortunately as I have come to recognize - I don't have to look far to find one. In fact, I live in one.In middle school, I loved my Bay Area bubble, grateful that it shielded my community's pride parades and cultural celebrations. However, I grew complacent despite the emerging discrimination in our communities. In early 2018 when California released a more progressive sexual education curriculum, I was snapped out of this illusion. Watching the school board meeting livestream, with its homophobic undertones and disregard for mental health, shocked me. That night, I felt anxious yet impassioned. Being gay myself, I was terrified at the thought of being an outcast, but, simultaneously, I was angry that my identity was considered 'inappropriate' to share. A newfound fervor subsequently overtook me, and with my yearbook experience and the design talent of my friend, I sought to create a magazine to highlight the neglected voices of Fremont's youth. We originally intended to only focus on sexuality, but soon after interviewing dozens of students, we broadened our project to illuminate stories of body positivity, depression, stress, and abusive relationships. Titled 'Miscellany,' our magazine both distributed overlooked narratives to an audience and served as an outlet for emotional release for its contributors. It fostered empathy as it circulated in classrooms and homes, and I am still inspired by accounts from my closest friend's brother that less and less students at his elementary school are using once-prevalent homophobic language.Today, frankly, I am not sure how many individuals have flipped through my magazine - maybe hundreds, perhaps thousands. But I do know that even if only one person reads one story, that is still an important step towards spotlighting shrouded perspectives and solidifying the foundations for a more accepting Fremont.The first time I ever heard a recording of my debate speech, it was torture. It was less what I said, but more how I said it. My voice, both nasal and high-pitched, was excruciating to the ear, and immediately, what I once overlooked bolted to the forefront of my insecurities.In high school, with everyone changing, my distinct voice brought along with it belittling stereotypes: each 'What's up with you high voice?' and 'Your voice is gay' cornered me into silence and isolation. Competing in debate only amplified my anxiety, so futilely, I practiced diaphragm stretches and speaking exercises to deepen my voice. These activities were distractions from reading and developing cases, but I committed to them anyway, leading to a tragic string of losses.Junior year, before a national tournament, my voice disappeared. Sounding like a whelping animal during my vocal exercises, my fear quickly evolved into resignation. Since I couldn't speak, I spent my night determinedly researching instead, half hoping that maybe I could win on the premise of knowledge.That weekend, even with my relentless coughing, my partner and I advanced into the top thirty-two. Though we received just a flimsy certificate, it meant so much more to me as it was the first tangible evidence that challenged my insecurities. While my fingers ran along the paper, I realized what had distinguished this tournament was that I had actually focused on something changeable - my knowledge - instead of a constant factor. Before, my self-consciousness blinded me from spotting any actual opportunities for growth.Today, my voice is a reminder of my own resilience and adaptability. From this struggle, I have come to grasp the importance of perspective in learning, that I should focus on malleable factors to propel myself forward. This process of overcoming my linear thinking has influenced me to constantly reevaluate my problems and identify affectable areas of improvement: self-improvement is only achievable through reason and passion. Now, I am no longer concerned about my voice. Instead, I am driven to use it as a powerful tool to better engage my curiosities.\"},{\"index\":1,\"personal_essay\":\"To kill or not to kill is a question that has taunted me since June. Where my inner biologist yearned to dissect all the mice in the world (for science, of course), my inner ethicist questioned my sacrifices' purposes. After all, these were living creatures in my hands: what set them so apart from me that justified their role as test subjects?From perusing Peter Singer's Animal Liberation to attending cardiology conferences, answering the same concern from various lenses piqued my passion for bioethics, a synergy of biology, socio-cultural politics, and philosophy. I loved dissections and protein assays, compiling pieces of life's puzzle, but increasingly, I realized my research didn't function in a vacuum. Minutiae, including how we rationally perceive animals, does affect our human-to-human interactions, and the possibility that biology can be ethically improved as a discipline leads me to investigate potential solutions.The College of Arts and Science's Health and Societies major is, essentially, bioethics on steroids. It is one of the only programs I've found that shares my mission to unravel science's moral complexities. I ultimately aspire to be a genetic engineer, a trailblazer in healthcare. However, as the pioneer of gene-editing Jennifer Doudna warns in A Crack in Creation, it is a powerful profession that deserves deep contemplation.For instance, with parents soon being able to edit fetal traits such as autism or sexuality, I can't help but wonder if these efforts are inherently discriminatory. Perhaps, in Modern Biology and Social Implications or Darwin's Legacy, I'll discover some semblance of an answer. Analyzing current events with classmates, such as China's rogue designer-babies, is the best medium for me to examine innovation's social responsibilities. Meanwhile, studying historical Darwinistic theory is key to understanding modern ableism and homophobia. I hope to lob philosophical questions across the room, engage in existential discussions, then translate theory into practice by interning with the Bucan Lab. On the forefront of studying behavioral genetics, I can not only witness firsthand autism research, but also start bioethical conversations with colleagues. I'd like to ask Professor Bucan the safety of gene-editing: how do we ensure altering particular genes won't have any harmful off-target effects?Beyond the University of Pennsylvania's individual opportunities is its commitment to fostering community. The course Culture, Production, and Consumption in the Global Marketplace best embodies this value. On one hand, I'm eager to discuss with peers how healthcare is shaped by consumerism, but on the other, I'd like to listen to their experiences of growing up in a contemporary, capitalistic society. Even better is that we can do all this while exploring Philadelphia, relishing the cuisine and museums of an international city.Furthermore, I dream to bring this element of collective discovery beyond campus. Whether it be the student-run Engineers Without Borders or the International Honors Programs' Health and Community initiative, the University of Pennsylvania's support for worldly scholarship is inspiring. Meshing ethics, bioengineering, and sociology to address global health challenges livens my curiosities, and I seek to investigate how healthcare functions in different sociocultural contexts abroad, specifically its inclusion and exclusion of certain populations. These experiences all contribute to my Health and Societies' senior capstone project: I yearn to unite my extracurriculars and academics by focusing on worldwide queer mental health disparities and possible medical solutions.Biological innovations, such as genetic engineering, address many of our woes, but with new developments comes new moral concerns. More and more, science intersects with philosophy, politics, and culture, and I value majoring in Health and Societies to be conscientious of these crossroads. The University of Pennsylvania's thoughtful and interdisciplinary landscape, thus, beckons me. I dream to join its haven for intellectual reflection, delve into the nuances of scientific advancements, and maybe\\u2014if time permits\\u2014get back to answering the question to kill or not to kill.How will you explore your intellectual and academic interests at the University of Pennsylvania? Please answer this question given the specific undergraduate school to which you are applying. (400-650 words) Sustainability. A gardener myself, I'm already enamored by Dartmouth's camaraderie with nature. Whether it be bee-keeping with classmates or relaxing in the organic farm alone, each facet of campus is a chance to humble myself, to reaffirm my appreciation for Earth.This self-effacing curiosity pervades Dartmouth's D-Plan. If I'm going to be studying tropical-biology, I'm joining a foreign-study program to gather real samples in Caribbean reefs. If I want to grasp science's role in society, I'm using my sophomore summer to debate peers in Ethics and Information Technology. Dartmouth ultimately fosters a sustainable education: time and learning are never wasted.While arguing a Dartmouth-related case before the U.S. Supreme Court in 1818, Daniel Webster, Class of 1801, delivered this memorable line: 'It is, Sir\\u2026a small college. And yet, there are those who love it!' As you seek admission to the Class of 2023, what aspects of the College's program, community or campus environment attract your interest?Jane was commended for being a survivor.Clad in invisible armor, defiant against injustice\\u2014that's how we imagined her as her story of sexual assault circulated. We deemed her a hero, nearing superhuman, but\\u2014as Jane would confide in me later\\u2014not once did our hasty label reflect her struggles honestly.To her, survivor implied that the worst was over, sidelining her depression for a more palatable story of overcoming. Our words weren't ill-intentioned, but certainly, they were ill-informed. I realized we succumbed to a grander cultural problem\\u2014one that sentimentalizes and misrepresents sexual assault, discouraging reporting and de-prioritizing long-term care.From volunteering in a rape-counseling center, I've grasped that shaping culture begins with shaping language. Similar to how normalizing gender-neutral pronouns promotes acceptance, how we describe assault must be more inclusive. By exploring Dartmouth's interdisciplinary courses United States of Queer and Inequality and Social Justice, I desire to interrogate with classmates the reforms activism needs to encompass all narratives.Subsequently, under the Student and Presidential Committee on Sexual Assault, I seek to translate theory into justice. Joining peers will not only offer me a platform to cultivate student-administration dialogue, but also resources to pursue solutions for sexual assault's psychological consequences. With an Elizabeth A. Hoffman Research Grant, I can investigate the strengths of differing therapy techniques at Dartmouth's National Center for PTSD, later bringing my findings to the table for debate. How should we improve existing campus mental-health support systems?Sexual assault shouldn't be a tokenized story or glorified narrative. Dartmouth's expressive, multifaceted community is a haven to foster this ideal, to devise the most holistic solutions for sexual violence. I strive to be a better ally for Jane and others, but first I must address our misguided words and assumptions. Therein, however, lies the beauty of language\\u2014only discussion rectifies it, not silence.In the aftermath of World War II, Dartmouth President John Sloane Dickey, Class of 1929, proclaimed, 'The world's troubles are your troubles\\u2026and there is nothing wrong with the world that better human beings cannot fix.' Which of the world's 'troubles' inspires you to act? How might your course of study at Dartmouth prepare you to address it?My love for collective adventures leads me to Duke. I've traversed Yosemite, scuba-dived with family, but none of these experiences even compare to the excitement of tenting with friends, braving the cold for a taste of athletic thrill. Between games, I'm eager to explore Duke's various social niches. The International Cooking Club shines in particular: I'm giddy to embrace my surrounding diversity and share my own Taiwanese recipes.This love for community extends into academics. As an aspiring cognitive-neurobiologist, the Lemur Center and its tight-knit team of interdisciplinary scientists uniquely appeals to me. Investigating primate biology is the best mechanism for medical research, much more efficient than mice-models. With my previous experience untangling developmental-genetics, I hope to contribute to the center's deciphering of neurodegenerative disease.Every facet of Duke is ultimately a collective adventure. Whether that be chanting Blue Devils! or observing lemurs, I know I'll always be at home.If you are applying to the Trinity College of Arts and Sciences as a first year applicant, please discuss why you consider Duke a good match for you. Is there something particular about Duke that attracts you? (Please limit your response to no more than 150 words.)Jane was commended for being a survivor.Clad in invisible armor and defiant against injustice\\u2014that's how we imagined her as her story of sexual assault circulated. We deemed her a hero, nearing superhuman, but\\u2014as Jane would confide in me later\\u2014not once did our hasty label reflect her struggles honestly.To her, survivor implied that the worst was over. It sidelined her depression for a more palatable story of overcoming. Our words weren't ill-intentioned, but certainly, they were ill-informed. Unknowingly, we succumbed to society's habit of misrepresenting sexual assault, fostering a claustrophobic environment hostile to truth.Some call it nitpicky political-correctness, but shaping culture must begin with shaping language. Survivor versus victim or gender-neutral pronouns seem insignificant, but from volunteering at the rape-counseling center, I've realized these minutiae do matter to vulnerable individuals in my community. Words legitimize our experiences, our identities, and when others abuse or mischaracterize us with them, shame arises. It's when my suffering and tears were once ridiculed as gay, when Jane's narrative was tokenized for public inspiration.For me, however, language's fluidity signifies hope. In my current project with Bay Area Women Against Rape, I embrace engaging law enforcement through creating awareness curriculum to re-evaluate how we address sexual assault. Instead of this what I think, it's what do you prefer?\\u2014words should be empathetic tools to empower people to express their own stories. To be a better ally for Jane, myself, and others, I find purpose in molding discourse. Thankfully, only discussion rectifies language, not silence.Duke University seeks a talented, engaged student body that embodies the wide range of human experience; we believe that the diversity of our students makes our community stronger. If you'd like to share a perspective you bring or experiences you've had to help us understand you better-perhaps related to a community you belong to or your family or cultural background-we encourage you to do so. Real people are reading your application, and we want to do our best to understand and appreciate the real people applying to Duke. \"\"\""
   ]
  },
  {
   "cell_type": "code",
   "execution_count": 13,
   "metadata": {},
   "outputs": [],
   "source": [
    "def theme_none_overlap(text):\n",
    "\n",
    "    essay_input_corpus = str(text) #문장입력\n",
    "    essay_input_corpus = essay_input_corpus.lower()#소문자 변환\n",
    "\n",
    "    sentences  = sent_tokenize(essay_input_corpus) #문장 토큰화\n",
    "    total_sentences = len(sentences)#토큰으로 처리된 총 문장 수\n",
    "    total_words = len(word_tokenize(essay_input_corpus))# 총 단어수\n",
    "    \n",
    "    split_sentences = []\n",
    "    for sentence in sentences:\n",
    "        processed = re.sub(\"[^a-zA-Z]\",\" \", sentence)\n",
    "        words = processed.split()\n",
    "        split_sentences.append(words)\n",
    "\n",
    "    skip_gram = 1\n",
    "    workers = multiprocessing.cpu_count()\n",
    "    bigram_transformer = Phrases(split_sentences)\n",
    "\n",
    "    model = gensim.models.word2vec.Word2Vec(bigram_transformer[split_sentences], workers=workers, sg=skip_gram, min_count=1)\n",
    "\n",
    "    model.train(split_sentences, total_examples=sum([len(sentence) for sentence in sentences]), epochs=100)\n",
    "    \n",
    "    #모델 설계 완료\n",
    "\n",
    "    #OVERLAP 단어들을 리스트에 넣어서 필터로 만들고\n",
    "    character_list = ['i', 'my', 'me', 'mine', 'you', 'your', 'they','them',\n",
    "                      'yours', 'he','him','his' 'she','her','it','someone','their', 'myself', 'aunt',\n",
    "                    'brother','cousin','daughter','father','grandchild','granddaughter','granddson','grandfather',\n",
    "                    'grandmother','great-grandchild','husband','ex-husband','son-in-law', 'daughter-in-law','mother',\n",
    "                    'niece','nephew','parents','sister','son','stepfather','stepmother','stepdaughter', 'stepson',\n",
    "                    'twin','uncle','widow','widower','wife','ex-wife']\n",
    "    \n",
    "    ####문장에 char_list의 단어들이 있는지 확인하고, 있다면 유사단어를 추출한다.\n",
    "    #우선 토큰화한다.\n",
    "    retokenize = RegexpTokenizer(\"[\\w]+\") #줄바꿈 제거하여 한줄로 만들고\n",
    "    token_input_text = retokenize.tokenize(essay_input_corpus)\n",
    "    #print (token_input_text) #토큰화 처리 확인.. 토큰들이 리스트에 담김\n",
    "    #리트스로 정리된 개별 토큰을 char_list와 비교해서 존재하는 것만 추출한다.\n",
    "    filtered_chr_text = []\n",
    "    for k in token_input_text:\n",
    "        for j in character_list:\n",
    "            if k == j:\n",
    "                filtered_chr_text.append(j)\n",
    "    \n",
    "    #print (filtered_chr_text) # 유사단어 비교 추출 완료, 겹치는 단어는 제거하자.\n",
    "    \n",
    "    filtered_chr_text_ = set(filtered_chr_text) #중복제거\n",
    "    filtered_chr_text__ = list(filtered_chr_text_) #다시 리스트로 변환\n",
    "    #print (filtered_chr_text__) # 중복값 제거 확인\n",
    "    \n",
    "    for i in filtered_chr_text__:\n",
    "        ext_sim_words_key = model.most_similar_cosmul(i) #모델적용\n",
    "    \n",
    "    char_total_count = len(filtered_chr_text) # 중복이 제거되지 않은 에세이 총 문장에 사용된 캐릭터 표현 수\n",
    "    char_count_ = len(filtered_chr_text__) #중복제거된 캐릭터 표현 총 수\n",
    "        \n",
    "    result_char_ratio = round(char_total_count/total_words * 100, 2)\n",
    "\n",
    "    #return result_char_ratio, total_sentences, total_words, char_total_count, char_count_, ext_sim_words_key\n",
    "    return result_char_ratio"
   ]
  },
  {
   "cell_type": "code",
   "execution_count": 14,
   "metadata": {},
   "outputs": [
    {
     "name": "stderr",
     "output_type": "stream",
     "text": [
      "/anaconda3/envs/py37pytorch/lib/python3.7/site-packages/ipykernel_launcher.py:53: DeprecationWarning: Call to deprecated `most_similar_cosmul` (Method will be removed in 4.0.0, use self.wv.most_similar_cosmul() instead).\n"
     ]
    },
    {
     "data": {
      "text/plain": [
       "8.57"
      ]
     },
     "execution_count": 14,
     "metadata": {},
     "output_type": "execute_result"
    }
   ],
   "source": [
    "re_theme_none_overlap = theme_none_overlap(text)\n",
    "re_theme_none_overlap"
   ]
  },
  {
   "cell_type": "markdown",
   "metadata": {},
   "source": [
    "## LSA 기술을 이용한 문서 유사도 도출하기 - Essay 질문에 적합한 답변을 했는지에 대한 문서 유사도 분석\n"
   ]
  },
  {
   "cell_type": "code",
   "execution_count": 15,
   "metadata": {},
   "outputs": [],
   "source": [
    "from gensim import corpora, models, similarities"
   ]
  },
  {
   "cell_type": "code",
   "execution_count": 16,
   "metadata": {},
   "outputs": [],
   "source": [
    "documents = [\"Some students have a background, identity, interest, or talent that is so meaningful they believe their application would be incomplete without it. If this sounds like you, then please share your story.\",\n",
    "             \"The lessons we take from obstacles we encounter can be fundamental to later success. Recount a time when you faced a challenge, setback, or failure. How did it affect you, and what did you learn from the experience?\",\n",
    "             \"Reflect on a time when you questioned or challenged a belief or idea. What prompted your thinking? What was the outcome?\",\n",
    "             \"Describe a problem you've solved or a problem you'd like to solve. It can be an intellectual challenge, a research query, an ethical dilemma - anything that is of personal importance, no matter the scale. Explain its significance to you and what steps you took or could be taken to identify a solution.\",\n",
    "             \"Discuss an accomplishment, event, or realization that sparked a period of personal growth and a new understanding of yourself or others.\",\n",
    "             \"Describe a topic, idea, or concept you find so engaging that it makes you lose all track of time. Why does it captivate you? What or who do you turn to when you want to learn more? \",\n",
    "             \"Share an essay on any topic of your choice. It can be one you've already written, one that responds to a different prompt, or one of your own design.\"]"
   ]
  },
  {
   "cell_type": "code",
   "execution_count": 17,
   "metadata": {},
   "outputs": [],
   "source": [
    "# remove common words and tokenize them\n",
    "stoplist = set('for a of the and to in'.split())"
   ]
  },
  {
   "cell_type": "code",
   "execution_count": 18,
   "metadata": {},
   "outputs": [],
   "source": [
    "texts = [[word for word in document.lower().split() if word not in stoplist] for document in documents]"
   ]
  },
  {
   "cell_type": "code",
   "execution_count": 19,
   "metadata": {},
   "outputs": [],
   "source": [
    "# remove words those appear only once\n",
    "all_tokens = sum(texts, [])"
   ]
  },
  {
   "cell_type": "code",
   "execution_count": 20,
   "metadata": {},
   "outputs": [],
   "source": [
    "tokens_once = set(word for word in set(all_tokens) if all_tokens.count(word) ==1)"
   ]
  },
  {
   "cell_type": "code",
   "execution_count": 21,
   "metadata": {},
   "outputs": [],
   "source": [
    "texts = [[word for word in text if word not in tokens_once]\n",
    "         for text in texts]"
   ]
  },
  {
   "cell_type": "code",
   "execution_count": 22,
   "metadata": {},
   "outputs": [],
   "source": [
    "dictionary = corpora.Dictionary(texts)"
   ]
  },
  {
   "cell_type": "code",
   "execution_count": 23,
   "metadata": {},
   "outputs": [],
   "source": [
    "dictionary.save('deerwester.dict')  # save as binary file at the dictionary at local directory"
   ]
  },
  {
   "cell_type": "code",
   "execution_count": 24,
   "metadata": {},
   "outputs": [],
   "source": [
    "dictionary.save_as_text('deerwester_text.dict')  # save as text file at the local directory"
   ]
  },
  {
   "cell_type": "code",
   "execution_count": 25,
   "metadata": {},
   "outputs": [
    {
     "name": "stdout",
     "output_type": "stream",
     "text": [
      "{'be': 0, 'is': 1, 'like': 2, 'or': 3, 'share': 4, 'so': 5, 'that': 6, 'you,': 7, 'your': 8, 'can': 9, 'challenge,': 10, 'did': 11, 'from': 12, 'it': 13, 'learn': 14, 'time': 15, 'we': 16, 'what': 17, 'when': 18, 'you': 19, 'on': 20, 'an': 21, 'describe': 22, 'personal': 23, 'problem': 24, \"you've\": 25, 'one': 26}\n"
     ]
    }
   ],
   "source": [
    "print(dictionary.token2id) # show pairs of \"word : word-ID number\""
   ]
  },
  {
   "cell_type": "code",
   "execution_count": 33,
   "metadata": {},
   "outputs": [
    {
     "name": "stdout",
     "output_type": "stream",
     "text": [
      "[(0, 31), (1, 19), (2, 11), (3, 35), (4, 5), (5, 2), (6, 72), (7, 2), (8, 15), (9, 9), (10, 3), (12, 26), (13, 14), (14, 13), (15, 12), (16, 6), (17, 21), (18, 8), (19, 36), (20, 37), (21, 18), (22, 3), (23, 1), (24, 6), (25, 2), (26, 7)]\n"
     ]
    }
   ],
   "source": [
    "text_input = \"\"\"I inhale deeply and blow harder than I thought possible, pushing the tiny ember from its resting place on the candle out into the air. The room erupts around me, and 'Happy Birthday!' cheers echo through the halls. It's time to make a wish. In my mind, that new Limited Edition Deluxe Ben 10 watch will soon be mine. My parents and the aunties and uncles around me attempt to point me in a different direction. 'Wish that you get to go to the temple every day when you're older! Wish that you memorize all your Sanskrit texts before you turn 6! Wish that you can live in India after college!' My ears listen, but my mind tunes them out, as nothing could possibly compare to that toy watch! What I never realized on my third birthday is that those wishes quietly tell the story of how my family hopes my life will play out. In this version of my life, there wasn't much room for change, personal growth, or 'rocking the boat.' A vital aspect of my family's cultural background is their focus on accepting things as they are. Growing up, I was discouraged from questioning others or asking questions that didn't have definitive yes or no answers. If I innocently asked my grandma why she expected me to touch her feet, my dad would grab my hand in a sudden swoop, look me sternly in the eye, and tell me not to disrespect her like that again. At home, if I mentioned that I had tried eggs for breakfast at a friend's house, I'd be looked at like I had just committed a felony for eating what my parents considered meat. If I asked the priest at the temple why he had asked an Indian man and his white wife to leave, I'd be met with a condescending glare and told that I should also leave for asking such questions.In direct contrast, my curiosity was invited and encouraged at school. After an environmental science lesson, I stayed for a few minutes after class to ask my 4th-grade science teacher with wide eyes how it was possible that Niagara Falls doesn't run out of flowing water. Instead of scolding me for asking her a 'dumb question,' she smiled and explained the intricacy of the water cycle. Now, if a teacher mentions that we'll learn about why a certain proof or idea works only in a future class, I'll stay after to ask more or pour through an advanced textbook to try to understand it. While my perspective was widening at school, the receptiveness to raising complex questions at home was diminishing. After earning my driver's license, I registered as an organ donor. My small checkmark on a piece of paper led to an intense clash between my and my parents' moral platform. I wanted to ensure that I positively contributed to society, while my parents believed that organ donation was an unfamiliar and unnecessary cultural taboo. I would often ask for clarity or for reasons that supported their ideologies. Their response would usually entail feeling a deep, visceral sense that traditions must be followed exactly as taught, without objection. Told in one language to keep asking questions and in another to ask only the right ones, I chose exploring questions that don't have answers, rather than accepting answers that don't get questioned. When it comes to the maze of learning, even when I take a wrong turn and encounter roadblocks that are meant to stop me, I've learned to climb over them and keep moving forward. My curiosity strengthens with each hurdle and has expanded into a pure love of learning new things. I've become someone who seeks to understand things at a fundamental level and who finds excitement in taking on big questions that have yet to be solved. I'm no longer afraid to rock the boat. \"},{\"index\":1,\"personal_essay\":\"Ever since I first held a small foam Spiderman basketball in my tiny hands and watched my idol Kobe Bryant hit every three-pointer he attempted, I've wanted to understand and replicate his flawless jump shot. As my math education progressed in school, I began to realize I had the tools to create a perfect shot formula. After learning about variables for the first time in 5th grade Algebra, I began to treat each aspect of Kobe's jump shot as a different variable, each combination of variables resulting in a unique solution. While in 7th-grade geometry, I graphed the arc of his shot, and after learning about quadratic equations in 8th grade, I expressed his shot as a parabolic function that would ensure a swish when shooting from any spot. After calculus lessons in 10th and 11th grade, I was excited to finally solve for the perfect velocity and acceleration needed on my release. At Brown, I hope to explore this intellectual pursuit through a different lens. What if I could maximize the odds of making shots if I understood the science behind one's mental mindset and focus through CLPS 500: Perception and Action? Or use astrophysics to account for drag and gravitational force anywhere in the universe? Or use data science to break down the analytics of the NBA's best shooters? Through the Open Curriculum, I see myself not only becoming a more complete learner, but also a more complete thinker, applying a flexible mindset to any problem I encounter. Brown's Open Curriculum allows students to explore broadly while also diving deeply into their academic pursuits. Tell us about an academic interest (or interests) that excites you, and how you might use the Open Curriculum to pursue it. (250 words)<br \\/><br \\/><br \\/>I've been playing the Mridangam since I was five years old. It's a simple instrument: A wood barrel covered on two ends by goatskin with leather straps surrounding the hull. This instrument serves as a connection between me and one of the most beautiful aspects of my culture: Carnatic music. As a young child, I'd be taken to the temple every weekend for three-hour-long Carnatic music concerts, where the most accomplished teenagers and young adults in our local Indian community would perform. I would watch in awe as the mridangists' hands moved gracefully, flowing across the goatskin as if they weren't making contact, while simultaneously producing sharp rhythmic patterns that never failed to fall on the beat. Hoping to be like these idols on the stage, I trained intensely with my teacher, a strict man who taught me that the simple drum I was playing had thousands of years of culture behind it. Building up from simple strokes, I realized that the finger speed I'd had been awestruck by wasn't some magical talent, it was instead a science perfected by repeated practice. I began to work my way onto the stage. I'd often attempt certain strokes that would fail miserably, and have me scrambling to find the beat once again. Now, I play in temples all over New England, extending my culture to those kids whose spot I once used to be in, looking at them with gratefulness as I know I'm doing something more than just playing a drum. Tell us about a place or community you call home. How has it shaped your perspective? (250 words)Ever since I first held a small foam Spiderman basketball in my tiny hands and watched my idol Kobe Bryant hit every three-pointer he attempted, I've wanted to understand and replicate his flawless jump shot. As my math education progressed in school, I began to realize I had the tools to create a perfect shot formula. After learning about variables for the first time in 5th grade Algebra, I began to treat each aspect of Kobe's jump shot as a different variable, each combination resulting in a unique solution. While in 7th-grade geometry, I graphed the arc of his shot, and after learning about quadratic equations in 8th grade, I expressed his shot as a parabolic function that would ensure a swish when shooting from any spot on the court. After early calculus lessons in 10th and 11th grade, I was excited to finally solve for the perfect velocity and acceleration needed on my release. Though solving for a perfect jump shot equation may seem like a trivial intellectual challenge, as someone who loves real-world applications of what they learn in the classroom, it's the perfect medium for me to build on my curiosity in a creative pursuit of answers. At WashU, I hope to further dive into the study of math, using more advanced concepts to get even closer to finding the perfect SWISH. With a WashU education, I see myself not only becoming a more complete learner, but also a more complete thinker, applying a flexible mindset to any problem I encounter. Math can be used for anything from solving for a perfect jump shot to creating systems that find more efficient ways to distribute resources to those in need. I plan to use math to find solutions to problems that affect people all around the world. Tell us about something that really sparks your intellectual interest and curiosity and compels you to explore more in the program\\/area of study that you indicated. It could be an idea, book, project, cultural activity, work of art, start-up, music, movie, research, innovation, question, or other pursuit. It's currently easier than ever to reinforce your opinions through social media or a quick Google search. Relying on a sole source of news, or looking up 'cons' instead of 'pros and cons' of a policy or ideology, is the difference between experiencing confirmation bias and making informed conclusions. What is the most significant challenge that society faces today? (50 word limit)The live broadcast of the moon landing. The event was the single most impressive feat accomplished to date, with scientists, politicians, and engineers all working side by side to do something previously considered impossible. Regardless of race, gender, or any other identity, we were all united as humans in awe. What historical moment or event do you wish you could have witnessed? (50 word limit)<br \\/><br \\/><br \\/>'I want the fairy tale' - Pretty Woman, 1990.What five words best describe you?Whenever a new episode of my favorite podcast Hidden Brain is released, I instantly grab a pair of headphones and head outside. While dribbling a basketball, I listen to the rustling of the leaves above in one ear, and jump headfirst into the world of uncommon ideas in the other.When the choice is yours, what do you read, listen to, or watch? (50 word limit)What's good, my guy?One quick fact that you should definitely know ahead of time is that if you see me jump out of bed and starting fervently typing on my laptop in the middle of the night, do NOT call 911. I swear I'm not trying to hack the NSA or anything, I just have random business ideas pop into my head all the time and love to keep track of them by writing them down. Here's what you'll quickly learn about what I enjoy at any time other than 2 AM:If you're into superheroes, I'm your guy. If not, be prepared for Marvel binge-watching sessions and rants about how Iron Man is INFINITELY better than Captain America. I want to get into whatever you love watching, too! MUSIC. Literally anything is fair game. If you're into R&B, let's discuss the poetry behind J.Cole's lyrics. If you're into theater, let's rank the best Broadway musicals. If you're into hip hop, let's freestyle! I'll beatbox, you got the lyrics.The greatest game you've maybe never heard of: Spikeball. Let's take a bike ride out to the quad, plop down a net, and rally for hours on end. You're probably better than me already even if you've never heard of it (yeah, I'm that bad), but we'll have a blast nonetheless.I can't wait to engage in endless dorm room discussions and be the loudest fans at Stanford football games with you!Virtually all of Stanford's undergraduates live on campus. Write a note to your future roommate that reveals something about you or that will help your roommate \\u2013 and us \\u2013 get to know you better. At USC, I plan to explore the intersection between Computer Science and Economics, with a focus on Business. I'm excited to take advantage of the robust opportunities offered by the Economics Leadership Council unique to USC. I see myself attending lectures of USC professors and abundant speaker sessions arranged by the council. USC's mission of creating supporting global individuals deeply resounds with me, which is why I'd be excited to explore the Economics Study Abroad opportunities, interacting with colleagues at the London School of Economics or studying the intersection between cultural values and applied economics practices in the Middle East. Studying computer science in conjunction with the Economics and Mathematics program at USC will give me the opportunity to apply my ideas to current models. Using any country's data set, I would be able to graphically simulate how a new economic policy would affect certain metrics and demographics of that country. In a microeconomic manner, I'd also be able to directly apply my computer science education by coding for a socially-driven startup in the Los Angeles area. The intersection between computer science, data, and economic policy is becoming increasingly important, and I plan to be one of the leaders in the movement for pushing for a socially-conscious relationship between Computer Science and Economics on both the individual business level, as well as for our country and the world as a whole. Describe how you plan to pursue your academic interests and why you want to explore them at USC specifically. Please feel free to address your first- and second-choice major selections. The Grand Challenges outlined by the NAE all have significant ramifications for the future of humanity and the future of the planet. In terms of pure importance, being able to harness energy from nuclear fusion is the single most critical challenge of the ones outlined. Humanity is currently experiencing a phase of technological adolescence, and the development of a sustainable, clean, efficient form of energy that could power the world going forward would lead to a plethora of innovative possibilities. Not only would fusion energy be able to push the world forward in terms of science, but it would also address the problems that the other grand challenges attempt to solve. By adopting nuclear fusion as our main source of energy, many of the world's problems posed by gasoline and fossil fuel usage will be made obsolete. Even in terms of practicality, the clean energy we'll get from harnessing fusion is equivalent to covering every human-made surface on Earth with solar panels. Sources of energy will no longer be a resource that the world fights wars over, and will instead be abundant. Even small amounts of fusion energy can power the world's most powerful supercomputers, the world's largest cities, and eventually even the technology and ships that will lead humans out into the stars in search of more. Cracking the code of large-scale nuclear fusion will catapult society even farther than previous great human leaps such as the Industrial Revolution, and is the key to the future. While the world as a whole may be more technologically advanced than ever before, the National Academy of Engineering (NAE) has outlined 14 Grand Challenges that engineers should focus on to improve life on the planet. Learn about the Grand Challenges at www.engineeringchallenges.org and tell us which challenge is most important, and why. (250-word limit)<br \\/><br \\/><br \\/>Accepting of asking questions; Entrepreneurial community tackling real-world problems; Highly motivated students that I can learn from; Exposure to parts of the world I'd not otherwise have access to; Musical; Filled with community-based traditions; The magic of winter and snow; Not assuming current ideas to be gospel; Quirky roommates; Resources devoted to just tinkering; Having enough students so that I can constantly meet new people and be impressed by them; Professors who encourage after-class discussions; Fitness resources; Basketball court; Large varsity sports team support network; Interdisciplinary education that teaches me how to approach all types of problems; Close proximity to professional sports venues; Great food program; Small classes that encourage individual participation.List a few words or phrases that describe your ideal college community.(150 words or less)*<br \\/><br \\/><br \\/>Pride and Prejudice- Jane Austen; The Curious Incident of the Dog in the Nighttime - Mark Haddon; The Great Gatsby - F. Scott Fitzgerald; Beloved - Toni Morrison; Hamlet - William Shakespeare; Do Androids Dream of Electric Sheep - Philip K. Dick; The Sound and the Fury - William Faulkner; Richard III - William Shakespeare; Narrative of the Life of Frederick Douglass, an American Slave - Frederick Douglass; Their Eyes Were Watching God- Zora Neale HurstonList the titles of the required readings from courses during the school year or summer that you enjoyed most in the past year. (150 words or less)How Google Works- Eric Schmidt & Jonathan Rosenberg; The Namesake - Jhumpa Lahiri; Bunk: The Rise of Hoaxes, Humbug, Plagiarists, Phonies, Post-Facts, and Fake News - Kevin Young; Knowledge is Beautiful - David McCandless; A Brief History of Time - Stephen Hawking; Educated - Tara Westover; The Selfish Gene- Richard Dawkins.List the titles of the books you read for pleasure that you enjoyed most in the past year. I deeply enjoy involving myself in entrepreneurship. As a student at Columbia, I plan to take full advantage of the Columbia Commercialization & Entrepreneurial Resources. Columbia not only guides students in the startup process through funding opportunities and mentor workshops, but also partners with companies like Amazon to minimize basic startup costs such as server space. Personally, It wasn't until I interned with Formally, an immigration tech startup, that I realized how drastically the decisions made by lawmakers impacted people. I hope to combine mathematics, economics, and entrepreneurship to create a startup that aims to influence policy decisions through technology. At Columbia, I would not only use the CORE to learn how to approach this problem from all angles, but I would also use specific resources such as the Almaworks startup accelerator and entrepreneurship and design courses to make this startup as impactful as possible. Through Columbia, I see myself acquiring the education necessary to help people who are currently considered nothing more than a statistic.Please tell us what you value most about Columbia and why.It wasn't until I interned with Through my internship, I've had the unique opportunity to experience technology through the lens of social entrepreneurship, and I developed an interest in exploring the economics behind policy decisions. Inspired by my time at Successful students at Johns Hopkins make the biggest impact by collaborating with others, including peers, mentors, and professors. Talk about a time, in or outside the classroom, when you worked with others and what you learned from the experience. (300-400 words)<br \\/><br \\/><br \\/>The Tufts curriculum allows me to explore my different interests while simultaneously teaching me how to approach a problem from all different angles with a well rounded education. I look forward to giving back to Medford and the Boston Area by tackling local problems, from the notorious red line delays through UEP 0294 - Sharing Cities, Smart Cities, to the income inequality present in many nearby neighborhoods through SOC 0013 - Urban Sociology.It's comforting to know that on weekends if I'm not heading to a Celtics game or grabbing food from Quincy Market with roommates, I'm also only a short commuter rail ride away from bringing my new friends home with me to share a nice hot plate of home-cooked Indian food. I'm certain that I'll meet people from all different backgrounds at Tufts, and I am eager to learn about the different cultures and traditions of my classmates.Which aspects of the Tufts undergraduate experience prompt your application? In short, \\\\\\u2018Why Tufts?' Chosen: Ethics, Politics and Economics \\/ Applied Mathematics \\/ Mathematics and PhilosophyIt wasn't until I interned with Why do these areas appeal to you?At Yale, I'm not just looking to make new friends and foster new connections. I'm looking to add to my family. I hope to create bonds that go deeper than friendship, using academics as a platform through which I can meet people who are incredibly different from me yet also share my love of learning. I look forward to grabbing snacks with my new family members in our local buttery, frantically searching for cheap apartments in New Haven with suitemates, auditioning for the Whiffenpoofs and performing with them at local senior homes and under-resourced schools in New Haven, and playing pick-up basketball at Lanman after class. I hope to build lifelong relationships with my peers, my professors, and the Yale community as a whole. What is it about Yale that has led you to apply?Whenever a new episode of my favorite podcast Hidden Brain is released, I instantly grab a pair of headphones and head outside. While dribbling a basketball, I listen to the rustling of the leaves above in one ear, and jump headfirst into the world of uncommon ideas in the other.What inspires you?Mahmoud Abdul-Rauf, a name buried in the trenches of NBA history, was the Kaepernick before Kaepernick, one of the first athletes to refuse to stand for the national anthem. I would ask Adbul-Rauf about the parallels between his experience and reactions to similar protests from athletes today. Yale's residential colleges regularly host conversations with guests representing a wide range of experiences and accomplishments. What person, past or present, would you invite to speak? What question would you ask? I plan to be the student who initiates late-night conversations with my suitemates. Whether those conversations are about the myriad of possibilities of the shape of the universe, or freestyle sessions where they rap and I beatbox for them, I hope to be exposed to new perspectives through my peers. Most first-year Yale students live in suites of four to six people. What do you hope to add to your suitemates' experience? What do you hope they will add to yours?Ever since I first held a small foam Spiderman basketball in my tiny hands and watched my idol Kobe Bryant hit every three-pointer he attempted, I've wanted to understand and replicate his flawless jump shot. As my math education progressed in school, I began to realize I had the tools to create a perfect shot formula. After learning about variables for the first time in 5th grade Algebra, I began to treat each aspect of Kobe's jump shot as a different variable, each combination resulting in a unique solution. While in 7th-grade geometry, I graphed the arc of his shot, and after learning about quadratic equations in 8th grade, I expressed his shot as a parabolic function that would ensure a swish when shooting from any spot on the court. After early calculus lessons in 10th and 11th grade, I was excited to finally solve for the perfect velocity and acceleration needed on my release. Though solving for a perfect jump shot equation may seem like a trivial intellectual challenge, as someone who loves to apply what they learn in the classroom, it's the perfect medium for me to build on my curiosity using a creative pursuit of answers. At NYU, I hope to further dive into the study of math, using more advanced concepts to get even closer to finding the perfect SWISH. Math can be used for anything from solving for a perfect jump shot to creating systems that find more efficient ways to distribute resources to those in need. I plan to use math to find solutions to problems that affect people all around the world. At NYU, I intend to combine mathematics with my love for social entrepreneurship. NYU provides an incredible amount of resources for student startups. I plan to be a leader in promoting the exploration of entrepreneurship, working closely with the Entrepreneurial Institute. As someone who wants to found a socially-driven company themselves, I plan to take advantage of the plentiful mentorship and funding opportunities and competitions available to student entrepreneurs. Whether spending time in the Leslie eLab with classmates brainstorming ideas, or in the Tandon MakerSpace bringing those ideas to life, I hope to create solutions. With an NYU education, I see myself not only becoming a more complete learner, but also a more complete thinker, applying a flexible mindset to any problem I encounter.We would like to know more about your interest in NYU. What motivated you to apply to NYU? Why have you applied or expressed interest in a particular campus, school, college, program, and or area of study? If you have applied to more than one, please also tell us why you are interested in these additional areas of study or campuses. We want to understand - Why NYU? (400 words)During a STEM Entrepreneurship camp that I attended in the summer of my freshman year, I had the unique opportunity to visit the BUild Lab IDG Capital Student Innovation Center. I was immediately fascinated by the innovative applications of technology that were taking place in the lab. I could see myself tinkering with all the machinery, trying out a variety of ideas and running different simulations for the sake of inventing. I'm someone who loves to explore different interests intensively and simultaneously, and I see this echoed in the mindset of students at Boston University. I'm excited to audition for the BU Treblemakers as soon as I get on campus, pitching song cover ideas and arranging pieces for us to perform. Of course, I can't wait to explore the city of Boston, too. I've lived in Massachusetts for almost my whole life, and visit Boston frequently, but never from the perspective of a college student. It's comforting to know that on weekends if I'm not heading to a Celtics game or grabbing food from Quincy Market with my roommates, I'm also only a short commuter rail ride away from bringing my new friends home with me to share a nice hot plate of home-cooked Indian food.  I'm certain that I'll meet people from all different backgrounds at BU, and I am eager to learn about the different cultures and traditions of my classmates.What about being a student at Boston University most excites you?The Arvind Kilachand Honors College and I share more than just a name. We share an insistence on asking questions, accepting and engaging in diverse thoughts, and a mission of taking on global challenges. Given the opportunity to teach a class at Kilachand, I would be excited to lead discussions in Entrepreneurship Ethics 101: The Art of Growing and Maintaining a Socially-Conscious Organization. As someone who has always been interested in the interdisciplinary intersection of Business, Psychology, and Economics, I'd want to lead discussions about what it means to abide by values and principles in today's monetarily driven world. By studying the scientific impacts and ramifications of Tesla's public patent policy or analyzing the mistreatment of Amazon's warehouse workers, the class would focus on the importance of not thinking solely about profit, but also about social responsibility, the treatment of employees, and the insistence on learning even at the professional level. I plan to use the Kilachand curriculum as a means of supplementing my own and my students' exploration of social entrepreneurship principles. My Entrepreneurship Ethics class would directly build upon previous KHC ethics and business classes, furthering the discussion of what it means to be a socially conscious and responsible organization in an increasingly innovation-dependant world. As someone who hopes to use technology to solve some of the world's most significant problems associated with standards of living, my course would encourage students to pursue social entrepreneurial endeavors. I often attend lectures at Previously, in order to push for social change myself, I enrolled in some national and international entrepreneurship competitions. I wanted to use the competitions as a medium to develop my ideas and projects and produce tangible results. In the wake of the Parkland shooting, my partner and I designed and pitched Sentinel- an app concept that provided increased campus security through a mobile format. The following year, after realizing how long we were taking in the shower each morning, we developed an LED-studded showerhead that drastically cut water usage in households. Through my Formally internship and the entrepreneurial competitions that I've done, I've had the unique opportunity to experience technology through the lens of social entrepreneurship. I want to extend this opportunity to the students of my course, asking them to form teams and apply to the Innovation Pathway program offered by Innovate@BU. The competitive application process yet collaborative and educational program will simulate the importance of teamwork in a controlled environment. My course will pave for way for students to learn how to work together, to adhere to values in their projects, careers, and businesses, and to create a positive impact on a large scale. If you could create a new Kilachand course, what would it be? How would your imagined course align with the core values of Kilachand?'What if I flick my wrist harder to spin the ball more?' CLANK - the ball hits the rim. 'What if I adjust my launch angle to make my shot more parabolic?' CLANK. 'What if I jump higher by widening my stance to increase my distribution of kinetic energy?' CLANK.Ever since I first held a small foam Spiderman basketball in my tiny hands and watched my idol Kobe Bryant hit every three-pointer he attempted, I've wanted to understand and replicate his flawless jump shot. As my math education progressed in school, I began to realize I had the tools to create a perfect shot formula. After learning about variables for the first time in 5th grade Algebra, I began to treat each aspect of Kobe's jump shot as a different variable, each combination of variables resulting in a unique solution. While in 7th-grade geometry, I graphed the arc of his shot, and after learning about quadratic equations in 8th grade, I expressed his shot as a parabolic function that would ensure a swish when shooting from any spot on the court. After early calculus lessons in 10th and 11th grade, I was excited to finally solve for the perfect velocity and acceleration needed on my release. Though solving for a perfect jump shot equation may seem like a trivial intellectual challenge, for me, it incorporates all of the math topics I learn into one singular problem that has yet to be solved. It's the perfect medium through which I can apply the concepts I learn in the classroom in a hands-on manner. Through the beginning of this year, I've made significant progress on my formula. With multivariable calculus, I've learned to shift my mode of thinking. All along, I had been setting the scene in a 2-dimensional frame of reference, but I now had the means to examine it in a three-dimensional setting, just like our own world. I've begun to incorporate the concepts I learn in other classes as well. Two years of physics classes have helped me account for air drag and the gravitational force on the basketball. Multiple computer science classes have given me the tools needed to create and run simulations of my own testing potential solutions. I believe that I'm only a few steps away from finally solving my equation, and at BU, I hope to use my education to get even closer to my solution, incorporating new subjects and mathematical concepts to ensure that I hear SWISH every time the ball leaves my hands. By diving into this intellectual pursuit, I've gained hands-on experience in the process of solving problems. I plan to apply this problem-solving process to other problems, using BU's interdisciplinary curriculum to attempt to find solutions in the Boston community and beyond. I see myself combining new lessons on social context and management theory learned in classes like CAS SO 203: Introduction to Sociological Theories, and CAS MA 569 Optimization Methods of Operations Research, in order to tackle issues such as minimum wage rights and high unemployment rates in the Greater Boston area. I plan to use the resources available at BU to not only tackle my own intellectual pursuits and questions, but also to solve those which affect communities throughout the world that we live in. School can often seem like work: a set of responsibilities, obligations, and tasks to be completed. But Trustee Scholars are creative and curious, rather than merely dutiful. Give us a glimpse of an intellectual pursuit or challenge that absorbs you, gives you joy, or provokes your curiosity, and tell us why.\"\"\" # temporary data to see role of below function\n",
    "print(new_vec)"
   ]
  },
  {
   "cell_type": "code",
   "execution_count": 34,
   "metadata": {},
   "outputs": [],
   "source": [
    "new_vec = dictionary.doc2bow(text_input.lower().split()) # return \"word-ID : Frequency of appearance\"\""
   ]
  },
  {
   "cell_type": "code",
   "execution_count": 35,
   "metadata": {},
   "outputs": [
    {
     "name": "stdout",
     "output_type": "stream",
     "text": [
      "[[(0, 1), (1, 1), (2, 1), (3, 1), (4, 1), (5, 1), (6, 1), (7, 1), (8, 1)], [(0, 1), (3, 1), (7, 1), (9, 1), (10, 1), (11, 2), (12, 2), (13, 1), (14, 1), (15, 1), (16, 2), (17, 1), (18, 1), (19, 2)], [(3, 2), (8, 1), (15, 1), (17, 2), (18, 1), (19, 1), (20, 1)], [(0, 2), (1, 1), (2, 1), (3, 2), (6, 1), (9, 1), (10, 1), (13, 1), (17, 1), (19, 2), (21, 2), (22, 1), (23, 1), (24, 2), (25, 1)], [(3, 2), (6, 1), (21, 1), (23, 1)], [(3, 2), (5, 1), (6, 1), (13, 2), (14, 1), (17, 1), (18, 1), (19, 4), (22, 1)], [(0, 1), (3, 1), (4, 1), (6, 1), (8, 2), (9, 1), (13, 1), (20, 1), (21, 1), (25, 1), (26, 3)]]\n"
     ]
    }
   ],
   "source": [
    "corpus = [dictionary.doc2bow(text) for text in texts]\n",
    "\n",
    "print(corpus)"
   ]
  },
  {
   "cell_type": "code",
   "execution_count": 36,
   "metadata": {},
   "outputs": [],
   "source": [
    "corpora.MmCorpus.serialize('deerwester.mm', corpus) # save corpus at local directory"
   ]
  },
  {
   "cell_type": "code",
   "execution_count": 37,
   "metadata": {},
   "outputs": [
    {
     "name": "stdout",
     "output_type": "stream",
     "text": [
      "[[(0, 1.0), (1, 1.0), (2, 1.0), (3, 1.0), (4, 1.0), (5, 1.0), (6, 1.0), (7, 1.0), (8, 1.0)], [(0, 1.0), (3, 1.0), (7, 1.0), (9, 1.0), (10, 1.0), (11, 2.0), (12, 2.0), (13, 1.0), (14, 1.0), (15, 1.0), (16, 2.0), (17, 1.0), (18, 1.0), (19, 2.0)], [(3, 2.0), (8, 1.0), (15, 1.0), (17, 2.0), (18, 1.0), (19, 1.0), (20, 1.0)], [(0, 2.0), (1, 1.0), (2, 1.0), (3, 2.0), (6, 1.0), (9, 1.0), (10, 1.0), (13, 1.0), (17, 1.0), (19, 2.0), (21, 2.0), (22, 1.0), (23, 1.0), (24, 2.0), (25, 1.0)], [(3, 2.0), (6, 1.0), (21, 1.0), (23, 1.0)], [(3, 2.0), (5, 1.0), (6, 1.0), (13, 2.0), (14, 1.0), (17, 1.0), (18, 1.0), (19, 4.0), (22, 1.0)], [(0, 1.0), (3, 1.0), (4, 1.0), (6, 1.0), (8, 2.0), (9, 1.0), (13, 1.0), (20, 1.0), (21, 1.0), (25, 1.0), (26, 3.0)]]\n"
     ]
    }
   ],
   "source": [
    "corpus = corpora.MmCorpus('deerwester.mm') # try to load the saved corpus from local\n",
    "\n",
    "print(list(corpus)) # to show corpus which was read above, need to print(list( ))"
   ]
  },
  {
   "cell_type": "code",
   "execution_count": 38,
   "metadata": {},
   "outputs": [
    {
     "name": "stdout",
     "output_type": "stream",
     "text": [
      "Dictionary(27 unique tokens: ['be', 'is', 'like', 'or', 'share']...)\n"
     ]
    }
   ],
   "source": [
    "dictionary = corpora.Dictionary.load('deerwester.dict') # try to load saved dic.from local\n",
    "\n",
    "print(dictionary)"
   ]
  },
  {
   "cell_type": "code",
   "execution_count": 39,
   "metadata": {},
   "outputs": [
    {
     "name": "stdout",
     "output_type": "stream",
     "text": [
      "TfidfModel(num_docs=7, num_nnz=69)\n"
     ]
    }
   ],
   "source": [
    "tfidf = models.TfidfModel(corpus) # step 1 -- initialize a model\n",
    "\n",
    "print(tfidf)"
   ]
  },
  {
   "cell_type": "code",
   "execution_count": 40,
   "metadata": {},
   "outputs": [
    {
     "name": "stdout",
     "output_type": "stream",
     "text": [
      "<gensim.interfaces.TransformedCorpus object at 0x13da60450>\n"
     ]
    }
   ],
   "source": [
    "corpus_tfidf = tfidf[corpus]  # map corpus object into tfidf space\n",
    "\n",
    "print(corpus_tfidf)"
   ]
  },
  {
   "cell_type": "code",
   "execution_count": 42,
   "metadata": {},
   "outputs": [
    {
     "name": "stdout",
     "output_type": "stream",
     "text": [
      "[(0, 0.1866280709933418), (1, 0.41778795606310304), (2, 0.41778795606310304), (4, 0.41778795606310304), (5, 0.41778795606310304), (6, 0.11221120957845192), (7, 0.41778795606310304), (8, 0.2825680916262805)]\n",
      "[(0, 0.07522337831132232), (7, 0.16839600444656647), (9, 0.11389351206373671), (10, 0.16839600444656647), (11, 0.5231372611636212), (12, 0.5231372611636212), (13, 0.07522337831132232), (14, 0.16839600444656647), (15, 0.16839600444656647), (16, 0.5231372611636212), (17, 0.07522337831132232), (18, 0.11389351206373671), (19, 0.15044675662264465)]\n",
      "[(8, 0.3419274826005664), (15, 0.5055531332477127), (17, 0.4516664718233751), (18, 0.3419274826005664), (19, 0.22583323591168755), (20, 0.5055531332477127)]\n",
      "[(0, 0.19974423197515442), (1, 0.2235749798198131), (2, 0.2235749798198131), (6, 0.06004868870195472), (9, 0.15121344324613978), (10, 0.2235749798198131), (13, 0.09987211598757721), (17, 0.09987211598757721), (19, 0.19974423197515442), (21, 0.30242688649227956), (22, 0.2235749798198131), (23, 0.2235749798198131), (24, 0.694555687304098), (25, 0.2235749798198131)]\n",
      "[(6, 0.21716736147161195), (21, 0.5468666377011584), (23, 0.8085636757119925)]\n",
      "[(5, 0.3599070643918201), (6, 0.09666532135535291), (13, 0.32154474627400037), (14, 0.3599070643918201), (17, 0.16077237313700019), (18, 0.2434207374150653), (19, 0.6430894925480007), (22, 0.3599070643918201)]\n",
      "[(0, 0.0845244859792427), (4, 0.18921758150633228), (6, 0.05082083718834612), (8, 0.2559520930771342), (9, 0.1279760465385671), (13, 0.0845244859792427), (20, 0.18921758150633228), (21, 0.1279760465385671), (25, 0.18921758150633228), (26, 0.8817320311002657)]\n"
     ]
    }
   ],
   "source": [
    "for doc in corpus_tfidf: # show tfidf-space mapped words\n",
    "    print(doc)"
   ]
  },
  {
   "cell_type": "code",
   "execution_count": 43,
   "metadata": {},
   "outputs": [
    {
     "name": "stdout",
     "output_type": "stream",
     "text": [
      "LsiModel(num_terms=27, num_topics=2, decay=1.0, chunksize=20000)\n"
     ]
    }
   ],
   "source": [
    "lsi = models.LsiModel(corpus_tfidf, id2word=dictionary, num_topics=2) # initialize LSI \n",
    "print(lsi)"
   ]
  },
  {
   "cell_type": "code",
   "execution_count": 44,
   "metadata": {},
   "outputs": [
    {
     "name": "stdout",
     "output_type": "stream",
     "text": [
      "<gensim.interfaces.TransformedCorpus object at 0x13da31f10>\n"
     ]
    }
   ],
   "source": [
    "corpus_lsi = lsi[corpus_tfidf] # create a double wrapper over the original corpus\n",
    "print(corpus_lsi)"
   ]
  },
  {
   "cell_type": "code",
   "execution_count": 45,
   "metadata": {},
   "outputs": [],
   "source": [
    "topic = lsi.print_topics(2)"
   ]
  },
  {
   "cell_type": "code",
   "execution_count": 46,
   "metadata": {},
   "outputs": [
    {
     "data": {
      "text/plain": [
       "[(0,\n",
       "  '0.394*\"you\" + 0.249*\"problem\" + 0.241*\"what\" + 0.239*\"an\" + 0.236*\"so\" + 0.233*\"personal\" + 0.231*\"your\" + 0.211*\"when\" + 0.204*\"describe\" + 0.193*\"like\"'),\n",
       " (1,\n",
       "  '-0.557*\"personal\" + -0.445*\"an\" + -0.265*\"problem\" + 0.242*\"time\" + 0.227*\"when\" + 0.224*\"you\" + 0.195*\"what\" + 0.173*\"we\" + 0.173*\"from\" + 0.173*\"did\"')]"
      ]
     },
     "execution_count": 46,
     "metadata": {},
     "output_type": "execute_result"
    }
   ],
   "source": [
    "topic"
   ]
  },
  {
   "cell_type": "code",
   "execution_count": 47,
   "metadata": {},
   "outputs": [
    {
     "name": "stdout",
     "output_type": "stream",
     "text": [
      "[(0, 0.4977590481270058), (1, -0.05577488573655422)]\n",
      "[(0, 0.4412212605640377), (1, 0.408458948811821)]\n",
      "[(0, 0.5390077109478102), (1, 0.45756806151465634)]\n",
      "[(0, 0.6596174873501591), (1, -0.4722493805184143)]\n",
      "[(0, 0.3487259811127973), (1, -0.7229273143910915)]\n",
      "[(0, 0.6326324938997785), (1, 0.3216729663225475)]\n",
      "[(0, 0.39166241533376334), (1, -0.09953550380035256)]\n"
     ]
    }
   ],
   "source": [
    "for doc in corpus_lsi:\n",
    "    print(doc)"
   ]
  },
  {
   "cell_type": "code",
   "execution_count": 48,
   "metadata": {},
   "outputs": [],
   "source": [
    "lsi.save('model.lsi')  # save output model at local directory"
   ]
  },
  {
   "cell_type": "code",
   "execution_count": 49,
   "metadata": {},
   "outputs": [
    {
     "name": "stdout",
     "output_type": "stream",
     "text": [
      "LsiModel(num_terms=27, num_topics=2, decay=1.0, chunksize=20000)\n"
     ]
    }
   ],
   "source": [
    "lsi = models.LsiModel.load('model.lsi') # try to load above saved model\n",
    "print(lsi)"
   ]
  },
  {
   "cell_type": "code",
   "execution_count": 50,
   "metadata": {},
   "outputs": [],
   "source": [
    "doc  = \"\"\"I inhale deeply and blow harder than I thought possible, pushing the tiny ember from its resting place on the candle out into the air. The room erupts around me, and 'Happy Birthday!' cheers echo through the halls. It's time to make a wish. In my mind, that new Limited Edition Deluxe Ben 10 watch will soon be mine. My parents and the aunties and uncles around me attempt to point me in a different direction. 'Wish that you get to go to the temple every day when you're older! Wish that you memorize all your Sanskrit texts before you turn 6! Wish that you can live in India after college!' My ears listen, but my mind tunes them out, as nothing could possibly compare to that toy watch! What I never realized on my third birthday is that those wishes quietly tell the story of how my family hopes my life will play out. In this version of my life, there wasn't much room for change, personal growth, or 'rocking the boat.' A vital aspect of my family's cultural background is their focus on accepting things as they are. Growing up, I was discouraged from questioning others or asking questions that didn't have definitive yes or no answers. If I innocently asked my grandma why she expected me to touch her feet, my dad would grab my hand in a sudden swoop, look me sternly in the eye, and tell me not to disrespect her like that again. At home, if I mentioned that I had tried eggs for breakfast at a friend's house, I'd be looked at like I had just committed a felony for eating what my parents considered meat. If I asked the priest at the temple why he had asked an Indian man and his white wife to leave, I'd be met with a condescending glare and told that I should also leave for asking such questions.In direct contrast, my curiosity was invited and encouraged at school. After an environmental science lesson, I stayed for a few minutes after class to ask my 4th-grade science teacher with wide eyes how it was possible that Niagara Falls doesn't run out of flowing water. Instead of scolding me for asking her a 'dumb question,' she smiled and explained the intricacy of the water cycle. Now, if a teacher mentions that we'll learn about why a certain proof or idea works only in a future class, I'll stay after to ask more or pour through an advanced textbook to try to understand it. While my perspective was widening at school, the receptiveness to raising complex questions at home was diminishing. After earning my driver's license, I registered as an organ donor. My small checkmark on a piece of paper led to an intense clash between my and my parents' moral platform. I wanted to ensure that I positively contributed to society, while my parents believed that organ donation was an unfamiliar and unnecessary cultural taboo. I would often ask for clarity or for reasons that supported their ideologies. Their response would usually entail feeling a deep, visceral sense that traditions must be followed exactly as taught, without objection. Told in one language to keep asking questions and in another to ask only the right ones, I chose exploring questions that don't have answers, rather than accepting answers that don't get questioned. When it comes to the maze of learning, even when I take a wrong turn and encounter roadblocks that are meant to stop me, I've learned to climb over them and keep moving forward. My curiosity strengthens with each hurdle and has expanded into a pure love of learning new things. I've become someone who seeks to understand things at a fundamental level and who finds excitement in taking on big questions that have yet to be solved. I'm no longer afraid to rock the boat. \"},{\"index\":1,\"personal_essay\":\"Ever since I first held a small foam Spiderman basketball in my tiny hands and watched my idol Kobe Bryant hit every three-pointer he attempted, I've wanted to understand and replicate his flawless jump shot. As my math education progressed in school, I began to realize I had the tools to create a perfect shot formula. After learning about variables for the first time in 5th grade Algebra, I began to treat each aspect of Kobe's jump shot as a different variable, each combination of variables resulting in a unique solution. While in 7th-grade geometry, I graphed the arc of his shot, and after learning about quadratic equations in 8th grade, I expressed his shot as a parabolic function that would ensure a swish when shooting from any spot. After calculus lessons in 10th and 11th grade, I was excited to finally solve for the perfect velocity and acceleration needed on my release. At Brown, I hope to explore this intellectual pursuit through a different lens. What if I could maximize the odds of making shots if I understood the science behind one's mental mindset and focus through CLPS 500: Perception and Action? Or use astrophysics to account for drag and gravitational force anywhere in the universe? Or use data science to break down the analytics of the NBA's best shooters? Through the Open Curriculum, I see myself not only becoming a more complete learner, but also a more complete thinker, applying a flexible mindset to any problem I encounter. Brown's Open Curriculum allows students to explore broadly while also diving deeply into their academic pursuits. Tell us about an academic interest (or interests) that excites you, and how you might use the Open Curriculum to pursue it. (250 words)<br \\/><br \\/><br \\/>I've been playing the Mridangam since I was five years old. It's a simple instrument: A wood barrel covered on two ends by goatskin with leather straps surrounding the hull. This instrument serves as a connection between me and one of the most beautiful aspects of my culture: Carnatic music. As a young child, I'd be taken to the temple every weekend for three-hour-long Carnatic music concerts, where the most accomplished teenagers and young adults in our local Indian community would perform. I would watch in awe as the mridangists' hands moved gracefully, flowing across the goatskin as if they weren't making contact, while simultaneously producing sharp rhythmic patterns that never failed to fall on the beat. Hoping to be like these idols on the stage, I trained intensely with my teacher, a strict man who taught me that the simple drum I was playing had thousands of years of culture behind it. Building up from simple strokes, I realized that the finger speed I'd had been awestruck by wasn't some magical talent, it was instead a science perfected by repeated practice. I began to work my way onto the stage. I'd often attempt certain strokes that would fail miserably, and have me scrambling to find the beat once again. Now, I play in temples all over New England, extending my culture to those kids whose spot I once used to be in, looking at them with gratefulness as I know I'm doing something more than just playing a drum. Tell us about a place or community you call home. How has it shaped your perspective? (250 words)Ever since I first held a small foam Spiderman basketball in my tiny hands and watched my idol Kobe Bryant hit every three-pointer he attempted, I've wanted to understand and replicate his flawless jump shot. As my math education progressed in school, I began to realize I had the tools to create a perfect shot formula. After learning about variables for the first time in 5th grade Algebra, I began to treat each aspect of Kobe's jump shot as a different variable, each combination resulting in a unique solution. While in 7th-grade geometry, I graphed the arc of his shot, and after learning about quadratic equations in 8th grade, I expressed his shot as a parabolic function that would ensure a swish when shooting from any spot on the court. After early calculus lessons in 10th and 11th grade, I was excited to finally solve for the perfect velocity and acceleration needed on my release. Though solving for a perfect jump shot equation may seem like a trivial intellectual challenge, as someone who loves real-world applications of what they learn in the classroom, it's the perfect medium for me to build on my curiosity in a creative pursuit of answers. At WashU, I hope to further dive into the study of math, using more advanced concepts to get even closer to finding the perfect SWISH. With a WashU education, I see myself not only becoming a more complete learner, but also a more complete thinker, applying a flexible mindset to any problem I encounter. Math can be used for anything from solving for a perfect jump shot to creating systems that find more efficient ways to distribute resources to those in need. I plan to use math to find solutions to problems that affect people all around the world. Tell us about something that really sparks your intellectual interest and curiosity and compels you to explore more in the program\\/area of study that you indicated. It could be an idea, book, project, cultural activity, work of art, start-up, music, movie, research, innovation, question, or other pursuit. It's currently easier than ever to reinforce your opinions through social media or a quick Google search. Relying on a sole source of news, or looking up 'cons' instead of 'pros and cons' of a policy or ideology, is the difference between experiencing confirmation bias and making informed conclusions. What is the most significant challenge that society faces today? (50 word limit)The live broadcast of the moon landing. The event was the single most impressive feat accomplished to date, with scientists, politicians, and engineers all working side by side to do something previously considered impossible. Regardless of race, gender, or any other identity, we were all united as humans in awe. What historical moment or event do you wish you could have witnessed? (50 word limit)<br \\/><br \\/><br \\/>'I want the fairy tale' - Pretty Woman, 1990.What five words best describe you?Whenever a new episode of my favorite podcast Hidden Brain is released, I instantly grab a pair of headphones and head outside. While dribbling a basketball, I listen to the rustling of the leaves above in one ear, and jump headfirst into the world of uncommon ideas in the other.When the choice is yours, what do you read, listen to, or watch? (50 word limit)What's good, my guy?One quick fact that you should definitely know ahead of time is that if you see me jump out of bed and starting fervently typing on my laptop in the middle of the night, do NOT call 911. I swear I'm not trying to hack the NSA or anything, I just have random business ideas pop into my head all the time and love to keep track of them by writing them down. Here's what you'll quickly learn about what I enjoy at any time other than 2 AM:If you're into superheroes, I'm your guy. If not, be prepared for Marvel binge-watching sessions and rants about how Iron Man is INFINITELY better than Captain America. I want to get into whatever you love watching, too! MUSIC. Literally anything is fair game. If you're into R&B, let's discuss the poetry behind J.Cole's lyrics. If you're into theater, let's rank the best Broadway musicals. If you're into hip hop, let's freestyle! I'll beatbox, you got the lyrics.The greatest game you've maybe never heard of: Spikeball. Let's take a bike ride out to the quad, plop down a net, and rally for hours on end. You're probably better than me already even if you've never heard of it (yeah, I'm that bad), but we'll have a blast nonetheless.I can't wait to engage in endless dorm room discussions and be the loudest fans at Stanford football games with you!Virtually all of Stanford's undergraduates live on campus. Write a note to your future roommate that reveals something about you or that will help your roommate \\u2013 and us \\u2013 get to know you better. At USC, I plan to explore the intersection between Computer Science and Economics, with a focus on Business. I'm excited to take advantage of the robust opportunities offered by the Economics Leadership Council unique to USC. I see myself attending lectures of USC professors and abundant speaker sessions arranged by the council. USC's mission of creating supporting global individuals deeply resounds with me, which is why I'd be excited to explore the Economics Study Abroad opportunities, interacting with colleagues at the London School of Economics or studying the intersection between cultural values and applied economics practices in the Middle East. Studying computer science in conjunction with the Economics and Mathematics program at USC will give me the opportunity to apply my ideas to current models. Using any country's data set, I would be able to graphically simulate how a new economic policy would affect certain metrics and demographics of that country. In a microeconomic manner, I'd also be able to directly apply my computer science education by coding for a socially-driven startup in the Los Angeles area. The intersection between computer science, data, and economic policy is becoming increasingly important, and I plan to be one of the leaders in the movement for pushing for a socially-conscious relationship between Computer Science and Economics on both the individual business level, as well as for our country and the world as a whole. Describe how you plan to pursue your academic interests and why you want to explore them at USC specifically. Please feel free to address your first- and second-choice major selections. The Grand Challenges outlined by the NAE all have significant ramifications for the future of humanity and the future of the planet. In terms of pure importance, being able to harness energy from nuclear fusion is the single most critical challenge of the ones outlined. Humanity is currently experiencing a phase of technological adolescence, and the development of a sustainable, clean, efficient form of energy that could power the world going forward would lead to a plethora of innovative possibilities. Not only would fusion energy be able to push the world forward in terms of science, but it would also address the problems that the other grand challenges attempt to solve. By adopting nuclear fusion as our main source of energy, many of the world's problems posed by gasoline and fossil fuel usage will be made obsolete. Even in terms of practicality, the clean energy we'll get from harnessing fusion is equivalent to covering every human-made surface on Earth with solar panels. Sources of energy will no longer be a resource that the world fights wars over, and will instead be abundant. Even small amounts of fusion energy can power the world's most powerful supercomputers, the world's largest cities, and eventually even the technology and ships that will lead humans out into the stars in search of more. Cracking the code of large-scale nuclear fusion will catapult society even farther than previous great human leaps such as the Industrial Revolution, and is the key to the future. While the world as a whole may be more technologically advanced than ever before, the National Academy of Engineering (NAE) has outlined 14 Grand Challenges that engineers should focus on to improve life on the planet. Learn about the Grand Challenges at www.engineeringchallenges.org and tell us which challenge is most important, and why. (250-word limit)<br \\/><br \\/><br \\/>Accepting of asking questions; Entrepreneurial community tackling real-world problems; Highly motivated students that I can learn from; Exposure to parts of the world I'd not otherwise have access to; Musical; Filled with community-based traditions; The magic of winter and snow; Not assuming current ideas to be gospel; Quirky roommates; Resources devoted to just tinkering; Having enough students so that I can constantly meet new people and be impressed by them; Professors who encourage after-class discussions; Fitness resources; Basketball court; Large varsity sports team support network; Interdisciplinary education that teaches me how to approach all types of problems; Close proximity to professional sports venues; Great food program; Small classes that encourage individual participation.List a few words or phrases that describe your ideal college community.(150 words or less)*<br \\/><br \\/><br \\/>Pride and Prejudice- Jane Austen; The Curious Incident of the Dog in the Nighttime - Mark Haddon; The Great Gatsby - F. Scott Fitzgerald; Beloved - Toni Morrison; Hamlet - William Shakespeare; Do Androids Dream of Electric Sheep - Philip K. Dick; The Sound and the Fury - William Faulkner; Richard III - William Shakespeare; Narrative of the Life of Frederick Douglass, an American Slave - Frederick Douglass; Their Eyes Were Watching God- Zora Neale HurstonList the titles of the required readings from courses during the school year or summer that you enjoyed most in the past year. (150 words or less)How Google Works- Eric Schmidt & Jonathan Rosenberg; The Namesake - Jhumpa Lahiri; Bunk: The Rise of Hoaxes, Humbug, Plagiarists, Phonies, Post-Facts, and Fake News - Kevin Young; Knowledge is Beautiful - David McCandless; A Brief History of Time - Stephen Hawking; Educated - Tara Westover; The Selfish Gene- Richard Dawkins.List the titles of the books you read for pleasure that you enjoyed most in the past year. I deeply enjoy involving myself in entrepreneurship. As a student at Columbia, I plan to take full advantage of the Columbia Commercialization & Entrepreneurial Resources. Columbia not only guides students in the startup process through funding opportunities and mentor workshops, but also partners with companies like Amazon to minimize basic startup costs such as server space. Personally, It wasn't until I interned with Formally, an immigration tech startup, that I realized how drastically the decisions made by lawmakers impacted people. I hope to combine mathematics, economics, and entrepreneurship to create a startup that aims to influence policy decisions through technology. At Columbia, I would not only use the CORE to learn how to approach this problem from all angles, but I would also use specific resources such as the Almaworks startup accelerator and entrepreneurship and design courses to make this startup as impactful as possible. Through Columbia, I see myself acquiring the education necessary to help people who are currently considered nothing more than a statistic.Please tell us what you value most about Columbia and why.It wasn't until I interned with Through my internship, I've had the unique opportunity to experience technology through the lens of social entrepreneurship, and I developed an interest in exploring the economics behind policy decisions. Inspired by my time at Successful students at Johns Hopkins make the biggest impact by collaborating with others, including peers, mentors, and professors. Talk about a time, in or outside the classroom, when you worked with others and what you learned from the experience. (300-400 words)<br \\/><br \\/><br \\/>The Tufts curriculum allows me to explore my different interests while simultaneously teaching me how to approach a problem from all different angles with a well rounded education. I look forward to giving back to Medford and the Boston Area by tackling local problems, from the notorious red line delays through UEP 0294 - Sharing Cities, Smart Cities, to the income inequality present in many nearby neighborhoods through SOC 0013 - Urban Sociology.It's comforting to know that on weekends if I'm not heading to a Celtics game or grabbing food from Quincy Market with roommates, I'm also only a short commuter rail ride away from bringing my new friends home with me to share a nice hot plate of home-cooked Indian food. I'm certain that I'll meet people from all different backgrounds at Tufts, and I am eager to learn about the different cultures and traditions of my classmates.Which aspects of the Tufts undergraduate experience prompt your application? In short, \\\\\\u2018Why Tufts?' Chosen: Ethics, Politics and Economics \\/ Applied Mathematics \\/ Mathematics and PhilosophyIt wasn't until I interned with Why do these areas appeal to you?At Yale, I'm not just looking to make new friends and foster new connections. I'm looking to add to my family. I hope to create bonds that go deeper than friendship, using academics as a platform through which I can meet people who are incredibly different from me yet also share my love of learning. I look forward to grabbing snacks with my new family members in our local buttery, frantically searching for cheap apartments in New Haven with suitemates, auditioning for the Whiffenpoofs and performing with them at local senior homes and under-resourced schools in New Haven, and playing pick-up basketball at Lanman after class. I hope to build lifelong relationships with my peers, my professors, and the Yale community as a whole. What is it about Yale that has led you to apply?Whenever a new episode of my favorite podcast Hidden Brain is released, I instantly grab a pair of headphones and head outside. While dribbling a basketball, I listen to the rustling of the leaves above in one ear, and jump headfirst into the world of uncommon ideas in the other.What inspires you?Mahmoud Abdul-Rauf, a name buried in the trenches of NBA history, was the Kaepernick before Kaepernick, one of the first athletes to refuse to stand for the national anthem. I would ask Adbul-Rauf about the parallels between his experience and reactions to similar protests from athletes today. Yale's residential colleges regularly host conversations with guests representing a wide range of experiences and accomplishments. What person, past or present, would you invite to speak? What question would you ask? I plan to be the student who initiates late-night conversations with my suitemates. Whether those conversations are about the myriad of possibilities of the shape of the universe, or freestyle sessions where they rap and I beatbox for them, I hope to be exposed to new perspectives through my peers. Most first-year Yale students live in suites of four to six people. What do you hope to add to your suitemates' experience? What do you hope they will add to yours?Ever since I first held a small foam Spiderman basketball in my tiny hands and watched my idol Kobe Bryant hit every three-pointer he attempted, I've wanted to understand and replicate his flawless jump shot. As my math education progressed in school, I began to realize I had the tools to create a perfect shot formula. After learning about variables for the first time in 5th grade Algebra, I began to treat each aspect of Kobe's jump shot as a different variable, each combination resulting in a unique solution. While in 7th-grade geometry, I graphed the arc of his shot, and after learning about quadratic equations in 8th grade, I expressed his shot as a parabolic function that would ensure a swish when shooting from any spot on the court. After early calculus lessons in 10th and 11th grade, I was excited to finally solve for the perfect velocity and acceleration needed on my release. Though solving for a perfect jump shot equation may seem like a trivial intellectual challenge, as someone who loves to apply what they learn in the classroom, it's the perfect medium for me to build on my curiosity using a creative pursuit of answers. At NYU, I hope to further dive into the study of math, using more advanced concepts to get even closer to finding the perfect SWISH. Math can be used for anything from solving for a perfect jump shot to creating systems that find more efficient ways to distribute resources to those in need. I plan to use math to find solutions to problems that affect people all around the world. At NYU, I intend to combine mathematics with my love for social entrepreneurship. NYU provides an incredible amount of resources for student startups. I plan to be a leader in promoting the exploration of entrepreneurship, working closely with the Entrepreneurial Institute. As someone who wants to found a socially-driven company themselves, I plan to take advantage of the plentiful mentorship and funding opportunities and competitions available to student entrepreneurs. Whether spending time in the Leslie eLab with classmates brainstorming ideas, or in the Tandon MakerSpace bringing those ideas to life, I hope to create solutions. With an NYU education, I see myself not only becoming a more complete learner, but also a more complete thinker, applying a flexible mindset to any problem I encounter.We would like to know more about your interest in NYU. What motivated you to apply to NYU? Why have you applied or expressed interest in a particular campus, school, college, program, and or area of study? If you have applied to more than one, please also tell us why you are interested in these additional areas of study or campuses. We want to understand - Why NYU? (400 words)During a STEM Entrepreneurship camp that I attended in the summer of my freshman year, I had the unique opportunity to visit the BUild Lab IDG Capital Student Innovation Center. I was immediately fascinated by the innovative applications of technology that were taking place in the lab. I could see myself tinkering with all the machinery, trying out a variety of ideas and running different simulations for the sake of inventing. I'm someone who loves to explore different interests intensively and simultaneously, and I see this echoed in the mindset of students at Boston University. I'm excited to audition for the BU Treblemakers as soon as I get on campus, pitching song cover ideas and arranging pieces for us to perform. Of course, I can't wait to explore the city of Boston, too. I've lived in Massachusetts for almost my whole life, and visit Boston frequently, but never from the perspective of a college student. It's comforting to know that on weekends if I'm not heading to a Celtics game or grabbing food from Quincy Market with my roommates, I'm also only a short commuter rail ride away from bringing my new friends home with me to share a nice hot plate of home-cooked Indian food.  I'm certain that I'll meet people from all different backgrounds at BU, and I am eager to learn about the different cultures and traditions of my classmates.What about being a student at Boston University most excites you?The Arvind Kilachand Honors College and I share more than just a name. We share an insistence on asking questions, accepting and engaging in diverse thoughts, and a mission of taking on global challenges. Given the opportunity to teach a class at Kilachand, I would be excited to lead discussions in Entrepreneurship Ethics 101: The Art of Growing and Maintaining a Socially-Conscious Organization. As someone who has always been interested in the interdisciplinary intersection of Business, Psychology, and Economics, I'd want to lead discussions about what it means to abide by values and principles in today's monetarily driven world. By studying the scientific impacts and ramifications of Tesla's public patent policy or analyzing the mistreatment of Amazon's warehouse workers, the class would focus on the importance of not thinking solely about profit, but also about social responsibility, the treatment of employees, and the insistence on learning even at the professional level. I plan to use the Kilachand curriculum as a means of supplementing my own and my students' exploration of social entrepreneurship principles. My Entrepreneurship Ethics class would directly build upon previous KHC ethics and business classes, furthering the discussion of what it means to be a socially conscious and responsible organization in an increasingly innovation-dependant world. As someone who hopes to use technology to solve some of the world's most significant problems associated with standards of living, my course would encourage students to pursue social entrepreneurial endeavors. I often attend lectures at Previously, in order to push for social change myself, I enrolled in some national and international entrepreneurship competitions. I wanted to use the competitions as a medium to develop my ideas and projects and produce tangible results. In the wake of the Parkland shooting, my partner and I designed and pitched Sentinel- an app concept that provided increased campus security through a mobile format. The following year, after realizing how long we were taking in the shower each morning, we developed an LED-studded showerhead that drastically cut water usage in households. Through my Formally internship and the entrepreneurial competitions that I've done, I've had the unique opportunity to experience technology through the lens of social entrepreneurship. I want to extend this opportunity to the students of my course, asking them to form teams and apply to the Innovation Pathway program offered by Innovate@BU. The competitive application process yet collaborative and educational program will simulate the importance of teamwork in a controlled environment. My course will pave for way for students to learn how to work together, to adhere to values in their projects, careers, and businesses, and to create a positive impact on a large scale. If you could create a new Kilachand course, what would it be? How would your imagined course align with the core values of Kilachand?'What if I flick my wrist harder to spin the ball more?' CLANK - the ball hits the rim. 'What if I adjust my launch angle to make my shot more parabolic?' CLANK. 'What if I jump higher by widening my stance to increase my distribution of kinetic energy?' CLANK.Ever since I first held a small foam Spiderman basketball in my tiny hands and watched my idol Kobe Bryant hit every three-pointer he attempted, I've wanted to understand and replicate his flawless jump shot. As my math education progressed in school, I began to realize I had the tools to create a perfect shot formula. After learning about variables for the first time in 5th grade Algebra, I began to treat each aspect of Kobe's jump shot as a different variable, each combination of variables resulting in a unique solution. While in 7th-grade geometry, I graphed the arc of his shot, and after learning about quadratic equations in 8th grade, I expressed his shot as a parabolic function that would ensure a swish when shooting from any spot on the court. After early calculus lessons in 10th and 11th grade, I was excited to finally solve for the perfect velocity and acceleration needed on my release. Though solving for a perfect jump shot equation may seem like a trivial intellectual challenge, for me, it incorporates all of the math topics I learn into one singular problem that has yet to be solved. It's the perfect medium through which I can apply the concepts I learn in the classroom in a hands-on manner. Through the beginning of this year, I've made significant progress on my formula. With multivariable calculus, I've learned to shift my mode of thinking. All along, I had been setting the scene in a 2-dimensional frame of reference, but I now had the means to examine it in a three-dimensional setting, just like our own world. I've begun to incorporate the concepts I learn in other classes as well. Two years of physics classes have helped me account for air drag and the gravitational force on the basketball. Multiple computer science classes have given me the tools needed to create and run simulations of my own testing potential solutions. I believe that I'm only a few steps away from finally solving my equation, and at BU, I hope to use my education to get even closer to my solution, incorporating new subjects and mathematical concepts to ensure that I hear SWISH every time the ball leaves my hands. By diving into this intellectual pursuit, I've gained hands-on experience in the process of solving problems. I plan to apply this problem-solving process to other problems, using BU's interdisciplinary curriculum to attempt to find solutions in the Boston community and beyond. I see myself combining new lessons on social context and management theory learned in classes like CAS SO 203: Introduction to Sociological Theories, and CAS MA 569 Optimization Methods of Operations Research, in order to tackle issues such as minimum wage rights and high unemployment rates in the Greater Boston area. I plan to use the resources available at BU to not only tackle my own intellectual pursuits and questions, but also to solve those which affect communities throughout the world that we live in. School can often seem like work: a set of responsibilities, obligations, and tasks to be completed. But Trustee Scholars are creative and curious, rather than merely dutiful. Give us a glimpse of an intellectual pursuit or challenge that absorbs you, gives you joy, or provokes your curiosity, and tell us why.\"\"\" # temporary data to see role of below function"
   ]
  },
  {
   "cell_type": "code",
   "execution_count": 51,
   "metadata": {},
   "outputs": [
    {
     "name": "stdout",
     "output_type": "stream",
     "text": [
      "[(0, 31), (1, 19), (2, 11), (3, 35), (4, 5), (5, 2), (6, 72), (7, 2), (8, 15), (9, 9), (10, 3), (12, 26), (13, 14), (14, 13), (15, 12), (16, 6), (17, 21), (18, 8), (19, 36), (20, 37), (21, 18), (22, 3), (23, 1), (24, 6), (25, 2), (26, 7)]\n"
     ]
    }
   ],
   "source": [
    "\n",
    "vec_bow = dictionary.doc2bow(doc.lower().split())  # put newly obtained document to existing dictionary object\n",
    "print(vec_bow)  # show result of above"
   ]
  },
  {
   "cell_type": "code",
   "execution_count": 52,
   "metadata": {},
   "outputs": [
    {
     "name": "stdout",
     "output_type": "stream",
     "text": [
      "[(0, 73.90006910079096), (1, 7.033074548750247)]\n"
     ]
    }
   ],
   "source": [
    "vec_lsi = lsi[vec_bow] # convert new document (henceforth, call it \"query\") to LSI space\n",
    "print(vec_lsi)"
   ]
  },
  {
   "cell_type": "code",
   "execution_count": 53,
   "metadata": {},
   "outputs": [
    {
     "name": "stdout",
     "output_type": "stream",
     "text": [
      "MatrixSimilarity<7 docs, 2 features>\n"
     ]
    }
   ],
   "source": [
    "index = similarities.MatrixSimilarity(lsi[corpus]) # transform corpus to LSI space and indexize it\n",
    "print(index)"
   ]
  },
  {
   "cell_type": "code",
   "execution_count": 54,
   "metadata": {},
   "outputs": [],
   "source": [
    "index.save('deerwester.index') # save index object at local directory"
   ]
  },
  {
   "cell_type": "code",
   "execution_count": 55,
   "metadata": {},
   "outputs": [],
   "source": [
    "index = similarities.MatrixSimilarity.load('deerwester.index')"
   ]
  },
  {
   "cell_type": "code",
   "execution_count": 56,
   "metadata": {},
   "outputs": [
    {
     "name": "stdout",
     "output_type": "stream",
     "text": [
      "[0.96710753 0.8563453  0.8377785  0.8488883  0.3867074  0.93490505\n",
      " 0.9394617 ]\n"
     ]
    }
   ],
   "source": [
    "sims = index[vec_lsi] # calculate degree of similarity of the query to existing corpus\n",
    "print(sims)"
   ]
  },
  {
   "cell_type": "code",
   "execution_count": 57,
   "metadata": {},
   "outputs": [
    {
     "name": "stdout",
     "output_type": "stream",
     "text": [
      "[(0, 0.96710753), (1, 0.8563453), (2, 0.8377785), (3, 0.8488883), (4, 0.3867074), (5, 0.93490505), (6, 0.9394617)]\n"
     ]
    }
   ],
   "source": [
    "print(list(enumerate(sims))) # output (document_number , document similarity)"
   ]
  },
  {
   "cell_type": "code",
   "execution_count": 58,
   "metadata": {},
   "outputs": [
    {
     "name": "stdout",
     "output_type": "stream",
     "text": [
      "[(0, 0.96710753), (6, 0.9394617), (5, 0.93490505), (1, 0.8563453), (3, 0.8488883), (2, 0.8377785), (4, 0.3867074)]\n"
     ]
    }
   ],
   "source": [
    "sims = sorted(enumerate(sims), key=lambda item: -item[1])  # sort output object as per similarity ( largest similarity document comes first )\n",
    "print(sims)"
   ]
  },
  {
   "cell_type": "code",
   "execution_count": null,
   "metadata": {},
   "outputs": [],
   "source": []
  }
 ],
 "metadata": {
  "kernelspec": {
   "display_name": "Python 3",
   "language": "python",
   "name": "python3"
  },
  "language_info": {
   "codemirror_mode": {
    "name": "ipython",
    "version": 3
   },
   "file_extension": ".py",
   "mimetype": "text/x-python",
   "name": "python",
   "nbconvert_exporter": "python",
   "pygments_lexer": "ipython3",
   "version": "3.7.9"
  }
 },
 "nbformat": 4,
 "nbformat_minor": 4
}
