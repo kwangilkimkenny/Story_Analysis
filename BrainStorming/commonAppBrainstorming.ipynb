{
 "cells": [
  {
   "cell_type": "code",
   "execution_count": 1,
   "id": "58d95826",
   "metadata": {},
   "outputs": [
    {
     "name": "stdout",
     "output_type": "stream",
     "text": [
      "[name: \"/device:CPU:0\"\n",
      "device_type: \"CPU\"\n",
      "memory_limit: 268435456\n",
      "locality {\n",
      "}\n",
      "incarnation: 7410721176299250240\n",
      "]\n"
     ]
    }
   ],
   "source": [
    "# py37NLP\n",
    "# Check GPU\n",
    "from tensorflow.python.client import device_lib\n",
    "print(device_lib.list_local_devices()) "
   ]
  },
  {
   "cell_type": "code",
   "execution_count": 2,
   "id": "d28004f1",
   "metadata": {},
   "outputs": [
    {
     "name": "stderr",
     "output_type": "stream",
     "text": [
      "05/29/2022 22:40:03 - INFO - happytransformer.happy_transformer -   Using model: cpu\n"
     ]
    }
   ],
   "source": [
    "# conda install -c conda-forge ipywidgetsy\n",
    "\n",
    "import re\n",
    "\n",
    "from happytransformer import HappyGeneration\n",
    "from happytransformer import GENSettings\n",
    "\n",
    "happy_gen = HappyGeneration(\"GPT-NEO\", \"EleutherAI/gpt-neo-2.7B\")"
   ]
  },
  {
   "cell_type": "code",
   "execution_count": 3,
   "id": "7ed4184e",
   "metadata": {},
   "outputs": [],
   "source": [
    "def selectFromDict(options, name):\n",
    "\n",
    "    index = 0\n",
    "    indexValidList = []\n",
    "    print('Select a ' + name + ':')\n",
    "    for optionName in options:\n",
    "        index = index + 1\n",
    "        indexValidList.extend([options[optionName]])\n",
    "        print(str(index) + ') ' + optionName)\n",
    "    inputValid = False\n",
    "    while not inputValid:\n",
    "        inputRaw = input(name + ': ')\n",
    "        inputNo = int(inputRaw) - 1\n",
    "        if inputNo > -1 and inputNo < len(indexValidList):\n",
    "            selected = indexValidList[inputNo]\n",
    "            print('Selected ' +  name + ': ' + selected)\n",
    "            inputValid = True\n",
    "            break\n",
    "        else:\n",
    "            print('Please select a valid ' + name + ' number')\n",
    "\n",
    "    return selected"
   ]
  },
  {
   "cell_type": "code",
   "execution_count": 4,
   "id": "4992390e",
   "metadata": {},
   "outputs": [],
   "source": [
    "def GenText(input_txt):\n",
    "    tmp = [0.65, 0.75, 0.80, 0.85, 0.90, 0.95]\n",
    "    resp = []\n",
    "    for temp in tmp:\n",
    "        top_k_sampling_settings = GENSettings(do_sample=True, \n",
    "                                                top_k=200, \n",
    "                                                temperature=temp,  \n",
    "                                                max_length=100, \n",
    "                                                no_repeat_ngram_size=2)\n",
    "\n",
    "        result_top_k_sampling = happy_gen.generate_text(input_txt, args=top_k_sampling_settings)\n",
    "\n",
    "        #전처리 필요함 GenerationResult(text=' \n",
    "        result_top_k_sampling_re = result_top_k_sampling.text\n",
    "        result_top_k_sampling_re.strip(\"'\")\n",
    "        result_top_k_sampling_re.lstrip(\"GenerationResult(text=' \")\n",
    "        result_top_k_sampling_re = re.sub(r\"\\n\", \"\", result_top_k_sampling_re)\n",
    "\n",
    "\n",
    "        resp.append(result_top_k_sampling_re)\n",
    "    return resp"
   ]
  },
  {
   "cell_type": "code",
   "execution_count": 24,
   "id": "55203d7d",
   "metadata": {},
   "outputs": [],
   "source": [
    "def GenText_RisingAction_for_Step04(input_txt):\n",
    "    # tmp is temprature\n",
    "    tmp = [0.65, 0.75, 0.80, 0.85, 0.90, 0.95]\n",
    "    insert_txt = [\"Then, an unexpected thing happened.\", \"Then, a sad thing happened.\", \"Then, a wonderful thing happened.\", \"\", \"Then, an interesting thing happened.\", \"Then, the situation got bad.\"]\n",
    "    resp = []\n",
    "    for i in range(len(tmp)):\n",
    "        top_k_sampling_settings = GENSettings(do_sample=True, \n",
    "                                                top_k=200, \n",
    "                                                temperature=tmp[i],  \n",
    "                                                max_length=100, \n",
    "                                                no_repeat_ngram_size=2)\n",
    "\n",
    "        input_txt_re = input_txt + str(insert_txt[i])\n",
    "        print(\"input text:\" , input_txt_re)\n",
    "        result_top_k_sampling = happy_gen.generate_text(input_txt_re, args=top_k_sampling_settings)\n",
    "\n",
    "        #전처리 필요함 GenerationResult(text=' \n",
    "        result_top_k_sampling_re = result_top_k_sampling.text\n",
    "        result_top_k_sampling_re.strip(\"'\")\n",
    "        result_top_k_sampling_re.lstrip(\"GenerationResult(text=' \")\n",
    "        result_top_k_sampling_re = re.sub(r\"\\n\", \"\", result_top_k_sampling_re)\n",
    "\n",
    "        resp.append(result_top_k_sampling_re)\n",
    "            \n",
    "    return resp"
   ]
  },
  {
   "cell_type": "code",
   "execution_count": 28,
   "id": "ad065c06",
   "metadata": {},
   "outputs": [],
   "source": [
    "def GenText_Climax_for_Step05(input_txt):\n",
    "    # tmp is temprature\n",
    "    tmp = [0.65, 0.75, 0.80, 0.85, 0.90, 0.95]\n",
    "    insert_txt = [\"Then, things got out of control.\", \"Then, things got more critical.\", \"Then, things got even more interesting.\", \"Then, the situation peaked.\", \"\", \"\"]\n",
    "    resp = []\n",
    "    for i in range(len(tmp)):\n",
    "        top_k_sampling_settings = GENSettings(do_sample=True, \n",
    "                                                top_k=200, \n",
    "                                                temperature=tmp[i],  \n",
    "                                                max_length=100, \n",
    "                                                no_repeat_ngram_size=2)\n",
    "        \n",
    "        print(\"insert_txt[i] :\", str(insert_txt[i]))\n",
    "        \n",
    "        input_txt_re = input_txt + str(insert_txt[i])\n",
    "        print(\"input text:\" , input_txt_re)\n",
    "        result_top_k_sampling = happy_gen.generate_text(input_txt_re, args=top_k_sampling_settings)\n",
    "\n",
    "        #전처리 필요함 GenerationResult(text=' \n",
    "        result_top_k_sampling_re = result_top_k_sampling.text\n",
    "        result_top_k_sampling_re.strip(\"'\")\n",
    "        result_top_k_sampling_re.lstrip(\"GenerationResult(text=' \")\n",
    "        result_top_k_sampling_re = re.sub(r\"\\n\", \"\", result_top_k_sampling_re)\n",
    "\n",
    "        resp.append(result_top_k_sampling_re)\n",
    "            \n",
    "    return resp"
   ]
  },
  {
   "cell_type": "code",
   "execution_count": 26,
   "id": "5cd4e411",
   "metadata": {},
   "outputs": [],
   "source": [
    "def GenText_Resolution_for_Step06(input_txt, selectec_topic):\n",
    "    # tmp is temprature\n",
    "    tmp = [0.65, 0.75, 0.80, 0.85, 0.90, 0.95]\n",
    "                  \n",
    "    pre_sent_idea01 = \"The lesson I learned about my \" + selectec_topic + \"is the following.\"\n",
    "    pre_sent_idea03 = \"The lesson I learned about my \" + selectec_topic + \"is the following.\"\n",
    "                  \n",
    "    insert_txt = [pre_sent_idea01, \"In conclusion, the lesson I've learned is this.\", pre_sent_idea03, \"In conclusion, it matters to be for the following reasons.\", \"So what did I learned from all this?\", \"\"]\n",
    "    resp = []\n",
    "    for i in range(len(tmp)):\n",
    "        top_k_sampling_settings = GENSettings(do_sample=True, \n",
    "                                                top_k=200, \n",
    "                                                temperature=tmp[i],  \n",
    "                                                max_length=100, \n",
    "                                                no_repeat_ngram_size=2)\n",
    "\n",
    "        input_txt_re = input_txt + str(insert_txt[i])\n",
    "        print(\"input text of input relolution:\" , input_txt_re)\n",
    "        result_top_k_sampling = happy_gen.generate_text(input_txt_re, args=top_k_sampling_settings)\n",
    "\n",
    "        #전처리 필요함 GenerationResult(text=' \n",
    "        result_top_k_sampling_re = result_top_k_sampling.text\n",
    "        result_top_k_sampling_re.strip(\"'\")\n",
    "        result_top_k_sampling_re.lstrip(\"GenerationResult(text=' \")\n",
    "        result_top_k_sampling_re = re.sub(r\"\\n\", \"\", result_top_k_sampling_re)\n",
    "\n",
    "        resp.append(result_top_k_sampling_re)\n",
    "            \n",
    "    return resp"
   ]
  },
  {
   "cell_type": "code",
   "execution_count": 8,
   "id": "daf207ec",
   "metadata": {},
   "outputs": [
    {
     "name": "stderr",
     "output_type": "stream",
     "text": [
      "Setting `pad_token_id` to `eos_token_id`:50256 for open-end generation.\n"
     ]
    },
    {
     "name": "stdout",
     "output_type": "stream",
     "text": [
      "input text: I became desperately devoted to my education because I saw knowledge as the key to freeing myself from the chains of ignorance. Then, things got out of control.\n"
     ]
    },
    {
     "name": "stderr",
     "output_type": "stream",
     "text": [
      "Setting `pad_token_id` to `eos_token_id`:50256 for open-end generation.\n"
     ]
    },
    {
     "name": "stdout",
     "output_type": "stream",
     "text": [
      "input text: I became desperately devoted to my education because I saw knowledge as the key to freeing myself from the chains of ignorance. Then, things got more critical.\n"
     ]
    },
    {
     "name": "stderr",
     "output_type": "stream",
     "text": [
      "Setting `pad_token_id` to `eos_token_id`:50256 for open-end generation.\n"
     ]
    },
    {
     "name": "stdout",
     "output_type": "stream",
     "text": [
      "input text: I became desperately devoted to my education because I saw knowledge as the key to freeing myself from the chains of ignorance. Then, things got even more interesting.\n"
     ]
    },
    {
     "name": "stderr",
     "output_type": "stream",
     "text": [
      "Setting `pad_token_id` to `eos_token_id`:50256 for open-end generation.\n"
     ]
    },
    {
     "name": "stdout",
     "output_type": "stream",
     "text": [
      "input text: I became desperately devoted to my education because I saw knowledge as the key to freeing myself from the chains of ignorance. Then, the situation peaked.\n"
     ]
    },
    {
     "name": "stderr",
     "output_type": "stream",
     "text": [
      "Setting `pad_token_id` to `eos_token_id`:50256 for open-end generation.\n"
     ]
    },
    {
     "name": "stdout",
     "output_type": "stream",
     "text": [
      "input text: I became desperately devoted to my education because I saw knowledge as the key to freeing myself from the chains of ignorance. \n"
     ]
    },
    {
     "name": "stderr",
     "output_type": "stream",
     "text": [
      "Setting `pad_token_id` to `eos_token_id`:50256 for open-end generation.\n"
     ]
    },
    {
     "name": "stdout",
     "output_type": "stream",
     "text": [
      "input text: I became desperately devoted to my education because I saw knowledge as the key to freeing myself from the chains of ignorance. \n"
     ]
    },
    {
     "data": {
      "text/plain": [
       "[' For the first time in my life, I was about to be exposed to the real world. I hoped that I would be able to make sense of it.It was a typical New York City summer day in August. The sky was burning red, the temperature was in the nineties, and there was no electricity. It was the summer before I started college. My father, who had left the family to study at Yale, had decided to come home for a visit. He left for',\n",
       " ' I began to study the same things, but on my own. Knowledge became more important than ever.As I took my first steps into the world, I started to see how the things I learned during my school days had been there to help me. They were like a trail of bread crumbs leading to the truth that everything is connected. The truths I used in my classes were new. But the truths that had helped me earlier were the facts I knew. When I realized my knowledge was',\n",
       " ' It turns out that the world of philosophy and academia is full of those who’d like to tell you how to live your life. They seem to think that what you do to your body and your environment is the only thing that matters.Any kind of discipline that looks down on a life of freedom and self-determination is not worth doing. I have found that philosophy is more concerned with “what” you can achieve in life than ‘how‘. Philosophy is',\n",
       " ' … I was trapped in a course that, I realized, might be the most important one I ever took. I felt my life was on a trajectory to lead me to nothing but chaos and loneliness, yet, at the same time, it was an education in which I could actively participate. This was the crucible through which the real me—the boy who had fallen into a cynical nihilism—was forged. For a whole month, my world revolved around the classroom. Laptop, notebook',\n",
       " '-Kitty Genova    14.  * My body will never be free if I continue to be tied down by guilt and anxiety, so now I am setting in motion the process that my freedom will be achieved through true knowledge. I will replace my slavery with a new sense of freedom and liberty. The first step is gaining self-confidence through the joy of learning. Next, I have to gain the power to achieve my goals through my self determination. When I',\n",
       " ' —Barbara Johnson, author and poetWhen I was 10 years old I asked my favorite teacher, Ms. Johnson (or BaBa, her full name), for a book on quantum physics. She handed me a one-page publication titled _God, the Devil,and the American School._ 10 pages long and mostly photocopied, it suggested that there was life after school.812 Things I Learnt from My Books1/ _I decided to keep']"
      ]
     },
     "execution_count": 8,
     "metadata": {},
     "output_type": "execute_result"
    }
   ],
   "source": [
    "\n",
    "\n",
    "GenText_Climax_for_Step05(\"\"\"I became desperately devoted to my education because I saw knowledge as the key to freeing myself from the chains of ignorance. \"\"\")"
   ]
  },
  {
   "cell_type": "code",
   "execution_count": 9,
   "id": "4648d9fb",
   "metadata": {},
   "outputs": [],
   "source": [
    "def ExceptionInput(input_txt):\n",
    "    if (input_txt.isdigit()):\n",
    "        print(\"An incorrect input was detected. Try again.\")\n",
    "\n",
    "    elif (len(input_txt) <= 8):\n",
    "        print(\"The sentence is too short. Try again.\")\n",
    "\n",
    "    elif (input_txt == None):\n",
    "        print(\"Try again.\")\n",
    "    else:\n",
    "        pass\n",
    "\n",
    "    return input_txt"
   ]
  },
  {
   "cell_type": "code",
   "execution_count": 10,
   "id": "acbea2ec",
   "metadata": {},
   "outputs": [],
   "source": [
    "def Step_01():\n",
    "    print(\"Step #1\")\n",
    "    print(\"I am using Common App OR Coalition App\")\n",
    "    questions = {}\n",
    "    questions['CommonApp'] = 'CommonApp'\n",
    "    questions['CoalitionApp'] = 'CoalitionApp'\n",
    "    \n",
    "    try:\n",
    "        # Let user select a script\n",
    "        selected_app_input = selectFromDict(questions, 'Question')\n",
    "        print(\"selected_app_input[0] :\" , selected_app_input[0])\n",
    "    except:\n",
    "        selected_app_input = selectFromDict(questions, 'Question')\n",
    "        print(\"selected_app_input[0] :\" , selected_app_input)\n",
    "        ExceptionInput(selected_prompt_input[0])\n",
    "        Step_01()\n",
    "    return selected_app_input"
   ]
  },
  {
   "cell_type": "code",
   "execution_count": 11,
   "id": "291c66db",
   "metadata": {},
   "outputs": [
    {
     "name": "stdout",
     "output_type": "stream",
     "text": [
      "Step #1\n",
      "I am using Common App OR Coalition App\n",
      "Select a Question:\n",
      "1) CommonApp\n",
      "2) CoalitionApp\n",
      "Question: 1\n",
      "Selected Question: CommonApp\n",
      "selected_app_input[0] : C\n"
     ]
    },
    {
     "data": {
      "text/plain": [
       "'CommonApp'"
      ]
     },
     "execution_count": 11,
     "metadata": {},
     "output_type": "execute_result"
    }
   ],
   "source": [
    "Step_01()"
   ]
  },
  {
   "cell_type": "code",
   "execution_count": 12,
   "id": "a809de73",
   "metadata": {},
   "outputs": [],
   "source": [
    "def Step_02():\n",
    "    print(\"Step #2\")\n",
    "    print(\"Select prompt\")\n",
    "    questions = {}\n",
    "    questions['prompt01'] = 'Some students have a background, identity, interest, or talent that is so meaningful they believe their application would be incomplete without it. If this sounds like you, then please share your story.'\n",
    "    questions['prompt02'] = 'The lessons we take from obstacles we encounter can be fundamental to later success. Recount a time when you faced a challenge, setback, or failure. How did it affect you, and what did you learn from the experience?'\n",
    "    questions['prompt03'] = 'Reflect on a time when you questioned or challenged a belief or idea. What prompted your thinking? What was the outcome?'\n",
    "    questions['prompt04'] = 'Reflect on something that someone has done for you that has made you happy or thankful in a surprising way. How has this gratitude affected or motivated you?'\n",
    "    questions['prompt05'] = 'Discuss an accomplishment, event, or realization that sparked a period of personal growth and a new understanding of yourself or others.'\n",
    "    questions['prompt06'] = 'Describe a topic, idea, or concept you find so engaging that it makes you lose all track of time. Why does it captivate you? What or who do you turn to when you want to learn more?'\n",
    "    questions['prompt07'] = \"Share an essay on any topic of your choice. It can be one you've already written, one that responds to a different prompt, or one of your own design.\"\n",
    "    \n",
    "    \n",
    "    try:\n",
    "        # Let user select a script\n",
    "        selected_prompt_input = selectFromDict(questions, 'question')\n",
    "    except:\n",
    "        selected_prompt_input = selectFromDict(questions, 'question')\n",
    "        ExceptionInput(selected_prompt_input)\n",
    "        Step_02()\n",
    "        \n",
    "    if selected_prompt_input == \"\"\"Some students have a background, identity, interest, or talent that is so meaningful they believe their application would be incomplete without it. If this sounds like you, then please share your story.\"\"\":\n",
    "        background = \"\"\"1)Background : What's unique about your family, education history, socioeconomic status, ethnicity, hometown, etc. You can write about your background and make sure to tell a story about how it affected your personal growth, values, beliefs, or perspectives for the future.\"\"\"\n",
    "        identity = \"\"\"2)Identity : Your identity can be associated with your culture, race, nationality, religion, gender, disability, etc. Although your ethnic identity is determined at birth, many identities are formed by your experiences in the society and the communities you are a part of. How did your identity come about? What does it mean to you? Express why your unique identity will be a valuable addition to the college's diversity.\"\"\"\n",
    "        interest = \"\"\"3)Interest : What is an interest that is \"so meaningful\" to you? Since this prompt intends to understand how unique you are, the interest you mention should be something you are passionate about or somewhat unordinary. Can you talk about an interest that defines who you are without turning it into a typical sport, music, art, or academic essay? Rather than describing your interest only, include how the lessons from this interest affected your growth as a person.\"\"\"\n",
    "        talent = \"\"\"4)Talent : Talent could be a hard or soft skill. Making cool things, excelling in certain areas, or managing big projects are definitely solid hard skills. Also, making new friends, leading people, or empathizing with and helping others can be excellent soft skills. Avoid \"bragging\" or \"humble bragging \" when writing about your talent.\" Don't simply focus on how great you are, but mention the challenges you overcame or how your strength benefitted others.\"\"\"\n",
    "        \n",
    "        topics_re = \"Key Topics :\" + background + identity + interest + talent\n",
    "        \n",
    "        # Select topic\n",
    "        topics = {}\n",
    "        topics['background'] = \"background\"\n",
    "        topics['identity'] = \"identity\"\n",
    "        topics['interest'] = \"interest\"\n",
    "        topics['talent'] = \"talent\"\n",
    "        \n",
    "        selected_topic = selectFromDict(topics, 'topic')\n",
    "    \n",
    "    elif selected_prompt_input == \"\"\"The lessons we take from obstacles we encounter can be fundamental to later success. Recount a time when you faced a challenge, setback, or failure. How did it affect you, and what did you learn from the experience?\"\"\":\n",
    "        challenge = \"\"\"1)Challenge : The prompt is not only interested in learning about the obstacle you've faced, but you should explain how you overcame such difficulty. Challenges, setbacks, and failures may seem similar in nature. However, an intriguing challenge should be a project, situation, or task that requires courage to go beyond your limitations to increase your capacity as a person.\"\"\"\n",
    "        setback = \"\"\"2)Setback : In general, a setback is a difficulty that you encounter regardless of your will. Usually, injuries, illness, issues with mental health, parents' divorce or bankruptcy, fights, and more would be considered setbacks in life. However, instead of focusing on the difficulty, you should focus on conveying the transition in your mental state, showing how you found a way to stay resilient and optimistic, regardless of your situation.\"\"\"\n",
    "        failure = \"\"\"3)Failure : People are afraid of failure. However, a failure commonly requires one's initiative or risk-taking initially. Because colleges want students willing to take risks to innovate things in the world, writing about your failure can be a powerful topic. Your failures may or may not lead to eventual success in your essay. However, make sure that the lesson you've learned from your failure is insightful because it shows your potential to change the world for the better.\"\"\"\n",
    "    \n",
    "        topics_re = \"Key Topics :\" + challenge + setback + failure\n",
    "        \n",
    "        # Select topic\n",
    "        topics = {}\n",
    "        topics['challenge'] = \"challenge\"\n",
    "        topics['setback'] = \"setback\"\n",
    "        topics['failure'] = \"failure\"\n",
    "        \n",
    "        selected_topic = selectFromDict(topics, 'topic')\n",
    "        \n",
    "    elif selected_prompt_input == \"\"\"Reflect on a time when you questioned or challenged a belief or idea. What prompted your thinking? What was the outcome?\"\"\":\n",
    "        question = \"\"\"1)Question : Questioning a belief or idea can involve disagreements which can be discomforting at times. Some beliefs or ideas you oppose are blatantly wrong, such as discriminating against someone. However, for the most part, people simply hold varying perspectives. So rather than showing that you are correct or more logical than others, try to demonstrate how you've been attempting to communicate your thoughts with others in a mature manner.\"\"\"\n",
    "        challenge = \"\"\"2)Challenge : Challenging a belief or idea usually takes place when there is a need for change. Questioning can be an internal struggle, but challenging a person, system, or belief is accompanied by your action. You should explain why making such a change in your community (your family, school, town, etc.) matters to you and what tangible or intangible positive changes took place.\"\"\"\n",
    "    \n",
    "        topics_re = \"Key Topics :\" + question + challenge\n",
    "        \n",
    "        # Select topic\n",
    "        topics = {}\n",
    "        topics['question'] = \"question\"\n",
    "        topics['challenge'] = \"challenge\"\n",
    "\n",
    "        selected_topic = selectFromDict(topics, 'topic')\n",
    "        \n",
    "    elif selected_prompt_input == \"\"\"Reflect on something that someone has done for you that has made you happy or thankful in a surprising way. How has this gratitude affected or motivated you?\"\"\":\n",
    "        gratitude = \"\"\"1)Qratitude : Feeling grateful toward others is an essential quality of a humble and positive person. It's even better if such a feeling of gratitude leads you to empathize with others in need and fuels your action. If you are dedicated to volunteer activities and helping others, this is a perfect place to show what motivated you to give back to your community.\"\"\"\n",
    "        happiness = \"\"\"2)Happiness : The prompt intends to learn how you don't take things for granted and know how to find happiness from the kindness of others. This is relevant to having a positive attitude; an important quality sought after by colleges. You can show your optimism towards making our society a better place and how you are contributing to your daily life.\"\"\"\n",
    "    \n",
    "        topics_re = \"Key Topics :\" + gratitude + happiness\n",
    "        \n",
    "        # Select topic\n",
    "        topics = {}\n",
    "        topics['gratitude'] = \"gratitude\"\n",
    "        topics['happiness'] = \"happiness\"\n",
    "\n",
    "        selected_topic = selectFromDict(topics, 'topic')\n",
    "        \n",
    "        \n",
    "    elif selected_prompt_input == \"\"\"Discuss an accomplishment, event, or realization that sparked a period of personal growth and a new understanding of yourself or others\"\"\":\n",
    "        accomplishmenht = \"\"\"1)Accomplishmenht : You may think of an accomplishment as something extraordinary such as winning a big award or leading your team to victory. However, the main focus of this essay should be your personal growth, not boasting about your credentials. Instead of struggling to find a big achievement, you can start with a moment that led you to be more mature as a person, then work backward to see what caused it.\"\"\"\n",
    "        event = \"\"\"2)Event : In many cases, personal growth is triggered by a change in your perspective. You should think of an event that humbled you and led you to become a more thoughtful and considerate person. Such an event can be a failure or an initiative you had a sense of conviction. Maybe you had a mentor, a friend, or even a stranger who taught you to see things differently. You may have felt proud or embarrassed towards the outcome of the event. Either way, your story should demonstrate a lesson and how it led you to become more mature as a person.\"\"\"\n",
    "        realization = \"\"\"3)Realization = A realization can come from everywhere. It can be from your everyday life, reading a book, or watching a movie. Since the prompt mentions an accomplishment or event, including your own experience in the story would be more relevant than writing a review paper on a book or Youtube clip. Try to think about incidents where you've experienced hardship, challenge, or even failure and how this led to a new understanding. \"\"\"\n",
    "    \n",
    "        topics_re = \"Key Topics :\" + accomplishmenht + event + realization\n",
    "        \n",
    "        # Select topic\n",
    "        topics = {}\n",
    "        topics['accomplishmenht'] = \"accomplishmenht\"\n",
    "        topics['event'] = \"event\"\n",
    "        topics['realization'] = \"realization\"\n",
    "        \n",
    "        selected_topic = selectFromDict(topics, 'topic')\n",
    "    \n",
    "    elif selected_prompt_input == \"\"\"Describe a topic, idea, or concept you find so engaging that it makes you lose all track of time. Why does it captivate you? What or who do you turn to when you want to learn more\"\"\":\n",
    "        topic = \"\"\"1)Topic : An engaging topic varies from person to person. It can be something intellectual, social, cultural, and more. In addition, it should be a topic you are passionate about, one that you dedicate much time and effort to explore. However, please don't turn your essay into a research paper on the topic. Instead, try to explain why this topic means so much in our lives and how it has affected you in terms of your values or attitude towards life. \"\"\"\n",
    "        idea = \"\"\"2)Idea = An engaging idea can be something academic, social, or simply creative. However, the prompt is not asking you to describe yourself as a daydreamer or a mere observer. It should be an idea meaningful enough to influence your mindset and behavior. For example, it can be something intellectual or your thoughts on how to make a better community. Furthermore, it would be more interesting to mention how your idea developed in phases or how you tried to put it into action.\"\"\"\n",
    "        concept = \"\"\"3)Concept = A concept is perceived in your mind, and it serves as the blueprint of a more structured qualitative or physical outcome. An engaging concept becomes the backbone of your intellectual development or innovations you create in the physical world. As you explain your concept, try to share why the concept is meaningful to you as a person, scholar, or change maker for society. If you have a mentor, you can elaborate on how they have guided and influenced your growth.\"\"\"\n",
    "    \n",
    "        topics_re = \"Key Topics :\" + topic + idea + concept\n",
    "        \n",
    "        # Select topic\n",
    "        topics = {}\n",
    "        topics['topic'] = \"topic\"\n",
    "        topics['idea'] = \"idea\"\n",
    "        topics['concept'] = \"concept\"\n",
    "        \n",
    "        selected_topic = selectFromDict(topics, 'topic')\n",
    "        \n",
    "    elif selected_prompt_input == \"\"\"Share an essay on any topic of your choice. It can be one you've already written, one that responds to a different prompt, or one of your own design.\"\"\":\n",
    "        openTopic = \"\"\"1)Open topic : You can choose to write about any topic of your choice for this prompt. Because prompts 1-6 cover a wide range of topics, please make sure your topic doesn't fall under the previous prompts. While you can talk about anything, you should ensure that your essay contains the common element sought by all the prompts above and sufficiently explains your realization or lesson. The essential element in a personal statement is showing your personal growth, so you should describe how your topic led you to develop a more mature view of the world.\"\"\"\n",
    "       \n",
    "        topics_re = \"2)Key Topic :\" + openTopic\n",
    "        \n",
    "        # Select topic\n",
    "        topics = {}\n",
    "        topics['openTopic'] = \"openTopic\"\n",
    "        \n",
    "        selected_topic = selectFromDict(topics, 'topic')\n",
    "        \n",
    "    return selected_prompt_input,topics_re, selected_topic"
   ]
  },
  {
   "cell_type": "code",
   "execution_count": 13,
   "id": "54aa582a",
   "metadata": {},
   "outputs": [
    {
     "name": "stdout",
     "output_type": "stream",
     "text": [
      "Step #2\n",
      "Select prompt\n",
      "Select a question:\n",
      "1) prompt01\n",
      "2) prompt02\n",
      "3) prompt03\n",
      "4) prompt04\n",
      "5) prompt05\n",
      "6) prompt06\n",
      "7) prompt07\n",
      "question: 2\n",
      "Selected question: The lessons we take from obstacles we encounter can be fundamental to later success. Recount a time when you faced a challenge, setback, or failure. How did it affect you, and what did you learn from the experience?\n",
      "Select a topic:\n",
      "1) challenge\n",
      "2) setback\n",
      "3) failure\n",
      "topic: 3\n",
      "Selected topic: failure\n"
     ]
    },
    {
     "data": {
      "text/plain": [
       "('The lessons we take from obstacles we encounter can be fundamental to later success. Recount a time when you faced a challenge, setback, or failure. How did it affect you, and what did you learn from the experience?',\n",
       " \"Key Topics :1)Challenge : The prompt is not only interested in learning about the obstacle you've faced, but you should explain how you overcame such difficulty. Challenges, setbacks, and failures may seem similar in nature. However, an intriguing challenge should be a project, situation, or task that requires courage to go beyond your limitations to increase your capacity as a person.2)Setback : In general, a setback is a difficulty that you encounter regardless of your will. Usually, injuries, illness, issues with mental health, parents' divorce or bankruptcy, fights, and more would be considered setbacks in life. However, instead of focusing on the difficulty, you should focus on conveying the transition in your mental state, showing how you found a way to stay resilient and optimistic, regardless of your situation.3)Failure : People are afraid of failure. However, a failure commonly requires one's initiative or risk-taking initially. Because colleges want students willing to take risks to innovate things in the world, writing about your failure can be a powerful topic. Your failures may or may not lead to eventual success in your essay. However, make sure that the lesson you've learned from your failure is insightful because it shows your potential to change the world for the better.\",\n",
       " 'failure')"
      ]
     },
     "execution_count": 13,
     "metadata": {},
     "output_type": "execute_result"
    }
   ],
   "source": [
    "Step_02()"
   ]
  },
  {
   "cell_type": "code",
   "execution_count": null,
   "id": "28cbf954",
   "metadata": {},
   "outputs": [],
   "source": []
  },
  {
   "cell_type": "code",
   "execution_count": 14,
   "id": "1db83183",
   "metadata": {},
   "outputs": [],
   "source": [
    "# introduction\n",
    "def Step_03(Selected_topic_input):\n",
    "    print(\"\")\n",
    "    print(\"Step #3\")\n",
    "    print(\"You choese to write about \", Selected_topic_input)\n",
    "    print(\"How does your story begin?\")\n",
    "    print(\"Where and when?\")\n",
    "    print(\"Who are in it?\")\n",
    "    print(\"What happens in the beginning?\")\n",
    "    print(\"Your response here. Minimum 50 words.\")\n",
    "    \n",
    "    try:\n",
    "        intro_input = input()\n",
    "    except:\n",
    "        intro_input = input()\n",
    "        ExceptionInput(intro_input)\n",
    "        Step_03(Selected_topic_input)\n",
    "        \n",
    "        \n",
    "    #intro_input = input()\n",
    "    print(\"processing...\")\n",
    "    \n",
    "    return intro_input, Selected_topic_input"
   ]
  },
  {
   "cell_type": "markdown",
   "id": "7382fdd1",
   "metadata": {},
   "source": [
    "<!-- nvcc: NVIDIA (R) Cuda compiler driver\n",
    "Copyright (c) 2005-2022 NVIDIA Corporation\n",
    "Built on Tue_Mar__8_18:36:24_Pacific_Standard_Time_2022\n",
    "Cuda compilation tools, release 11.6, V11.6.124 Build cuda_11.6.r11.6/compiler.31057947_0 -->\n",
    "\n",
    "# pytorch install for window\n",
    "conda install pytorch torchvision torchaudio cudatoolkit=11.3 -c pytorch\n",
    "\n",
    "# install linux\n",
    "pip3 install torch torchvision torchaudio --extra-index-url https://download.pytorch.org/whl/cu113"
   ]
  },
  {
   "cell_type": "code",
   "execution_count": 15,
   "id": "81558617",
   "metadata": {},
   "outputs": [
    {
     "name": "stderr",
     "output_type": "stream",
     "text": [
      "C:\\ProgramData\\Anaconda3\\envs\\py37NLP\\lib\\site-packages\\transformers\\models\\t5\\tokenization_t5.py:169: FutureWarning: This tokenizer was incorrectly instantiated with a model max length of 512 which will be corrected in Transformers v5.\n",
      "For now, this behavior is kept to avoid breaking backwards compatibility when padding/encoding with `truncation is True`.\n",
      "- Be aware that you SHOULD NOT rely on t5-small automatically truncating your input to 512 when padding/encoding.\n",
      "- If you want to encode/pad to sequences longer than 512 you can either instantiate this tokenizer with `model_max_length` or pass `max_length` when encoding/padding.\n",
      "- To avoid this warning, please instantiate this tokenizer with `model_max_length` set to your preferred value.\n",
      "  FutureWarning,\n"
     ]
    }
   ],
   "source": [
    "#Summarization\n",
    "import torch\n",
    "import json \n",
    "from transformers import T5Tokenizer, T5ForConditionalGeneration, T5Config\n",
    "model = T5ForConditionalGeneration.from_pretrained('t5-small')\n",
    "tokenizer = T5Tokenizer.from_pretrained('t5-small')\n",
    "device = torch.device('cpu')"
   ]
  },
  {
   "cell_type": "code",
   "execution_count": 16,
   "id": "ed437e96",
   "metadata": {},
   "outputs": [],
   "source": [
    "def summarization(input_txt):\n",
    "    preprocess_text = input_txt.strip().replace(\"\\n\",\"\")\n",
    "    t5_prepared_Text = \"summarize: \"+preprocess_text\n",
    "    #print (\"original text preprocessed: \\n\", preprocess_text)\n",
    "\n",
    "    tokenized_text = tokenizer.encode(t5_prepared_Text, return_tensors=\"pt\").to(device)\n",
    "\n",
    "\n",
    "    # summmarize \n",
    "    summary_ids = model.generate(tokenized_text,\n",
    "                                        num_beams=4,\n",
    "                                        no_repeat_ngram_size=2,\n",
    "                                        min_length=30,\n",
    "                                        max_length=50, # Msx 2 senteces\n",
    "                                        early_stopping=True)\n",
    "\n",
    "    output = tokenizer.decode(summary_ids[0], skip_special_tokens=True)\n",
    "    return output"
   ]
  },
  {
   "cell_type": "code",
   "execution_count": 17,
   "id": "f09a8c74",
   "metadata": {},
   "outputs": [
    {
     "name": "stdout",
     "output_type": "stream",
     "text": [
      "pomegranate juice and 80% fermented tea poured into a glass bottle. after seventy-two hours, the time comes to try it, and it smells like rotten eggs.\n"
     ]
    }
   ],
   "source": [
    "# test summarization\n",
    "input_txt_test = \"\"\"I add the critically measured sugary tea mixture to the gallon jar containing the slimy, white, disc-shaped layers of the symbiotic culture of bacteria and yeast.\n",
    "Now to wait.  After exactly seven days, I pour the liquid into a fermentation-grade glass bottle with a ratio of 20% pomegranate juice and 80% fermented tea. I place it on my kitchen counter, periodically checking it to relieve the built-up CO2.\n",
    "Finally, after an additional seventy-two hours, the time comes to try it. I crack the seal on the bottle, leaning over to smell what I assume will be a tangy, fruity, delicious pomegranate solution. and it smells like rotten eggs. The insufferable stench fills my nostrils and crushes my confidence. I'm momentarily taken aback, unable to understand how I went wrong when I followed the recipe perfectly. \"\"\"\n",
    "\n",
    "summarized_txt = summarization(input_txt_test)\n",
    "\n",
    "print(summarized_txt)"
   ]
  },
  {
   "cell_type": "code",
   "execution_count": 18,
   "id": "953a29c5",
   "metadata": {},
   "outputs": [],
   "source": [
    "# Rising Action\n",
    "# input_txt : 학생이 작성한 Original Text\n",
    "def Step_04(input_txt, selected_topic):\n",
    "    print(\"\")\n",
    "    print(\"Step #4\")\n",
    "    print(\"What happens next? AI's ideas to get you inspired!\")\n",
    "    gen_sentence = GenText_RisingAction_for_Step04(input_txt)\n",
    "    print(\"\")\n",
    "    print(gen_sentence)\n",
    "    print(\"\")\n",
    "    print(\"Inspired? Let's work on the rising action. What happens after the intro? -Any conflicts, problems, or questions you've dealt with?\")\n",
    "    print(\"Your response here. Minimum 50 words.\")\n",
    "    \n",
    "    try:\n",
    "        user_response = input()\n",
    "    except:\n",
    "        user_response = input()\n",
    "        ExceptionInput(user_response)\n",
    "        Step_04(input_txt)\n",
    "    \n",
    "    # user_response = input()\n",
    "    \n",
    "    #gen_sentence : 생성된 rising aciton  6개의 문장들\n",
    "    #user_response : 추가입력하는 사용자  rising action 입력문장\n",
    "    return gen_sentence, user_response, selected_topic"
   ]
  },
  {
   "cell_type": "code",
   "execution_count": 19,
   "id": "e31b58c8",
   "metadata": {},
   "outputs": [],
   "source": [
    "# intro_ori_input_sent : intro 입력 원본문장\n",
    "# intro_input_summarised_txt: 이미 요약된 문장으로 intro 부분\n",
    "# risingAction_input_txt: Rising action 입력문장\n",
    "def Step_05(intro_ori_input_sent, intro_input_summarised_txt, risingAction_input_txt):\n",
    "    print(\"\")\n",
    "    print(\"Step #5\")\n",
    "    print(\"Your story so far.\")\n",
    "    risingAciton_summary_re = summarization(risingAction_input_txt)\n",
    "    # Intro + Rising Action 내용 3-4문장 간추림\n",
    "    print(intro_input_summarised_txt + risingAciton_summary_re)\n",
    "    pre_sum_climax_sentences = intro_input_summarised_txt + risingAciton_summary_re\n",
    "    \n",
    "    print(\"\")\n",
    "    #Generate 되는 문장들은 학생의 original writing들 기반 (summary 아니고)\n",
    "    gen_climax_sentence = GenText_Climax_for_Step05(intro_ori_input_sent + risingAction_input_txt)\n",
    "    print(gen_climax_sentence)\n",
    "    \n",
    "    print(\"What happens next? AI's ideas to get you inspired!\")\n",
    "    print(\"\")\n",
    "    print(\"Describe the most dramatic moment in the story. What happens at the story's peak? How did your conflict, problem, or question resolve?\")\n",
    "    print(\"Your response here. Minimum 50 words.\")\n",
    "    \n",
    "    try:\n",
    "        climax_input = input()\n",
    "    except:\n",
    "        climax_input = input()\n",
    "        ExceptionInput(climax_input)\n",
    "        Step_05(intro_ori_input_sent, intro_input_summarised_txt, risingAction_input_txt)\n",
    "    \n",
    "    # climax_input = input()\n",
    "    print(\"Your Climax input:\", climax_input)\n",
    "    \n",
    "    summarised_climax = summarization(climax_input)\n",
    "    \n",
    "    # risingAciton_summary_re : summary rising action\n",
    "    # gen_climax_sentence : 생성된 Climax idea sentences\n",
    "    # climax_input : Use input climax\n",
    "    # summarised_climax : summary climax\n",
    "    return risingAciton_summary_re, gen_climax_sentence, climax_input, summarised_climax\n",
    "    "
   ]
  },
  {
   "cell_type": "code",
   "execution_count": 20,
   "id": "9b7b0532",
   "metadata": {},
   "outputs": [],
   "source": [
    "# intro_ori_input_sent : intro 입력 원본문장\n",
    "# intro_input_summarised_txt: 이미 요약된 문장으로 intro 부분\n",
    "# risingAction_input_txt: Rising action 입력문장\n",
    "\n",
    "# add additional sentences.\n",
    "def Step_05_Climax(intro_ori_input_sent, intro_input_summarised_txt, risingAction_input_txt):\n",
    "    print(\"\")\n",
    "    print(\"Step #5\")\n",
    "    print(\"Your story so far.\")\n",
    "    risingAciton_summary_re = summarization(risingAction_input_txt)\n",
    "    # Intro + Rising Action 내용 3-4문장 간추림\n",
    "    print(intro_input_summarised_txt + risingAciton_summary_re)\n",
    "    pre_sum_climax_sentences = intro_input_summarised_txt + risingAciton_summary_re\n",
    "    \n",
    "    print(\"\")\n",
    "    #Generate 되는 문장들은 학생의 original writing들 기반 (summary 아니고)\n",
    "    gen_climax_sentence = GenText(intro_ori_input_sent + risingAction_input_txt)\n",
    "    print(gen_climax_sentence)\n",
    "    \n",
    "    print(\"What happens next? AI's ideas to get you inspired!\")\n",
    "    print(\"\")\n",
    "    print(\"Describe the most dramatic moment in the story. What happens at the story's peak? How did your conflict, problem, or question resolve?\")\n",
    "    print(\"Your response here. Minimum 50 words.\")\n",
    "    \n",
    "    try:\n",
    "        climax_input = input()\n",
    "    except:\n",
    "        climax_input = input()\n",
    "        ExceptionInput(climax_input)\n",
    "        Step_05(intro_ori_input_sent, intro_input_summarised_txt, risingAction_input_txt)\n",
    "    \n",
    "    # climax_input = input()\n",
    "    print(\"Your Climax input:\", climax_input)\n",
    "    \n",
    "    summarised_climax = summarization(climax_input)\n",
    "    \n",
    "    # risingAciton_summary_re : summary rising action\n",
    "    # gen_climax_sentence : 생성된 Climax idea sentences\n",
    "    # climax_input : Use input climax\n",
    "    # summarised_climax : summary climax\n",
    "    return risingAciton_summary_re, gen_climax_sentence, climax_input, summarised_climax"
   ]
  },
  {
   "cell_type": "code",
   "execution_count": 21,
   "id": "b7b5a746",
   "metadata": {},
   "outputs": [],
   "source": [
    "def Step_06(sum_intro, sum_rasingAciton, sum_climax, intro_ori_input_sent, risingAction_input_txt, climax_input_txt, selected_topic):\n",
    "    print(\"\")\n",
    "    print(\"Step #6\")\n",
    "    print(\"How did your conflict, problem, or question resolve?\")\n",
    "    # show summary of Intro + Rasing Action + Climax\n",
    "    step_6_que_re = sum_intro + sum_rasingAciton + sum_climax\n",
    "    #print(step_6_que_re)\n",
    "    print(\"\")\n",
    "    print(\"What happens next? AI's ideas to get you inspired!\")\n",
    "    gen_resolution = GenText_Resolution_for_Step06(intro_ori_input_sent + risingAction_input_txt + climax_input_txt, selected_topic)\n",
    "    print(\"Generated resolution sentences :\", gen_resolution)\n",
    "    print(\"\")\n",
    "    print(\"\"\"Describe how your story ends. What happens at the end of your story? -How did this experience change your perspective?\"\"\")\n",
    "    print(\"Your response here. Minimum 50 words.\")\n",
    "    \n",
    "    try:\n",
    "        Resolution_input = input()\n",
    "    except:\n",
    "        Resolution_input = input()\n",
    "        ExceptionInput(Resolution_input)\n",
    "        Step_06(sum_intro, sum_rasingAciton, sum_climax, intro_ori_input_sent, risingAction_input_txt, climax_input_txt)\n",
    "    \n",
    "    # Resolution_input = input()\n",
    "    print(\"Your resolution input :\", Resolution_input)\n",
    "    \n",
    "    # gen_resolution : 생성한 Resolution sentences\n",
    "    # Resolution_input : User input resolution\n",
    "    return gen_resolution, Resolution_input"
   ]
  },
  {
   "cell_type": "markdown",
   "id": "431e4dda",
   "metadata": {},
   "source": [
    "doc = \"\"\"\n",
    "         Supervised learning is the machine learning task of \n",
    "         learning a function that maps an input to an output based \n",
    "         on example input-output pairs.[1] It infers a function \n",
    "         from labeled training data consisting of a set of \n",
    "         training examples.[2] In supervised learning, each \n",
    "         example is a pair consisting of an input object \n",
    "         (typically a vector) and a desired output value (also \n",
    "         called the supervisory signal). A supervised learning \n",
    "         algorithm analyzes the training data and produces an \n",
    "         inferred function, which can be used for mapping new \n",
    "         examples. An optimal scenario will allow for the algorithm \n",
    "         to correctly determine the class labels for unseen \n",
    "         instances. This requires the learning algorithm to  \n",
    "         generalize from the training data to unseen situations \n",
    "         in a 'reasonable' way (see inductive bias).\n",
    "      \"\"\""
   ]
  },
  {
   "cell_type": "markdown",
   "id": "2b42385f",
   "metadata": {},
   "source": [
    "from sklearn.feature_extraction.text import CountVectorizer\n",
    "\n",
    "n_gram_range = (1, 1)\n",
    "stop_words = \"english\"\n",
    "\n",
    "# Extract candidate words/phrases\n",
    "count = CountVectorizer(ngram_range=n_gram_range, stop_words=stop_words).fit([doc])\n",
    "candidates = count.get_feature_names()"
   ]
  },
  {
   "cell_type": "markdown",
   "id": "9af115f1",
   "metadata": {},
   "source": [
    "# https://www.sbert.net/docs/pretrained_models.html#average-word-embeddings-models\n",
    "\n",
    "from sentence_transformers import SentenceTransformer\n",
    "\n",
    "model = SentenceTransformer('xlm-r-distilroberta-base-paraphase-v1')\n",
    "doc_embedding = model.encode([doc])\n",
    "candidate_embeddings = model.encode(candidates)"
   ]
  },
  {
   "cell_type": "markdown",
   "id": "e274ff98",
   "metadata": {},
   "source": [
    "\n",
    "from sklearn.metrics.pairwise import cosine_similarity\n",
    "\n",
    "top_n = 5\n",
    "distances = cosine_similarity(doc_embedding, candidate_embeddings)\n",
    "keywords = [candidates[index] for index in distances.argsort()[0][-top_n:]]"
   ]
  },
  {
   "cell_type": "code",
   "execution_count": null,
   "id": "0c34bd98",
   "metadata": {},
   "outputs": [],
   "source": []
  },
  {
   "cell_type": "markdown",
   "id": "aec674c5",
   "metadata": {},
   "source": [
    "def KeyTopic():\n",
    "    "
   ]
  },
  {
   "cell_type": "code",
   "execution_count": 22,
   "id": "6485c3f8",
   "metadata": {},
   "outputs": [],
   "source": [
    "def Run():\n",
    "    Step_01()\n",
    "    \n",
    "    print(\"\")\n",
    "    \n",
    "    selected_topic = Step_02()\n",
    "    \n",
    "    print(\"\")\n",
    "    \n",
    "    #intro_input_txt:  학생이 작성한 intro sentence\n",
    "    intro_input_txt = Step_03(selected_topic)\n",
    "    \n",
    "    print(\"\")\n",
    "    \n",
    "    #intro summary sentence\n",
    "    intro_summarized_txt = summarization(intro_input_txt[0])\n",
    "    \n",
    "    print(\"\")\n",
    "    \n",
    "    print('summary intro :', intro_summarized_txt)\n",
    "    \n",
    "    print(\"\")\n",
    "\n",
    "    result = Step_04(intro_input_txt, intro_input_txt[1])\n",
    "    #gen_sentence  > result[0]: 생성된 6개의 risng action 문장들\n",
    "    #user_response  > result[1]: 사용자 rising action입력문장\n",
    "    #selected_topic > result[2] \n",
    "    \n",
    "    print(\"\")\n",
    "    \n",
    "    step_5_re = Step_05(intro_input_txt, intro_summarized_txt, result[1], result[2])\n",
    "    print(\"Generated 6 sentences of the climax idea\", step_5_re[1]) # 생성된 Climax idea sentences\n",
    "    print(\"\")\n",
    "    print(\"User climax input sentence :\", step_5_re[2]) # User climax input\n",
    "    print(\"\")\n",
    "    \n",
    "    sum_intro = intro_summarized_txt\n",
    "    sum_rasingAciton = step_5_re[0]\n",
    "    sum_climax = step_5_re[2] \n",
    "    intro_ori_input_sent = intro_input_txt\n",
    "    risingAction_input_txt = result[1]\n",
    "    climax_input_txt = step_5_re[2]\n",
    "    \n",
    "    gen_resolution_re = Step_06(sum_intro, sum_rasingAciton, sum_climax, intro_ori_input_sent, risingAction_input_txt, climax_input_txt, selected_topic)\n",
    "    print(\"\")\n",
    "    # gen_resolution_re[0] : 생성한 Resolution sentences\n",
    "    # gen_resolution_re[1] : User input resolution\n",
    "    print(\"Generated the resolution sentences :\", gen_resolution_re[0])\n",
    "    print(\"\")\n",
    "    print(\"User input resolution sentence :\", gen_resolution_re[1])\n",
    "    print(\"\")\n",
    "    \n",
    "    return gen_resolution_re[0], gen_resolution_re[1]"
   ]
  },
  {
   "cell_type": "code",
   "execution_count": 29,
   "id": "a88bf48a",
   "metadata": {},
   "outputs": [
    {
     "name": "stdout",
     "output_type": "stream",
     "text": [
      "Step #1\n",
      "I am using Common App OR Coalition App\n",
      "Select a Question:\n",
      "1) CommonApp\n",
      "2) CoalitionApp\n",
      "Question: 1\n",
      "Selected Question: CommonApp\n",
      "selected_app_input[0] : C\n",
      "\n",
      "Step #2\n",
      "Select prompt\n",
      "Select a question:\n",
      "1) prompt01\n",
      "2) prompt02\n",
      "3) prompt03\n",
      "4) prompt04\n",
      "5) prompt05\n",
      "6) prompt06\n",
      "7) prompt07\n",
      "question: 2\n",
      "Selected question: The lessons we take from obstacles we encounter can be fundamental to later success. Recount a time when you faced a challenge, setback, or failure. How did it affect you, and what did you learn from the experience?\n",
      "Select a topic:\n",
      "1) challenge\n",
      "2) setback\n",
      "3) failure\n",
      "topic: 3\n",
      "Selected topic: failure\n",
      "\n",
      "\n",
      "Step #3\n",
      "You choese to write about  ('The lessons we take from obstacles we encounter can be fundamental to later success. Recount a time when you faced a challenge, setback, or failure. How did it affect you, and what did you learn from the experience?', \"Key Topics :1)Challenge : The prompt is not only interested in learning about the obstacle you've faced, but you should explain how you overcame such difficulty. Challenges, setbacks, and failures may seem similar in nature. However, an intriguing challenge should be a project, situation, or task that requires courage to go beyond your limitations to increase your capacity as a person.2)Setback : In general, a setback is a difficulty that you encounter regardless of your will. Usually, injuries, illness, issues with mental health, parents' divorce or bankruptcy, fights, and more would be considered setbacks in life. However, instead of focusing on the difficulty, you should focus on conveying the transition in your mental state, showing how you found a way to stay resilient and optimistic, regardless of your situation.3)Failure : People are afraid of failure. However, a failure commonly requires one's initiative or risk-taking initially. Because colleges want students willing to take risks to innovate things in the world, writing about your failure can be a powerful topic. Your failures may or may not lead to eventual success in your essay. However, make sure that the lesson you've learned from your failure is insightful because it shows your potential to change the world for the better.\", 'failure')\n",
      "How does your story begin?\n",
      "Where and when?\n",
      "Who are in it?\n",
      "What happens in the beginning?\n",
      "Your response here. Minimum 50 words.\n",
      "Volunteering at a cancer treatment center has helped me discover my path. When I see patients trapped in not only the hospital but also a moment in time by their diseases,\n",
      "processing...\n",
      "\n",
      "\n",
      "summary intro : volunteering at a cancer treatment center has helped me discover my path. when i see patients trapped in the hospital, I see them trapped by their diseases.\n",
      "\n",
      "\n",
      "Step #4\n",
      "What happens next? AI's ideas to get you inspired!\n"
     ]
    },
    {
     "ename": "TypeError",
     "evalue": "can only concatenate tuple (not \"str\") to tuple",
     "output_type": "error",
     "traceback": [
      "\u001b[1;31m---------------------------------------------------------------------------\u001b[0m",
      "\u001b[1;31mTypeError\u001b[0m                                 Traceback (most recent call last)",
      "\u001b[1;32m~\\AppData\\Local\\Temp\\ipykernel_13948\\553373201.py\u001b[0m in \u001b[0;36m<module>\u001b[1;34m\u001b[0m\n\u001b[1;32m----> 1\u001b[1;33m \u001b[0mRun\u001b[0m\u001b[1;33m(\u001b[0m\u001b[1;33m)\u001b[0m\u001b[1;33m\u001b[0m\u001b[1;33m\u001b[0m\u001b[0m\n\u001b[0m",
      "\u001b[1;32m~\\AppData\\Local\\Temp\\ipykernel_13948\\2881829192.py\u001b[0m in \u001b[0;36mRun\u001b[1;34m()\u001b[0m\n\u001b[0;32m     22\u001b[0m     \u001b[0mprint\u001b[0m\u001b[1;33m(\u001b[0m\u001b[1;34m\"\"\u001b[0m\u001b[1;33m)\u001b[0m\u001b[1;33m\u001b[0m\u001b[1;33m\u001b[0m\u001b[0m\n\u001b[0;32m     23\u001b[0m \u001b[1;33m\u001b[0m\u001b[0m\n\u001b[1;32m---> 24\u001b[1;33m     \u001b[0mresult\u001b[0m \u001b[1;33m=\u001b[0m \u001b[0mStep_04\u001b[0m\u001b[1;33m(\u001b[0m\u001b[0mintro_input_txt\u001b[0m\u001b[1;33m,\u001b[0m \u001b[0mintro_input_txt\u001b[0m\u001b[1;33m[\u001b[0m\u001b[1;36m1\u001b[0m\u001b[1;33m]\u001b[0m\u001b[1;33m)\u001b[0m\u001b[1;33m\u001b[0m\u001b[1;33m\u001b[0m\u001b[0m\n\u001b[0m\u001b[0;32m     25\u001b[0m     \u001b[1;31m#gen_sentence  > result[0]: 생성된 6개의 risng action 문장들\u001b[0m\u001b[1;33m\u001b[0m\u001b[1;33m\u001b[0m\u001b[1;33m\u001b[0m\u001b[0m\n\u001b[0;32m     26\u001b[0m     \u001b[1;31m#user_response  > result[1]: 사용자 rising action입력문장\u001b[0m\u001b[1;33m\u001b[0m\u001b[1;33m\u001b[0m\u001b[1;33m\u001b[0m\u001b[0m\n",
      "\u001b[1;32m~\\AppData\\Local\\Temp\\ipykernel_13948\\267296879.py\u001b[0m in \u001b[0;36mStep_04\u001b[1;34m(input_txt, selected_topic)\u001b[0m\n\u001b[0;32m      5\u001b[0m     \u001b[0mprint\u001b[0m\u001b[1;33m(\u001b[0m\u001b[1;34m\"Step #4\"\u001b[0m\u001b[1;33m)\u001b[0m\u001b[1;33m\u001b[0m\u001b[1;33m\u001b[0m\u001b[0m\n\u001b[0;32m      6\u001b[0m     \u001b[0mprint\u001b[0m\u001b[1;33m(\u001b[0m\u001b[1;34m\"What happens next? AI's ideas to get you inspired!\"\u001b[0m\u001b[1;33m)\u001b[0m\u001b[1;33m\u001b[0m\u001b[1;33m\u001b[0m\u001b[0m\n\u001b[1;32m----> 7\u001b[1;33m     \u001b[0mgen_sentence\u001b[0m \u001b[1;33m=\u001b[0m \u001b[0mGenText_RisingAction_for_Step04\u001b[0m\u001b[1;33m(\u001b[0m\u001b[0minput_txt\u001b[0m\u001b[1;33m)\u001b[0m\u001b[1;33m\u001b[0m\u001b[1;33m\u001b[0m\u001b[0m\n\u001b[0m\u001b[0;32m      8\u001b[0m     \u001b[0mprint\u001b[0m\u001b[1;33m(\u001b[0m\u001b[1;34m\"\"\u001b[0m\u001b[1;33m)\u001b[0m\u001b[1;33m\u001b[0m\u001b[1;33m\u001b[0m\u001b[0m\n\u001b[0;32m      9\u001b[0m     \u001b[0mprint\u001b[0m\u001b[1;33m(\u001b[0m\u001b[0mgen_sentence\u001b[0m\u001b[1;33m)\u001b[0m\u001b[1;33m\u001b[0m\u001b[1;33m\u001b[0m\u001b[0m\n",
      "\u001b[1;32m~\\AppData\\Local\\Temp\\ipykernel_13948\\3153058195.py\u001b[0m in \u001b[0;36mGenText_RisingAction_for_Step04\u001b[1;34m(input_txt)\u001b[0m\n\u001b[0;32m     11\u001b[0m                                                 no_repeat_ngram_size=2)\n\u001b[0;32m     12\u001b[0m \u001b[1;33m\u001b[0m\u001b[0m\n\u001b[1;32m---> 13\u001b[1;33m         \u001b[0minput_txt_re\u001b[0m \u001b[1;33m=\u001b[0m \u001b[0minput_txt\u001b[0m \u001b[1;33m+\u001b[0m \u001b[0mstr\u001b[0m\u001b[1;33m(\u001b[0m\u001b[0minsert_txt\u001b[0m\u001b[1;33m[\u001b[0m\u001b[0mi\u001b[0m\u001b[1;33m]\u001b[0m\u001b[1;33m)\u001b[0m\u001b[1;33m\u001b[0m\u001b[1;33m\u001b[0m\u001b[0m\n\u001b[0m\u001b[0;32m     14\u001b[0m         \u001b[0mprint\u001b[0m\u001b[1;33m(\u001b[0m\u001b[1;34m\"input text:\"\u001b[0m \u001b[1;33m,\u001b[0m \u001b[0minput_txt_re\u001b[0m\u001b[1;33m)\u001b[0m\u001b[1;33m\u001b[0m\u001b[1;33m\u001b[0m\u001b[0m\n\u001b[0;32m     15\u001b[0m         \u001b[0mresult_top_k_sampling\u001b[0m \u001b[1;33m=\u001b[0m \u001b[0mhappy_gen\u001b[0m\u001b[1;33m.\u001b[0m\u001b[0mgenerate_text\u001b[0m\u001b[1;33m(\u001b[0m\u001b[0minput_txt_re\u001b[0m\u001b[1;33m,\u001b[0m \u001b[0margs\u001b[0m\u001b[1;33m=\u001b[0m\u001b[0mtop_k_sampling_settings\u001b[0m\u001b[1;33m)\u001b[0m\u001b[1;33m\u001b[0m\u001b[1;33m\u001b[0m\u001b[0m\n",
      "\u001b[1;31mTypeError\u001b[0m: can only concatenate tuple (not \"str\") to tuple"
     ]
    }
   ],
   "source": [
    "Run()\n"
   ]
  },
  {
   "cell_type": "code",
   "execution_count": null,
   "id": "0276cac7",
   "metadata": {},
   "outputs": [],
   "source": []
  }
 ],
 "metadata": {
  "kernelspec": {
   "display_name": "Python 3 (ipykernel)",
   "language": "python",
   "name": "python3"
  },
  "language_info": {
   "codemirror_mode": {
    "name": "ipython",
    "version": 3
   },
   "file_extension": ".py",
   "mimetype": "text/x-python",
   "name": "python",
   "nbconvert_exporter": "python",
   "pygments_lexer": "ipython3",
   "version": "3.7.13"
  }
 },
 "nbformat": 4,
 "nbformat_minor": 5
}
