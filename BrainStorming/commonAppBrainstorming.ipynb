{
 "cells": [
  {
   "cell_type": "code",
   "execution_count": 1,
   "id": "58d95826",
   "metadata": {},
   "outputs": [
    {
     "name": "stdout",
     "output_type": "stream",
     "text": [
      "[name: \"/device:CPU:0\"\n",
      "device_type: \"CPU\"\n",
      "memory_limit: 268435456\n",
      "locality {\n",
      "}\n",
      "incarnation: 1039182954703553623\n",
      "xla_global_id: -1\n",
      ", name: \"/device:GPU:0\"\n",
      "device_type: \"GPU\"\n",
      "memory_limit: 18536267776\n",
      "locality {\n",
      "  bus_id: 1\n",
      "  links {\n",
      "  }\n",
      "}\n",
      "incarnation: 12707614567726930981\n",
      "physical_device_desc: \"device: 0, name: NVIDIA RTX A4500, pci bus id: 0000:65:00.0, compute capability: 8.6\"\n",
      "xla_global_id: 416903419\n",
      "]\n"
     ]
    }
   ],
   "source": [
    "#Check GPU\n",
    "from tensorflow.python.client import device_lib\n",
    "print(device_lib.list_local_devices()) "
   ]
  },
  {
   "cell_type": "code",
   "execution_count": 2,
   "id": "d28004f1",
   "metadata": {},
   "outputs": [
    {
     "name": "stderr",
     "output_type": "stream",
     "text": [
      "05/20/2022 16:19:23 - INFO - happytransformer.happy_transformer -   Using model: cuda\n"
     ]
    }
   ],
   "source": [
    "import re\n",
    "\n",
    "from happytransformer import HappyGeneration\n",
    "from happytransformer import GENSettings\n",
    "\n",
    "happy_gen = HappyGeneration(\"GPT-NEO\", \"EleutherAI/gpt-neo-2.7B\")"
   ]
  },
  {
   "cell_type": "code",
   "execution_count": 3,
   "id": "7ed4184e",
   "metadata": {},
   "outputs": [],
   "source": [
    "def selectFromDict(options, name):\n",
    "\n",
    "    index = 0\n",
    "    indexValidList = []\n",
    "    print('Select a ' + name + ':')\n",
    "    for optionName in options:\n",
    "        index = index + 1\n",
    "        indexValidList.extend([options[optionName]])\n",
    "        print(str(index) + ') ' + optionName)\n",
    "    inputValid = False\n",
    "    while not inputValid:\n",
    "        inputRaw = input(name + ': ')\n",
    "        inputNo = int(inputRaw) - 1\n",
    "        if inputNo > -1 and inputNo < len(indexValidList):\n",
    "            selected = indexValidList[inputNo]\n",
    "            print('Selected ' +  name + ': ' + selected)\n",
    "            inputValid = True\n",
    "            break\n",
    "        else:\n",
    "            print('Please select a valid ' + name + ' number')\n",
    "\n",
    "    return selected"
   ]
  },
  {
   "cell_type": "code",
   "execution_count": 4,
   "id": "4992390e",
   "metadata": {},
   "outputs": [],
   "source": [
    "def GenText(input_txt):\n",
    "    tmp = [0.65, 0.75, 0.80, 0.85, 0.90, 0.95]\n",
    "    resp = []\n",
    "    for temp in tmp:\n",
    "        top_k_sampling_settings = GENSettings(do_sample=True, \n",
    "                                                top_k=200, \n",
    "                                                temperature=temp,  \n",
    "                                                max_length=100, \n",
    "                                                no_repeat_ngram_size=2)\n",
    "\n",
    "        result_top_k_sampling = happy_gen.generate_text(input_txt, args=top_k_sampling_settings)\n",
    "\n",
    "        #전처리 필요함 GenerationResult(text=' \n",
    "        result_top_k_sampling_re = result_top_k_sampling.text\n",
    "        result_top_k_sampling_re.strip(\"'\")\n",
    "        result_top_k_sampling_re.lstrip(\"GenerationResult(text=' \")\n",
    "        result_top_k_sampling_re = re.sub(r\"\\n\", \"\", result_top_k_sampling_re)\n",
    "\n",
    "\n",
    "        resp.append(result_top_k_sampling_re)\n",
    "    return resp"
   ]
  },
  {
   "cell_type": "code",
   "execution_count": 5,
   "id": "4648d9fb",
   "metadata": {},
   "outputs": [],
   "source": [
    "def ExceptionInput(input_txt):\n",
    "    if (input_txt.isdigit()):\n",
    "        print(\"An incorrect input was detected. Try again.\")\n",
    "\n",
    "    elif (len(input_txt) <= 8):\n",
    "        print(\"The sentence is too short. Try again.\")\n",
    "\n",
    "    elif (input_txt == None):\n",
    "        print(\"Try again.\")\n",
    "    else:\n",
    "        pass\n",
    "\n",
    "    return input_txt"
   ]
  },
  {
   "cell_type": "code",
   "execution_count": 6,
   "id": "acbea2ec",
   "metadata": {},
   "outputs": [],
   "source": [
    "def Step_01():\n",
    "    print(\"Step #1\")\n",
    "    print(\"I am using Common App OR Coalition App\")\n",
    "    questions = {}\n",
    "    questions['CommonApp'] = 'CommonApp'\n",
    "    questions['CoalitionApp'] = 'CoalitionApp'\n",
    "    \n",
    "    try:\n",
    "        # Let user select a script\n",
    "        selected_app_input = selectFromDict(questions, 'Question')\n",
    "    except:\n",
    "        selected_app_input = selectFromDict(questions, 'Question')\n",
    "        ExceptionInput(selected_prompt_input)\n",
    "        Step_01()\n",
    "    return selected_app_input"
   ]
  },
  {
   "cell_type": "code",
   "execution_count": 7,
   "id": "291c66db",
   "metadata": {},
   "outputs": [],
   "source": [
    "#Step_01()"
   ]
  },
  {
   "cell_type": "code",
   "execution_count": 8,
   "id": "a809de73",
   "metadata": {},
   "outputs": [],
   "source": [
    "def Step_02():\n",
    "    print(\"Step #2\")\n",
    "    print(\"Select prompt\")\n",
    "    questions = {}\n",
    "    questions['prompt01'] = 'Some students have a background, identity, interest, or talent that is so meaningful they believe their application would be incomplete without it. If this sounds like you, then please share your story.'\n",
    "    questions['prompt02'] = 'The lessons we take from obstacles we encounter can be fundamental to later success. Recount a time when you faced a challenge, setback, or failure. How did it affect you, and what did you learn from the experience?'\n",
    "    questions['prompt03'] = 'Reflect on a time when you questioned or challenged a belief or idea. What prompted your thinking? What was the outcome?'\n",
    "    questions['prompt04'] = 'Reflect on something that someone has done for you that has made you happy or thankful in a surprising way. How has this gratitude affected or motivated you?'\n",
    "    questions['prompt05'] = 'Discuss an accomplishment, event, or realization that sparked a period of personal growth and a new understanding of yourself or others.'\n",
    "    questions['prompt06'] = 'Describe a topic, idea, or concept you find so engaging that it makes you lose all track of time. Why does it captivate you? What or who do you turn to when you want to learn more?'\n",
    "    questions['prompt07'] = \"Share an essay on any topic of your choice. It can be one you've already written, one that responds to a different prompt, or one of your own design.\"\n",
    "    \n",
    "    \n",
    "    try:\n",
    "        # Let user select a script\n",
    "        selected_prompt_input = selectFromDict(questions, 'Question')\n",
    "    except:\n",
    "        selected_prompt_input = selectFromDict(questions, 'Question')\n",
    "        ExceptionInput(selected_prompt_input)\n",
    "        Step_02()\n",
    "    return selected_prompt_input"
   ]
  },
  {
   "cell_type": "code",
   "execution_count": 9,
   "id": "54aa582a",
   "metadata": {},
   "outputs": [],
   "source": [
    "#Step_02()"
   ]
  },
  {
   "cell_type": "code",
   "execution_count": 10,
   "id": "1db83183",
   "metadata": {},
   "outputs": [],
   "source": [
    "# introduction\n",
    "def Step_03(Selected_topic_input):\n",
    "    print(\"\")\n",
    "    print(\"Step #3\")\n",
    "    print(\"You choese to write about \", Selected_topic_input)\n",
    "    print(\"How does your story begin?\")\n",
    "    print(\"Where and when?\")\n",
    "    print(\"Who are in it?\")\n",
    "    print(\"What happens in the beginning?\")\n",
    "    print(\"Your response here. Minimum 50 words.\")\n",
    "    \n",
    "    try:\n",
    "        intro_input = input()\n",
    "    except:\n",
    "        intro_input = input()\n",
    "        ExceptionInput(intro_input)\n",
    "        Step_03(Selected_topic_input)\n",
    "        \n",
    "        \n",
    "    #intro_input = input()\n",
    "    print(\"processing...\")\n",
    "    \n",
    "    return intro_input"
   ]
  },
  {
   "cell_type": "markdown",
   "id": "7382fdd1",
   "metadata": {},
   "source": [
    "<!-- nvcc: NVIDIA (R) Cuda compiler driver\n",
    "Copyright (c) 2005-2022 NVIDIA Corporation\n",
    "Built on Tue_Mar__8_18:36:24_Pacific_Standard_Time_2022\n",
    "Cuda compilation tools, release 11.6, V11.6.124 Build cuda_11.6.r11.6/compiler.31057947_0 -->\n",
    "\n",
    "# pytorch install for window\n",
    "conda install pytorch torchvision torchaudio cudatoolkit=11.3 -c pytorch\n",
    "\n",
    "# install linux\n",
    "pip3 install torch torchvision torchaudio --extra-index-url https://download.pytorch.org/whl/cu113"
   ]
  },
  {
   "cell_type": "code",
   "execution_count": 11,
   "id": "81558617",
   "metadata": {},
   "outputs": [],
   "source": [
    "#Summarization\n",
    "import torch\n",
    "import json \n",
    "from transformers import T5Tokenizer, T5ForConditionalGeneration, T5Config\n",
    "model = T5ForConditionalGeneration.from_pretrained('t5-small')\n",
    "tokenizer = T5Tokenizer.from_pretrained('t5-small')\n",
    "device = torch.device('cpu')"
   ]
  },
  {
   "cell_type": "code",
   "execution_count": 12,
   "id": "ed437e96",
   "metadata": {},
   "outputs": [],
   "source": [
    "def summarization(input_txt):\n",
    "    preprocess_text = input_txt.strip().replace(\"\\n\",\"\")\n",
    "    t5_prepared_Text = \"summarize: \"+preprocess_text\n",
    "    #print (\"original text preprocessed: \\n\", preprocess_text)\n",
    "\n",
    "    tokenized_text = tokenizer.encode(t5_prepared_Text, return_tensors=\"pt\").to(device)\n",
    "\n",
    "\n",
    "    # summmarize \n",
    "    summary_ids = model.generate(tokenized_text,\n",
    "                                        num_beams=4,\n",
    "                                        no_repeat_ngram_size=2,\n",
    "                                        min_length=30,\n",
    "                                        max_length=50, # Msx 2 senteces\n",
    "                                        early_stopping=True)\n",
    "\n",
    "    output = tokenizer.decode(summary_ids[0], skip_special_tokens=True)\n",
    "    return output"
   ]
  },
  {
   "cell_type": "code",
   "execution_count": 13,
   "id": "f09a8c74",
   "metadata": {},
   "outputs": [
    {
     "name": "stdout",
     "output_type": "stream",
     "text": [
      "pomegranate juice and 80% fermented tea poured into a glass bottle. after seventy-two hours, the time comes to try it, and it smells like rotten eggs.\n"
     ]
    }
   ],
   "source": [
    "# test summarization\n",
    "input_txt_test = \"\"\"I add the critically measured sugary tea mixture to the gallon jar containing the slimy, white, disc-shaped layers of the symbiotic culture of bacteria and yeast.\n",
    "Now to wait.  After exactly seven days, I pour the liquid into a fermentation-grade glass bottle with a ratio of 20% pomegranate juice and 80% fermented tea. I place it on my kitchen counter, periodically checking it to relieve the built-up CO2.\n",
    "Finally, after an additional seventy-two hours, the time comes to try it. I crack the seal on the bottle, leaning over to smell what I assume will be a tangy, fruity, delicious pomegranate solution. and it smells like rotten eggs. The insufferable stench fills my nostrils and crushes my confidence. I'm momentarily taken aback, unable to understand how I went wrong when I followed the recipe perfectly. \"\"\"\n",
    "\n",
    "summarized_txt = summarization(input_txt_test)\n",
    "\n",
    "print(summarized_txt)"
   ]
  },
  {
   "cell_type": "code",
   "execution_count": 14,
   "id": "953a29c5",
   "metadata": {},
   "outputs": [],
   "source": [
    "# Rising Action\n",
    "# input_txt : 학생이 작성한 Original Text\n",
    "def Step_04(input_txt):\n",
    "    print(\"\")\n",
    "    print(\"Step #4\")\n",
    "    print(\"What happens next? AI's ideas to get you inspired!\")\n",
    "    gen_sentence = GenText(input_txt)\n",
    "    print(\"\")\n",
    "    print(gen_sentence)\n",
    "    print(\"\")\n",
    "    print(\"Inspired? Let's work on the rising action. What happens after the intro? -Any conflicts, problems, or questions you've dealt with?\")\n",
    "    print(\"Your response here. Minimum 50 words.\")\n",
    "    \n",
    "    try:\n",
    "        user_response = input()\n",
    "    except:\n",
    "        user_response = input()\n",
    "        ExceptionInput(user_response)\n",
    "        Step_04(input_txt)\n",
    "    \n",
    "    # user_response = input()\n",
    "    \n",
    "    #gen_sentence : 생성된 rising aciton  6개의 문장들\n",
    "    #user_response : 추가입력하는 사용자  rising action 입력문장\n",
    "    return gen_sentence, user_response"
   ]
  },
  {
   "cell_type": "code",
   "execution_count": 15,
   "id": "e31b58c8",
   "metadata": {},
   "outputs": [],
   "source": [
    "# intro_ori_input_sent : intro 입력 원본문장\n",
    "# intro_input_summarised_txt: 이미 요약된 문장으로 intro 부분\n",
    "# risingAction_input_txt: Rising action 입력문장\n",
    "def Step_05(intro_ori_input_sent, intro_input_summarised_txt, risingAction_input_txt):\n",
    "    print(\"\")\n",
    "    print(\"Step #5\")\n",
    "    print(\"Your story so far.\")\n",
    "    risingAciton_summary_re = summarization(risingAction_input_txt)\n",
    "    # Intro + Rising Action 내용 3-4문장 간추림\n",
    "    print(intro_input_summarised_txt + risingAciton_summary_re)\n",
    "    pre_sum_climax_sentences = intro_input_summarised_txt + risingAciton_summary_re\n",
    "    \n",
    "    print(\"\")\n",
    "    #Generate 되는 문장들은 학생의 original writing들 기반 (summary 아니고)\n",
    "    gen_climax_sentence = GenText(intro_ori_input_sent + risingAction_input_txt)\n",
    "    print(gen_climax_sentence)\n",
    "    \n",
    "    print(\"What happens next? AI's ideas to get you inspired!\")\n",
    "    print(\"\")\n",
    "    print(\"Describe the most dramatic moment in the story. What happens at the story's peak? How did your conflict, problem, or question resolve?\")\n",
    "    print(\"Your response here. Minimum 50 words.\")\n",
    "    \n",
    "    try:\n",
    "        climax_input = input()\n",
    "    except:\n",
    "        climax_input = input()\n",
    "        ExceptionInput(climax_input)\n",
    "        Step_05(intro_ori_input_sent, intro_input_summarised_txt, risingAction_input_txt)\n",
    "    \n",
    "    # climax_input = input()\n",
    "    print(\"Your Climax input:\", climax_input)\n",
    "    \n",
    "    summarised_climax = summarization(climax_input)\n",
    "    \n",
    "    # risingAciton_summary_re : summary rising action\n",
    "    # gen_climax_sentence : 생성된 Climax idea sentences\n",
    "    # climax_input : Use input climax\n",
    "    # summarised_climax : summary climax\n",
    "    return risingAciton_summary_re, gen_climax_sentence, climax_input, summarised_climax\n",
    "    "
   ]
  },
  {
   "cell_type": "code",
   "execution_count": 16,
   "id": "b7b5a746",
   "metadata": {},
   "outputs": [],
   "source": [
    "def Step_06(sum_intro, sum_rasingAciton, sum_climax, intro_ori_input_sent, risingAction_input_txt, climax_input_txt):\n",
    "    print(\"\")\n",
    "    print(\"Step #6\")\n",
    "    print(\"How did your conflict, problem, or question resolve?\")\n",
    "    # show summary of Intro + Rasing Action + Climax\n",
    "    step_6_que_re = sum_intro + sum_rasingAciton + sum_climax\n",
    "    #print(step_6_que_re)\n",
    "    print(\"\")\n",
    "    print(\"What happens next? AI's ideas to get you inspired!\")\n",
    "    gen_resolution = GenText(intro_ori_input_sent + risingAction_input_txt + climax_input_txt)\n",
    "    print(\"Generated resolution sentences :\", gen_resolution)\n",
    "    print(\"\")\n",
    "    print(\"\"\"Describe how your story ends. What happens at the end of your story? -How did this experience change your perspective?\"\"\")\n",
    "    print(\"Your response here. Minimum 50 words.\")\n",
    "    \n",
    "    try:\n",
    "        Resolution_input = input()\n",
    "    except:\n",
    "        Resolution_input = input()\n",
    "        ExceptionInput(Resolution_input)\n",
    "        Step_06(sum_intro, sum_rasingAciton, sum_climax, intro_ori_input_sent, risingAction_input_txt, climax_input_txt)\n",
    "    \n",
    "    # Resolution_input = input()\n",
    "    print(\"Your resolution input :\", Resolution_input)\n",
    "    \n",
    "    # gen_resolution : 생성한 Resolution sentences\n",
    "    # Resolution_input : User input resolution\n",
    "    return gen_resolution, Resolution_input"
   ]
  },
  {
   "cell_type": "code",
   "execution_count": 1,
   "id": "c18c632d",
   "metadata": {},
   "outputs": [],
   "source": [
    "doc = \"\"\"\n",
    "         Supervised learning is the machine learning task of \n",
    "         learning a function that maps an input to an output based \n",
    "         on example input-output pairs.[1] It infers a function \n",
    "         from labeled training data consisting of a set of \n",
    "         training examples.[2] In supervised learning, each \n",
    "         example is a pair consisting of an input object \n",
    "         (typically a vector) and a desired output value (also \n",
    "         called the supervisory signal). A supervised learning \n",
    "         algorithm analyzes the training data and produces an \n",
    "         inferred function, which can be used for mapping new \n",
    "         examples. An optimal scenario will allow for the algorithm \n",
    "         to correctly determine the class labels for unseen \n",
    "         instances. This requires the learning algorithm to  \n",
    "         generalize from the training data to unseen situations \n",
    "         in a 'reasonable' way (see inductive bias).\n",
    "      \"\"\""
   ]
  },
  {
   "cell_type": "code",
   "execution_count": 2,
   "id": "82f8a9e5",
   "metadata": {},
   "outputs": [
    {
     "name": "stderr",
     "output_type": "stream",
     "text": [
      "C:\\Users\\cacki\\Anaconda3\\envs\\py37NLP\\lib\\site-packages\\sklearn\\utils\\deprecation.py:87: FutureWarning: Function get_feature_names is deprecated; get_feature_names is deprecated in 1.0 and will be removed in 1.2. Please use get_feature_names_out instead.\n",
      "  warnings.warn(msg, category=FutureWarning)\n"
     ]
    }
   ],
   "source": [
    "from sklearn.feature_extraction.text import CountVectorizer\n",
    "\n",
    "n_gram_range = (1, 1)\n",
    "stop_words = \"english\"\n",
    "\n",
    "# Extract candidate words/phrases\n",
    "count = CountVectorizer(ngram_range=n_gram_range, stop_words=stop_words).fit([doc])\n",
    "candidates = count.get_feature_names()"
   ]
  },
  {
   "cell_type": "code",
   "execution_count": null,
   "id": "7a747157",
   "metadata": {},
   "outputs": [],
   "source": [
    "# https://www.sbert.net/docs/pretrained_models.html#average-word-embeddings-models\n",
    "\n",
    "from sentence_transformers import SentenceTransformer\n",
    "\n",
    "model = SentenceTransformer('xlm-r-distilroberta-base-paraphase-v1')\n",
    "doc_embedding = model.encode([doc])\n",
    "candidate_embeddings = model.encode(candidates)"
   ]
  },
  {
   "cell_type": "code",
   "execution_count": 1,
   "id": "eb89e56f",
   "metadata": {},
   "outputs": [
    {
     "ename": "NameError",
     "evalue": "name 'doc_embedding' is not defined",
     "output_type": "error",
     "traceback": [
      "\u001b[1;31m---------------------------------------------------------------------------\u001b[0m",
      "\u001b[1;31mNameError\u001b[0m                                 Traceback (most recent call last)",
      "\u001b[1;32m~\\AppData\\Local\\Temp\\ipykernel_7480\\1034929731.py\u001b[0m in \u001b[0;36m<module>\u001b[1;34m\u001b[0m\n\u001b[0;32m      2\u001b[0m \u001b[1;33m\u001b[0m\u001b[0m\n\u001b[0;32m      3\u001b[0m \u001b[0mtop_n\u001b[0m \u001b[1;33m=\u001b[0m \u001b[1;36m5\u001b[0m\u001b[1;33m\u001b[0m\u001b[1;33m\u001b[0m\u001b[0m\n\u001b[1;32m----> 4\u001b[1;33m \u001b[0mdistances\u001b[0m \u001b[1;33m=\u001b[0m \u001b[0mcosine_similarity\u001b[0m\u001b[1;33m(\u001b[0m\u001b[0mdoc_embedding\u001b[0m\u001b[1;33m,\u001b[0m \u001b[0mcandidate_embeddings\u001b[0m\u001b[1;33m)\u001b[0m\u001b[1;33m\u001b[0m\u001b[1;33m\u001b[0m\u001b[0m\n\u001b[0m\u001b[0;32m      5\u001b[0m \u001b[0mkeywords\u001b[0m \u001b[1;33m=\u001b[0m \u001b[1;33m[\u001b[0m\u001b[0mcandidates\u001b[0m\u001b[1;33m[\u001b[0m\u001b[0mindex\u001b[0m\u001b[1;33m]\u001b[0m \u001b[1;32mfor\u001b[0m \u001b[0mindex\u001b[0m \u001b[1;32min\u001b[0m \u001b[0mdistances\u001b[0m\u001b[1;33m.\u001b[0m\u001b[0margsort\u001b[0m\u001b[1;33m(\u001b[0m\u001b[1;33m)\u001b[0m\u001b[1;33m[\u001b[0m\u001b[1;36m0\u001b[0m\u001b[1;33m]\u001b[0m\u001b[1;33m[\u001b[0m\u001b[1;33m-\u001b[0m\u001b[0mtop_n\u001b[0m\u001b[1;33m:\u001b[0m\u001b[1;33m]\u001b[0m\u001b[1;33m]\u001b[0m\u001b[1;33m\u001b[0m\u001b[1;33m\u001b[0m\u001b[0m\n",
      "\u001b[1;31mNameError\u001b[0m: name 'doc_embedding' is not defined"
     ]
    }
   ],
   "source": [
    "\n",
    "from sklearn.metrics.pairwise import cosine_similarity\n",
    "\n",
    "top_n = 5\n",
    "distances = cosine_similarity(doc_embedding, candidate_embeddings)\n",
    "keywords = [candidates[index] for index in distances.argsort()[0][-top_n:]]"
   ]
  },
  {
   "cell_type": "code",
   "execution_count": null,
   "id": "0c34bd98",
   "metadata": {},
   "outputs": [],
   "source": []
  },
  {
   "cell_type": "code",
   "execution_count": null,
   "id": "2cf34872",
   "metadata": {},
   "outputs": [],
   "source": [
    "def KeyTopic():\n",
    "    "
   ]
  },
  {
   "cell_type": "code",
   "execution_count": 17,
   "id": "6485c3f8",
   "metadata": {},
   "outputs": [],
   "source": [
    "def Run():\n",
    "    Step_01()\n",
    "    \n",
    "    print(\"\")\n",
    "    \n",
    "    selected_topic = Step_02()\n",
    "    \n",
    "    print(\"\")\n",
    "    \n",
    "    #intro_input_txt:  학생이 작성한 intro sentence\n",
    "    intro_input_txt = Step_03(selected_topic)\n",
    "    \n",
    "    print(\"\")\n",
    "    \n",
    "    #intro summary sentence\n",
    "    intro_summarized_txt = summarization(intro_input_txt)\n",
    "    \n",
    "    print(\"\")\n",
    "    \n",
    "    print('summary intro :', intro_summarized_txt)\n",
    "    \n",
    "    print(\"\")\n",
    "\n",
    "    result = Step_04(intro_input_txt)\n",
    "    #gen_sentence  > result[0]: 생성된 6개의 risng action 문장들\n",
    "    #user_response  > result[1]: 사용자 rising action입력문장\n",
    "    \n",
    "    print(\"\")\n",
    "    \n",
    "    step_5_re = Step_05(intro_input_txt, intro_summarized_txt, result[1])\n",
    "    print(\"Generated 6 sentences of the climax idea\", step_5_re[1]) # 생성된 Climax idea sentences\n",
    "    print(\"\")\n",
    "    print(\"User climax input sentence :\", step_5_re[2]) # User climax input\n",
    "    print(\"\")\n",
    "    \n",
    "    sum_intro = intro_summarized_txt\n",
    "    sum_rasingAciton = step_5_re[0]\n",
    "    sum_climax = step_5_re[2] \n",
    "    intro_ori_input_sent = intro_input_txt\n",
    "    risingAction_input_txt = result[1]\n",
    "    climax_input_txt = step_5_re[2]\n",
    "    \n",
    "    gen_resolution_re = Step_06(sum_intro, sum_rasingAciton, sum_climax, intro_ori_input_sent, risingAction_input_txt, climax_input_txt)\n",
    "    print(\"\")\n",
    "    # gen_resolution_re[0] : 생성한 Resolution sentences\n",
    "    # gen_resolution_re[1] : User input resolution\n",
    "    print(\"Generated the resolution sentences :\", gen_resolution_re[0])\n",
    "    print(\"\")\n",
    "    print(\"User input resolution sentence :\", gen_resolution_re[1])\n",
    "    print(\"\")\n",
    "    \n",
    "    return gen_resolution_re[0], gen_resolution_re[1]"
   ]
  },
  {
   "cell_type": "code",
   "execution_count": 18,
   "id": "a88bf48a",
   "metadata": {},
   "outputs": [
    {
     "name": "stdout",
     "output_type": "stream",
     "text": [
      "Step #1\n",
      "I am using Common App OR Coalition App\n",
      "Select a Question:\n",
      "1) CommonApp\n",
      "2) CoalitionApp\n",
      "Question: 1\n",
      "Selected Question: CommonApp\n",
      "\n",
      "Step #2\n",
      "Select prompt\n",
      "Select a Question:\n",
      "1) prompt01\n",
      "2) prompt02\n",
      "3) prompt03\n",
      "4) prompt04\n",
      "5) prompt05\n",
      "6) prompt06\n",
      "7) prompt07\n",
      "Question: 2\n",
      "Selected Question: The lessons we take from obstacles we encounter can be fundamental to later success. Recount a time when you faced a challenge, setback, or failure. How did it affect you, and what did you learn from the experience?\n",
      "\n",
      "\n",
      "Step #3\n",
      "You choese to write about  The lessons we take from obstacles we encounter can be fundamental to later success. Recount a time when you faced a challenge, setback, or failure. How did it affect you, and what did you learn from the experience?\n",
      "How does your story begin?\n",
      "Where and when?\n",
      "Who are in it?\n",
      "What happens in the beginning?\n",
      "Your response here. Minimum 50 words.\n",
      "I add the critically measured sugary tea mixture to the gallon jar containing the slimy, white, disc-shaped layers of the symbiotic culture of bacteria and yeast.\n",
      "processing...\n",
      "\n"
     ]
    },
    {
     "name": "stderr",
     "output_type": "stream",
     "text": [
      "Setting `pad_token_id` to `eos_token_id`:50256 for open-end generation.\n"
     ]
    },
    {
     "name": "stdout",
     "output_type": "stream",
     "text": [
      "\n",
      "summary intro : the sugary tea mixture contains the slimy, white, disc-shaped layers of the symbiotic culture of bacteria and yeast.\n",
      "\n",
      "\n",
      "Step #4\n",
      "What happens next? AI's ideas to get you inspired!\n"
     ]
    },
    {
     "name": "stderr",
     "output_type": "stream",
     "text": [
      "Setting `pad_token_id` to `eos_token_id`:50256 for open-end generation.\n",
      "Setting `pad_token_id` to `eos_token_id`:50256 for open-end generation.\n",
      "Setting `pad_token_id` to `eos_token_id`:50256 for open-end generation.\n",
      "Setting `pad_token_id` to `eos_token_id`:50256 for open-end generation.\n",
      "Setting `pad_token_id` to `eos_token_id`:50256 for open-end generation.\n"
     ]
    },
    {
     "name": "stdout",
     "output_type": "stream",
     "text": [
      "\n",
      "['I fill my funnel with the sugared tea and pour it slowly into the jar. I hold the funnel in my mouth while I drink the tea. It is like drinking an alcoholic drink. The tea is sweet and the sugar is in the form of a syrup. But the taste is not sweet. That is the real taste. When I am done, I put the empty funnel back into my jar and put it into a plastic bag. Then I carefully, carefully clean off the lid', ' I use a funnel to pour the mixture into the jar. Now I have a wonderful mixture of sugared tea and the culture.I pour about 2 inches of this mixture onto the surface of my fermenting sourdough starter and leave it bare, waiting for it to ferment. This is an important step so that the yeast can use the added sugar from the tea to produce alcohol (which is what fermentation is all about).Instead of pouring the suger mixture directly into my sour', \"The jar is sealed tightly, and I return to my office, to a mug of steaming tea, with a bowl of fresh fruit to sit on the desk blotter. I sit where you sit. No one, but no one can see me here, because I am seated and have my back to everyone. Look at my tea mug, my fruit bowl, I'm sitting in my chair, looking down at the work in front of me, at a place on which I have no\", ' The mixture looks like coffee grounds with a little foam on top. This color is important to make a \"liquid\" appearance, as in a syrupy liquid.Then I take a scalpel blade and slice through the middle of each layer of slime, dividing the material into a thin layer. I place the cut layers into the freshly autoclaved jar of liquid nutrient media. Then I add water to fill the jar to about 2 quarts, making sure that there is a whole layer', 'Pour the mixture into the jar and place the lid on. Make sure that it seals well and top off with another jar with coffee grounds on it. Leave for a day or two, refrigerate, and then stir or shake well. If any clumps of yeast or bacteria remain, repeat the process and repeat a number of times to remove them. Drink it with milk of lignosus. In my opinion, it is an excellent tea. You can use a similar technique with', ' Then, in a separate flask, I add a nutrient broth, freshly filtered through a sieve; this broth contains the other yeast and the osmotically active salts. I quickly submerge the flask in an ice-water bath to stop the cells from growing by the normal fermentation process. Meanwhile, my small digital thermometer shows the temperature of my surface culture to be 63°C (147°F).I return to my scientific microscope to observe the two species of filamentous,']\n",
      "\n",
      "Inspired? Let's work on the rising action. What happens after the intro? -Any conflicts, problems, or questions you've dealt with?\n",
      "Your response here. Minimum 50 words.\n",
      "Finally, after an additional seventy-two hours, the time comes to try it. I crack the seal on the bottle, leaning over to smell what I assume will be a tangy, fruity, delicious pomegranate solution. and it smells like rotten eggs. The insufferable stench fills my nostrils and crushes my confidence. I'm momentarily taken aback, unable to understand how I went wrong when I followed the recipe perfectly. \n",
      "\n",
      "\n",
      "Step #5\n",
      "Your story so far.\n"
     ]
    },
    {
     "name": "stderr",
     "output_type": "stream",
     "text": [
      "Setting `pad_token_id` to `eos_token_id`:50256 for open-end generation.\n"
     ]
    },
    {
     "name": "stdout",
     "output_type": "stream",
     "text": [
      "the sugary tea mixture contains the slimy, white, disc-shaped layers of the symbiotic culture of bacteria and yeast.pomegranate stench fills my nostrils and crushes confidence. it smells like rotten eggs, but the insufferable solution is a tangy, fruity solution\n",
      "\n"
     ]
    },
    {
     "name": "stderr",
     "output_type": "stream",
     "text": [
      "Setting `pad_token_id` to `eos_token_id`:50256 for open-end generation.\n",
      "Setting `pad_token_id` to `eos_token_id`:50256 for open-end generation.\n",
      "Setting `pad_token_id` to `eos_token_id`:50256 for open-end generation.\n",
      "C:\\Users\\cacki\\Anaconda3\\envs\\py37NLP\\lib\\site-packages\\transformers\\pipelines\\base.py:999: UserWarning: You seem to be using the pipelines sequentially on GPU. In order to maximize efficiency please use a dataset\n",
      "  UserWarning,\n",
      "Setting `pad_token_id` to `eos_token_id`:50256 for open-end generation.\n",
      "Setting `pad_token_id` to `eos_token_id`:50256 for open-end generation.\n"
     ]
    },
    {
     "name": "stdout",
     "output_type": "stream",
     "text": [
      "[\" The smell is so bad that I can't even imagine what it will do to my clothes when it dries.So, I surrender to a bitter disappointment. Instead of a delicious, tanginess-filled pom-granated tea, what does I get is a rancid, sour, rotten, musty concoction that takes me hours to clean up.This is the real purpose of my experiment.I'm not trying to make tea.Instead, my goal is to prove that\", ' \"I knew you\\'d want to drink from the original bottle.\" It\\'s my dear friend, my mentor, and one of my earliest critics, Dr. Scott Leifheit. He\\'s also a little miffed that I have yet to accept his invitation to attend his annual Christmas party this year. \"I don\\'t need your money, David. You know I don’t drink the stuff.\" I can\\'t vouch for his sobriety, but I\\'d be surprised', ' In this moment, I feel shame. Shame for having underestimated my assistant\\'s ability to follow instructions. For being so presumptuous and arrogant to think I could do any better. And for being unable, for the first time in my life, to stop myself from buying sugared tea.It makes me think of my father, a man who once told me he had always been happy he was born a Jew, and in doing so went on to say,  \"I', \" Why won't my water make the water taste good?  The experiment was always to find out if my tea would smell good. Of course, my test was far too short and the tea did not taste particularly good, but that is a detail that I didn't take into account (and was not aware, or did I?) and I had to get someone to taste the solution for me.And why is it I can't make this stuff taste like anything?It is\", \" Finally I begin to examine the jar as closely as possible. It is slightly dark, like a metal, and about two inches in diameter. My first thought is that I've somehow managed to damage the container and I look down at it to see how bad it is. If I can find some way to salvage the end result I want, then I'll know if the problem was in the original process or if I have ruined the whole bottle by accident.Once I pull back the\", \" Then I begin to examine the evidence: what is it? A sachet? An infuser? Certainly not the topographic map I asked for. Neither does the yellow dot on it seem like a river, or the long curve of coastline, making it appear it might be an annotated map on a sheet of paper.Except: it is neither a saccheq, nor a pomi-growin'  bucket. It is an infeer-arizing\"]\n",
      "What happens next? AI's ideas to get you inspired!\n",
      "\n",
      "Describe the most dramatic moment in the story. What happens at the story's peak? How did your conflict, problem, or question resolve?\n",
      "Your response here. Minimum 50 words.\n",
      "My issue wasn't misreading the recipe or failing to follow a rule, it was bypassing my creative instincts and forgetting the unpredictable nature of fermentation. I needed to trust the creative side of kombucha— the side that takes people's perfectionist energy and explodes it into a puddle of rotten egg smelling 'booch (my preferred name for the drink- not \"fermented, effervescent liquid from a symbiotic culture of acetic acid bacteria and yeast\"). I was too caught up in the side that requires extreme preciseness to notice when the balance between perfectionism and imperfectionism was being thrown off. The key, I have learned, is knowing when to prioritize following the recipe and when to let myself be creative. Sure, there are scientific variables such as proximity to heat sources and how many grams of sugar to add. But, there's also person-dependent variables like how long I decide to ferment it, what fruits I decide will be a fun combination, and which friend I got my first SCOBY from (taking \"symbiotic\" to a new level).\n",
      "Your Climax input: My issue wasn't misreading the recipe or failing to follow a rule, it was bypassing my creative instincts and forgetting the unpredictable nature of fermentation. I needed to trust the creative side of kombucha— the side that takes people's perfectionist energy and explodes it into a puddle of rotten egg smelling 'booch (my preferred name for the drink- not \"fermented, effervescent liquid from a symbiotic culture of acetic acid bacteria and yeast\"). I was too caught up in the side that requires extreme preciseness to notice when the balance between perfectionism and imperfectionism was being thrown off. The key, I have learned, is knowing when to prioritize following the recipe and when to let myself be creative. Sure, there are scientific variables such as proximity to heat sources and how many grams of sugar to add. But, there's also person-dependent variables like how long I decide to ferment it, what fruits I decide will be a fun combination, and which friend I got my first SCOBY from (taking \"symbiotic\" to a new level).\n"
     ]
    },
    {
     "name": "stderr",
     "output_type": "stream",
     "text": [
      "Setting `pad_token_id` to `eos_token_id`:50256 for open-end generation.\n"
     ]
    },
    {
     "name": "stdout",
     "output_type": "stream",
     "text": [
      "Generated 6 sentences of the climax idea [\" The smell is so bad that I can't even imagine what it will do to my clothes when it dries.So, I surrender to a bitter disappointment. Instead of a delicious, tanginess-filled pom-granated tea, what does I get is a rancid, sour, rotten, musty concoction that takes me hours to clean up.This is the real purpose of my experiment.I'm not trying to make tea.Instead, my goal is to prove that\", ' \"I knew you\\'d want to drink from the original bottle.\" It\\'s my dear friend, my mentor, and one of my earliest critics, Dr. Scott Leifheit. He\\'s also a little miffed that I have yet to accept his invitation to attend his annual Christmas party this year. \"I don\\'t need your money, David. You know I don’t drink the stuff.\" I can\\'t vouch for his sobriety, but I\\'d be surprised', ' In this moment, I feel shame. Shame for having underestimated my assistant\\'s ability to follow instructions. For being so presumptuous and arrogant to think I could do any better. And for being unable, for the first time in my life, to stop myself from buying sugared tea.It makes me think of my father, a man who once told me he had always been happy he was born a Jew, and in doing so went on to say,  \"I', \" Why won't my water make the water taste good?  The experiment was always to find out if my tea would smell good. Of course, my test was far too short and the tea did not taste particularly good, but that is a detail that I didn't take into account (and was not aware, or did I?) and I had to get someone to taste the solution for me.And why is it I can't make this stuff taste like anything?It is\", \" Finally I begin to examine the jar as closely as possible. It is slightly dark, like a metal, and about two inches in diameter. My first thought is that I've somehow managed to damage the container and I look down at it to see how bad it is. If I can find some way to salvage the end result I want, then I'll know if the problem was in the original process or if I have ruined the whole bottle by accident.Once I pull back the\", \" Then I begin to examine the evidence: what is it? A sachet? An infuser? Certainly not the topographic map I asked for. Neither does the yellow dot on it seem like a river, or the long curve of coastline, making it appear it might be an annotated map on a sheet of paper.Except: it is neither a saccheq, nor a pomi-growin'  bucket. It is an infeer-arizing\"]\n",
      "\n",
      "User climax input sentence : My issue wasn't misreading the recipe or failing to follow a rule, it was bypassing my creative instincts and forgetting the unpredictable nature of fermentation. I needed to trust the creative side of kombucha— the side that takes people's perfectionist energy and explodes it into a puddle of rotten egg smelling 'booch (my preferred name for the drink- not \"fermented, effervescent liquid from a symbiotic culture of acetic acid bacteria and yeast\"). I was too caught up in the side that requires extreme preciseness to notice when the balance between perfectionism and imperfectionism was being thrown off. The key, I have learned, is knowing when to prioritize following the recipe and when to let myself be creative. Sure, there are scientific variables such as proximity to heat sources and how many grams of sugar to add. But, there's also person-dependent variables like how long I decide to ferment it, what fruits I decide will be a fun combination, and which friend I got my first SCOBY from (taking \"symbiotic\" to a new level).\n",
      "\n",
      "\n",
      "Step #6\n",
      "How did your conflict, problem, or question resolve?\n",
      "\n",
      "What happens next? AI's ideas to get you inspired!\n"
     ]
    },
    {
     "name": "stderr",
     "output_type": "stream",
     "text": [
      "Setting `pad_token_id` to `eos_token_id`:50256 for open-end generation.\n",
      "Setting `pad_token_id` to `eos_token_id`:50256 for open-end generation.\n",
      "Setting `pad_token_id` to `eos_token_id`:50256 for open-end generation.\n",
      "Setting `pad_token_id` to `eos_token_id`:50256 for open-end generation.\n",
      "Setting `pad_token_id` to `eos_token_id`:50256 for open-end generation.\n"
     ]
    },
    {
     "name": "stdout",
     "output_type": "stream",
     "text": [
      "Generated resolution sentences : [\"The most important thing I've learned from my SCOBY CUP journey is to carefully consider the person I am and what they like. For many people, SCBAs are a part of their family history. They are part and parcel of how they grew up, how their parents grew their food, or how the food their families grew was prepared. So, when people are presented with being forced to make a SCABY, they tend to have a hard time accepting it as the\", 'Dr. Michael Jacobson, an emergency room physician and clinical instructor at the University of North Carolina School of Medicine, was one of my early SCABF fellow students. He recalls:\"I started learning about SCBs about the same time that I learned about kimchi, which was in 1991, about eight years before I started working in emergency medicine. When I saw the importance of probiotics, as well as the growing body of evidence that SCB and kuksu', 'I\\'ve seen a lot of versions of this \"fruity\" kocha, but this one is unique in that it also tastes like pure fermentation, providing a special and unexpected texture. It\\'s fruited with the goodness of fruit, fermentation and bacteria. We have found that the most beneficial kubucha is made with a very high percentage of organic sugar. This recipe is so good that we occasionally will get a batch to share at home. Just make sure you have enough sugar for a', ' So, instead of being the strict scientist who measures out the sugar and then measures the air in with a thermometer, while taking lots of times to measure the temperature, or painstakingly collecting two to three grams each of \"special extracts\" and testing them for taste, over the last few months, my new friend, fellow kock, has taken the lead. After reading online that the primary benefit of an SCB culture is to bring the yeast with dissolved sugar into contact with the acids,', ' I really begin to see the importance of \"placing yourself in another person\\'s shoes\" and becoming highly attuned to other people to minimize errors and errors in judgement.That kind of creative, collaborative thinking is what makes everything in life amazing. If you look at life through the eyes of someone else, you\\'ll never mess up, because there\\'ll always be someone more attune to your mood, your quirks, to make your life more comfortable. It makes no sense and yet completely logical. That', ' I keep telling myself that \"just because rules aren\\'t written doesn\\'t make them any less worth following.\"So to my credit, at just over a pound, this batch contains 50% fruit. Luckily, that\\'s still a good amount of tasty fruit in balanced proportion to carbohydrates.The whole process from start to finish took about forty hours. Most people who make this drink prefer to make it with unfermenting wine liqueur and/or juice concentrate as it is necessary to keep']\n",
      "\n",
      "Describe how your story ends. What happens at the end of your story? -How did this experience change your perspective?\n",
      "Your response here. Minimum 50 words.\n",
      "Perfectionism leaves little to be missed. With a keen eye, I can quickly identify my mistakes and transform them into something with purpose and definitude. On the other hand, imperfection is the basis for change and for growth. My resistance against perfectionism is what has allowed me to learn to move forward by seeing the big picture; it has opened me to new experiences, like bacteria cross-culturing to create something new, something different, something better. I am not afraid of change or adversity, though perhaps I am afraid of conformity. To fit the mold of perfection would compromise my creativity, and I am not willing to make that sacrifice.\n",
      "Your resolution input : Perfectionism leaves little to be missed. With a keen eye, I can quickly identify my mistakes and transform them into something with purpose and definitude. On the other hand, imperfection is the basis for change and for growth. My resistance against perfectionism is what has allowed me to learn to move forward by seeing the big picture; it has opened me to new experiences, like bacteria cross-culturing to create something new, something different, something better. I am not afraid of change or adversity, though perhaps I am afraid of conformity. To fit the mold of perfection would compromise my creativity, and I am not willing to make that sacrifice.\n",
      "\n",
      "Generated the resolution sentences : [\"The most important thing I've learned from my SCOBY CUP journey is to carefully consider the person I am and what they like. For many people, SCBAs are a part of their family history. They are part and parcel of how they grew up, how their parents grew their food, or how the food their families grew was prepared. So, when people are presented with being forced to make a SCABY, they tend to have a hard time accepting it as the\", 'Dr. Michael Jacobson, an emergency room physician and clinical instructor at the University of North Carolina School of Medicine, was one of my early SCABF fellow students. He recalls:\"I started learning about SCBs about the same time that I learned about kimchi, which was in 1991, about eight years before I started working in emergency medicine. When I saw the importance of probiotics, as well as the growing body of evidence that SCB and kuksu', 'I\\'ve seen a lot of versions of this \"fruity\" kocha, but this one is unique in that it also tastes like pure fermentation, providing a special and unexpected texture. It\\'s fruited with the goodness of fruit, fermentation and bacteria. We have found that the most beneficial kubucha is made with a very high percentage of organic sugar. This recipe is so good that we occasionally will get a batch to share at home. Just make sure you have enough sugar for a', ' So, instead of being the strict scientist who measures out the sugar and then measures the air in with a thermometer, while taking lots of times to measure the temperature, or painstakingly collecting two to three grams each of \"special extracts\" and testing them for taste, over the last few months, my new friend, fellow kock, has taken the lead. After reading online that the primary benefit of an SCB culture is to bring the yeast with dissolved sugar into contact with the acids,', ' I really begin to see the importance of \"placing yourself in another person\\'s shoes\" and becoming highly attuned to other people to minimize errors and errors in judgement.That kind of creative, collaborative thinking is what makes everything in life amazing. If you look at life through the eyes of someone else, you\\'ll never mess up, because there\\'ll always be someone more attune to your mood, your quirks, to make your life more comfortable. It makes no sense and yet completely logical. That', ' I keep telling myself that \"just because rules aren\\'t written doesn\\'t make them any less worth following.\"So to my credit, at just over a pound, this batch contains 50% fruit. Luckily, that\\'s still a good amount of tasty fruit in balanced proportion to carbohydrates.The whole process from start to finish took about forty hours. Most people who make this drink prefer to make it with unfermenting wine liqueur and/or juice concentrate as it is necessary to keep']\n",
      "\n",
      "User input resolution sentence : Perfectionism leaves little to be missed. With a keen eye, I can quickly identify my mistakes and transform them into something with purpose and definitude. On the other hand, imperfection is the basis for change and for growth. My resistance against perfectionism is what has allowed me to learn to move forward by seeing the big picture; it has opened me to new experiences, like bacteria cross-culturing to create something new, something different, something better. I am not afraid of change or adversity, though perhaps I am afraid of conformity. To fit the mold of perfection would compromise my creativity, and I am not willing to make that sacrifice.\n",
      "\n"
     ]
    },
    {
     "data": {
      "text/plain": [
       "([\"The most important thing I've learned from my SCOBY CUP journey is to carefully consider the person I am and what they like. For many people, SCBAs are a part of their family history. They are part and parcel of how they grew up, how their parents grew their food, or how the food their families grew was prepared. So, when people are presented with being forced to make a SCABY, they tend to have a hard time accepting it as the\",\n",
       "  'Dr. Michael Jacobson, an emergency room physician and clinical instructor at the University of North Carolina School of Medicine, was one of my early SCABF fellow students. He recalls:\"I started learning about SCBs about the same time that I learned about kimchi, which was in 1991, about eight years before I started working in emergency medicine. When I saw the importance of probiotics, as well as the growing body of evidence that SCB and kuksu',\n",
       "  'I\\'ve seen a lot of versions of this \"fruity\" kocha, but this one is unique in that it also tastes like pure fermentation, providing a special and unexpected texture. It\\'s fruited with the goodness of fruit, fermentation and bacteria. We have found that the most beneficial kubucha is made with a very high percentage of organic sugar. This recipe is so good that we occasionally will get a batch to share at home. Just make sure you have enough sugar for a',\n",
       "  ' So, instead of being the strict scientist who measures out the sugar and then measures the air in with a thermometer, while taking lots of times to measure the temperature, or painstakingly collecting two to three grams each of \"special extracts\" and testing them for taste, over the last few months, my new friend, fellow kock, has taken the lead. After reading online that the primary benefit of an SCB culture is to bring the yeast with dissolved sugar into contact with the acids,',\n",
       "  ' I really begin to see the importance of \"placing yourself in another person\\'s shoes\" and becoming highly attuned to other people to minimize errors and errors in judgement.That kind of creative, collaborative thinking is what makes everything in life amazing. If you look at life through the eyes of someone else, you\\'ll never mess up, because there\\'ll always be someone more attune to your mood, your quirks, to make your life more comfortable. It makes no sense and yet completely logical. That',\n",
       "  ' I keep telling myself that \"just because rules aren\\'t written doesn\\'t make them any less worth following.\"So to my credit, at just over a pound, this batch contains 50% fruit. Luckily, that\\'s still a good amount of tasty fruit in balanced proportion to carbohydrates.The whole process from start to finish took about forty hours. Most people who make this drink prefer to make it with unfermenting wine liqueur and/or juice concentrate as it is necessary to keep'],\n",
       " 'Perfectionism leaves little to be missed. With a keen eye, I can quickly identify my mistakes and transform them into something with purpose and definitude. On the other hand, imperfection is the basis for change and for growth. My resistance against perfectionism is what has allowed me to learn to move forward by seeing the big picture; it has opened me to new experiences, like bacteria cross-culturing to create something new, something different, something better. I am not afraid of change or adversity, though perhaps I am afraid of conformity. To fit the mold of perfection would compromise my creativity, and I am not willing to make that sacrifice.')"
      ]
     },
     "execution_count": 18,
     "metadata": {},
     "output_type": "execute_result"
    }
   ],
   "source": [
    "Run()\n"
   ]
  },
  {
   "cell_type": "code",
   "execution_count": null,
   "id": "0276cac7",
   "metadata": {},
   "outputs": [],
   "source": []
  }
 ],
 "metadata": {
  "kernelspec": {
   "display_name": "Python 3 (ipykernel)",
   "language": "python",
   "name": "python3"
  },
  "language_info": {
   "codemirror_mode": {
    "name": "ipython",
    "version": 3
   },
   "file_extension": ".py",
   "mimetype": "text/x-python",
   "name": "python",
   "nbconvert_exporter": "python",
   "pygments_lexer": "ipython3",
   "version": "3.8.13"
  }
 },
 "nbformat": 4,
 "nbformat_minor": 5
}
