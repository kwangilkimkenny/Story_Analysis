{
 "cells": [
  {
   "cell_type": "code",
   "execution_count": 1,
   "metadata": {},
   "outputs": [],
   "source": [
    "import numpy as np\n",
    "import pandas as pd"
   ]
  },
  {
   "cell_type": "code",
   "execution_count": 2,
   "metadata": {},
   "outputs": [],
   "source": [
    "extracted_features_result = [\n",
    "    [0.69, 471.8498871295094, 0.6607142857142857, 4529.66, 0.99, 7.95, 66.3], \n",
    "    [0.66, 447.7336814478207, 0.6022727272727273, 3959.19, 0.99, 7.95, 71.96], \n",
    "    [0.69, 461.512051684126, 0.6831683168316832, 4879.91, 0.99, 7.95, 73.45], \n",
    "    [0.61, 541.164605185504, 0.5223214285714286, 3124.6, 0.99, 7.95, 57.58], \n",
    "    [0.66, 516.4785973923515, 0.5885714285714285, 3934.69, 0.99, 7.95, 64.35], \n",
    "    [0.64, 461.512051684126, 0.6039603960396039, 3911.38, 0.99, 7.95, 70.1]]"
   ]
  },
  {
   "cell_type": "code",
   "execution_count": 3,
   "metadata": {},
   "outputs": [
    {
     "data": {
      "text/html": [
       "<div>\n",
       "<style scoped>\n",
       "    .dataframe tbody tr th:only-of-type {\n",
       "        vertical-align: middle;\n",
       "    }\n",
       "\n",
       "    .dataframe tbody tr th {\n",
       "        vertical-align: top;\n",
       "    }\n",
       "\n",
       "    .dataframe thead th {\n",
       "        text-align: right;\n",
       "    }\n",
       "</style>\n",
       "<table border=\"1\" class=\"dataframe\">\n",
       "  <thead>\n",
       "    <tr style=\"text-align: right;\">\n",
       "      <th></th>\n",
       "      <th>TTratio_WD</th>\n",
       "      <th>HonoreMeasureR_WD</th>\n",
       "      <th>hapax_WD</th>\n",
       "      <th>YuleK_WD</th>\n",
       "      <th>SimpsonIndex_WD</th>\n",
       "      <th>Shannon_WD</th>\n",
       "      <th>FR_readerablity</th>\n",
       "    </tr>\n",
       "  </thead>\n",
       "  <tbody>\n",
       "    <tr>\n",
       "      <th>0</th>\n",
       "      <td>0.69</td>\n",
       "      <td>471.849887</td>\n",
       "      <td>0.660714</td>\n",
       "      <td>4529.66</td>\n",
       "      <td>0.99</td>\n",
       "      <td>7.95</td>\n",
       "      <td>66.30</td>\n",
       "    </tr>\n",
       "    <tr>\n",
       "      <th>1</th>\n",
       "      <td>0.66</td>\n",
       "      <td>447.733681</td>\n",
       "      <td>0.602273</td>\n",
       "      <td>3959.19</td>\n",
       "      <td>0.99</td>\n",
       "      <td>7.95</td>\n",
       "      <td>71.96</td>\n",
       "    </tr>\n",
       "    <tr>\n",
       "      <th>2</th>\n",
       "      <td>0.69</td>\n",
       "      <td>461.512052</td>\n",
       "      <td>0.683168</td>\n",
       "      <td>4879.91</td>\n",
       "      <td>0.99</td>\n",
       "      <td>7.95</td>\n",
       "      <td>73.45</td>\n",
       "    </tr>\n",
       "    <tr>\n",
       "      <th>3</th>\n",
       "      <td>0.61</td>\n",
       "      <td>541.164605</td>\n",
       "      <td>0.522321</td>\n",
       "      <td>3124.60</td>\n",
       "      <td>0.99</td>\n",
       "      <td>7.95</td>\n",
       "      <td>57.58</td>\n",
       "    </tr>\n",
       "    <tr>\n",
       "      <th>4</th>\n",
       "      <td>0.66</td>\n",
       "      <td>516.478597</td>\n",
       "      <td>0.588571</td>\n",
       "      <td>3934.69</td>\n",
       "      <td>0.99</td>\n",
       "      <td>7.95</td>\n",
       "      <td>64.35</td>\n",
       "    </tr>\n",
       "    <tr>\n",
       "      <th>5</th>\n",
       "      <td>0.64</td>\n",
       "      <td>461.512052</td>\n",
       "      <td>0.603960</td>\n",
       "      <td>3911.38</td>\n",
       "      <td>0.99</td>\n",
       "      <td>7.95</td>\n",
       "      <td>70.10</td>\n",
       "    </tr>\n",
       "  </tbody>\n",
       "</table>\n",
       "</div>"
      ],
      "text/plain": [
       "   TTratio_WD  HonoreMeasureR_WD  hapax_WD  YuleK_WD  SimpsonIndex_WD  \\\n",
       "0        0.69         471.849887  0.660714   4529.66             0.99   \n",
       "1        0.66         447.733681  0.602273   3959.19             0.99   \n",
       "2        0.69         461.512052  0.683168   4879.91             0.99   \n",
       "3        0.61         541.164605  0.522321   3124.60             0.99   \n",
       "4        0.66         516.478597  0.588571   3934.69             0.99   \n",
       "5        0.64         461.512052  0.603960   3911.38             0.99   \n",
       "\n",
       "   Shannon_WD  FR_readerablity  \n",
       "0        7.95            66.30  \n",
       "1        7.95            71.96  \n",
       "2        7.95            73.45  \n",
       "3        7.95            57.58  \n",
       "4        7.95            64.35  \n",
       "5        7.95            70.10  "
      ]
     },
     "execution_count": 3,
     "metadata": {},
     "output_type": "execute_result"
    }
   ],
   "source": [
    "df = pd.DataFrame(extracted_features_result, columns = ['TTratio_WD', 'HonoreMeasureR_WD', 'hapax_WD', 'YuleK_WD', 'SimpsonIndex_WD', 'Shannon_WD', 'FR_readerablity'])\n",
    "df"
   ]
  },
  {
   "cell_type": "code",
   "execution_count": 4,
   "metadata": {},
   "outputs": [
    {
     "data": {
      "text/plain": [
       "65.83333333333333"
      ]
     },
     "execution_count": 4,
     "metadata": {},
     "output_type": "execute_result"
    }
   ],
   "source": [
    "#컬럼 합산 평균값 계산하기\n",
    "TTratio_WD_mean = df['TTratio_WD'].mean() * 100\n",
    "TTratio_WD_mean"
   ]
  },
  {
   "cell_type": "code",
   "execution_count": 5,
   "metadata": {},
   "outputs": [
    {
     "data": {
      "text/plain": [
       "48.337514575390635"
      ]
     },
     "execution_count": 5,
     "metadata": {},
     "output_type": "execute_result"
    }
   ],
   "source": [
    "HonoreMeasureR_WD_mean = df['HonoreMeasureR_WD'].mean() * 0.1\n",
    "HonoreMeasureR_WD_mean"
   ]
  },
  {
   "cell_type": "code",
   "execution_count": 6,
   "metadata": {},
   "outputs": [
    {
     "data": {
      "text/plain": [
       "61.01680971668596"
      ]
     },
     "execution_count": 6,
     "metadata": {},
     "output_type": "execute_result"
    }
   ],
   "source": [
    "hapax_WD_mean = df['hapax_WD'].mean() * 100\n",
    "hapax_WD_mean"
   ]
  },
  {
   "cell_type": "code",
   "execution_count": 7,
   "metadata": {},
   "outputs": [
    {
     "data": {
      "text/plain": [
       "40.56571666666667"
      ]
     },
     "execution_count": 7,
     "metadata": {},
     "output_type": "execute_result"
    }
   ],
   "source": [
    "YuleK_WD_mean = df['YuleK_WD'].mean() * 0.01\n",
    "HonoreMeasureR_WD_mean\n",
    "YuleK_WD_mean"
   ]
  },
  {
   "cell_type": "code",
   "execution_count": 11,
   "metadata": {},
   "outputs": [
    {
     "data": {
      "text/plain": [
       "48.337514575390635"
      ]
     },
     "execution_count": 11,
     "metadata": {},
     "output_type": "execute_result"
    }
   ],
   "source": [
    "HonoreMeasureR_WD_mean"
   ]
  },
  {
   "cell_type": "code",
   "execution_count": 8,
   "metadata": {},
   "outputs": [
    {
     "data": {
      "text/plain": [
       "99.00000000000001"
      ]
     },
     "execution_count": 8,
     "metadata": {},
     "output_type": "execute_result"
    }
   ],
   "source": [
    "SimpsonIndex_WD_mean = df['SimpsonIndex_WD'].mean() * 100\n",
    "SimpsonIndex_WD_mean"
   ]
  },
  {
   "cell_type": "code",
   "execution_count": 9,
   "metadata": {},
   "outputs": [
    {
     "data": {
      "text/plain": [
       "79.5"
      ]
     },
     "execution_count": 9,
     "metadata": {},
     "output_type": "execute_result"
    }
   ],
   "source": [
    "Shannon_WD_mean = df['Shannon_WD'].mean() * 10\n",
    "Shannon_WD_mean"
   ]
  },
  {
   "cell_type": "code",
   "execution_count": 10,
   "metadata": {},
   "outputs": [
    {
     "data": {
      "text/plain": [
       "67.29"
      ]
     },
     "execution_count": 10,
     "metadata": {},
     "output_type": "execute_result"
    }
   ],
   "source": [
    "# 가독성\n",
    "FR_readerablity_mean = df['FR_readerablity'].mean()\n",
    "FR_readerablity_mean"
   ]
  },
  {
   "cell_type": "code",
   "execution_count": 13,
   "metadata": {},
   "outputs": [
    {
     "data": {
      "text/plain": [
       "63.22726983820961"
      ]
     },
     "execution_count": 13,
     "metadata": {},
     "output_type": "execute_result"
    }
   ],
   "source": [
    "# Writing Diversity ratio\n",
    "wri_div_mean = (TTratio_WD_mean + HonoreMeasureR_WD_mean + \n",
    "                hapax_WD_mean + YuleK_WD_mean + HonoreMeasureR_WD_mean + \n",
    "                SimpsonIndex_WD_mean + Shannon_WD_mean)/7 \n",
    "\n",
    "wri_div_mean"
   ]
  },
  {
   "cell_type": "code",
   "execution_count": 14,
   "metadata": {},
   "outputs": [
    {
     "name": "stdout",
     "output_type": "stream",
     "text": [
      "min_ 20\n",
      "max_:  80\n",
      "div_: 20\n"
     ]
    }
   ],
   "source": [
    "one_ps_char_desc = wri_div_mean  # 이하 -13 ~ +17 이상 범위로 Lacking , Ideal, Overboard \n",
    "ideal_mean = 50 # 1000명의 평균값 (writing diversity)\n",
    "\n",
    "\n",
    "min_ = int(ideal_mean-ideal_mean*0.6)\n",
    "print('min_', min_)\n",
    "max_ = int(ideal_mean+ideal_mean*0.6)\n",
    "print('max_: ', max_)\n",
    "div_ = int(((ideal_mean+ideal_mean*0.6)-(ideal_mean-ideal_mean*0.6))/3)\n",
    "print('div_:', div_)\n"
   ]
  },
  {
   "cell_type": "code",
   "execution_count": 15,
   "metadata": {},
   "outputs": [
    {
     "name": "stdout",
     "output_type": "stream",
     "text": [
      "cal_abs 절대값 : 13.227269838209608\n",
      "compare : 16.17532426260137\n",
      "Ideal\n"
     ]
    }
   ],
   "source": [
    "cal_abs = abs(ideal_mean - one_ps_char_desc) # 개인 - 단체 값의 절대값계산\n",
    "\n",
    "print('cal_abs 절대값 :', cal_abs)\n",
    "compare = (one_ps_char_desc + ideal_mean)/7\n",
    "print('compare :', compare)\n",
    "\n",
    "if one_ps_char_desc > ideal_mean: # 개인점수가 평균보다 클 경우는 overboard\n",
    "    if cal_abs > compare: # 개인점수가 개인평균차의 절대값보다 클 경우, 즉 차이가 많이 날경우\n",
    "        print(\"Overboard\")\n",
    "    else: #차이가 많이 안나면\n",
    "        print(\"Ideal\")\n",
    "        \n",
    "    \n",
    "elif one_ps_char_desc < ideal_mean: # 개인점수가 평균보다 작을 경우 lacking\n",
    "    if cal_abs > compare: #차이가 많이나면 # 개인점수가  평균보다 작을 경우 Lacking이고 \n",
    "        print(\"Lacking\")\n",
    "    else: #차이가 많이 안나면\n",
    "        print (\"Ideal\")\n",
    "        \n",
    "else:\n",
    "    print(\"Ideal\")\n"
   ]
  },
  {
   "cell_type": "code",
   "execution_count": null,
   "metadata": {},
   "outputs": [],
   "source": []
  }
 ],
 "metadata": {
  "kernelspec": {
   "display_name": "Python 3",
   "language": "python",
   "name": "python3"
  },
  "language_info": {
   "codemirror_mode": {
    "name": "ipython",
    "version": 3
   },
   "file_extension": ".py",
   "mimetype": "text/x-python",
   "name": "python",
   "nbconvert_exporter": "python",
   "pygments_lexer": "ipython3",
   "version": "3.7.9"
  }
 },
 "nbformat": 4,
 "nbformat_minor": 4
}
