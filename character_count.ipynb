{
 "cells": [
  {
   "cell_type": "code",
   "execution_count": 83,
   "metadata": {},
   "outputs": [],
   "source": [
    "#특정단어와 유사한 의미의 단어를 추출\n",
    "# pip install gensim\n",
    "# result_all 페이지에 기능을 추가하자\n",
    "\n",
    "\n",
    "import gensim\n",
    "import numpy as np\n",
    "import nltk\n",
    "import re\n",
    "import matplotlib.pyplot as plt\n",
    "from sklearn.manifold import TSNE\n",
    "import seaborn as sns\n",
    "import pandas as pd\n",
    "from nltk.tokenize import sent_tokenize\n",
    "import multiprocessing\n",
    "import os\n",
    "from pathlib import Path\n",
    "import io\n",
    "from gensim.models import Phrases\n",
    "from textblob import TextBlob"
   ]
  },
  {
   "cell_type": "code",
   "execution_count": 88,
   "metadata": {},
   "outputs": [],
   "source": [
    "def ext_sim_words(text):\n",
    "\n",
    "    essay_input_corpus = str(text)\n",
    "\n",
    "    sentences  = sent_tokenize(essay_input_corpus)\n",
    "\n",
    "    split_sentences = []\n",
    "    for sentence in sentences:\n",
    "        processed = re.sub(\"[^a-zA-Z]\",\" \", sentence)\n",
    "        words = processed.split()\n",
    "        split_sentences.append(words)\n",
    "\n",
    "    skip_gram = 1\n",
    "    workers = multiprocessing.cpu_count()\n",
    "    bigram_transformer = Phrases(split_sentences)\n",
    "\n",
    "    model = gensim.models.word2vec.Word2Vec(bigram_transformer[split_sentences], workers=workers, sg=skip_gram, min_count=5)\n",
    "\n",
    "    model.train(split_sentences, total_examples=sum([len(sentence) for sentence in sentences]), epochs=100)\n",
    "\n",
    "\n",
    "    ext_sim_words_key = model.most_similar_cosmul('I')\n",
    "\n",
    "    return ext_sim_words_key"
   ]
  },
  {
   "cell_type": "code",
   "execution_count": 89,
   "metadata": {},
   "outputs": [],
   "source": [
    "import nltk\n",
    "input_text= \"\"\"A window into the soul.For most people, this would be the eyes. The eyes cannot lie; they often tell more about a person's emotions than their words. What distinguishes a fake smile from a genuine one? The eyes. What shows sadness? The eyes. What gives away a liar? The eyes.But are the eyes the only window into the soul?Recently, I began painting with watercolors. With watercolors, there is no turning back: if one section is too dark, it is nearly impossible to lighten the area again. Every stroke must be done purposefully, every color mixed to its exact value.I laid my materials before me, preparing myself for the worst. I checked my list of supplies, making sure my setup was perfect.I wet my brush, dipped it into some yellow ochre, and dabbed off the excess paint. Too little water on my brush. I dipped my brush back into my trusty water jar; the colors swirled beautifully, forming an abstract art piece before my eyes. \\u2014It's a shame that I couldn't appreciate it.I continued mixing colors to their exact value. More alizarin crimson. More water. More yellow ochre. Less water. More phthalo blue. The cycle continued. Eventually, I was satisfied. The colors looked good, there was enough contrast between facial features, and the watercolors stayed inside the lines.Craving feedback, I posted my art to Snapchat. I got a few messages such as 'wow' and 'pretty,' but one message stood out. 'You were anxious with this one, huh? Anyways, love the hair!'I was caught off guard. Was it a lucky guess? Did they know something I didn't? I immediately responded: 'Haha, how could you tell?' No response.What I didn't know at the time was that my response would come a few months later while babysitting. Since the girl I was babysitting loved art, I took out some Crayola watercolors and some watercolor paper for her to play with. After I went to the bathroom and came back, the watercolors were doused with water. 'You were impatient with this one, huh? Anyways, love the little dog you drew!'The little girl looked up at me, confused. 'How could you tell?' 'You used a lot of water for a brighter color, but you couldn't wait for it to slowly soak in.''Oh.'Now, I would be lying if I said I realized the connection between the two events immediately.Instead, I made the connection when I decided to sit down one day and objectively critique my art. The piece that I once loved now seemed like a nervous wreck: the paper was overworked, the brushstrokes were undecided, the facial features blended together, and each drop of water was bound inside the lines as if it was a prisoner in a cage.From then on, I started noticing pieces of personality in additional creations surrounding me: website designs, solutions to math problems, code written for class, and even the preparation of a meal.When I peer around at people's projects during Code Club, I notice the clear differences between their code. Some people break it up by commenting in every possible section. Others breeze through the project, not caring to comment or organize their code. I could also see clear differences in personalities when our club members began coding the Arduino for the first time. Some followed the tutorials to the letter, while others immediately started experimenting with different colored LEDs and ways of wiring the circuit.It became clear to me that, as humans, we leave pieces of our souls in everything we do, more than we intend to. If we entertain this thought, perhaps the key to better understanding others around us is simply noticing the subtler clues under our noses?Perhaps there are endless windows to the soul, and we simply need to peer through them. I shakily rose my hand. 'We should create workshops of our own,' I suggested.I got a few strange looks. 'It's a good idea, but it's too much work.' 'We just don't have enough free time to make it work.' 'Maybe we could, but I don't know how to make workshops.' My suggestion was shot down. I shuffled in my seat. 'I could make them.' A few people stared at me in disbelief. I glanced over at the club advisor, Mr. C, nervous to hear his response.'If you're willing to take on the work, we can try it.' Mr. C replied. And so I embarked on my quest. I researched different workshops on the internet, learning the information myself at first. Then, I transitioned into creating workshops of my own, making sure that the information was easy to understand for even a beginner. I was exhausted; my first workshop took 16 cumulative hours to create.\"\"\""
   ]
  },
  {
   "cell_type": "code",
   "execution_count": 90,
   "metadata": {},
   "outputs": [
    {
     "name": "stderr",
     "output_type": "stream",
     "text": [
      "C:\\Users\\cacki\\anaconda3\\envs\\py37pytorch\\lib\\site-packages\\ipykernel_launcher.py:22: DeprecationWarning: Call to deprecated `most_similar_cosmul` (Method will be removed in 4.0.0, use self.wv.most_similar_cosmul() instead).\n"
     ]
    }
   ],
   "source": [
    "re_simwords = ext_sim_words(input_text)"
   ]
  },
  {
   "cell_type": "code",
   "execution_count": 92,
   "metadata": {},
   "outputs": [
    {
     "data": {
      "text/plain": [
       "[('the', 0.9997903108596802),\n",
       " ('for', 0.9997706413269043),\n",
       " ('of', 0.9997694492340088),\n",
       " ('to', 0.9997506141662598),\n",
       " ('and', 0.9997463226318359),\n",
       " ('was', 0.999735414981842),\n",
       " ('in', 0.9997314214706421),\n",
       " ('with', 0.9997247457504272),\n",
       " ('me', 0.9997191429138184),\n",
       " ('that', 0.9997020363807678)]"
      ]
     },
     "execution_count": 92,
     "metadata": {},
     "output_type": "execute_result"
    }
   ],
   "source": [
    "re_simwords"
   ]
  },
  {
   "cell_type": "code",
   "execution_count": null,
   "metadata": {},
   "outputs": [],
   "source": []
  },
  {
   "cell_type": "code",
   "execution_count": 60,
   "metadata": {},
   "outputs": [
    {
     "name": "stdout",
     "output_type": "stream",
     "text": [
      "['window', 'soul.For', 'people', 'eyes', 'eyes', 'person', 'emotions', 'words', 'smile', 'eyes', 'sadness', 'eyes', 'liar', 'eyes.But', 'eyes', 'window', 'soul', 'watercolors', 'watercolors', 'section', 'area', 'Every', 'stroke', 'color', 'value.I', 'materials', 'list', 'supplies', 'setup', 'brush', 'ochre', 'paint', 'Too', 'water', 'brush', 'brush', 'water', 'jar', 'colors', 'art', 'piece', 'eyes', '—It', 'shame', 'colors', 'value', 'crimson', 'water', 'ochre', 'Less', 'water', 'blue', 'cycle', 'colors', 'contrast', 'features', 'watercolors', 'feedback', 'art', 'Snapchat', 'messages', \"'wow\", 'message', \"'You\", 'huh', 'Anyways', 'hair', 'guard', 'guess', 'Did', 'something', \"'Haha\", 'response.What', 'time', 'response', 'months', 'girl', 'art', 'Crayola', 'watercolors', 'paper', 'bathroom', 'watercolors', 'water', 'huh', 'Anyways', 'dog', 'girl', 'lot', 'water', 'brighter', 'color', 'in.', 'Oh', 'connection', 'events', 'connection', 'day', 'art', 'piece', 'wreck', 'paper', 'brushstrokes', 'features', 'drop', 'water', 'lines', 'prisoner', 'cage.From', 'pieces', 'personality', 'creations', 'designs', 'solutions', 'problems', 'code', 'class', 'preparation', 'meal.When', 'people', 'projects', 'Code', 'Club', 'differences', 'code', 'people', 'section', 'Others', 'project', 'code', 'differences', 'personalities', 'club', 'members', 'Arduino', 'time', 'tutorials', 'letter', 'others', 'LEDs', 'ways', 'circuit.It', 'humans', 'pieces', 'souls', 'everything', 'thought', 'key', 'others', 'subtler', 'clues', 'noses', 'windows', 'soul', 'hand', 'workshops', 'looks', 'idea', 'work', 'time', 'workshops', 'suggestion', 'seat', 'people', 'disbelief', 'club', 'advisor', 'Mr.', 'C', 'response', 'work', 'Mr.', 'C', 'workshops', 'internet', 'information', 'workshops', 'information', 'beginner', 'workshop', 'hours']\n"
     ]
    }
   ],
   "source": [
    "#명사추출\n",
    "\n",
    "tokenized = nltk.word_tokenize(input_text)\n",
    "input_tex_ = [word for (word, pos) in nltk.pos_tag(tokenized) if(pos[:2] == 'NN')]\n",
    "print (input_tex_ )"
   ]
  }
 ],
 "metadata": {
  "kernelspec": {
   "display_name": "Python 3",
   "language": "python",
   "name": "python3"
  },
  "language_info": {
   "codemirror_mode": {
    "name": "ipython",
    "version": 3
   },
   "file_extension": ".py",
   "mimetype": "text/x-python",
   "name": "python",
   "nbconvert_exporter": "python",
   "pygments_lexer": "ipython3",
   "version": "3.7.9"
  }
 },
 "nbformat": 4,
 "nbformat_minor": 4
}
