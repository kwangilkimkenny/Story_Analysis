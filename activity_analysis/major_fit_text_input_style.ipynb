{
 "cells": [
  {
   "cell_type": "code",
   "execution_count": 131,
   "metadata": {},
   "outputs": [
    {
     "name": "stderr",
     "output_type": "stream",
     "text": [
      "[nltk_data] Downloading package averaged_perceptron_tagger to\n",
      "[nltk_data]     C:\\Users\\cacki\\AppData\\Roaming\\nltk_data...\n",
      "[nltk_data]   Package averaged_perceptron_tagger is already up-to-\n",
      "[nltk_data]       date!\n"
     ]
    },
    {
     "data": {
      "text/plain": [
       "True"
      ]
     },
     "execution_count": 131,
     "metadata": {},
     "output_type": "execute_result"
    }
   ],
   "source": [
    "import numpy as np\n",
    "import gensim\n",
    "import nltk\n",
    "import re\n",
    "import matplotlib.pyplot as plt\n",
    "from sklearn.manifold import TSNE\n",
    "import seaborn as sns\n",
    "import pandas as pd\n",
    "from nltk.tokenize import sent_tokenize\n",
    "import multiprocessing\n",
    "import os\n",
    "from pathlib import Path\n",
    "import io\n",
    "from gensim.models import Phrases\n",
    "from textblob import TextBlob\n",
    "from nltk.tag import pos_tag\n",
    "from nltk.tokenize import word_tokenize\n",
    "from nltk.tokenize import RegexpTokenizer\n",
    "\n",
    "nltk.download('averaged_perceptron_tagger')"
   ]
  },
  {
   "cell_type": "markdown",
   "metadata": {},
   "source": [
    "def major_anaysis(text):\n",
    "\n",
    "    essay_input_corpus = str(text) #문장입력\n",
    "    essay_input_corpus = essay_input_corpus.lower()#소문자 변환\n",
    "\n",
    "    sentences  = sent_tokenize(essay_input_corpus) #문장 토큰화\n",
    "    total_sentences = len(sentences)#토큰으로 처리된 총 문장 수\n",
    "    total_words = len(word_tokenize(essay_input_corpus))# 총 단어수\n",
    "    split_sentences = []\n",
    "    for sentence in sentences:\n",
    "        processed = re.sub(\"[^a-zA-Z]\",\" \", sentence)\n",
    "        words = processed.split()\n",
    "        split_sentences.append(words)\n",
    "\n",
    "    skip_gram = 1\n",
    "    workers = multiprocessing.cpu_count()\n",
    "    bigram_transformer = Phrases(split_sentences)\n",
    "\n",
    "    model = gensim.models.word2vec.Word2Vec(bigram_transformer[split_sentences], workers=workers, sg=skip_gram, min_count=1)\n",
    "\n",
    "    model.train(split_sentences, total_examples=sum([len(sentence) for sentence in sentences]), epochs=300)\n",
    "    \n",
    "    tech_eng = ['General Engineering', 'Mechanical Engineering', 'Industrial Engineering', 'Bioengineering',\n",
    "                'Operations Research', 'Materials Science', 'Electrical Engineering', 'Computer Science/Engineering',\n",
    "                'Civil Engineering', 'Aerospace Engineering', 'Chemical Engineering', 'Environmental Engineering']\n",
    "\n",
    "    math_sci = ['Agriculture', 'Physics', 'Biology', 'Biophysics', 'Biochemistry/Molecular Biology',\n",
    "                'Mathematics', 'Applied Mathematics', 'Nutrition/Food Science', 'Genetics', 'Astronomy/Astrophysics',\n",
    "                'Statistics', 'Chemistry', 'Neuroscience', 'Economics','Nursing','Pre-Med', 'Pre-Veterinary'\n",
    "                'Pharmacy/Pre-Pharmacy', 'Pre-Dental', 'Pharmacy', 'Pre-Pharmacy']\n",
    "\n",
    "    social_sci = ['Economics Asian Studies', 'African Studies','Psychology', \"Women's Studies\",'Anthropology', 'Political Science/Government',\n",
    "                    'Political Science', 'Political Government', 'International Relations/Affairs', 'International Relations',\n",
    "                    'International Affairs', 'Public Policy/Affairs', 'Public Policy', 'Public Affairs', 'Public Health',\n",
    "                    'Environmental Science/Studies', 'Environmental Science', 'Environmental Studies', 'Urban Planning', 'Education']\n",
    "\n",
    "    Humanities = ['Archeology', 'Film Studies','German (Language and Literature)','Art History',\n",
    "                    'French (Language and Literature)','Spanish','Theology/Religious Studies',\n",
    "                    'Linguistics','History','English Language and Literature','Comparative Literature',\n",
    "                    'Philosophy','Classical Studies/Latin/Greek']\n",
    "\n",
    "    visualart = ['Film&Television', 'Film', 'Television', 'Design (Graphic, Industrial, Computer Graphics)','Graphic Design','Industral Design', 'Computer Graphics', 'Fashion Design', 'Photography', 'Architecture']\n",
    "\n",
    "    business = ['Business', 'Finance', 'Accounting', 'Marketing', 'Intl', 'Biz','International Business','Mgmt.', 'Info Systems', 'Hotel/Hospitality Management',\n",
    "                'Hotel Management', 'Hospitality Management']\n",
    "\n",
    "    music = ['Music (Performance)', 'Music', 'Music Theory']\n",
    "\n",
    "    performing_arts = ['performing arts']\n",
    "    \n",
    "    major_filter_tech_eng = tech_eng\n",
    "    \n",
    "    ####문장에 setting_words_filter_list의 단어들이 있는지 확인하고, 있다면 유사단어를 추출한다.\n",
    "    #우선 토큰화한다.\n",
    "    retokenize = RegexpTokenizer(\"[\\w]+\") #줄바꿈 제거하여 한줄로 만들고\n",
    "    token_input_text = retokenize.tokenize(essay_input_corpus)\n",
    "    #print (token_input_text) #토큰화 처리 확인.. 토큰들이 리스트에 담김\n",
    "    #리트스로 정리된 개별 토큰을 char_list와 비교해서 존재하는 것만 추출한다.\n",
    "    filtered_setting_text = []\n",
    "    for k in token_input_text:\n",
    "        for j in major_filter_tech_eng :\n",
    "            if k == j:\n",
    "                filtered_setting_text.append(j)\n",
    "    \n",
    "    #print (filtered_chr_text) # 유사단어 비교 추출 완료, 겹치는 단어는 제거하자.\n",
    "    \n",
    "    filtered_setting_text_ = set(filtered_setting_text) #중복제거\n",
    "    filtered_setting_text__ = list(filtered_setting_text_) #다시 리스트로 변환\n",
    "    print (filtered_setting_text__) # 중복값 제거 확인\n",
    "    \n",
    "    for i in filtered_setting_text__:\n",
    "        ext_setting_sim_words_key = model.most_similar_cosmul(i) #모델적용\n",
    "    \n",
    "    setting_total_count = len(filtered_setting_text) # 중복이 제거되지 않은 에세이 총 문장에 사용된 setting 표현 수\n",
    "    setting_count_ = len(filtered_setting_text__) #중복제거된 setting표현 총 수\n",
    "        \n",
    "    result_setting_words_ratio = round(setting_total_count/total_words * 100, 2)\n",
    "    return result_setting_words_ratio, total_sentences, total_words, setting_total_count, setting_count_\n"
   ]
  },
  {
   "cell_type": "code",
   "execution_count": 132,
   "metadata": {},
   "outputs": [
    {
     "data": {
      "text/plain": [
       "['asian studies', 'film studies', 'archeology']"
      ]
     },
     "execution_count": 132,
     "metadata": {},
     "output_type": "execute_result"
    }
   ],
   "source": [
    "# 3개의 입력: 전공 3개\n",
    "majors = \"\"\" Asian Studies,Film Studies, Archeology  \"\"\"\n",
    "major_list_ = majors.split(\",\")\n",
    "#소문자로 변환\n",
    "major_list = []\n",
    "for mjl in major_list_:\n",
    "    mjl_ = mjl.lower()\n",
    "    mjl__ = mjl_.strip()\n",
    "    major_list.append(mjl__)\n",
    "\n",
    "major_list\n",
    "\n"
   ]
  },
  {
   "cell_type": "code",
   "execution_count": 133,
   "metadata": {},
   "outputs": [
    {
     "data": {
      "text/plain": [
       "['carnegie international student essay contest', 'extremely selective']"
      ]
     },
     "execution_count": 133,
     "metadata": {},
     "output_type": "execute_result"
    }
   ],
   "source": [
    "# 아래와 같이 입력해야 함, 소문자 처리, 공백처리 완료!\n",
    "#    Chemical Engineering, investment,biomedical  \n",
    "#awards = \"\"\" winner of ABC competition competition, none \"\"\"\n",
    "# 2개의 입력: 수상내역, 성적   carnegie international student essay contest\t    winner of ABC competition competition\n",
    "awards = \"\"\"  carnegie international student essay contest, Extremely Selective\t \"\"\"\n",
    "honor_list_ = awards.split(\",\")\n",
    "#입력 문자를 소문자로 변환\n",
    "honor_list = []\n",
    "for hor in honor_list_:\n",
    "    hor_ = hor.lower()\n",
    "    hor__ = hor_.strip()\n",
    "    honor_list.append(hor__)\n",
    "\n",
    "honor_list"
   ]
  },
  {
   "cell_type": "code",
   "execution_count": 134,
   "metadata": {},
   "outputs": [],
   "source": [
    "#입력된 수상결과(수상관련 문장)가 어떤 리스트에 속하는지 비교(사용자의 선택전공입력 - 사용자의 수상결과 - 시스템에서 관련 전공제안)"
   ]
  },
  {
   "cell_type": "code",
   "execution_count": 135,
   "metadata": {},
   "outputs": [
    {
     "data": {
      "text/html": [
       "<div>\n",
       "<style scoped>\n",
       "    .dataframe tbody tr th:only-of-type {\n",
       "        vertical-align: middle;\n",
       "    }\n",
       "\n",
       "    .dataframe tbody tr th {\n",
       "        vertical-align: top;\n",
       "    }\n",
       "\n",
       "    .dataframe thead th {\n",
       "        text-align: right;\n",
       "    }\n",
       "</style>\n",
       "<table border=\"1\" class=\"dataframe\">\n",
       "  <thead>\n",
       "    <tr style=\"text-align: right;\">\n",
       "      <th></th>\n",
       "      <th>award_title</th>\n",
       "      <th>award_words</th>\n",
       "      <th>major_keywords</th>\n",
       "      <th>vision_contents</th>\n",
       "      <th>prestige</th>\n",
       "      <th>prestige_score</th>\n",
       "      <th>Big Major Category #1</th>\n",
       "      <th>Big Major Category #2</th>\n",
       "      <th>Big Major Category #3</th>\n",
       "      <th>Big Major Category #4</th>\n",
       "    </tr>\n",
       "  </thead>\n",
       "  <tbody>\n",
       "    <tr>\n",
       "      <th>0</th>\n",
       "      <td>all-american high school film festival</td>\n",
       "      <td>NaN</td>\n",
       "      <td>No Extra Match</td>\n",
       "      <td>Y</td>\n",
       "      <td>Extremely Selective</td>\n",
       "      <td>5.0</td>\n",
       "      <td>communication</td>\n",
       "      <td>visualart</td>\n",
       "      <td>NaN</td>\n",
       "      <td>NaN</td>\n",
       "    </tr>\n",
       "    <tr>\n",
       "      <th>1</th>\n",
       "      <td>annual architectural design competition for hi...</td>\n",
       "      <td>Architectural Foundation of San Francisco High...</td>\n",
       "      <td>No Extra Match</td>\n",
       "      <td>Y</td>\n",
       "      <td>Very Selective</td>\n",
       "      <td>4.0</td>\n",
       "      <td>visualart</td>\n",
       "      <td>NaN</td>\n",
       "      <td>NaN</td>\n",
       "      <td>NaN</td>\n",
       "    </tr>\n",
       "    <tr>\n",
       "      <th>2</th>\n",
       "      <td>atlantic and college board writing prize</td>\n",
       "      <td>NaN</td>\n",
       "      <td>No Extra Match</td>\n",
       "      <td>Y</td>\n",
       "      <td>Very Selective</td>\n",
       "      <td>4.0</td>\n",
       "      <td>humanities</td>\n",
       "      <td>NaN</td>\n",
       "      <td>NaN</td>\n",
       "      <td>NaN</td>\n",
       "    </tr>\n",
       "    <tr>\n",
       "      <th>3</th>\n",
       "      <td>ayn rand institute contest</td>\n",
       "      <td>NaN</td>\n",
       "      <td>No Extra Match</td>\n",
       "      <td>Y</td>\n",
       "      <td>Very Selective</td>\n",
       "      <td>4.0</td>\n",
       "      <td>humanities</td>\n",
       "      <td>NaN</td>\n",
       "      <td>NaN</td>\n",
       "      <td>NaN</td>\n",
       "    </tr>\n",
       "    <tr>\n",
       "      <th>4</th>\n",
       "      <td>bennington young writers award</td>\n",
       "      <td>NaN</td>\n",
       "      <td>No Extra Match</td>\n",
       "      <td>Y</td>\n",
       "      <td>Very Selective</td>\n",
       "      <td>4.0</td>\n",
       "      <td>humanities</td>\n",
       "      <td>NaN</td>\n",
       "      <td>NaN</td>\n",
       "      <td>NaN</td>\n",
       "    </tr>\n",
       "    <tr>\n",
       "      <th>...</th>\n",
       "      <td>...</td>\n",
       "      <td>...</td>\n",
       "      <td>...</td>\n",
       "      <td>...</td>\n",
       "      <td>...</td>\n",
       "      <td>...</td>\n",
       "      <td>...</td>\n",
       "      <td>...</td>\n",
       "      <td>...</td>\n",
       "      <td>...</td>\n",
       "    </tr>\n",
       "    <tr>\n",
       "      <th>883</th>\n",
       "      <td>make for change</td>\n",
       "      <td>NaN</td>\n",
       "      <td>No Extra Match</td>\n",
       "      <td>Y</td>\n",
       "      <td>Extremely Selective</td>\n",
       "      <td>5.0</td>\n",
       "      <td>tech/engineering</td>\n",
       "      <td>business</td>\n",
       "      <td>social science</td>\n",
       "      <td>NaN</td>\n",
       "    </tr>\n",
       "    <tr>\n",
       "      <th>884</th>\n",
       "      <td>volunteerthon</td>\n",
       "      <td>NaN</td>\n",
       "      <td>No Extra Match</td>\n",
       "      <td>Y</td>\n",
       "      <td>Extremely Selective</td>\n",
       "      <td>5.0</td>\n",
       "      <td>social science</td>\n",
       "      <td>NaN</td>\n",
       "      <td>NaN</td>\n",
       "      <td>NaN</td>\n",
       "    </tr>\n",
       "    <tr>\n",
       "      <th>885</th>\n",
       "      <td>uci-gati science journal</td>\n",
       "      <td>NaN</td>\n",
       "      <td>No Extra Match</td>\n",
       "      <td>Y</td>\n",
       "      <td>Very Selective</td>\n",
       "      <td>4.0</td>\n",
       "      <td>math/science</td>\n",
       "      <td>tech/engineering</td>\n",
       "      <td>NaN</td>\n",
       "      <td>NaN</td>\n",
       "    </tr>\n",
       "    <tr>\n",
       "      <th>886</th>\n",
       "      <td>wico</td>\n",
       "      <td>World Invention Creativity Olympiad</td>\n",
       "      <td>No Extra Match</td>\n",
       "      <td>Y</td>\n",
       "      <td>Selective</td>\n",
       "      <td>3.0</td>\n",
       "      <td>tech/engineering</td>\n",
       "      <td>NaN</td>\n",
       "      <td>NaN</td>\n",
       "      <td>NaN</td>\n",
       "    </tr>\n",
       "    <tr>\n",
       "      <th>887</th>\n",
       "      <td>ai jam</td>\n",
       "      <td>AI-JAM</td>\n",
       "      <td>No Extra Match</td>\n",
       "      <td>Y</td>\n",
       "      <td>Selective</td>\n",
       "      <td>3.0</td>\n",
       "      <td>tech/engineering</td>\n",
       "      <td>NaN</td>\n",
       "      <td>NaN</td>\n",
       "      <td>NaN</td>\n",
       "    </tr>\n",
       "  </tbody>\n",
       "</table>\n",
       "<p>888 rows × 10 columns</p>\n",
       "</div>"
      ],
      "text/plain": [
       "                                           award_title  \\\n",
       "0               all-american high school film festival   \n",
       "1    annual architectural design competition for hi...   \n",
       "2             atlantic and college board writing prize   \n",
       "3                           ayn rand institute contest   \n",
       "4                       bennington young writers award   \n",
       "..                                                 ...   \n",
       "883                                    make for change   \n",
       "884                                      volunteerthon   \n",
       "885                           uci-gati science journal   \n",
       "886                                               wico   \n",
       "887                                             ai jam   \n",
       "\n",
       "                                           award_words  major_keywords  \\\n",
       "0                                                  NaN  No Extra Match   \n",
       "1    Architectural Foundation of San Francisco High...  No Extra Match   \n",
       "2                                                  NaN  No Extra Match   \n",
       "3                                                  NaN  No Extra Match   \n",
       "4                                                  NaN  No Extra Match   \n",
       "..                                                 ...             ...   \n",
       "883                                                NaN  No Extra Match   \n",
       "884                                                NaN  No Extra Match   \n",
       "885                                                NaN  No Extra Match   \n",
       "886                World Invention Creativity Olympiad  No Extra Match   \n",
       "887                                             AI-JAM  No Extra Match   \n",
       "\n",
       "    vision_contents             prestige  prestige_score  \\\n",
       "0                 Y  Extremely Selective             5.0   \n",
       "1                 Y       Very Selective             4.0   \n",
       "2                 Y       Very Selective             4.0   \n",
       "3                 Y       Very Selective             4.0   \n",
       "4                 Y       Very Selective             4.0   \n",
       "..              ...                  ...             ...   \n",
       "883               Y  Extremely Selective             5.0   \n",
       "884               Y  Extremely Selective             5.0   \n",
       "885               Y       Very Selective             4.0   \n",
       "886               Y            Selective             3.0   \n",
       "887               Y            Selective             3.0   \n",
       "\n",
       "    Big Major Category #1 Big Major Category #2 Big Major Category #3  \\\n",
       "0           communication             visualart                   NaN   \n",
       "1               visualart                   NaN                   NaN   \n",
       "2              humanities                   NaN                   NaN   \n",
       "3              humanities                   NaN                   NaN   \n",
       "4              humanities                   NaN                   NaN   \n",
       "..                    ...                   ...                   ...   \n",
       "883      tech/engineering              business        social science   \n",
       "884        social science                   NaN                   NaN   \n",
       "885          math/science      tech/engineering                   NaN   \n",
       "886      tech/engineering                   NaN                   NaN   \n",
       "887      tech/engineering                   NaN                   NaN   \n",
       "\n",
       "    Big Major Category #4  \n",
       "0                     NaN  \n",
       "1                     NaN  \n",
       "2                     NaN  \n",
       "3                     NaN  \n",
       "4                     NaN  \n",
       "..                    ...  \n",
       "883                   NaN  \n",
       "884                   NaN  \n",
       "885                   NaN  \n",
       "886                   NaN  \n",
       "887                   NaN  \n",
       "\n",
       "[888 rows x 10 columns]"
      ]
     },
     "execution_count": 135,
     "metadata": {},
     "output_type": "execute_result"
    }
   ],
   "source": [
    "import pandas as pd\n",
    "\n",
    "#Awards 데이터 불러오기\n",
    "data_awards = pd.read_csv('awards_list.csv')\n",
    "data_awards['award_title'] = data_awards['award_title'].str.lower() #소문자로 변환해야 타이틀을 비교할 수 있음(매칭되는지)\n",
    "data_awards['Big Major Category #1'] = data_awards['Big Major Category #1'].str.lower()\n",
    "data_awards['Big Major Category #2'] = data_awards['Big Major Category #2'].str.lower()\n",
    "data_awards['Big Major Category #3'] = data_awards['Big Major Category #3'].str.lower()\n",
    "data_awards['Big Major Category #4'] = data_awards['Big Major Category #4'].str.lower()\n",
    "data_awards"
   ]
  },
  {
   "cell_type": "code",
   "execution_count": 136,
   "metadata": {},
   "outputs": [
    {
     "data": {
      "text/html": [
       "<div>\n",
       "<style scoped>\n",
       "    .dataframe tbody tr th:only-of-type {\n",
       "        vertical-align: middle;\n",
       "    }\n",
       "\n",
       "    .dataframe tbody tr th {\n",
       "        vertical-align: top;\n",
       "    }\n",
       "\n",
       "    .dataframe thead th {\n",
       "        text-align: right;\n",
       "    }\n",
       "</style>\n",
       "<table border=\"1\" class=\"dataframe\">\n",
       "  <thead>\n",
       "    <tr style=\"text-align: right;\">\n",
       "      <th></th>\n",
       "      <th>award_title</th>\n",
       "      <th>award_words</th>\n",
       "      <th>major_keywords</th>\n",
       "      <th>vision_contents</th>\n",
       "      <th>prestige</th>\n",
       "      <th>prestige_score</th>\n",
       "      <th>Big Major Category #1</th>\n",
       "      <th>Big Major Category #2</th>\n",
       "      <th>Big Major Category #3</th>\n",
       "      <th>Big Major Category #4</th>\n",
       "    </tr>\n",
       "  </thead>\n",
       "  <tbody>\n",
       "    <tr>\n",
       "      <th>7</th>\n",
       "      <td>carnegie international student essay contest</td>\n",
       "      <td>Carnegie Council</td>\n",
       "      <td>No Extra Match</td>\n",
       "      <td>Y</td>\n",
       "      <td>Extremely Selective</td>\n",
       "      <td>5.0</td>\n",
       "      <td>social_sci</td>\n",
       "      <td>humanities</td>\n",
       "      <td>NaN</td>\n",
       "      <td>NaN</td>\n",
       "    </tr>\n",
       "  </tbody>\n",
       "</table>\n",
       "</div>"
      ],
      "text/plain": [
       "                                    award_title       award_words  \\\n",
       "7  carnegie international student essay contest  Carnegie Council   \n",
       "\n",
       "   major_keywords vision_contents             prestige  prestige_score  \\\n",
       "7  No Extra Match               Y  Extremely Selective             5.0   \n",
       "\n",
       "  Big Major Category #1 Big Major Category #2 Big Major Category #3  \\\n",
       "7            social_sci            humanities                   NaN   \n",
       "\n",
       "  Big Major Category #4  \n",
       "7                   NaN  "
      ]
     },
     "execution_count": 136,
     "metadata": {},
     "output_type": "execute_result"
    }
   ],
   "source": [
    "is_honor_list = data_awards['award_title'] == honor_list[0] # 입력한 결과중 수상내역 문자열 과 데이터프레임의 타이클 컬럼에서 같은 조건\n",
    "re_honor = data_awards[is_honor_list] # 데이터 필터링하여 새로운 변수에 저장\n",
    "re_honor # 결과 출력(여기서 결과가 나오면, 수상내역 출력, 없으면... )"
   ]
  },
  {
   "cell_type": "code",
   "execution_count": 137,
   "metadata": {},
   "outputs": [
    {
     "data": {
      "text/html": [
       "<div>\n",
       "<style scoped>\n",
       "    .dataframe tbody tr th:only-of-type {\n",
       "        vertical-align: middle;\n",
       "    }\n",
       "\n",
       "    .dataframe tbody tr th {\n",
       "        vertical-align: top;\n",
       "    }\n",
       "\n",
       "    .dataframe thead th {\n",
       "        text-align: right;\n",
       "    }\n",
       "</style>\n",
       "<table border=\"1\" class=\"dataframe\">\n",
       "  <thead>\n",
       "    <tr style=\"text-align: right;\">\n",
       "      <th></th>\n",
       "      <th>award_title</th>\n",
       "      <th>prestige_score</th>\n",
       "      <th>Big Major Category #1</th>\n",
       "      <th>Big Major Category #2</th>\n",
       "      <th>Big Major Category #3</th>\n",
       "      <th>Big Major Category #4</th>\n",
       "    </tr>\n",
       "  </thead>\n",
       "  <tbody>\n",
       "    <tr>\n",
       "      <th>7</th>\n",
       "      <td>carnegie international student essay contest</td>\n",
       "      <td>5.0</td>\n",
       "      <td>social_sci</td>\n",
       "      <td>humanities</td>\n",
       "      <td>NaN</td>\n",
       "      <td>NaN</td>\n",
       "    </tr>\n",
       "  </tbody>\n",
       "</table>\n",
       "</div>"
      ],
      "text/plain": [
       "                                    award_title  prestige_score  \\\n",
       "7  carnegie international student essay contest             5.0   \n",
       "\n",
       "  Big Major Category #1 Big Major Category #2 Big Major Category #3  \\\n",
       "7            social_sci            humanities                   NaN   \n",
       "\n",
       "  Big Major Category #4  \n",
       "7                   NaN  "
      ]
     },
     "execution_count": 137,
     "metadata": {},
     "output_type": "execute_result"
    }
   ],
   "source": [
    "award_anaysis_re = re_honor[[\"award_title\",\"prestige_score\",\"Big Major Category #1\",\"Big Major Category #2\",\"Big Major Category #3\",\"Big Major Category #4\"]]\n",
    "award_anaysis_re\n"
   ]
  },
  {
   "cell_type": "code",
   "execution_count": 138,
   "metadata": {},
   "outputs": [],
   "source": [
    "# major fit을 계산하려면 입력한 희망전공 3개를 예: ['mechanical engineering', ' computer science', ' bioligy']\n",
    "\n",
    "# 각 전공을 다음 리스트에서 검색하여 매칭되는 값이 일치(여기서는 business이면) 하면 'FIT',  아니라면 ''NOT FIT 없으면 '?'로 표시\n",
    "\n",
    "\n",
    "tech_eng_ = ['mechanical engineering', 'general Engineering', 'mechanical Engineering', 'Industrial engineering', 'bioengineering',\n",
    "            'operations Research', 'materials Science', 'electrical Engineering', 'computer Science/engineering','computer engineering'\n",
    "            'civil engineering', 'aerospace Engineering', 'chemical Engineering', 'environmental engineering', 'stem', 'steam', 'robotics', \n",
    "            'robots', 'computer', 'computers', 'computer programming', 'programming', 'coding', 'computing', 'mechanical', 'mechanics', \n",
    "            'mechanism', 'ai', 'artificial intelligence', 'sensor', 'environmental engineering', 'environmental technology', \n",
    "            'alternative energy', 'renewable energy', 'material science', 'biomedical', 'biomaterials', 'nanotech', 'pharmaceutical',\n",
    "            'biomechanics', 'biomimicking', 'biomimicry', 'machine', 'bioengineering', 'chemical engineering', 'applied physics', \n",
    "            'operations research', 'civil engineering', 'aerospace', 'system', 'operations research', 'industrial engineering', 'computer Science'\n",
    "            'invention', 'electrical', 'computational']\n",
    "\n",
    "tech_eng = []\n",
    "for i in tech_eng_:\n",
    "    i_ = i.lower()\n",
    "    tech_eng.append(i_)\n",
    "\n",
    "math_sci_ = ['Agriculture', 'Physics', 'Biology', 'Biophysics', 'Biochemistry/Molecular Biology',\n",
    "            'Mathematics', 'Applied Mathematics', 'Nutrition/Food Science', 'Genetics', 'Astronomy/Astrophysics',\n",
    "            'Statistics', 'Chemistry', 'Neuroscience', 'Economics','Nursing','Pre-Med', 'Pre-Veterinary'\n",
    "            'Pharmacy/Pre-Pharmacy', 'Pre-Dental', 'Pharmacy', 'Pre-Pharmacy', 'STEM', 'STEAM', 'Chemistry', 'physics',\n",
    "            'biology', 'bio', 'biochem', 'biochemistry', 'science', 'math', 'mathematics', 'algorithm', 'biophysics', \n",
    "            'applied math', 'genetics', 'scientific', 'astronomy', 'astrophysics', 'statistics', 'neuroscience', 'dental',\n",
    "            'doctor', 'physical', 'medical', 'scientific research', 'Biomaterials', 'material science', 'nutrition', 'clinical',\n",
    "            'earth science', 'environmental science', 'ecology', 'ecological', 'veterinary', 'molecular', 'nanotech', 'biomedical',\n",
    "            'pharmaceutical', 'food science, biotech', 'brain', 'botany', 'botanical', 'immunology', 'immune', 'zoology', 'biomechanics',\n",
    "            'biomimicking', 'biomimicry']\n",
    "\n",
    "math_sci = []\n",
    "for j in math_sci_:\n",
    "    j_ = j.lower()\n",
    "    math_sci.append(j_)\n",
    "    \n",
    "social_sci = ['Economics Asian Studies', 'African Studies','Psychology', \"Women's Studies\",'Anthropology', 'Political Science/Government',\n",
    "                'Political Science', 'Political Government', 'International Relations/Affairs', 'International Relations',\n",
    "                'International Affairs', 'Public Policy/Affairs', 'Public Policy', 'Public Affairs', 'Public Health',\n",
    "                'Environmental Science/Studies', 'Environmental Science', 'Environmental Studies', 'Urban Planning', 'Education',\n",
    "                'Volunteer', 'community', 'community service', 'culture', 'equality', 'service',' social issue', 'social', \n",
    "                'society', 'economic', 'economy', 'SDGs', 'environment', 'policy', 'psychology', 'Asian studies', 'race relations', \n",
    "                'ethnicity', 'ethnic', 'women', 'anthropology', 'politic', 'international relations', 'international affairs',\n",
    "                'diplomacy', 'diplomat', 'public policy', 'public health,' 'inequality', 'geography', 'geographic', 'linguistic', \n",
    "                 'sociology', 'culture', 'urban studies', 'diversity', 'LGBT', 'LGBTQ', 'sustainable', 'sustainability', 'debate',\n",
    "                 'Middle East',' Middle Eastern Studies']\n",
    "\n",
    "social_sci = []\n",
    "for k in social_sci_:\n",
    "    k_ = k.lower()\n",
    "    social_sci.append(k_)\n",
    "\n",
    "humanities_ = ['Archeology', 'Film Studies','German (Language and Literature)','Art History',\n",
    "                'French (Language and Literature)','Spanish','Theology/Religious Studies',\n",
    "                'Linguistics','History','English Language and Literature','Comparative Literature',\n",
    "                'Philosophy','Classical Studies/Latin/Greek', 'English', 'literature', 'history', 'writing', \n",
    "              'heritage', 'essay', 'script', 'culture' ,'humanities', 'poem', 'poet', 'playwright', 'script',\n",
    "              'poetry', 'literary', 'lit', 'writing', 'Spanish', 'German', 'Chinese', 'Italian', 'French', 'Russian', 'literature', \n",
    "              'Latin', 'Greek', 'anthropology', 'archaeology', 'Law', 'ethics', 'film studies']\n",
    "\n",
    "humanities = []\n",
    "for l in humanities_:\n",
    "    l_ = l.lower()\n",
    "    humanities.append(l_)\n",
    "    \n",
    "\n",
    "visualart_ = ['Film&Television', 'Film', 'Television', 'Design (Graphic, Industrial, Computer Graphics)','Graphic Design','Industral Design', \n",
    "             'Computer Graphics', 'Fashion Design', 'Photography', 'Architecture', 'Movie', 'visual', 'music', 'art', 'arts', 'performing', \n",
    "             'paint', 'painting',' visual arts', 'design', 'draw', 'drawing', 'graphic', 'architecture', 'architect', 'film', 'sculpture',\n",
    "             'artwork', 'fine art']\n",
    "\n",
    "visualart = []\n",
    "for m in visualart_:\n",
    "    m_ = m.lower()\n",
    "    visualart.append(m_)\n",
    "    \n",
    "\n",
    "business_ = ['Business', 'Finance', 'Accounting', 'Marketing', 'Intl', 'Biz','International Business','Mgmt.', 'Info Systems', \n",
    "            'Hotel/Hospitality Management', 'Hotel Management', 'Hospitality Management', 'Business', 'start up', 'start-up',\n",
    "            'entrepreneur', 'entrepreneurship', 'investment', 'invest', 'business plan', 'finance', 'marketing',' organizational behavior',\n",
    "            'logistics', 'management', 'managing', 'social entrepreneur', 'social enterprise', 'accounting', 'managerial', 'MIS', \n",
    "            'Management Information Systems', 'Hotel management', 'hospitality']\n",
    "\n",
    "business = []\n",
    "for o in business_:\n",
    "    o_ = o.lower()\n",
    "    business.append(o_)\n",
    "    \n",
    "\n",
    "music_ = ['Music (Performance)', 'Music', 'Music Theory']\n",
    "\n",
    "music = []\n",
    "for p in music_:\n",
    "    p_ = p.lower()\n",
    "    music.append(p_)\n",
    "    \n",
    "\n",
    "performing_arts_ = ['performing arts','performance', 'dance', 'Movie', 'music', 'musical', 'theater', 'theatre', 'opera', 'thespian', 'song',\n",
    "                   'sing', 'vocal', 'drama', 'orchestra', 'band', 'acting', 'acrobatics', 'ballet','circus', 'magic', 'mime', 'puppetry',\n",
    "                   'ventriloquism', 'spoken word', 'stand-up comedy', 'Chinese opera', 'pansori', 'chamber music', 'cabaret', \n",
    "                   'jazz band', 'big band', 'Bharatanatyam', 'Gamelan semar pegulingan', 'Shōmyō', 'Odissi', 'Cantonese opera']\n",
    "\n",
    "performing_arts = []\n",
    "for q in performing_arts_:\n",
    "    q_ = q.lower()\n",
    "    performing_arts.append(q_)\n",
    "\n",
    "communication_ = ['Documentary', 'SNS', 'Social Network', 'PR', 'public relations', 'advertisement', 'advertising', 'movie', 'film', 'news',\n",
    "                 'journalism', 'newspaper', 'debate', 'speech', 'newspaper', 'media', 'communication']\n",
    "\n",
    "communication = []\n",
    "for r in communication_:\n",
    "    r_ = r.lower()\n",
    "    communication.append(r_)"
   ]
  },
  {
   "cell_type": "code",
   "execution_count": 139,
   "metadata": {},
   "outputs": [
    {
     "data": {
      "text/plain": [
       "['asian studies', 'film studies', 'archeology']"
      ]
     },
     "execution_count": 139,
     "metadata": {},
     "output_type": "execute_result"
    }
   ],
   "source": [
    "major_list"
   ]
  },
  {
   "cell_type": "code",
   "execution_count": 140,
   "metadata": {},
   "outputs": [
    {
     "data": {
      "text/html": [
       "<div>\n",
       "<style scoped>\n",
       "    .dataframe tbody tr th:only-of-type {\n",
       "        vertical-align: middle;\n",
       "    }\n",
       "\n",
       "    .dataframe tbody tr th {\n",
       "        vertical-align: top;\n",
       "    }\n",
       "\n",
       "    .dataframe thead th {\n",
       "        text-align: right;\n",
       "    }\n",
       "</style>\n",
       "<table border=\"1\" class=\"dataframe\">\n",
       "  <thead>\n",
       "    <tr style=\"text-align: right;\">\n",
       "      <th></th>\n",
       "      <th>major</th>\n",
       "      <th>main_major</th>\n",
       "    </tr>\n",
       "  </thead>\n",
       "  <tbody>\n",
       "    <tr>\n",
       "      <th>0</th>\n",
       "      <td>mechanical engineering</td>\n",
       "      <td>tech_eng</td>\n",
       "    </tr>\n",
       "    <tr>\n",
       "      <th>1</th>\n",
       "      <td>general engineering</td>\n",
       "      <td>tech_eng</td>\n",
       "    </tr>\n",
       "    <tr>\n",
       "      <th>2</th>\n",
       "      <td>mechanical engineering</td>\n",
       "      <td>tech_eng</td>\n",
       "    </tr>\n",
       "    <tr>\n",
       "      <th>3</th>\n",
       "      <td>industrial engineering</td>\n",
       "      <td>tech_eng</td>\n",
       "    </tr>\n",
       "    <tr>\n",
       "      <th>4</th>\n",
       "      <td>bioengineering</td>\n",
       "      <td>tech_eng</td>\n",
       "    </tr>\n",
       "  </tbody>\n",
       "</table>\n",
       "</div>"
      ],
      "text/plain": [
       "                    major main_major\n",
       "0  mechanical engineering   tech_eng\n",
       "1     general engineering   tech_eng\n",
       "2  mechanical engineering   tech_eng\n",
       "3  industrial engineering   tech_eng\n",
       "4          bioengineering   tech_eng"
      ]
     },
     "execution_count": 140,
     "metadata": {},
     "output_type": "execute_result"
    }
   ],
   "source": [
    "df_a = pd.DataFrame(tech_eng, columns=[\"major\"])\n",
    "df_a[\"main_major\"] = \"tech_eng\"\n",
    "df_a[:5]"
   ]
  },
  {
   "cell_type": "code",
   "execution_count": 141,
   "metadata": {},
   "outputs": [
    {
     "data": {
      "text/html": [
       "<div>\n",
       "<style scoped>\n",
       "    .dataframe tbody tr th:only-of-type {\n",
       "        vertical-align: middle;\n",
       "    }\n",
       "\n",
       "    .dataframe tbody tr th {\n",
       "        vertical-align: top;\n",
       "    }\n",
       "\n",
       "    .dataframe thead th {\n",
       "        text-align: right;\n",
       "    }\n",
       "</style>\n",
       "<table border=\"1\" class=\"dataframe\">\n",
       "  <thead>\n",
       "    <tr style=\"text-align: right;\">\n",
       "      <th></th>\n",
       "      <th>major</th>\n",
       "      <th>main_major</th>\n",
       "    </tr>\n",
       "  </thead>\n",
       "  <tbody>\n",
       "    <tr>\n",
       "      <th>0</th>\n",
       "      <td>agriculture</td>\n",
       "      <td>math_sci</td>\n",
       "    </tr>\n",
       "    <tr>\n",
       "      <th>1</th>\n",
       "      <td>physics</td>\n",
       "      <td>math_sci</td>\n",
       "    </tr>\n",
       "    <tr>\n",
       "      <th>2</th>\n",
       "      <td>biology</td>\n",
       "      <td>math_sci</td>\n",
       "    </tr>\n",
       "    <tr>\n",
       "      <th>3</th>\n",
       "      <td>biophysics</td>\n",
       "      <td>math_sci</td>\n",
       "    </tr>\n",
       "    <tr>\n",
       "      <th>4</th>\n",
       "      <td>biochemistry/molecular biology</td>\n",
       "      <td>math_sci</td>\n",
       "    </tr>\n",
       "  </tbody>\n",
       "</table>\n",
       "</div>"
      ],
      "text/plain": [
       "                            major main_major\n",
       "0                     agriculture   math_sci\n",
       "1                         physics   math_sci\n",
       "2                         biology   math_sci\n",
       "3                      biophysics   math_sci\n",
       "4  biochemistry/molecular biology   math_sci"
      ]
     },
     "execution_count": 141,
     "metadata": {},
     "output_type": "execute_result"
    }
   ],
   "source": [
    "df_b = pd.DataFrame(math_sci, columns=[\"major\"])\n",
    "df_b[\"main_major\"] = \"math_sci\"\n",
    "df_b[:5]"
   ]
  },
  {
   "cell_type": "code",
   "execution_count": 142,
   "metadata": {},
   "outputs": [
    {
     "data": {
      "text/html": [
       "<div>\n",
       "<style scoped>\n",
       "    .dataframe tbody tr th:only-of-type {\n",
       "        vertical-align: middle;\n",
       "    }\n",
       "\n",
       "    .dataframe tbody tr th {\n",
       "        vertical-align: top;\n",
       "    }\n",
       "\n",
       "    .dataframe thead th {\n",
       "        text-align: right;\n",
       "    }\n",
       "</style>\n",
       "<table border=\"1\" class=\"dataframe\">\n",
       "  <thead>\n",
       "    <tr style=\"text-align: right;\">\n",
       "      <th></th>\n",
       "      <th>major</th>\n",
       "      <th>main_major</th>\n",
       "    </tr>\n",
       "  </thead>\n",
       "  <tbody>\n",
       "    <tr>\n",
       "      <th>0</th>\n",
       "      <td>economics asian studies</td>\n",
       "      <td>social_sci</td>\n",
       "    </tr>\n",
       "    <tr>\n",
       "      <th>1</th>\n",
       "      <td>african studies</td>\n",
       "      <td>social_sci</td>\n",
       "    </tr>\n",
       "    <tr>\n",
       "      <th>2</th>\n",
       "      <td>psychology</td>\n",
       "      <td>social_sci</td>\n",
       "    </tr>\n",
       "    <tr>\n",
       "      <th>3</th>\n",
       "      <td>women's studies</td>\n",
       "      <td>social_sci</td>\n",
       "    </tr>\n",
       "    <tr>\n",
       "      <th>4</th>\n",
       "      <td>anthropology</td>\n",
       "      <td>social_sci</td>\n",
       "    </tr>\n",
       "  </tbody>\n",
       "</table>\n",
       "</div>"
      ],
      "text/plain": [
       "                     major  main_major\n",
       "0  economics asian studies  social_sci\n",
       "1          african studies  social_sci\n",
       "2               psychology  social_sci\n",
       "3          women's studies  social_sci\n",
       "4             anthropology  social_sci"
      ]
     },
     "execution_count": 142,
     "metadata": {},
     "output_type": "execute_result"
    }
   ],
   "source": [
    "df_c = pd.DataFrame(social_sci, columns=[\"major\"])\n",
    "df_c[\"main_major\"] = \"social_sci\"\n",
    "df_c[:5]"
   ]
  },
  {
   "cell_type": "code",
   "execution_count": 143,
   "metadata": {},
   "outputs": [
    {
     "data": {
      "text/html": [
       "<div>\n",
       "<style scoped>\n",
       "    .dataframe tbody tr th:only-of-type {\n",
       "        vertical-align: middle;\n",
       "    }\n",
       "\n",
       "    .dataframe tbody tr th {\n",
       "        vertical-align: top;\n",
       "    }\n",
       "\n",
       "    .dataframe thead th {\n",
       "        text-align: right;\n",
       "    }\n",
       "</style>\n",
       "<table border=\"1\" class=\"dataframe\">\n",
       "  <thead>\n",
       "    <tr style=\"text-align: right;\">\n",
       "      <th></th>\n",
       "      <th>major</th>\n",
       "      <th>main_major</th>\n",
       "    </tr>\n",
       "  </thead>\n",
       "  <tbody>\n",
       "    <tr>\n",
       "      <th>0</th>\n",
       "      <td>archeology</td>\n",
       "      <td>humanities</td>\n",
       "    </tr>\n",
       "    <tr>\n",
       "      <th>1</th>\n",
       "      <td>film studies</td>\n",
       "      <td>humanities</td>\n",
       "    </tr>\n",
       "    <tr>\n",
       "      <th>2</th>\n",
       "      <td>german (language and literature)</td>\n",
       "      <td>humanities</td>\n",
       "    </tr>\n",
       "    <tr>\n",
       "      <th>3</th>\n",
       "      <td>art history</td>\n",
       "      <td>humanities</td>\n",
       "    </tr>\n",
       "    <tr>\n",
       "      <th>4</th>\n",
       "      <td>french (language and literature)</td>\n",
       "      <td>humanities</td>\n",
       "    </tr>\n",
       "  </tbody>\n",
       "</table>\n",
       "</div>"
      ],
      "text/plain": [
       "                              major  main_major\n",
       "0                        archeology  humanities\n",
       "1                      film studies  humanities\n",
       "2  german (language and literature)  humanities\n",
       "3                       art history  humanities\n",
       "4  french (language and literature)  humanities"
      ]
     },
     "execution_count": 143,
     "metadata": {},
     "output_type": "execute_result"
    }
   ],
   "source": [
    "df_d = pd.DataFrame(humanities, columns=[\"major\"])\n",
    "df_d[\"main_major\"] = \"humanities\"\n",
    "df_d[:5]"
   ]
  },
  {
   "cell_type": "code",
   "execution_count": 144,
   "metadata": {},
   "outputs": [
    {
     "data": {
      "text/html": [
       "<div>\n",
       "<style scoped>\n",
       "    .dataframe tbody tr th:only-of-type {\n",
       "        vertical-align: middle;\n",
       "    }\n",
       "\n",
       "    .dataframe tbody tr th {\n",
       "        vertical-align: top;\n",
       "    }\n",
       "\n",
       "    .dataframe thead th {\n",
       "        text-align: right;\n",
       "    }\n",
       "</style>\n",
       "<table border=\"1\" class=\"dataframe\">\n",
       "  <thead>\n",
       "    <tr style=\"text-align: right;\">\n",
       "      <th></th>\n",
       "      <th>major</th>\n",
       "      <th>main_major</th>\n",
       "    </tr>\n",
       "  </thead>\n",
       "  <tbody>\n",
       "    <tr>\n",
       "      <th>0</th>\n",
       "      <td>business</td>\n",
       "      <td>business</td>\n",
       "    </tr>\n",
       "    <tr>\n",
       "      <th>1</th>\n",
       "      <td>finance</td>\n",
       "      <td>business</td>\n",
       "    </tr>\n",
       "    <tr>\n",
       "      <th>2</th>\n",
       "      <td>accounting</td>\n",
       "      <td>business</td>\n",
       "    </tr>\n",
       "    <tr>\n",
       "      <th>3</th>\n",
       "      <td>marketing</td>\n",
       "      <td>business</td>\n",
       "    </tr>\n",
       "    <tr>\n",
       "      <th>4</th>\n",
       "      <td>intl</td>\n",
       "      <td>business</td>\n",
       "    </tr>\n",
       "  </tbody>\n",
       "</table>\n",
       "</div>"
      ],
      "text/plain": [
       "        major main_major\n",
       "0    business   business\n",
       "1     finance   business\n",
       "2  accounting   business\n",
       "3   marketing   business\n",
       "4        intl   business"
      ]
     },
     "execution_count": 144,
     "metadata": {},
     "output_type": "execute_result"
    }
   ],
   "source": [
    "df_e = pd.DataFrame(business, columns=[\"major\"])\n",
    "df_e[\"main_major\"] = \"business\"\n",
    "df_e[:5]"
   ]
  },
  {
   "cell_type": "code",
   "execution_count": 145,
   "metadata": {},
   "outputs": [
    {
     "data": {
      "text/html": [
       "<div>\n",
       "<style scoped>\n",
       "    .dataframe tbody tr th:only-of-type {\n",
       "        vertical-align: middle;\n",
       "    }\n",
       "\n",
       "    .dataframe tbody tr th {\n",
       "        vertical-align: top;\n",
       "    }\n",
       "\n",
       "    .dataframe thead th {\n",
       "        text-align: right;\n",
       "    }\n",
       "</style>\n",
       "<table border=\"1\" class=\"dataframe\">\n",
       "  <thead>\n",
       "    <tr style=\"text-align: right;\">\n",
       "      <th></th>\n",
       "      <th>major</th>\n",
       "      <th>main_major</th>\n",
       "    </tr>\n",
       "  </thead>\n",
       "  <tbody>\n",
       "    <tr>\n",
       "      <th>0</th>\n",
       "      <td>music (performance)</td>\n",
       "      <td>music</td>\n",
       "    </tr>\n",
       "    <tr>\n",
       "      <th>1</th>\n",
       "      <td>music</td>\n",
       "      <td>music</td>\n",
       "    </tr>\n",
       "    <tr>\n",
       "      <th>2</th>\n",
       "      <td>music theory</td>\n",
       "      <td>music</td>\n",
       "    </tr>\n",
       "  </tbody>\n",
       "</table>\n",
       "</div>"
      ],
      "text/plain": [
       "                 major main_major\n",
       "0  music (performance)      music\n",
       "1                music      music\n",
       "2         music theory      music"
      ]
     },
     "execution_count": 145,
     "metadata": {},
     "output_type": "execute_result"
    }
   ],
   "source": [
    "df_f = pd.DataFrame(music, columns=[\"major\"])\n",
    "df_f[\"main_major\"] = \"music\"\n",
    "df_f[:5]"
   ]
  },
  {
   "cell_type": "code",
   "execution_count": 146,
   "metadata": {},
   "outputs": [
    {
     "data": {
      "text/html": [
       "<div>\n",
       "<style scoped>\n",
       "    .dataframe tbody tr th:only-of-type {\n",
       "        vertical-align: middle;\n",
       "    }\n",
       "\n",
       "    .dataframe tbody tr th {\n",
       "        vertical-align: top;\n",
       "    }\n",
       "\n",
       "    .dataframe thead th {\n",
       "        text-align: right;\n",
       "    }\n",
       "</style>\n",
       "<table border=\"1\" class=\"dataframe\">\n",
       "  <thead>\n",
       "    <tr style=\"text-align: right;\">\n",
       "      <th></th>\n",
       "      <th>major</th>\n",
       "      <th>main_major</th>\n",
       "    </tr>\n",
       "  </thead>\n",
       "  <tbody>\n",
       "    <tr>\n",
       "      <th>0</th>\n",
       "      <td>performing arts</td>\n",
       "      <td>performing_arts</td>\n",
       "    </tr>\n",
       "    <tr>\n",
       "      <th>1</th>\n",
       "      <td>performance</td>\n",
       "      <td>performing_arts</td>\n",
       "    </tr>\n",
       "    <tr>\n",
       "      <th>2</th>\n",
       "      <td>dance</td>\n",
       "      <td>performing_arts</td>\n",
       "    </tr>\n",
       "    <tr>\n",
       "      <th>3</th>\n",
       "      <td>movie</td>\n",
       "      <td>performing_arts</td>\n",
       "    </tr>\n",
       "    <tr>\n",
       "      <th>4</th>\n",
       "      <td>music</td>\n",
       "      <td>performing_arts</td>\n",
       "    </tr>\n",
       "  </tbody>\n",
       "</table>\n",
       "</div>"
      ],
      "text/plain": [
       "             major       main_major\n",
       "0  performing arts  performing_arts\n",
       "1      performance  performing_arts\n",
       "2            dance  performing_arts\n",
       "3            movie  performing_arts\n",
       "4            music  performing_arts"
      ]
     },
     "execution_count": 146,
     "metadata": {},
     "output_type": "execute_result"
    }
   ],
   "source": [
    "df_g = pd.DataFrame(performing_arts, columns=[\"major\"])\n",
    "df_g[\"main_major\"] = \"performing_arts\"\n",
    "df_g[:5]"
   ]
  },
  {
   "cell_type": "code",
   "execution_count": 147,
   "metadata": {},
   "outputs": [
    {
     "data": {
      "text/html": [
       "<div>\n",
       "<style scoped>\n",
       "    .dataframe tbody tr th:only-of-type {\n",
       "        vertical-align: middle;\n",
       "    }\n",
       "\n",
       "    .dataframe tbody tr th {\n",
       "        vertical-align: top;\n",
       "    }\n",
       "\n",
       "    .dataframe thead th {\n",
       "        text-align: right;\n",
       "    }\n",
       "</style>\n",
       "<table border=\"1\" class=\"dataframe\">\n",
       "  <thead>\n",
       "    <tr style=\"text-align: right;\">\n",
       "      <th></th>\n",
       "      <th>major</th>\n",
       "      <th>main_major</th>\n",
       "    </tr>\n",
       "  </thead>\n",
       "  <tbody>\n",
       "    <tr>\n",
       "      <th>0</th>\n",
       "      <td>documentary</td>\n",
       "      <td>communication</td>\n",
       "    </tr>\n",
       "    <tr>\n",
       "      <th>1</th>\n",
       "      <td>sns</td>\n",
       "      <td>communication</td>\n",
       "    </tr>\n",
       "    <tr>\n",
       "      <th>2</th>\n",
       "      <td>social network</td>\n",
       "      <td>communication</td>\n",
       "    </tr>\n",
       "    <tr>\n",
       "      <th>3</th>\n",
       "      <td>pr</td>\n",
       "      <td>communication</td>\n",
       "    </tr>\n",
       "    <tr>\n",
       "      <th>4</th>\n",
       "      <td>public relations</td>\n",
       "      <td>communication</td>\n",
       "    </tr>\n",
       "  </tbody>\n",
       "</table>\n",
       "</div>"
      ],
      "text/plain": [
       "              major     main_major\n",
       "0       documentary  communication\n",
       "1               sns  communication\n",
       "2    social network  communication\n",
       "3                pr  communication\n",
       "4  public relations  communication"
      ]
     },
     "execution_count": 147,
     "metadata": {},
     "output_type": "execute_result"
    }
   ],
   "source": [
    "df_h = pd.DataFrame(communication, columns=[\"major\"])\n",
    "df_h[\"main_major\"] = \"communication\"\n",
    "df_h[:5]"
   ]
  },
  {
   "cell_type": "code",
   "execution_count": 148,
   "metadata": {},
   "outputs": [
    {
     "data": {
      "text/html": [
       "<div>\n",
       "<style scoped>\n",
       "    .dataframe tbody tr th:only-of-type {\n",
       "        vertical-align: middle;\n",
       "    }\n",
       "\n",
       "    .dataframe tbody tr th {\n",
       "        vertical-align: top;\n",
       "    }\n",
       "\n",
       "    .dataframe thead th {\n",
       "        text-align: right;\n",
       "    }\n",
       "</style>\n",
       "<table border=\"1\" class=\"dataframe\">\n",
       "  <thead>\n",
       "    <tr style=\"text-align: right;\">\n",
       "      <th></th>\n",
       "      <th>major</th>\n",
       "      <th>main_major</th>\n",
       "    </tr>\n",
       "  </thead>\n",
       "  <tbody>\n",
       "    <tr>\n",
       "      <th>0</th>\n",
       "      <td>mechanical engineering</td>\n",
       "      <td>tech_eng</td>\n",
       "    </tr>\n",
       "    <tr>\n",
       "      <th>1</th>\n",
       "      <td>general engineering</td>\n",
       "      <td>tech_eng</td>\n",
       "    </tr>\n",
       "    <tr>\n",
       "      <th>2</th>\n",
       "      <td>mechanical engineering</td>\n",
       "      <td>tech_eng</td>\n",
       "    </tr>\n",
       "    <tr>\n",
       "      <th>3</th>\n",
       "      <td>industrial engineering</td>\n",
       "      <td>tech_eng</td>\n",
       "    </tr>\n",
       "    <tr>\n",
       "      <th>4</th>\n",
       "      <td>bioengineering</td>\n",
       "      <td>tech_eng</td>\n",
       "    </tr>\n",
       "    <tr>\n",
       "      <th>...</th>\n",
       "      <td>...</td>\n",
       "      <td>...</td>\n",
       "    </tr>\n",
       "    <tr>\n",
       "      <th>12</th>\n",
       "      <td>debate</td>\n",
       "      <td>communication</td>\n",
       "    </tr>\n",
       "    <tr>\n",
       "      <th>13</th>\n",
       "      <td>speech</td>\n",
       "      <td>communication</td>\n",
       "    </tr>\n",
       "    <tr>\n",
       "      <th>14</th>\n",
       "      <td>newspaper</td>\n",
       "      <td>communication</td>\n",
       "    </tr>\n",
       "    <tr>\n",
       "      <th>15</th>\n",
       "      <td>media</td>\n",
       "      <td>communication</td>\n",
       "    </tr>\n",
       "    <tr>\n",
       "      <th>16</th>\n",
       "      <td>communication</td>\n",
       "      <td>communication</td>\n",
       "    </tr>\n",
       "  </tbody>\n",
       "</table>\n",
       "<p>319 rows × 2 columns</p>\n",
       "</div>"
      ],
      "text/plain": [
       "                     major     main_major\n",
       "0   mechanical engineering       tech_eng\n",
       "1      general engineering       tech_eng\n",
       "2   mechanical engineering       tech_eng\n",
       "3   industrial engineering       tech_eng\n",
       "4           bioengineering       tech_eng\n",
       "..                     ...            ...\n",
       "12                  debate  communication\n",
       "13                  speech  communication\n",
       "14               newspaper  communication\n",
       "15                   media  communication\n",
       "16           communication  communication\n",
       "\n",
       "[319 rows x 2 columns]"
      ]
     },
     "execution_count": 148,
     "metadata": {},
     "output_type": "execute_result"
    }
   ],
   "source": [
    "# 전공별 데이터와 주 전공을 하나의 데이터프레임으로 합친다. \n",
    "total_major_df = pd.concat([df_a,df_b,df_c,df_d,df_e,df_f,df_g,df_h])\n",
    "total_major_df"
   ]
  },
  {
   "cell_type": "code",
   "execution_count": 149,
   "metadata": {},
   "outputs": [
    {
     "data": {
      "text/plain": [
       "['asian studies', 'film studies', 'archeology']"
      ]
     },
     "execution_count": 149,
     "metadata": {},
     "output_type": "execute_result"
    }
   ],
   "source": [
    "#이제 main_major에서 관련 전공을 선택하고, 어떤 분야의 main_major인지 매칭해서 fit, not fit, ? 를 구분한다.\n",
    "major_list # 다시 확인. 그리고나서 이것을 total_major_df에서 검색을 한다.  매칭되면 main_major와 fit한지 판단. "
   ]
  },
  {
   "cell_type": "code",
   "execution_count": 150,
   "metadata": {},
   "outputs": [
    {
     "data": {
      "text/plain": [
       "['carnegie international student essay contest', 'extremely selective']"
      ]
     },
     "execution_count": 150,
     "metadata": {},
     "output_type": "execute_result"
    }
   ],
   "source": [
    "honor_list # 다시 확인  이것은 수상한 내용임."
   ]
  },
  {
   "cell_type": "code",
   "execution_count": 151,
   "metadata": {},
   "outputs": [
    {
     "data": {
      "text/html": [
       "<div>\n",
       "<style scoped>\n",
       "    .dataframe tbody tr th:only-of-type {\n",
       "        vertical-align: middle;\n",
       "    }\n",
       "\n",
       "    .dataframe tbody tr th {\n",
       "        vertical-align: top;\n",
       "    }\n",
       "\n",
       "    .dataframe thead th {\n",
       "        text-align: right;\n",
       "    }\n",
       "</style>\n",
       "<table border=\"1\" class=\"dataframe\">\n",
       "  <thead>\n",
       "    <tr style=\"text-align: right;\">\n",
       "      <th></th>\n",
       "      <th>award_title</th>\n",
       "      <th>prestige_score</th>\n",
       "      <th>Big Major Category #1</th>\n",
       "      <th>Big Major Category #2</th>\n",
       "      <th>Big Major Category #3</th>\n",
       "      <th>Big Major Category #4</th>\n",
       "    </tr>\n",
       "  </thead>\n",
       "  <tbody>\n",
       "    <tr>\n",
       "      <th>7</th>\n",
       "      <td>carnegie international student essay contest</td>\n",
       "      <td>5.0</td>\n",
       "      <td>social_sci</td>\n",
       "      <td>humanities</td>\n",
       "      <td>NaN</td>\n",
       "      <td>NaN</td>\n",
       "    </tr>\n",
       "  </tbody>\n",
       "</table>\n",
       "</div>"
      ],
      "text/plain": [
       "                                    award_title  prestige_score  \\\n",
       "7  carnegie international student essay contest             5.0   \n",
       "\n",
       "  Big Major Category #1 Big Major Category #2 Big Major Category #3  \\\n",
       "7            social_sci            humanities                   NaN   \n",
       "\n",
       "  Big Major Category #4  \n",
       "7                   NaN  "
      ]
     },
     "execution_count": 151,
     "metadata": {},
     "output_type": "execute_result"
    }
   ],
   "source": [
    "award_anaysis_re  #다시확인.. 이것도 추출한 내용임 여기서, 주목해야 할 것은 Big Major Category #1 의 Business 임. \n",
    "#이 상은 Business와 관련성이 있다는 의미임\n",
    "#이 결과를 total_major_df에서 major 에서 원하는 전공을 main_major에서 찾아본 후, \n",
    "# main_major에 business 가 있다면 fit, 아니면 not fit, 없다면 ? 으로 처리"
   ]
  },
  {
   "cell_type": "code",
   "execution_count": 152,
   "metadata": {},
   "outputs": [
    {
     "data": {
      "text/plain": [
       "7    social_sci\n",
       "Name: Big Major Category #1, dtype: object"
      ]
     },
     "execution_count": 152,
     "metadata": {},
     "output_type": "execute_result"
    }
   ],
   "source": [
    "# 우선 Big Major Category #1 를 확인해보자. \n",
    "award_anaysis_re[\"Big Major Category #1\"]"
   ]
  },
  {
   "cell_type": "code",
   "execution_count": 153,
   "metadata": {},
   "outputs": [],
   "source": [
    "#추출한 결과를 리스트에 저장\n",
    "major_ctgs_ =[]\n",
    "major_ctg = list(award_anaysis_re[\"Big Major Category #1\"])\n",
    "major_ctgs_.append(major_ctg)\n",
    "major_ctg = list(award_anaysis_re[\"Big Major Category #2\"])\n",
    "major_ctgs_.append(major_ctg)\n",
    "major_ctg = list(award_anaysis_re[\"Big Major Category #3\"])\n",
    "major_ctgs_.append(major_ctg)\n",
    "major_ctg = list(award_anaysis_re[\"Big Major Category #4\"])\n",
    "major_ctgs_.append(major_ctg)"
   ]
  },
  {
   "cell_type": "code",
   "execution_count": 154,
   "metadata": {},
   "outputs": [],
   "source": [
    " major_ctgs = [y for x in major_ctgs_ for y in x]"
   ]
  },
  {
   "cell_type": "code",
   "execution_count": 155,
   "metadata": {},
   "outputs": [
    {
     "data": {
      "text/plain": [
       "['social_sci', 'humanities', nan, nan]"
      ]
     },
     "execution_count": 155,
     "metadata": {},
     "output_type": "execute_result"
    }
   ],
   "source": [
    " major_ctgs"
   ]
  },
  {
   "cell_type": "code",
   "execution_count": null,
   "metadata": {},
   "outputs": [],
   "source": []
  },
  {
   "cell_type": "code",
   "execution_count": 156,
   "metadata": {},
   "outputs": [],
   "source": [
    "#total_major_df[total_major_df['major'] == 'agriculture'] # 테스트.. 잘 찾아지는구만"
   ]
  },
  {
   "cell_type": "code",
   "execution_count": 157,
   "metadata": {},
   "outputs": [
    {
     "name": "stdout",
     "output_type": "stream",
     "text": [
      "            major  main_major\n",
      "35  asian studies  social_sci\n",
      "           major  main_major\n",
      "1   film studies  humanities\n",
      "43  film studies  humanities\n",
      "        major  main_major\n",
      "0  archeology  humanities\n"
     ]
    }
   ],
   "source": [
    "# 원하는 전공 리스트의 값을 데이터프레임 total_major_df에서 찾아보자\n",
    "fit_analysis_list = []\n",
    "for search_major in major_list:\n",
    "    \n",
    "    re__ = total_major_df[total_major_df['major'] == search_major]  # 데이터프레임에 찾고자하는 전공이 있다면\n",
    "    print (re__) # 결과물을 리스트에 저장해보자\n",
    "    fit_analysis_list.append(re__)\n",
    "\n"
   ]
  },
  {
   "cell_type": "code",
   "execution_count": 158,
   "metadata": {},
   "outputs": [
    {
     "data": {
      "text/plain": [
       "[            major  main_major\n",
       " 35  asian studies  social_sci,\n",
       "            major  main_major\n",
       " 1   film studies  humanities\n",
       " 43  film studies  humanities,\n",
       "         major  main_major\n",
       " 0  archeology  humanities]"
      ]
     },
     "execution_count": 158,
     "metadata": {},
     "output_type": "execute_result"
    }
   ],
   "source": [
    "fit_analysis_list"
   ]
  },
  {
   "cell_type": "code",
   "execution_count": 159,
   "metadata": {},
   "outputs": [
    {
     "data": {
      "text/plain": [
       "'            major  main_major\\n35  asian studies  social_sci            major  main_major\\n1   film studies  humanities\\n43  film studies  humanities         major  main_major\\n0  archeology  humanities'"
      ]
     },
     "execution_count": 159,
     "metadata": {},
     "output_type": "execute_result"
    }
   ],
   "source": [
    "#fit_analysis_list 를 문자로 만들어서 개별 리스트로 만들자\n",
    "s =\" \".join(map(str, fit_analysis_list))\n",
    "s"
   ]
  },
  {
   "cell_type": "code",
   "execution_count": 160,
   "metadata": {},
   "outputs": [
    {
     "data": {
      "text/plain": [
       "str"
      ]
     },
     "execution_count": 160,
     "metadata": {},
     "output_type": "execute_result"
    }
   ],
   "source": [
    "type(s) #타입확인"
   ]
  },
  {
   "cell_type": "code",
   "execution_count": 174,
   "metadata": {},
   "outputs": [
    {
     "data": {
      "text/plain": [
       "['major',\n",
       " 'main_major',\n",
       " '35',\n",
       " 'asian',\n",
       " 'studies',\n",
       " 'social_sci',\n",
       " 'major',\n",
       " 'main_major',\n",
       " '1',\n",
       " 'film',\n",
       " 'studies',\n",
       " 'humanities',\n",
       " '43',\n",
       " 'film',\n",
       " 'studies',\n",
       " 'humanities',\n",
       " 'major',\n",
       " 'main_major',\n",
       " '0',\n",
       " 'archeology',\n",
       " 'humanities']"
      ]
     },
     "execution_count": 174,
     "metadata": {},
     "output_type": "execute_result"
    }
   ],
   "source": [
    "fit_list_str = s.split()               # str을 공란()으로 쪼갬   \n",
    "fit_list_str"
   ]
  },
  {
   "cell_type": "code",
   "execution_count": 176,
   "metadata": {},
   "outputs": [
    {
     "name": "stdout",
     "output_type": "stream",
     "text": [
      "not sure\n",
      "not sure\n",
      "not sure\n",
      "not sure\n",
      "not sure\n",
      "not sure\n",
      "not sure\n",
      "not sure\n",
      "not sure\n",
      "not sure\n",
      "not sure\n",
      "not sure\n",
      "not sure\n",
      "not sure\n",
      "not sure\n",
      "not sure\n",
      "not sure\n",
      "not sure\n",
      "not sure\n",
      "not sure\n",
      "fit\n",
      "not sure\n",
      "not sure\n",
      "not sure\n",
      "not sure\n",
      "not sure\n",
      "not sure\n",
      "not sure\n",
      "not sure\n",
      "not sure\n",
      "not sure\n",
      "not sure\n",
      "not sure\n",
      "not sure\n",
      "not sure\n",
      "not sure\n",
      "not sure\n",
      "not sure\n",
      "not sure\n",
      "not sure\n",
      "not sure\n",
      "not sure\n",
      "not sure\n",
      "not sure\n",
      "not sure\n",
      "fit\n",
      "not sure\n",
      "not sure\n",
      "not sure\n",
      "not sure\n",
      "not sure\n",
      "not sure\n",
      "not sure\n",
      "not sure\n",
      "not sure\n",
      "not sure\n",
      "not sure\n",
      "not sure\n",
      "not sure\n",
      "not sure\n",
      "not sure\n",
      "fit\n",
      "not sure\n",
      "not sure\n",
      "not sure\n",
      "not sure\n",
      "not sure\n",
      "not sure\n",
      "not sure\n",
      "not sure\n",
      "not sure\n",
      "not sure\n",
      "not sure\n",
      "not sure\n",
      "not sure\n",
      "not sure\n",
      "not sure\n",
      "not sure\n",
      "not sure\n",
      "not sure\n",
      "not sure\n",
      "fit\n",
      "not sure\n",
      "not sure\n"
     ]
    }
   ],
   "source": [
    "#드디어 분석 fit analysis!!!!\n",
    "#선택한 전공 3개, 수상내역 1개를 비교하여 데이터베이스 비교 분석하여 상과 전공이 일치하는지 판단!\n",
    "fit_result = []\n",
    "for category in fit_list_str:\n",
    "    for major_item in major_ctgs:\n",
    "        if major_item  == category:\n",
    "            print (\"fit\")\n",
    "            fit_result.append('fit')\n",
    "        else:\n",
    "            print (\"not sure\")\n",
    "            fit_result.append('not sure')"
   ]
  },
  {
   "cell_type": "code",
   "execution_count": 177,
   "metadata": {},
   "outputs": [
    {
     "data": {
      "text/html": [
       "<div>\n",
       "<style scoped>\n",
       "    .dataframe tbody tr th:only-of-type {\n",
       "        vertical-align: middle;\n",
       "    }\n",
       "\n",
       "    .dataframe tbody tr th {\n",
       "        vertical-align: top;\n",
       "    }\n",
       "\n",
       "    .dataframe thead th {\n",
       "        text-align: right;\n",
       "    }\n",
       "</style>\n",
       "<table border=\"1\" class=\"dataframe\">\n",
       "  <thead>\n",
       "    <tr style=\"text-align: right;\">\n",
       "      <th></th>\n",
       "      <th>0</th>\n",
       "    </tr>\n",
       "  </thead>\n",
       "  <tbody>\n",
       "    <tr>\n",
       "      <th>0</th>\n",
       "      <td>not sure</td>\n",
       "    </tr>\n",
       "    <tr>\n",
       "      <th>1</th>\n",
       "      <td>not sure</td>\n",
       "    </tr>\n",
       "    <tr>\n",
       "      <th>2</th>\n",
       "      <td>not sure</td>\n",
       "    </tr>\n",
       "    <tr>\n",
       "      <th>3</th>\n",
       "      <td>not sure</td>\n",
       "    </tr>\n",
       "    <tr>\n",
       "      <th>4</th>\n",
       "      <td>not sure</td>\n",
       "    </tr>\n",
       "    <tr>\n",
       "      <th>...</th>\n",
       "      <td>...</td>\n",
       "    </tr>\n",
       "    <tr>\n",
       "      <th>79</th>\n",
       "      <td>not sure</td>\n",
       "    </tr>\n",
       "    <tr>\n",
       "      <th>80</th>\n",
       "      <td>not sure</td>\n",
       "    </tr>\n",
       "    <tr>\n",
       "      <th>81</th>\n",
       "      <td>fit</td>\n",
       "    </tr>\n",
       "    <tr>\n",
       "      <th>82</th>\n",
       "      <td>not sure</td>\n",
       "    </tr>\n",
       "    <tr>\n",
       "      <th>83</th>\n",
       "      <td>not sure</td>\n",
       "    </tr>\n",
       "  </tbody>\n",
       "</table>\n",
       "<p>84 rows × 1 columns</p>\n",
       "</div>"
      ],
      "text/plain": [
       "           0\n",
       "0   not sure\n",
       "1   not sure\n",
       "2   not sure\n",
       "3   not sure\n",
       "4   not sure\n",
       "..       ...\n",
       "79  not sure\n",
       "80  not sure\n",
       "81       fit\n",
       "82  not sure\n",
       "83  not sure\n",
       "\n",
       "[84 rows x 1 columns]"
      ]
     },
     "execution_count": 177,
     "metadata": {},
     "output_type": "execute_result"
    }
   ],
   "source": [
    "fit_result #리스트로 변환\n",
    "df_fit_re = pd.DataFrame(fit_result)\n",
    "df_fit_re"
   ]
  },
  {
   "cell_type": "code",
   "execution_count": 178,
   "metadata": {},
   "outputs": [
    {
     "data": {
      "text/html": [
       "<div>\n",
       "<style scoped>\n",
       "    .dataframe tbody tr th:only-of-type {\n",
       "        vertical-align: middle;\n",
       "    }\n",
       "\n",
       "    .dataframe tbody tr th {\n",
       "        vertical-align: top;\n",
       "    }\n",
       "\n",
       "    .dataframe thead th {\n",
       "        text-align: right;\n",
       "    }\n",
       "</style>\n",
       "<table border=\"1\" class=\"dataframe\">\n",
       "  <thead>\n",
       "    <tr style=\"text-align: right;\">\n",
       "      <th></th>\n",
       "      <th>0</th>\n",
       "    </tr>\n",
       "  </thead>\n",
       "  <tbody>\n",
       "    <tr>\n",
       "      <th>0</th>\n",
       "      <td>not sure</td>\n",
       "    </tr>\n",
       "    <tr>\n",
       "      <th>20</th>\n",
       "      <td>fit</td>\n",
       "    </tr>\n",
       "  </tbody>\n",
       "</table>\n",
       "</div>"
      ],
      "text/plain": [
       "           0\n",
       "0   not sure\n",
       "20       fit"
      ]
     },
     "execution_count": 178,
     "metadata": {},
     "output_type": "execute_result"
    }
   ],
   "source": [
    "df_fit_re.drop_duplicates() #중복값 제거!!!! 최종 결과 도출, 여기서 FIT > NOT FIT  or NOT SURE 구분하면 됨"
   ]
  },
  {
   "cell_type": "code",
   "execution_count": null,
   "metadata": {},
   "outputs": [],
   "source": []
  },
  {
   "cell_type": "code",
   "execution_count": null,
   "metadata": {},
   "outputs": [],
   "source": []
  },
  {
   "cell_type": "code",
   "execution_count": null,
   "metadata": {},
   "outputs": [],
   "source": []
  },
  {
   "cell_type": "code",
   "execution_count": null,
   "metadata": {},
   "outputs": [],
   "source": []
  },
  {
   "cell_type": "code",
   "execution_count": null,
   "metadata": {},
   "outputs": [],
   "source": []
  },
  {
   "cell_type": "code",
   "execution_count": null,
   "metadata": {},
   "outputs": [],
   "source": []
  },
  {
   "cell_type": "code",
   "execution_count": 165,
   "metadata": {},
   "outputs": [],
   "source": [
    "########### Award Analysis  #############"
   ]
  },
  {
   "cell_type": "code",
   "execution_count": 166,
   "metadata": {},
   "outputs": [
    {
     "data": {
      "text/html": [
       "<div>\n",
       "<style scoped>\n",
       "    .dataframe tbody tr th:only-of-type {\n",
       "        vertical-align: middle;\n",
       "    }\n",
       "\n",
       "    .dataframe tbody tr th {\n",
       "        vertical-align: top;\n",
       "    }\n",
       "\n",
       "    .dataframe thead th {\n",
       "        text-align: right;\n",
       "    }\n",
       "</style>\n",
       "<table border=\"1\" class=\"dataframe\">\n",
       "  <thead>\n",
       "    <tr style=\"text-align: right;\">\n",
       "      <th></th>\n",
       "      <th>award_title</th>\n",
       "      <th>award_words</th>\n",
       "      <th>major_keywords</th>\n",
       "      <th>vision_contents</th>\n",
       "      <th>prestige</th>\n",
       "      <th>prestige_score</th>\n",
       "      <th>Big Major Category #1</th>\n",
       "      <th>Big Major Category #2</th>\n",
       "      <th>Big Major Category #3</th>\n",
       "      <th>Big Major Category #4</th>\n",
       "    </tr>\n",
       "  </thead>\n",
       "  <tbody>\n",
       "    <tr>\n",
       "      <th>0</th>\n",
       "      <td>all-american high school film festival</td>\n",
       "      <td>NaN</td>\n",
       "      <td>No Extra Match</td>\n",
       "      <td>Y</td>\n",
       "      <td>Extremely Selective</td>\n",
       "      <td>5.0</td>\n",
       "      <td>communication</td>\n",
       "      <td>visualart</td>\n",
       "      <td>NaN</td>\n",
       "      <td>NaN</td>\n",
       "    </tr>\n",
       "    <tr>\n",
       "      <th>1</th>\n",
       "      <td>annual architectural design competition for hi...</td>\n",
       "      <td>Architectural Foundation of San Francisco High...</td>\n",
       "      <td>No Extra Match</td>\n",
       "      <td>Y</td>\n",
       "      <td>Very Selective</td>\n",
       "      <td>4.0</td>\n",
       "      <td>visualart</td>\n",
       "      <td>NaN</td>\n",
       "      <td>NaN</td>\n",
       "      <td>NaN</td>\n",
       "    </tr>\n",
       "    <tr>\n",
       "      <th>2</th>\n",
       "      <td>atlantic and college board writing prize</td>\n",
       "      <td>NaN</td>\n",
       "      <td>No Extra Match</td>\n",
       "      <td>Y</td>\n",
       "      <td>Very Selective</td>\n",
       "      <td>4.0</td>\n",
       "      <td>humanities</td>\n",
       "      <td>NaN</td>\n",
       "      <td>NaN</td>\n",
       "      <td>NaN</td>\n",
       "    </tr>\n",
       "    <tr>\n",
       "      <th>3</th>\n",
       "      <td>ayn rand institute contest</td>\n",
       "      <td>NaN</td>\n",
       "      <td>No Extra Match</td>\n",
       "      <td>Y</td>\n",
       "      <td>Very Selective</td>\n",
       "      <td>4.0</td>\n",
       "      <td>humanities</td>\n",
       "      <td>NaN</td>\n",
       "      <td>NaN</td>\n",
       "      <td>NaN</td>\n",
       "    </tr>\n",
       "    <tr>\n",
       "      <th>4</th>\n",
       "      <td>bennington young writers award</td>\n",
       "      <td>NaN</td>\n",
       "      <td>No Extra Match</td>\n",
       "      <td>Y</td>\n",
       "      <td>Very Selective</td>\n",
       "      <td>4.0</td>\n",
       "      <td>humanities</td>\n",
       "      <td>NaN</td>\n",
       "      <td>NaN</td>\n",
       "      <td>NaN</td>\n",
       "    </tr>\n",
       "    <tr>\n",
       "      <th>5</th>\n",
       "      <td>blue ocean entrepreneurship competition</td>\n",
       "      <td>NaN</td>\n",
       "      <td>No Extra Match</td>\n",
       "      <td>Y</td>\n",
       "      <td>Very Selective</td>\n",
       "      <td>4.0</td>\n",
       "      <td>business</td>\n",
       "      <td>NaN</td>\n",
       "      <td>NaN</td>\n",
       "      <td>NaN</td>\n",
       "    </tr>\n",
       "    <tr>\n",
       "      <th>6</th>\n",
       "      <td>caribou mathematics competition</td>\n",
       "      <td>NaN</td>\n",
       "      <td>No Extra Match</td>\n",
       "      <td>Y</td>\n",
       "      <td>Selective</td>\n",
       "      <td>3.0</td>\n",
       "      <td>math_sci</td>\n",
       "      <td>NaN</td>\n",
       "      <td>NaN</td>\n",
       "      <td>NaN</td>\n",
       "    </tr>\n",
       "    <tr>\n",
       "      <th>7</th>\n",
       "      <td>carnegie international student essay contest</td>\n",
       "      <td>Carnegie Council</td>\n",
       "      <td>No Extra Match</td>\n",
       "      <td>Y</td>\n",
       "      <td>Extremely Selective</td>\n",
       "      <td>5.0</td>\n",
       "      <td>social_sci</td>\n",
       "      <td>humanities</td>\n",
       "      <td>NaN</td>\n",
       "      <td>NaN</td>\n",
       "    </tr>\n",
       "    <tr>\n",
       "      <th>8</th>\n",
       "      <td>cet and nshss scholarship for gap programs</td>\n",
       "      <td>NaN</td>\n",
       "      <td>No Extra Match</td>\n",
       "      <td>Y</td>\n",
       "      <td>Selective</td>\n",
       "      <td>3.0</td>\n",
       "      <td>social_sci</td>\n",
       "      <td>NaN</td>\n",
       "      <td>NaN</td>\n",
       "      <td>NaN</td>\n",
       "    </tr>\n",
       "    <tr>\n",
       "      <th>9</th>\n",
       "      <td>chapman art and writing holocaust contest</td>\n",
       "      <td>Annual Holocaust Art and Writing Contest</td>\n",
       "      <td>art, film</td>\n",
       "      <td>Y</td>\n",
       "      <td>Very Selective</td>\n",
       "      <td>4.0</td>\n",
       "      <td>visualart</td>\n",
       "      <td>NaN</td>\n",
       "      <td>NaN</td>\n",
       "      <td>NaN</td>\n",
       "    </tr>\n",
       "  </tbody>\n",
       "</table>\n",
       "</div>"
      ],
      "text/plain": [
       "                                         award_title  \\\n",
       "0             all-american high school film festival   \n",
       "1  annual architectural design competition for hi...   \n",
       "2           atlantic and college board writing prize   \n",
       "3                         ayn rand institute contest   \n",
       "4                     bennington young writers award   \n",
       "5            blue ocean entrepreneurship competition   \n",
       "6                    caribou mathematics competition   \n",
       "7       carnegie international student essay contest   \n",
       "8         cet and nshss scholarship for gap programs   \n",
       "9          chapman art and writing holocaust contest   \n",
       "\n",
       "                                         award_words  major_keywords  \\\n",
       "0                                                NaN  No Extra Match   \n",
       "1  Architectural Foundation of San Francisco High...  No Extra Match   \n",
       "2                                                NaN  No Extra Match   \n",
       "3                                                NaN  No Extra Match   \n",
       "4                                                NaN  No Extra Match   \n",
       "5                                                NaN  No Extra Match   \n",
       "6                                                NaN  No Extra Match   \n",
       "7                                   Carnegie Council  No Extra Match   \n",
       "8                                                NaN  No Extra Match   \n",
       "9           Annual Holocaust Art and Writing Contest       art, film   \n",
       "\n",
       "  vision_contents             prestige  prestige_score Big Major Category #1  \\\n",
       "0               Y  Extremely Selective             5.0         communication   \n",
       "1               Y       Very Selective             4.0             visualart   \n",
       "2               Y       Very Selective             4.0            humanities   \n",
       "3               Y       Very Selective             4.0            humanities   \n",
       "4               Y       Very Selective             4.0            humanities   \n",
       "5               Y       Very Selective             4.0              business   \n",
       "6               Y            Selective             3.0              math_sci   \n",
       "7               Y  Extremely Selective             5.0            social_sci   \n",
       "8               Y            Selective             3.0            social_sci   \n",
       "9               Y       Very Selective             4.0             visualart   \n",
       "\n",
       "  Big Major Category #2 Big Major Category #3 Big Major Category #4  \n",
       "0             visualart                   NaN                   NaN  \n",
       "1                   NaN                   NaN                   NaN  \n",
       "2                   NaN                   NaN                   NaN  \n",
       "3                   NaN                   NaN                   NaN  \n",
       "4                   NaN                   NaN                   NaN  \n",
       "5                   NaN                   NaN                   NaN  \n",
       "6                   NaN                   NaN                   NaN  \n",
       "7            humanities                   NaN                   NaN  \n",
       "8                   NaN                   NaN                   NaN  \n",
       "9                   NaN                   NaN                   NaN  "
      ]
     },
     "execution_count": 166,
     "metadata": {},
     "output_type": "execute_result"
    }
   ],
   "source": [
    "#수상내역 데이터 테이블을 불러온다아아앙\n",
    "data_awards[:10]"
   ]
  },
  {
   "cell_type": "code",
   "execution_count": 167,
   "metadata": {},
   "outputs": [
    {
     "data": {
      "text/plain": [
       "['carnegie international student essay contest', 'extremely selective']"
      ]
     },
     "execution_count": 167,
     "metadata": {},
     "output_type": "execute_result"
    }
   ],
   "source": [
    "# 수상 포지션 용어를 추출 분석하기 >>> 일단 이 수상내역을\n",
    "\n",
    "honor_list"
   ]
  },
  {
   "cell_type": "code",
   "execution_count": 168,
   "metadata": {},
   "outputs": [
    {
     "data": {
      "text/html": [
       "<div>\n",
       "<style scoped>\n",
       "    .dataframe tbody tr th:only-of-type {\n",
       "        vertical-align: middle;\n",
       "    }\n",
       "\n",
       "    .dataframe tbody tr th {\n",
       "        vertical-align: top;\n",
       "    }\n",
       "\n",
       "    .dataframe thead th {\n",
       "        text-align: right;\n",
       "    }\n",
       "</style>\n",
       "<table border=\"1\" class=\"dataframe\">\n",
       "  <thead>\n",
       "    <tr style=\"text-align: right;\">\n",
       "      <th></th>\n",
       "      <th>award_title</th>\n",
       "      <th>award_words</th>\n",
       "      <th>major_keywords</th>\n",
       "      <th>vision_contents</th>\n",
       "      <th>prestige</th>\n",
       "      <th>prestige_score</th>\n",
       "      <th>Big Major Category #1</th>\n",
       "      <th>Big Major Category #2</th>\n",
       "      <th>Big Major Category #3</th>\n",
       "      <th>Big Major Category #4</th>\n",
       "    </tr>\n",
       "  </thead>\n",
       "  <tbody>\n",
       "    <tr>\n",
       "      <th>7</th>\n",
       "      <td>carnegie international student essay contest</td>\n",
       "      <td>Carnegie Council</td>\n",
       "      <td>No Extra Match</td>\n",
       "      <td>Y</td>\n",
       "      <td>Extremely Selective</td>\n",
       "      <td>5.0</td>\n",
       "      <td>social_sci</td>\n",
       "      <td>humanities</td>\n",
       "      <td>NaN</td>\n",
       "      <td>NaN</td>\n",
       "    </tr>\n",
       "  </tbody>\n",
       "</table>\n",
       "</div>"
      ],
      "text/plain": [
       "                                    award_title       award_words  \\\n",
       "7  carnegie international student essay contest  Carnegie Council   \n",
       "\n",
       "   major_keywords vision_contents             prestige  prestige_score  \\\n",
       "7  No Extra Match               Y  Extremely Selective             5.0   \n",
       "\n",
       "  Big Major Category #1 Big Major Category #2 Big Major Category #3  \\\n",
       "7            social_sci            humanities                   NaN   \n",
       "\n",
       "  Big Major Category #4  \n",
       "7                   NaN  "
      ]
     },
     "execution_count": 168,
     "metadata": {},
     "output_type": "execute_result"
    }
   ],
   "source": [
    "#수상리스트의 값을 점수로 계산해보자  extremely selective 같은 경우는 그냥 데이프레임에서 추출하면 됨\n",
    "#단, winner of ABC competition competition, none  입력을 받았을 경우에는 데이터베이스에 수상내역이 없기 때문에 예외처리를 해야 한다.\n",
    "is_honor_list = data_awards['award_title'] == honor_list[0] # 입력한 결과중 수상내역 문자열 과 데이터프레임의 타이클 컬럼에서 같은 조건\n",
    "re_honor = data_awards[is_honor_list] # 데이터 필터링하여 새로운 변수에 저장\n",
    "re_honor # 결과 출력(여기서 결과가 나오면출력, 만약 수상내역 출력, 없으면... 예외처리를 해야함.. 2번째 방식으로 분석해야 함)"
   ]
  },
  {
   "cell_type": "code",
   "execution_count": 169,
   "metadata": {},
   "outputs": [
    {
     "data": {
      "text/html": [
       "<div>\n",
       "<style scoped>\n",
       "    .dataframe tbody tr th:only-of-type {\n",
       "        vertical-align: middle;\n",
       "    }\n",
       "\n",
       "    .dataframe tbody tr th {\n",
       "        vertical-align: top;\n",
       "    }\n",
       "\n",
       "    .dataframe thead th {\n",
       "        text-align: right;\n",
       "    }\n",
       "</style>\n",
       "<table border=\"1\" class=\"dataframe\">\n",
       "  <thead>\n",
       "    <tr style=\"text-align: right;\">\n",
       "      <th></th>\n",
       "      <th>prestige_score</th>\n",
       "    </tr>\n",
       "  </thead>\n",
       "  <tbody>\n",
       "    <tr>\n",
       "      <th>7</th>\n",
       "      <td>5.0</td>\n",
       "    </tr>\n",
       "  </tbody>\n",
       "</table>\n",
       "</div>"
      ],
      "text/plain": [
       "   prestige_score\n",
       "7             5.0"
      ]
     },
     "execution_count": 169,
     "metadata": {},
     "output_type": "execute_result"
    }
   ],
   "source": [
    "#점수를 추출한다. 그리고 이 점수는 입력한 수상내역의 문자를 확인하여 '예외의 룰'을 적용!!!\n",
    "award_anaysis_re = re_honor[[\"prestige_score\"]]\n",
    "award_anaysis_re"
   ]
  },
  {
   "cell_type": "code",
   "execution_count": 170,
   "metadata": {},
   "outputs": [
    {
     "data": {
      "text/plain": [
       "False"
      ]
     },
     "execution_count": 170,
     "metadata": {},
     "output_type": "execute_result"
    }
   ],
   "source": [
    "award_anaysis_re = award_anaysis_re.isnull().any().any() #부울 값을 반환한다. 값이 없으니까  Fasle이다.\n",
    "award_anaysis_re #찾는 값이 없기 때문에  2차 분석을 시작!"
   ]
  },
  {
   "cell_type": "code",
   "execution_count": 171,
   "metadata": {},
   "outputs": [
    {
     "data": {
      "text/plain": [
       "numpy.bool_"
      ]
     },
     "execution_count": 171,
     "metadata": {},
     "output_type": "execute_result"
    }
   ],
   "source": [
    "type(award_anaysis_re)"
   ]
  },
  {
   "cell_type": "code",
   "execution_count": 172,
   "metadata": {},
   "outputs": [],
   "source": [
    "def second_aw_score_anaysis(input_award_title_second):\n",
    "    remove_null_text = input_award_title_second.strip() #앞 뒤 공백 제거한다. 입력할 때 공백을 넣을 수 있기 때문에.. 에러방지\n",
    "    split_awards_list = remove_null_text.split(\" \")\n",
    "    #결과를 토대로 점수 계산하기위해서 data_awards_score의 데이터 프레임에서 해당 점수값 도출하기\n",
    "    #그러기 위해서 우선 입력한 단어(수상설명)을 토대로\n",
    "    \n",
    "    # 타이틀에 명칭을 분석해서 점수 계산하기\n",
    "    # 우선 타이틀 별 점수로직 테이블 불러오기\n",
    "\n",
    "    # Extremely Selective : 5\n",
    "    # Very Selective : 4\n",
    "    # Selective : 3\n",
    "    # Mediocre : 2\n",
    "    # Low : 1\n",
    "\n",
    "    # *** Winner / Won 등의 단어가 위의 수상 포지션 없는 상태에서 쓰였을 경우 그 상에 우승 했다는 뜻이므로 강도 100% 적용\n",
    "    # 예를 들면 winner of ABC competition 이나 Won ABC competition 이러면 1등이죠… 다만, Won 2nd Place 또는 2nd place winner 이러면 2등인거니깐여\n",
    "\n",
    "\n",
    "    data_awards_score = pd.read_csv('award_title_score.csv')\n",
    "    data_awards_score ['title'] = data_awards_score ['title'].str.lower() #소문자로 변환해야 타이틀을 비교할 수 있음(매칭되는지)\n",
    "    data_awards_score.set_index('title', inplace=True) #title을 인뎃스로 변환, 그래야 값을 찾기 쉽다.\n",
    "    \n",
    "    #입력한 수상내역의 리스트 값을 하나씩 불러와서 데이터프레이에 있는지 비교 찾아내서 해당 점수를 가져오기\n",
    "    get_score__ = []\n",
    "    for award_word in split_awards_list: #데이터프레임에서 인덱스의 값과 비교하여\n",
    "        if award_word in data_awards_score.index: #df에 특정 단어가 있다면, 해당하는 컬럼의 값을 가져오기\n",
    "            get_score_ = data_awards_score.loc[award_word,'fin_score']\n",
    "            get_score__.append(get_score_)\n",
    "            #print (\"got it\")\n",
    "\n",
    "        else:\n",
    "            #print (\"can not calculate\")\n",
    "            pass\n",
    "        \n",
    "    ##### 입력한 수상내역에 해당하는 최종 점수 계산\n",
    "    return print (get_score__) #해당 점수는 다음과 같음"
   ]
  },
  {
   "cell_type": "code",
   "execution_count": 173,
   "metadata": {},
   "outputs": [
    {
     "name": "stdout",
     "output_type": "stream",
     "text": [
      "Score is :\n",
      "[]\n"
     ]
    }
   ],
   "source": [
    "if award_anaysis_re == False: # 값이 없으면 False 이기 땜문에 2차 분석 시작해야 함\n",
    "    print (\"Score is :\")\n",
    "    second_aw_score_anaysis(honor_list[0])"
   ]
  },
  {
   "cell_type": "markdown",
   "metadata": {},
   "source": [
    "## 끝!!!"
   ]
  },
  {
   "cell_type": "code",
   "execution_count": null,
   "metadata": {},
   "outputs": [],
   "source": []
  },
  {
   "cell_type": "code",
   "execution_count": null,
   "metadata": {},
   "outputs": [],
   "source": []
  },
  {
   "cell_type": "code",
   "execution_count": null,
   "metadata": {},
   "outputs": [],
   "source": []
  },
  {
   "cell_type": "code",
   "execution_count": null,
   "metadata": {},
   "outputs": [],
   "source": []
  },
  {
   "cell_type": "code",
   "execution_count": null,
   "metadata": {},
   "outputs": [],
   "source": []
  },
  {
   "cell_type": "code",
   "execution_count": null,
   "metadata": {},
   "outputs": [],
   "source": []
  },
  {
   "cell_type": "code",
   "execution_count": null,
   "metadata": {},
   "outputs": [],
   "source": []
  },
  {
   "cell_type": "code",
   "execution_count": null,
   "metadata": {},
   "outputs": [],
   "source": []
  },
  {
   "cell_type": "markdown",
   "metadata": {},
   "source": [
    "해결해야 할 사항 >> 수상명칭 입력할 때 수상명칭외에 다른 단어를 넣을 때를 계산하려면, 수상명칭을 정확히 일치한 것을 계산하거나\n",
    "입력 내용을 모두 단어로 분리해서 가장 단어가 적합하게(일치한 횟수를 백분율로 계산) 나온 것을 계산(높은 값)에 해당하면 특정 대상의 수상결과가 되는 것으로 해야, 수상내역외에 추가 단어를 동시에 분석이 가능하다."
   ]
  },
  {
   "cell_type": "markdown",
   "metadata": {},
   "source": [
    "## 수상명 2차 분석\n"
   ]
  },
  {
   "cell_type": "markdown",
   "metadata": {},
   "source": [
    "## 우선 단어로 분리해서계산하고, 위에서 분석하는 수상명 전체를 이용해서 분석하는 기능은 나중에 합칠 것!!!!!!!!!!!!!!!!!!!"
   ]
  },
  {
   "cell_type": "code",
   "execution_count": 216,
   "metadata": {},
   "outputs": [],
   "source": [
    "#수상명에 1st prize 라는 단어가 들어가있음, 공백문자포함\n",
    "input_award_title_second = \"\"\" winner of ABC competition competition \"\"\" "
   ]
  },
  {
   "cell_type": "code",
   "execution_count": 217,
   "metadata": {},
   "outputs": [
    {
     "data": {
      "text/plain": [
       "['winner', 'of', 'ABC', 'competition', 'competition']"
      ]
     },
     "execution_count": 217,
     "metadata": {},
     "output_type": "execute_result"
    }
   ],
   "source": [
    "remove_null_text = input_award_title_second.strip() #앞 뒤 공백 제거한다. 입력할 때 공백을 넣을 수 있기 때문에.. 에러방지\n",
    "split_awards_list = remove_null_text.split(\" \")\n",
    "split_awards_list #결과를 토대로 점수 계산하기위해서 data_awards_score의 데이터 프레임에서 해당 점수값 도출하기\n",
    "#그러기 위해서 우선 입력한 단어(수상설명)을 토대로 "
   ]
  },
  {
   "cell_type": "code",
   "execution_count": 218,
   "metadata": {},
   "outputs": [
    {
     "data": {
      "text/html": [
       "<div>\n",
       "<style scoped>\n",
       "    .dataframe tbody tr th:only-of-type {\n",
       "        vertical-align: middle;\n",
       "    }\n",
       "\n",
       "    .dataframe tbody tr th {\n",
       "        vertical-align: top;\n",
       "    }\n",
       "\n",
       "    .dataframe thead th {\n",
       "        text-align: right;\n",
       "    }\n",
       "</style>\n",
       "<table border=\"1\" class=\"dataframe\">\n",
       "  <thead>\n",
       "    <tr style=\"text-align: right;\">\n",
       "      <th></th>\n",
       "      <th>score_cal_rate</th>\n",
       "      <th>fin_score</th>\n",
       "    </tr>\n",
       "    <tr>\n",
       "      <th>title</th>\n",
       "      <th></th>\n",
       "      <th></th>\n",
       "    </tr>\n",
       "  </thead>\n",
       "  <tbody>\n",
       "    <tr>\n",
       "      <th>extremely selective</th>\n",
       "      <td>5</td>\n",
       "      <td>5.0</td>\n",
       "    </tr>\n",
       "    <tr>\n",
       "      <th>very selective</th>\n",
       "      <td>4</td>\n",
       "      <td>4.0</td>\n",
       "    </tr>\n",
       "    <tr>\n",
       "      <th>selective</th>\n",
       "      <td>3</td>\n",
       "      <td>3.0</td>\n",
       "    </tr>\n",
       "    <tr>\n",
       "      <th>mediocre</th>\n",
       "      <td>2</td>\n",
       "      <td>2.0</td>\n",
       "    </tr>\n",
       "    <tr>\n",
       "      <th>low</th>\n",
       "      <td>1</td>\n",
       "      <td>1.0</td>\n",
       "    </tr>\n",
       "    <tr>\n",
       "      <th>first</th>\n",
       "      <td>100</td>\n",
       "      <td>5.0</td>\n",
       "    </tr>\n",
       "    <tr>\n",
       "      <th>first place</th>\n",
       "      <td>100</td>\n",
       "      <td>5.0</td>\n",
       "    </tr>\n",
       "    <tr>\n",
       "      <th>first prize</th>\n",
       "      <td>100</td>\n",
       "      <td>5.0</td>\n",
       "    </tr>\n",
       "    <tr>\n",
       "      <th>top</th>\n",
       "      <td>100</td>\n",
       "      <td>5.0</td>\n",
       "    </tr>\n",
       "    <tr>\n",
       "      <th>1st place</th>\n",
       "      <td>100</td>\n",
       "      <td>5.0</td>\n",
       "    </tr>\n",
       "    <tr>\n",
       "      <th>1st prize</th>\n",
       "      <td>100</td>\n",
       "      <td>5.0</td>\n",
       "    </tr>\n",
       "    <tr>\n",
       "      <th>champion</th>\n",
       "      <td>100</td>\n",
       "      <td>5.0</td>\n",
       "    </tr>\n",
       "    <tr>\n",
       "      <th>grand</th>\n",
       "      <td>100</td>\n",
       "      <td>5.0</td>\n",
       "    </tr>\n",
       "    <tr>\n",
       "      <th>grand winner</th>\n",
       "      <td>100</td>\n",
       "      <td>5.0</td>\n",
       "    </tr>\n",
       "    <tr>\n",
       "      <th>grand prize</th>\n",
       "      <td>100</td>\n",
       "      <td>5.0</td>\n",
       "    </tr>\n",
       "    <tr>\n",
       "      <th>grand champion</th>\n",
       "      <td>100</td>\n",
       "      <td>5.0</td>\n",
       "    </tr>\n",
       "    <tr>\n",
       "      <th>gold</th>\n",
       "      <td>100</td>\n",
       "      <td>5.0</td>\n",
       "    </tr>\n",
       "    <tr>\n",
       "      <th>gold medal</th>\n",
       "      <td>100</td>\n",
       "      <td>5.0</td>\n",
       "    </tr>\n",
       "    <tr>\n",
       "      <th>platinum</th>\n",
       "      <td>100</td>\n",
       "      <td>5.0</td>\n",
       "    </tr>\n",
       "    <tr>\n",
       "      <th>second</th>\n",
       "      <td>90</td>\n",
       "      <td>4.5</td>\n",
       "    </tr>\n",
       "    <tr>\n",
       "      <th>second place</th>\n",
       "      <td>90</td>\n",
       "      <td>4.5</td>\n",
       "    </tr>\n",
       "    <tr>\n",
       "      <th>second prize</th>\n",
       "      <td>90</td>\n",
       "      <td>4.5</td>\n",
       "    </tr>\n",
       "    <tr>\n",
       "      <th>finalist</th>\n",
       "      <td>90</td>\n",
       "      <td>4.5</td>\n",
       "    </tr>\n",
       "    <tr>\n",
       "      <th>2nd place</th>\n",
       "      <td>90</td>\n",
       "      <td>4.5</td>\n",
       "    </tr>\n",
       "    <tr>\n",
       "      <th>2nd prize</th>\n",
       "      <td>90</td>\n",
       "      <td>4.5</td>\n",
       "    </tr>\n",
       "    <tr>\n",
       "      <th>silver</th>\n",
       "      <td>90</td>\n",
       "      <td>4.5</td>\n",
       "    </tr>\n",
       "    <tr>\n",
       "      <th>silver medal</th>\n",
       "      <td>90</td>\n",
       "      <td>4.5</td>\n",
       "    </tr>\n",
       "    <tr>\n",
       "      <th>third</th>\n",
       "      <td>80</td>\n",
       "      <td>4.0</td>\n",
       "    </tr>\n",
       "    <tr>\n",
       "      <th>third place</th>\n",
       "      <td>80</td>\n",
       "      <td>4.0</td>\n",
       "    </tr>\n",
       "    <tr>\n",
       "      <th>third prize</th>\n",
       "      <td>80</td>\n",
       "      <td>4.0</td>\n",
       "    </tr>\n",
       "    <tr>\n",
       "      <th>semi-finalist</th>\n",
       "      <td>80</td>\n",
       "      <td>4.0</td>\n",
       "    </tr>\n",
       "    <tr>\n",
       "      <th>semi finalist</th>\n",
       "      <td>80</td>\n",
       "      <td>4.0</td>\n",
       "    </tr>\n",
       "    <tr>\n",
       "      <th>semi final</th>\n",
       "      <td>80</td>\n",
       "      <td>4.0</td>\n",
       "    </tr>\n",
       "    <tr>\n",
       "      <th>bronze</th>\n",
       "      <td>80</td>\n",
       "      <td>4.0</td>\n",
       "    </tr>\n",
       "    <tr>\n",
       "      <th>3rd place</th>\n",
       "      <td>80</td>\n",
       "      <td>4.0</td>\n",
       "    </tr>\n",
       "    <tr>\n",
       "      <th>3rd prize</th>\n",
       "      <td>80</td>\n",
       "      <td>4.0</td>\n",
       "    </tr>\n",
       "    <tr>\n",
       "      <th>honorable mention</th>\n",
       "      <td>60</td>\n",
       "      <td>3.0</td>\n",
       "    </tr>\n",
       "    <tr>\n",
       "      <th>commendation of honor</th>\n",
       "      <td>60</td>\n",
       "      <td>3.0</td>\n",
       "    </tr>\n",
       "    <tr>\n",
       "      <th>honourable mention</th>\n",
       "      <td>60</td>\n",
       "      <td>3.0</td>\n",
       "    </tr>\n",
       "    <tr>\n",
       "      <th>winner</th>\n",
       "      <td>100</td>\n",
       "      <td>5.0</td>\n",
       "    </tr>\n",
       "  </tbody>\n",
       "</table>\n",
       "</div>"
      ],
      "text/plain": [
       "                       score_cal_rate  fin_score\n",
       "title                                           \n",
       "extremely selective                 5        5.0\n",
       "very selective                      4        4.0\n",
       "selective                           3        3.0\n",
       "mediocre                            2        2.0\n",
       "low                                 1        1.0\n",
       "first                             100        5.0\n",
       "first place                       100        5.0\n",
       "first prize                       100        5.0\n",
       "top                               100        5.0\n",
       "1st place                         100        5.0\n",
       "1st prize                         100        5.0\n",
       "champion                          100        5.0\n",
       "grand                             100        5.0\n",
       "grand winner                      100        5.0\n",
       "grand prize                       100        5.0\n",
       "grand champion                    100        5.0\n",
       "gold                              100        5.0\n",
       "gold medal                        100        5.0\n",
       "platinum                          100        5.0\n",
       "second                             90        4.5\n",
       "second place                       90        4.5\n",
       "second prize                       90        4.5\n",
       "finalist                           90        4.5\n",
       "2nd place                          90        4.5\n",
       "2nd prize                          90        4.5\n",
       "silver                             90        4.5\n",
       "silver medal                       90        4.5\n",
       "third                              80        4.0\n",
       "third place                        80        4.0\n",
       "third prize                        80        4.0\n",
       "semi-finalist                      80        4.0\n",
       "semi finalist                      80        4.0\n",
       "semi final                         80        4.0\n",
       "bronze                             80        4.0\n",
       "3rd place                          80        4.0\n",
       "3rd prize                          80        4.0\n",
       "honorable mention                  60        3.0\n",
       "commendation of honor              60        3.0\n",
       "honourable mention                 60        3.0\n",
       "winner                            100        5.0"
      ]
     },
     "execution_count": 218,
     "metadata": {},
     "output_type": "execute_result"
    }
   ],
   "source": [
    "# 타이틀에 명칭을 분석해서 점수 계산하기\n",
    "# 우선 타이틀 별 점수로직 테이블 불러오기\n",
    "\n",
    "# Extremely Selective : 5\n",
    "# Very Selective : 4\n",
    "# Selective : 3\n",
    "# Mediocre : 2\n",
    "# Low : 1\n",
    "\n",
    "# *** Winner / Won 등의 단어가 위의 수상 포지션 없는 상태에서 쓰였을 경우 그 상에 우승 했다는 뜻이므로 강도 100% 적용\n",
    "# 예를 들면 winner of ABC competition 이나 Won ABC competition 이러면 1등이죠… 다만, Won 2nd Place 또는 2nd place winner 이러면 2등인거니깐여\n",
    "\n",
    "\n",
    "data_awards_score = pd.read_csv('award_title_score.csv')\n",
    "data_awards_score ['title'] = data_awards_score ['title'].str.lower() #소문자로 변환해야 타이틀을 비교할 수 있음(매칭되는지)\n",
    "data_awards_score.set_index('title', inplace=True) #title을 인뎃스로 변환, 그래야 값을 찾기 쉽다.\n",
    "data_awards_score"
   ]
  },
  {
   "cell_type": "markdown",
   "metadata": {},
   "source": [
    "#입력한 수생내역의 리스트 값을 하나씩 불러와서 데이터프레이에 있는지 비교 찾아내서 해당 점수를 가져오기\n",
    "get_score__ = []\n",
    "for award_word in split_awards_list:\n",
    "    get_score = data_awards_score ['title'] == award_word\n",
    "    get_score__.append(get_score_)\n",
    "    \n",
    "    "
   ]
  },
  {
   "cell_type": "code",
   "execution_count": 219,
   "metadata": {},
   "outputs": [
    {
     "data": {
      "text/plain": [
       "['winner', 'of', 'ABC', 'competition', 'competition']"
      ]
     },
     "execution_count": 219,
     "metadata": {},
     "output_type": "execute_result"
    }
   ],
   "source": [
    "split_awards_list"
   ]
  },
  {
   "cell_type": "code",
   "execution_count": 220,
   "metadata": {},
   "outputs": [
    {
     "name": "stdout",
     "output_type": "stream",
     "text": [
      "got it\n",
      "can not calculate\n",
      "can not calculate\n",
      "can not calculate\n",
      "can not calculate\n"
     ]
    }
   ],
   "source": [
    "#입력한 수생내역의 리스트 값을 하나씩 불러와서 데이터프레이에 있는지 비교 찾아내서 해당 점수를 가져오기\n",
    "get_score__ = []\n",
    "for award_word in split_awards_list: #데이터프레임에서 인덱스의 값과 비교하여\n",
    "    if award_word in data_awards_score.index: #df에 특정 단어가 있다면, 해당하는 컬럼의 값을 가져오기\n",
    "        get_score_ = data_awards_score.loc[award_word,'fin_score']\n",
    "        get_score__.append(get_score_)\n",
    "        print (\"got it\")\n",
    "        \n",
    "    else:\n",
    "        print (\"can not calculate\")\n",
    "        \n"
   ]
  },
  {
   "cell_type": "code",
   "execution_count": 221,
   "metadata": {},
   "outputs": [
    {
     "data": {
      "text/plain": [
       "[5.0]"
      ]
     },
     "execution_count": 221,
     "metadata": {},
     "output_type": "execute_result"
    }
   ],
   "source": [
    "##### 입력한 수상내역에 해당하는 최종 점수 계산\n",
    "get_score__ #해당 점수는 다음과 같음 "
   ]
  },
  {
   "cell_type": "code",
   "execution_count": null,
   "metadata": {},
   "outputs": [],
   "source": [
    "\n"
   ]
  },
  {
   "cell_type": "code",
   "execution_count": null,
   "metadata": {},
   "outputs": [],
   "source": []
  },
  {
   "cell_type": "code",
   "execution_count": null,
   "metadata": {},
   "outputs": [],
   "source": []
  },
  {
   "cell_type": "code",
   "execution_count": null,
   "metadata": {},
   "outputs": [],
   "source": []
  },
  {
   "cell_type": "code",
   "execution_count": null,
   "metadata": {},
   "outputs": [],
   "source": []
  },
  {
   "cell_type": "code",
   "execution_count": null,
   "metadata": {},
   "outputs": [],
   "source": []
  },
  {
   "cell_type": "code",
   "execution_count": null,
   "metadata": {},
   "outputs": [],
   "source": []
  },
  {
   "cell_type": "code",
   "execution_count": 222,
   "metadata": {},
   "outputs": [
    {
     "data": {
      "text/html": [
       "<div>\n",
       "<style scoped>\n",
       "    .dataframe tbody tr th:only-of-type {\n",
       "        vertical-align: middle;\n",
       "    }\n",
       "\n",
       "    .dataframe tbody tr th {\n",
       "        vertical-align: top;\n",
       "    }\n",
       "\n",
       "    .dataframe thead th {\n",
       "        text-align: right;\n",
       "    }\n",
       "</style>\n",
       "<table border=\"1\" class=\"dataframe\">\n",
       "  <thead>\n",
       "    <tr style=\"text-align: right;\">\n",
       "      <th></th>\n",
       "      <th>award_title</th>\n",
       "      <th>award_words</th>\n",
       "      <th>major_keywords</th>\n",
       "      <th>vision_contents</th>\n",
       "      <th>prestige</th>\n",
       "      <th>prestige_score</th>\n",
       "      <th>Big Major Category #1</th>\n",
       "      <th>Big Major Category #2</th>\n",
       "      <th>Big Major Category #3</th>\n",
       "      <th>Big Major Category #4</th>\n",
       "    </tr>\n",
       "  </thead>\n",
       "  <tbody>\n",
       "    <tr>\n",
       "      <th>7</th>\n",
       "      <td>carnegie international student essay contest</td>\n",
       "      <td>Carnegie Council</td>\n",
       "      <td>No Extra Match</td>\n",
       "      <td>Y</td>\n",
       "      <td>Extremely Selective</td>\n",
       "      <td>5.0</td>\n",
       "      <td>social science</td>\n",
       "      <td>humanities</td>\n",
       "      <td>NaN</td>\n",
       "      <td>NaN</td>\n",
       "    </tr>\n",
       "  </tbody>\n",
       "</table>\n",
       "</div>"
      ],
      "text/plain": [
       "                                    award_title       award_words  \\\n",
       "7  carnegie international student essay contest  Carnegie Council   \n",
       "\n",
       "   major_keywords vision_contents             prestige  prestige_score  \\\n",
       "7  No Extra Match               Y  Extremely Selective             5.0   \n",
       "\n",
       "  Big Major Category #1 Big Major Category #2 Big Major Category #3  \\\n",
       "7        social science            humanities                   NaN   \n",
       "\n",
       "  Big Major Category #4  \n",
       "7                   NaN  "
      ]
     },
     "execution_count": 222,
     "metadata": {},
     "output_type": "execute_result"
    }
   ],
   "source": [
    "#수상리스트의 값을 점수로 계산해보자  extremely selective 같은 경우는 그냥 데이프레임에서 추출하면 됨\n",
    "is_honor_list = data_awards['award_title'] == honor_list[0] # 입력한 결과중 수상내역 문자열 과 데이터프레임의 타이클 컬럼에서 같은 조건\n",
    "re_honor = data_awards[is_honor_list] # 데이터 필터링하여 새로운 변수에 저장\n",
    "re_honor # 결과 출력(여기서 결과가 나오면, 수상내역 출력, 없으면... )"
   ]
  },
  {
   "cell_type": "code",
   "execution_count": null,
   "metadata": {},
   "outputs": [],
   "source": []
  },
  {
   "cell_type": "code",
   "execution_count": null,
   "metadata": {},
   "outputs": [],
   "source": []
  },
  {
   "cell_type": "code",
   "execution_count": null,
   "metadata": {},
   "outputs": [],
   "source": []
  },
  {
   "cell_type": "code",
   "execution_count": null,
   "metadata": {},
   "outputs": [],
   "source": []
  },
  {
   "cell_type": "code",
   "execution_count": null,
   "metadata": {},
   "outputs": [],
   "source": []
  },
  {
   "cell_type": "code",
   "execution_count": null,
   "metadata": {},
   "outputs": [],
   "source": []
  },
  {
   "cell_type": "code",
   "execution_count": null,
   "metadata": {},
   "outputs": [],
   "source": []
  },
  {
   "cell_type": "code",
   "execution_count": null,
   "metadata": {},
   "outputs": [],
   "source": []
  },
  {
   "cell_type": "code",
   "execution_count": null,
   "metadata": {},
   "outputs": [],
   "source": []
  },
  {
   "cell_type": "code",
   "execution_count": null,
   "metadata": {},
   "outputs": [],
   "source": []
  },
  {
   "cell_type": "code",
   "execution_count": null,
   "metadata": {},
   "outputs": [],
   "source": []
  },
  {
   "cell_type": "code",
   "execution_count": null,
   "metadata": {},
   "outputs": [],
   "source": []
  },
  {
   "cell_type": "code",
   "execution_count": null,
   "metadata": {},
   "outputs": [],
   "source": []
  },
  {
   "cell_type": "code",
   "execution_count": null,
   "metadata": {},
   "outputs": [],
   "source": []
  },
  {
   "cell_type": "markdown",
   "metadata": {},
   "source": [
    "#이렇게 하는 방법도 있지만.... 이건 바보같은 코드 ㅎㅎ\n",
    "#################################################\n",
    "\n",
    "# major_list를 하나씩 추출해서 리스트로 만든 필터와 비교한다.\n",
    "try:\n",
    "    for major_item in major_list:\n",
    "        for tech_eng_item in tech_eng:\n",
    "            if major_item == tech_eng_item:\n",
    "                print(\"FIT tech_eng\")\n",
    "                raise NotImplementedError\n",
    "            else:\n",
    "                for math_sci_item in math_sci:\n",
    "                    if major_item == math_sci_item:\n",
    "                        print('FIT math_sci')\n",
    "                        raise NotImplementedError\n",
    "                    else:\n",
    "                        for social_sci_item in social_sci:\n",
    "                            if major_item == social_sci_item:\n",
    "                                print (\"FIT social_sci\")\n",
    "                                raise NotImplementedError\n",
    "                            else:\n",
    "                                for humanities_item in humanities:\n",
    "                                    if major_item == humanities_item:\n",
    "                                        print(\"FIT humanities\")\n",
    "                                        raise NotImplementedError\n",
    "                                    else:\n",
    "                                        for visualart_item in visualart:\n",
    "                                            if major_item == visualart_item:\n",
    "                                                print(\"FIT visualart\")\n",
    "                                                raise NotImplementedError\n",
    "                                            else:\n",
    "                                                for business_item in business:\n",
    "                                                    if major_item == business_item:\n",
    "                                                        print(\"FIT  business\")\n",
    "                                                        raise NotImplementedError\n",
    "                                                    else:\n",
    "                                                        for music_item in music:\n",
    "                                                            if major_item == music_item:\n",
    "                                                                print(\"FIT music\")\n",
    "                                                                raise NotImplementedError\n",
    "                                                            else:\n",
    "                                                                for performing_arts_item in performing_arts:\n",
    "                                                                    if major_item == performing_arts_item:\n",
    "                                                                        print(\"FIT performing\")\n",
    "                                                                        raise NotImplementedError\n",
    "                                                                    else:\n",
    "                                                                        for communication_item in communication:\n",
    "                                                                            if major_item == communication_item:\n",
    "                                                                                print(\"FIT communication\")\n",
    "                                                                                raise NotImplementedError\n",
    "                                                                            else:\n",
    "                                                                                print(\"NOT FIT!!!!!\")\n",
    "                                                                                raise NotImplementedError\n",
    "                                                                            \n",
    "except:\n",
    "    print(\"end\")"
   ]
  },
  {
   "cell_type": "code",
   "execution_count": null,
   "metadata": {},
   "outputs": [],
   "source": []
  },
  {
   "cell_type": "code",
   "execution_count": null,
   "metadata": {},
   "outputs": [],
   "source": []
  },
  {
   "cell_type": "code",
   "execution_count": null,
   "metadata": {},
   "outputs": [],
   "source": []
  },
  {
   "cell_type": "code",
   "execution_count": null,
   "metadata": {},
   "outputs": [],
   "source": []
  },
  {
   "cell_type": "code",
   "execution_count": null,
   "metadata": {},
   "outputs": [],
   "source": []
  },
  {
   "cell_type": "code",
   "execution_count": null,
   "metadata": {},
   "outputs": [],
   "source": []
  },
  {
   "cell_type": "code",
   "execution_count": null,
   "metadata": {},
   "outputs": [],
   "source": []
  },
  {
   "cell_type": "code",
   "execution_count": null,
   "metadata": {},
   "outputs": [],
   "source": []
  },
  {
   "cell_type": "code",
   "execution_count": null,
   "metadata": {},
   "outputs": [],
   "source": []
  },
  {
   "cell_type": "code",
   "execution_count": null,
   "metadata": {},
   "outputs": [],
   "source": []
  },
  {
   "cell_type": "code",
   "execution_count": null,
   "metadata": {},
   "outputs": [],
   "source": []
  },
  {
   "cell_type": "code",
   "execution_count": 223,
   "metadata": {},
   "outputs": [
    {
     "ename": "NameError",
     "evalue": "name 'major_anaysis' is not defined",
     "output_type": "error",
     "traceback": [
      "\u001b[1;31m---------------------------------------------------------------------------\u001b[0m",
      "\u001b[1;31mNameError\u001b[0m                                 Traceback (most recent call last)",
      "\u001b[1;32m<ipython-input-223-968b18a35c9a>\u001b[0m in \u001b[0;36m<module>\u001b[1;34m\u001b[0m\n\u001b[1;32m----> 1\u001b[1;33m \u001b[0mmajor_anaysis\u001b[0m\u001b[1;33m(\u001b[0m\u001b[0minput_text\u001b[0m\u001b[1;33m)\u001b[0m\u001b[1;33m\u001b[0m\u001b[1;33m\u001b[0m\u001b[0m\n\u001b[0m",
      "\u001b[1;31mNameError\u001b[0m: name 'major_anaysis' is not defined"
     ]
    }
   ],
   "source": [
    "major_anaysis(input_text)"
   ]
  },
  {
   "cell_type": "code",
   "execution_count": null,
   "metadata": {},
   "outputs": [],
   "source": []
  },
  {
   "cell_type": "code",
   "execution_count": null,
   "metadata": {},
   "outputs": [],
   "source": []
  },
  {
   "cell_type": "code",
   "execution_count": null,
   "metadata": {},
   "outputs": [],
   "source": []
  },
  {
   "cell_type": "code",
   "execution_count": null,
   "metadata": {},
   "outputs": [],
   "source": []
  },
  {
   "cell_type": "code",
   "execution_count": null,
   "metadata": {},
   "outputs": [],
   "source": []
  },
  {
   "cell_type": "code",
   "execution_count": null,
   "metadata": {},
   "outputs": [],
   "source": []
  },
  {
   "cell_type": "code",
   "execution_count": null,
   "metadata": {},
   "outputs": [],
   "source": [
    "data_major_list = pd.read_csv('major_list.csv')\n",
    "data_major_list[:5]"
   ]
  },
  {
   "cell_type": "code",
   "execution_count": null,
   "metadata": {},
   "outputs": [],
   "source": [
    "#Summer Activity 불러오기\n",
    "data_summer_activity = pd.read_csv('summer_activity.csv')\n",
    "data_summer_activity[:5]"
   ]
  },
  {
   "cell_type": "code",
   "execution_count": null,
   "metadata": {},
   "outputs": [],
   "source": []
  }
 ],
 "metadata": {
  "kernelspec": {
   "display_name": "Python 3",
   "language": "python",
   "name": "python3"
  },
  "language_info": {
   "codemirror_mode": {
    "name": "ipython",
    "version": 3
   },
   "file_extension": ".py",
   "mimetype": "text/x-python",
   "name": "python",
   "nbconvert_exporter": "python",
   "pygments_lexer": "ipython3",
   "version": "3.7.9"
  }
 },
 "nbformat": 4,
 "nbformat_minor": 4
}
